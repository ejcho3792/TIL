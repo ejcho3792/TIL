{
 "cells": [
  {
   "cell_type": "markdown",
   "id": "d791bb76",
   "metadata": {},
   "source": [
    "# Seoul Temperature analysis\n",
    "\n",
    "###### Temperature dataset : https://data.kma.go.kr/stcs/grnd/grndTaList.do?pgmNo=70\n",
    "###### 19040101 ~ 20201231, Seoul\n",
    "###### Data root : ../data/seoul.csv"
   ]
  },
  {
   "cell_type": "code",
   "execution_count": 15,
   "id": "3f9d28f2",
   "metadata": {},
   "outputs": [],
   "source": [
    "# import library\n",
    "\n",
    "import csv"
   ]
  },
  {
   "cell_type": "code",
   "execution_count": 18,
   "id": "b5a4f61f",
   "metadata": {
    "scrolled": false
   },
   "outputs": [
    {
     "name": "stdout",
     "output_type": "stream",
     "text": [
      "['기온분석']\n",
      "['[검색조건]']\n",
      "['자료구분 : 일']\n",
      "['자료형태 : 기본']\n",
      "['지역/지점 : 서울']\n",
      "['기간 : 19040101~20190117']\n",
      "[]\n",
      "['날짜', '지점', '평균기온(℃)', '최저기온(℃)', '최고기온(℃)']\n",
      "['1907-10-01', '108', '13.5', '7.9', '20.7']\n",
      "['1907-10-02', '108', '16.2', '7.9', '22']\n",
      "['1907-10-03', '108', '16.2', '13.1', '21.3']\n",
      "['1907-10-04', '108', '16.5', '11.2', '22']\n",
      "['1907-10-05', '108', '17.6', '10.9', '25.4']\n",
      "['1907-10-06', '108', '13', '11.2', '21.3']\n",
      "['1907-10-07', '108', '11.3', '6.3', '16.1']\n",
      "['1907-10-08', '108', '8.9', '3.9', '14.9']\n",
      "['1907-10-09', '108', '11.6', '3.8', '21.1']\n",
      "['1907-10-10', '108', '14.2', '6.4', '24.1']\n",
      "['1907-10-11', '108', '15.4', '10.1', '20.4']\n",
      "['1907-10-12', '108', '13.9', '11.1', '17.4']\n",
      "['1907-10-13', '108', '13.8', '8.3', '21.3']\n",
      "['1907-10-14', '108', '13', '6.1', '20.6']\n",
      "['1907-10-15', '108', '13.1', '5.7', '20.9']\n",
      "['1907-10-16', '108', '14.1', '8.2', '20.2']\n",
      "['1907-10-17', '108', '16.4', '10.3', '21.6']\n",
      "['1907-10-18', '108', '14.3', '9.8', '20.9']\n",
      "['1907-10-19', '108', '13.9', '6.7', '21.3']\n",
      "['1907-10-20', '108', '18.3', '12.4', '22.7']\n",
      "['1907-10-21', '108', '15.2', '10.7', '19.9']\n"
     ]
    }
   ],
   "source": [
    "d_pth='../data/seoul.csv'\n",
    "f=open(d_pth,'r')\n",
    "rd=csv.reader(f)\n",
    "n=1# 결과 중략을 위함\n",
    "for line in rd:\n",
    "    print(line)\n",
    "    n+=1\n",
    "    if n==30:\n",
    "        break\n",
    "f.close()"
   ]
  },
  {
   "cell_type": "code",
   "execution_count": 25,
   "id": "4a4d392c",
   "metadata": {},
   "outputs": [],
   "source": [
    "# 데이터 전후에 필요없는 부분 제거한 후 data 변수에 저장\n",
    "f=open(d_pth,'r')\n",
    "rd=csv.reader(f)\n",
    "data=[]          # data를 저장할 빈 리스트 생성\n",
    "len_col=5        # columns 길이\n",
    "for line in rd:\n",
    "    if len(line)==5:\n",
    "        data.append(line)\n",
    "f.close()"
   ]
  },
  {
   "cell_type": "code",
   "execution_count": 27,
   "id": "1e08ad70",
   "metadata": {},
   "outputs": [
    {
     "data": {
      "text/plain": [
       "[['날짜', '지점', '평균기온(℃)', '최저기온(℃)', '최고기온(℃)'],\n",
       " ['1907-10-01', '108', '13.5', '7.9', '20.7'],\n",
       " ['1907-10-02', '108', '16.2', '7.9', '22'],\n",
       " ['1907-10-03', '108', '16.2', '13.1', '21.3'],\n",
       " ['1907-10-04', '108', '16.5', '11.2', '22'],\n",
       " ['1907-10-05', '108', '17.6', '10.9', '25.4'],\n",
       " ['1907-10-06', '108', '13', '11.2', '21.3'],\n",
       " ['1907-10-07', '108', '11.3', '6.3', '16.1'],\n",
       " ['1907-10-08', '108', '8.9', '3.9', '14.9'],\n",
       " ['1907-10-09', '108', '11.6', '3.8', '21.1'],\n",
       " ['1907-10-10', '108', '14.2', '6.4', '24.1'],\n",
       " ['1907-10-11', '108', '15.4', '10.1', '20.4'],\n",
       " ['1907-10-12', '108', '13.9', '11.1', '17.4'],\n",
       " ['1907-10-13', '108', '13.8', '8.3', '21.3'],\n",
       " ['1907-10-14', '108', '13', '6.1', '20.6'],\n",
       " ['1907-10-15', '108', '13.1', '5.7', '20.9'],\n",
       " ['1907-10-16', '108', '14.1', '8.2', '20.2'],\n",
       " ['1907-10-17', '108', '16.4', '10.3', '21.6'],\n",
       " ['1907-10-18', '108', '14.3', '9.8', '20.9'],\n",
       " ['1907-10-19', '108', '13.9', '6.7', '21.3'],\n",
       " ['1907-10-20', '108', '18.3', '12.4', '22.7'],\n",
       " ['1907-10-21', '108', '15.2', '10.7', '19.9'],\n",
       " ['1907-10-22', '108', '15.4', '12.1', '19.6'],\n",
       " ['1907-10-23', '108', '13.1', '8.1', '16.3'],\n",
       " ['1907-10-24', '108', '9.7', '3.3', '17.1'],\n",
       " ['1907-10-25', '108', '12.7', '6.2', '18.7'],\n",
       " ['1907-10-26', '108', '11.8', '7.2', '18.2'],\n",
       " ['1907-10-27', '108', '14', '7.7', '20.7'],\n",
       " ['1907-10-28', '108', '13.8', '8.4', '19.6'],\n",
       " ['1907-10-29', '108', '14.3', '10.7', '20']]"
      ]
     },
     "execution_count": 27,
     "metadata": {},
     "output_type": "execute_result"
    }
   ],
   "source": [
    "data[0:30]"
   ]
  },
  {
   "cell_type": "code",
   "execution_count": 5,
   "id": "ed42afd6",
   "metadata": {},
   "outputs": [
    {
     "data": {
      "text/plain": [
       "['날짜', '지점', '평균기온(℃)', '최저기온(℃)', '최고기온(℃)']"
      ]
     },
     "execution_count": 5,
     "metadata": {},
     "output_type": "execute_result"
    }
   ],
   "source": [
    "header=data[0]\n",
    "data=data[1:]\n",
    "header"
   ]
  },
  {
   "cell_type": "code",
   "execution_count": 6,
   "id": "ca45bbd1",
   "metadata": {},
   "outputs": [
    {
     "data": {
      "text/plain": [
       "['1907-10-01', '108', '13.5', '7.9', '20.7']"
      ]
     },
     "execution_count": 6,
     "metadata": {},
     "output_type": "execute_result"
    }
   ],
   "source": [
    "data[0]"
   ]
  },
  {
   "cell_type": "code",
   "execution_count": 7,
   "id": "107d6451",
   "metadata": {},
   "outputs": [],
   "source": [
    "# 데이터 중 최고 기온과 해당하는 날짜 찾기\n",
    "max_tmp=-999\n",
    "max_date=''\n",
    "\n",
    "# 최고기온 빈부분 채우기\n",
    "for i in range(len(data)):\n",
    "    if data[i][-1]=='':\n",
    "        data[i][-1]=max_tmp"
   ]
  },
  {
   "cell_type": "code",
   "execution_count": 8,
   "id": "84e2414e",
   "metadata": {},
   "outputs": [],
   "source": [
    "for i in range(len(data)):\n",
    "    if max_tmp<float(data[i][-1]):\n",
    "        max_tmp=float(data[i][-1])\n",
    "        \n",
    "        max_data=data[i][0]"
   ]
  },
  {
   "cell_type": "code",
   "execution_count": 9,
   "id": "0ebfbdcf",
   "metadata": {},
   "outputs": [
    {
     "name": "stdout",
     "output_type": "stream",
     "text": [
      "최고기온 :  39.6 , 그 날짜 :  2018-08-01\n"
     ]
    }
   ],
   "source": [
    "# 데이터 중 최고 기온과 해당하는 날짜 찾기\n",
    "max_tmp=-999\n",
    "max_date=''\n",
    "for i in range(len(data)):\n",
    "    if max_tmp<float(data[i][-1]):\n",
    "        max_tmp=float(data[i][-1])\n",
    "        max_data=data[i][0]\n",
    "print('최고기온 : ',max_tmp,', 그 날짜 : ',max_data)        "
   ]
  },
  {
   "cell_type": "markdown",
   "id": "d7d7d2c7",
   "metadata": {},
   "source": [
    "### pandas library를 사용해서 해보기"
   ]
  },
  {
   "cell_type": "code",
   "execution_count": 10,
   "id": "c4a0d8f3",
   "metadata": {},
   "outputs": [],
   "source": [
    "#import library\n",
    "import pandas as pd"
   ]
  },
  {
   "cell_type": "code",
   "execution_count": 11,
   "id": "803e8269",
   "metadata": {},
   "outputs": [
    {
     "data": {
      "text/html": [
       "<div>\n",
       "<style scoped>\n",
       "    .dataframe tbody tr th:only-of-type {\n",
       "        vertical-align: middle;\n",
       "    }\n",
       "\n",
       "    .dataframe tbody tr th {\n",
       "        vertical-align: top;\n",
       "    }\n",
       "\n",
       "    .dataframe thead th {\n",
       "        text-align: right;\n",
       "    }\n",
       "</style>\n",
       "<table border=\"1\" class=\"dataframe\">\n",
       "  <thead>\n",
       "    <tr style=\"text-align: right;\">\n",
       "      <th></th>\n",
       "      <th>날짜</th>\n",
       "      <th>지점</th>\n",
       "      <th>평균기온(℃)</th>\n",
       "      <th>최저기온(℃)</th>\n",
       "      <th>최고기온(℃)</th>\n",
       "    </tr>\n",
       "  </thead>\n",
       "  <tbody>\n",
       "    <tr>\n",
       "      <th>0</th>\n",
       "      <td>1907-10-01</td>\n",
       "      <td>108</td>\n",
       "      <td>13.5</td>\n",
       "      <td>7.9</td>\n",
       "      <td>20.7</td>\n",
       "    </tr>\n",
       "    <tr>\n",
       "      <th>1</th>\n",
       "      <td>1907-10-02</td>\n",
       "      <td>108</td>\n",
       "      <td>16.2</td>\n",
       "      <td>7.9</td>\n",
       "      <td>22.0</td>\n",
       "    </tr>\n",
       "    <tr>\n",
       "      <th>2</th>\n",
       "      <td>1907-10-03</td>\n",
       "      <td>108</td>\n",
       "      <td>16.2</td>\n",
       "      <td>13.1</td>\n",
       "      <td>21.3</td>\n",
       "    </tr>\n",
       "    <tr>\n",
       "      <th>3</th>\n",
       "      <td>1907-10-04</td>\n",
       "      <td>108</td>\n",
       "      <td>16.5</td>\n",
       "      <td>11.2</td>\n",
       "      <td>22.0</td>\n",
       "    </tr>\n",
       "    <tr>\n",
       "      <th>4</th>\n",
       "      <td>1907-10-05</td>\n",
       "      <td>108</td>\n",
       "      <td>17.6</td>\n",
       "      <td>10.9</td>\n",
       "      <td>25.4</td>\n",
       "    </tr>\n",
       "    <tr>\n",
       "      <th>...</th>\n",
       "      <td>...</td>\n",
       "      <td>...</td>\n",
       "      <td>...</td>\n",
       "      <td>...</td>\n",
       "      <td>...</td>\n",
       "    </tr>\n",
       "    <tr>\n",
       "      <th>40216</th>\n",
       "      <td>2019-01-13</td>\n",
       "      <td>108</td>\n",
       "      <td>1.2</td>\n",
       "      <td>-3.0</td>\n",
       "      <td>7.6</td>\n",
       "    </tr>\n",
       "    <tr>\n",
       "      <th>40217</th>\n",
       "      <td>2019-01-14</td>\n",
       "      <td>108</td>\n",
       "      <td>1.4</td>\n",
       "      <td>-2.4</td>\n",
       "      <td>5.3</td>\n",
       "    </tr>\n",
       "    <tr>\n",
       "      <th>40218</th>\n",
       "      <td>2019-01-15</td>\n",
       "      <td>108</td>\n",
       "      <td>-1.7</td>\n",
       "      <td>-7.2</td>\n",
       "      <td>2.6</td>\n",
       "    </tr>\n",
       "    <tr>\n",
       "      <th>40219</th>\n",
       "      <td>2019-01-16</td>\n",
       "      <td>108</td>\n",
       "      <td>-5.2</td>\n",
       "      <td>-10.1</td>\n",
       "      <td>-1.1</td>\n",
       "    </tr>\n",
       "    <tr>\n",
       "      <th>40220</th>\n",
       "      <td>2019-01-17</td>\n",
       "      <td>108</td>\n",
       "      <td>-0.3</td>\n",
       "      <td>-3.2</td>\n",
       "      <td>4.0</td>\n",
       "    </tr>\n",
       "  </tbody>\n",
       "</table>\n",
       "<p>40221 rows × 5 columns</p>\n",
       "</div>"
      ],
      "text/plain": [
       "               날짜   지점  평균기온(℃)  최저기온(℃)  최고기온(℃)\n",
       "0      1907-10-01  108     13.5      7.9     20.7\n",
       "1      1907-10-02  108     16.2      7.9     22.0\n",
       "2      1907-10-03  108     16.2     13.1     21.3\n",
       "3      1907-10-04  108     16.5     11.2     22.0\n",
       "4      1907-10-05  108     17.6     10.9     25.4\n",
       "...           ...  ...      ...      ...      ...\n",
       "40216  2019-01-13  108      1.2     -3.0      7.6\n",
       "40217  2019-01-14  108      1.4     -2.4      5.3\n",
       "40218  2019-01-15  108     -1.7     -7.2      2.6\n",
       "40219  2019-01-16  108     -5.2    -10.1     -1.1\n",
       "40220  2019-01-17  108     -0.3     -3.2      4.0\n",
       "\n",
       "[40221 rows x 5 columns]"
      ]
     },
     "execution_count": 11,
     "metadata": {},
     "output_type": "execute_result"
    }
   ],
   "source": [
    "d_pth='../data/seoul.csv'\n",
    "data=pd.read_csv(d_pth,skiprows=7,encoding='cp949')\n",
    "data"
   ]
  },
  {
   "cell_type": "code",
   "execution_count": 12,
   "id": "99b7198f",
   "metadata": {},
   "outputs": [
    {
     "data": {
      "text/plain": [
       "날짜           0\n",
       "지점           0\n",
       "평균기온(℃)    756\n",
       "최저기온(℃)    758\n",
       "최고기온(℃)    759\n",
       "dtype: int64"
      ]
     },
     "execution_count": 12,
     "metadata": {},
     "output_type": "execute_result"
    }
   ],
   "source": [
    "# 결측값 확인\n",
    "data.isnull().sum()"
   ]
  },
  {
   "cell_type": "code",
   "execution_count": 13,
   "id": "70c52088",
   "metadata": {},
   "outputs": [
    {
     "data": {
      "text/plain": [
       "날짜         0\n",
       "지점         0\n",
       "평균기온(℃)    0\n",
       "최저기온(℃)    0\n",
       "최고기온(℃)    0\n",
       "dtype: int64"
      ]
     },
     "execution_count": 13,
     "metadata": {},
     "output_type": "execute_result"
    }
   ],
   "source": [
    "# 결측값 대체\n",
    "data=data.fillna(-999)\n",
    "data.isnull().sum()"
   ]
  },
  {
   "cell_type": "code",
   "execution_count": 14,
   "id": "a99e45bd",
   "metadata": {},
   "outputs": [
    {
     "name": "stdout",
     "output_type": "stream",
     "text": [
      "최고기온 :  39.6 날짜 :  2018-08-01\n"
     ]
    }
   ],
   "source": [
    "max_tmp=data['최고기온(℃)'].max()\n",
    "data.iloc[data['최고기온(℃)'].idxmax()]\n",
    "max_date=data.iloc[data['최고기온(℃)'].idxmax()][0]\n",
    "print('최고기온 : ',max_tmp,'날짜 : ',max_date)"
   ]
  },
  {
   "cell_type": "code",
   "execution_count": null,
   "id": "43f846bf",
   "metadata": {},
   "outputs": [],
   "source": []
  }
 ],
 "metadata": {
  "kernelspec": {
   "display_name": "Python 3 (ipykernel)",
   "language": "python",
   "name": "python3"
  },
  "language_info": {
   "codemirror_mode": {
    "name": "ipython",
    "version": 3
   },
   "file_extension": ".py",
   "mimetype": "text/x-python",
   "name": "python",
   "nbconvert_exporter": "python",
   "pygments_lexer": "ipython3",
   "version": "3.8.12"
  }
 },
 "nbformat": 4,
 "nbformat_minor": 5
}

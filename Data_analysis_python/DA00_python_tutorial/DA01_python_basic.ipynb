{
 "cells": [
  {
   "cell_type": "markdown",
   "id": "270d935f",
   "metadata": {},
   "source": [
    "# 파이썬 기초\n",
    "---\n",
    "## 1. 입력과 출력, 변수"
   ]
  },
  {
   "cell_type": "markdown",
   "id": "84746441",
   "metadata": {},
   "source": [
    "### (1) 출력 ( print() )"
   ]
  },
  {
   "cell_type": "code",
   "execution_count": 1,
   "id": "de2b78c9",
   "metadata": {},
   "outputs": [
    {
     "name": "stdout",
     "output_type": "stream",
     "text": [
      "1208188081\n",
      "Hello\n",
      "World\n",
      "2\n",
      "11\n"
     ]
    }
   ],
   "source": [
    "print(34759**2)\n",
    "print(\"Hello\")\n",
    "print(\"World\")\n",
    "print(1+1)\n",
    "print(len(\"Hello world\"))"
   ]
  },
  {
   "cell_type": "markdown",
   "id": "3eeeea05",
   "metadata": {},
   "source": [
    "### (2) 변수"
   ]
  },
  {
   "cell_type": "code",
   "execution_count": 2,
   "id": "a8c013f2",
   "metadata": {},
   "outputs": [
    {
     "name": "stdout",
     "output_type": "stream",
     "text": [
      "Eunji\n",
      "Hello, Eunji\n",
      "Hello,Eunji\n"
     ]
    }
   ],
   "source": [
    "name =\"Eunji\"\n",
    "print(name)\n",
    "\n",
    "print('Hello,',name)\n",
    "print('Hello,'+name)"
   ]
  },
  {
   "cell_type": "markdown",
   "id": "1f0f801b",
   "metadata": {},
   "source": [
    "### (3) 입력 ( input() )"
   ]
  },
  {
   "cell_type": "code",
   "execution_count": 3,
   "id": "bca0621b",
   "metadata": {},
   "outputs": [
    {
     "name": "stdout",
     "output_type": "stream",
     "text": [
      "Eunji\n",
      "hello, Eunji\n"
     ]
    }
   ],
   "source": [
    "name=input()\n",
    "print('hello,',name)"
   ]
  },
  {
   "cell_type": "code",
   "execution_count": 4,
   "id": "d6609b66",
   "metadata": {},
   "outputs": [
    {
     "name": "stdout",
     "output_type": "stream",
     "text": [
      "your age?27\n",
      "age :  27\n"
     ]
    }
   ],
   "source": [
    "age=input('your age?')\n",
    "print('age : ',int(age))"
   ]
  },
  {
   "cell_type": "markdown",
   "id": "7c6b8f57",
   "metadata": {},
   "source": [
    "---\n",
    "## 2. 연산자"
   ]
  },
  {
   "cell_type": "markdown",
   "id": "9b0dcdf8",
   "metadata": {},
   "source": [
    "### (1) 산술연산"
   ]
  },
  {
   "cell_type": "code",
   "execution_count": 5,
   "id": "112526ba",
   "metadata": {},
   "outputs": [
    {
     "name": "stdout",
     "output_type": "stream",
     "text": [
      "30\n",
      "59049\n",
      "3\n",
      "1.5\n",
      "1\n"
     ]
    }
   ],
   "source": [
    "print(3*10)\n",
    "print(3**10)\n",
    "print(3%10) # 나머지 연산자\n",
    "print(3/2)\n",
    "print(3//2) # 정수 나눗셈"
   ]
  },
  {
   "cell_type": "markdown",
   "id": "02492c2a",
   "metadata": {},
   "source": [
    "### (2) 비교연산"
   ]
  },
  {
   "cell_type": "code",
   "execution_count": 6,
   "id": "acaf5270",
   "metadata": {},
   "outputs": [
    {
     "name": "stdout",
     "output_type": "stream",
     "text": [
      "True\n",
      "False\n",
      "False\n",
      "True\n",
      "True\n"
     ]
    }
   ],
   "source": [
    "print(10 >= 3)\n",
    "print(10 <= 3)\n",
    "print(10 == 3)\n",
    "print(10 != 3)\n",
    "print(3 % 2 == 1)"
   ]
  },
  {
   "cell_type": "markdown",
   "id": "407bd284",
   "metadata": {},
   "source": [
    "### (3) 논리연산"
   ]
  },
  {
   "cell_type": "code",
   "execution_count": 7,
   "id": "0b41346d",
   "metadata": {},
   "outputs": [
    {
     "name": "stdout",
     "output_type": "stream",
     "text": [
      "True\n",
      "False\n",
      "False\n",
      "True\n",
      "False\n",
      "True\n",
      "True\n",
      "False\n"
     ]
    }
   ],
   "source": [
    "# and 연산자 \n",
    "print(1 == 1 and 2 != 1)\n",
    "print(10 % 2 != 0 and 1+1 > 0)\n",
    "\n",
    "# or 연산자 \n",
    "print(10 < 5 or 10 ==5)\n",
    "print(10 % 2 !=0 or 1+1 > 0)\n",
    "print(not 10 > 5) # not true \n",
    "print(not 10 == 5)\n",
    "print(not 0)\n",
    "print(not 10)"
   ]
  },
  {
   "cell_type": "markdown",
   "id": "e7913e64",
   "metadata": {},
   "source": [
    "---\n",
    "## 3. 함수"
   ]
  },
  {
   "cell_type": "code",
   "execution_count": 8,
   "id": "54bf4e09",
   "metadata": {},
   "outputs": [
    {
     "name": "stdout",
     "output_type": "stream",
     "text": [
      "6\n",
      "1.4142135623730951\n"
     ]
    }
   ],
   "source": [
    "# random 숫자 범위 바꾸기 \n",
    "import random \n",
    "dice = random.randint(1, 6)\n",
    "print(dice)\n",
    "import math \n",
    "print(math.sqrt(2))"
   ]
  },
  {
   "cell_type": "markdown",
   "id": "da538e7e",
   "metadata": {},
   "source": [
    "---\n",
    "## 4. 반복문"
   ]
  },
  {
   "cell_type": "code",
   "execution_count": 9,
   "id": "e40c6866",
   "metadata": {},
   "outputs": [
    {
     "name": "stdout",
     "output_type": "stream",
     "text": [
      "E\n",
      "u\n",
      "n\n",
      "j\n",
      "i\n",
      " \n",
      "C\n",
      "h\n",
      "o\n"
     ]
    }
   ],
   "source": [
    "name = 'Eunji Cho'\n",
    "for i in name: \n",
    "    print(i)"
   ]
  },
  {
   "cell_type": "code",
   "execution_count": 10,
   "id": "825a19eb",
   "metadata": {},
   "outputs": [
    {
     "name": "stdout",
     "output_type": "stream",
     "text": [
      "초파\n",
      "루피\n",
      "상디\n",
      "조로\n"
     ]
    }
   ],
   "source": [
    "names = ['초파','루피','상디','조로']\n",
    "for n in names : \n",
    "    print(n)"
   ]
  },
  {
   "cell_type": "code",
   "execution_count": 11,
   "id": "b9bfb246",
   "metadata": {},
   "outputs": [
    {
     "name": "stdout",
     "output_type": "stream",
     "text": [
      "0\n",
      "1\n",
      "4\n",
      "9\n"
     ]
    }
   ],
   "source": [
    "for i in [0,1,2,3] :\n",
    "    print(i ** 2)       "
   ]
  },
  {
   "cell_type": "code",
   "execution_count": 12,
   "id": "92ff77b4",
   "metadata": {},
   "outputs": [
    {
     "name": "stdout",
     "output_type": "stream",
     "text": [
      "0\n",
      "1\n",
      "4\n",
      "9\n",
      "16\n",
      "25\n",
      "36\n",
      "49\n",
      "64\n",
      "81\n"
     ]
    }
   ],
   "source": [
    "for i in range(10): \n",
    "    print(i ** 2)"
   ]
  },
  {
   "cell_type": "code",
   "execution_count": 13,
   "id": "1914e116",
   "metadata": {},
   "outputs": [
    {
     "name": "stdout",
     "output_type": "stream",
     "text": [
      "Hello\n",
      "Hello\n",
      "Hello\n",
      "Hello\n",
      "Hello\n",
      "Hello\n",
      "Hello\n",
      "Hello\n",
      "Hello\n",
      "Hello\n"
     ]
    }
   ],
   "source": [
    "for i in range(10):\n",
    "    print(\"Hello\")"
   ]
  },
  {
   "cell_type": "markdown",
   "id": "a6d5cef6",
   "metadata": {},
   "source": [
    "---\n",
    "## 5. 조건문"
   ]
  },
  {
   "cell_type": "code",
   "execution_count": 14,
   "id": "7e5bd34e",
   "metadata": {},
   "outputs": [
    {
     "name": "stdout",
     "output_type": "stream",
     "text": [
      "Hello\n",
      "Hello?\n",
      "비밀번호 4자리를 입력하세요:1234\n",
      "비밀번호 4자리를 입력하세요:0000\n",
      "다시 입력해 주세요 \n"
     ]
    }
   ],
   "source": [
    "if 10 > 0: \n",
    "    print('Hello')\n",
    "    \n",
    "if 10 != 0 and 5 % 2 == 1:\n",
    "    print('Hello?')\n",
    "    \n",
    "passwd = int(input('비밀번호 4자리를 입력하세요:'))\n",
    "if passwd == 0000 : \n",
    "    print('비밀번호가 일치합니다 ')\n",
    "\n",
    "passwd = int(input('비밀번호 4자리를 입력하세요:'))\n",
    "if i == 0000:\n",
    "    print('비밀번호가 일치합니다 ')\n",
    "else: \n",
    "    print('다시 입력해 주세요 ')"
   ]
  },
  {
   "cell_type": "markdown",
   "id": "df2127f1",
   "metadata": {},
   "source": [
    "---\n",
    "## 6. 리스트"
   ]
  },
  {
   "cell_type": "code",
   "execution_count": 15,
   "id": "a6cdc935",
   "metadata": {},
   "outputs": [
    {
     "name": "stdout",
     "output_type": "stream",
     "text": [
      "0\n",
      "1\n",
      "4\n",
      "9\n"
     ]
    }
   ],
   "source": [
    "for i in [0,1,2,3]: \n",
    "    print(i ** 2)"
   ]
  },
  {
   "cell_type": "code",
   "execution_count": 16,
   "id": "0c297851",
   "metadata": {},
   "outputs": [
    {
     "name": "stdout",
     "output_type": "stream",
     "text": [
      "루피\n",
      "조로\n",
      "['초파', '루피']\n",
      "['루피', '상디', '조로']\n",
      "['초파', '루피', '상디', '조로']\n",
      "['초파', '루피', '상디', '조로', '나미']\n",
      "5\n"
     ]
    }
   ],
   "source": [
    "names = ['초파','루피','상디','조로']\n",
    "print(names[1])\n",
    "print(names[-1])\n",
    "print(names[0:2])\n",
    "print(names[1:])\n",
    "print(names[:])\n",
    "names.append('나미')\n",
    "print(names)\n",
    "print(len(names))"
   ]
  }
 ],
 "metadata": {
  "kernelspec": {
   "display_name": "Python 3 (ipykernel)",
   "language": "python",
   "name": "python3"
  },
  "language_info": {
   "codemirror_mode": {
    "name": "ipython",
    "version": 3
   },
   "file_extension": ".py",
   "mimetype": "text/x-python",
   "name": "python",
   "nbconvert_exporter": "python",
   "pygments_lexer": "ipython3",
   "version": "3.8.12"
  }
 },
 "nbformat": 4,
 "nbformat_minor": 5
}

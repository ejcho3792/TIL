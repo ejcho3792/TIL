{
 "cells": [
  {
   "cell_type": "markdown",
   "id": "00011a6c",
   "metadata": {},
   "source": [
    "# 동네 인구 구조 시각화"
   ]
  },
  {
   "cell_type": "markdown",
   "id": "eb8c8d97",
   "metadata": {},
   "source": [
    "---\n",
    "[Data](https://jumin.mois.go.kr/index.jsp#) > 연령별 인구현황 > 통계표    \n",
    "2019.02, 남녀 구분 없이 연령 구분 단위는 1세    \n",
    "만 연령구분 : 0, 100 이상    \n",
    "전체읍면동현황에 체크하여 csv 파일 다운로드  \n"
   ]
  },
  {
   "cell_type": "markdown",
   "id": "f4978527",
   "metadata": {},
   "source": [
    "## 데이터 살펴보기"
   ]
  },
  {
   "cell_type": "code",
   "execution_count": 1,
   "id": "b0b7526c",
   "metadata": {},
   "outputs": [],
   "source": [
    "d_pth='../data/age.csv'"
   ]
  },
  {
   "cell_type": "code",
   "execution_count": 2,
   "id": "88e0af57",
   "metadata": {
    "scrolled": false
   },
   "outputs": [
    {
     "name": "stdout",
     "output_type": "stream",
     "text": [
      "['서울특별시  (1100000000)', '9,770,638', '9,770,638', '53,738', '59,599', '65,815', '70,726', '70,037', '69,000', '76,377', '73,745', '75,639', '70,189', '74,217', '80,273', '74,774', '71,529', '78,329', '82,561', '82,083', '90,416', '107,254', '109,552', '114,315', '122,473', '129,497', '141,673', '150,625', '156,258', '165,662', '165,771', '152,776', '151,006', '150,177', '144,503', '144,300', '145,260', '142,644', '157,624', '164,934', '168,159', '162,843', '162,014', '141,538', '145,260', '144,326', '146,145', '158,029', '165,333', '168,391', '176,426', '175,457', '169,300', '167,962', '154,449', '147,478', '149,781', '151,916', '141,921', '152,687', '159,184', '167,176', '157,349', '145,519', '142,867', '132,352', '135,608', '123,861', '103,339', '110,202', '83,062', '85,623', '88,133', '85,983', '86,008', '79,560', '60,652', '63,418', '59,401', '72,043', '60,979', '49,561', '47,432', '42,445', '37,293', '33,253', '29,705', '25,250', '20,503', '17,751', '14,506', '12,100', '10,729', '8,923', '7,199', '5,374', '3,972', '2,927', '2,813', '2,260', '1,565', '1,180', '880', '5,932']\n",
      "['서울특별시 종로구 (1111000000)', '152,880', '152,880', '593', '683', '775', '874', '852', '863', '1,023', '904', '1,012', '923', '1,004', '1,151', '1,084', '1,005', '1,099', '1,180', '1,171', '1,338', '1,528', '1,767', '1,899', '2,122', '2,193', '2,454', '2,438', '2,572', '2,682', '2,598', '2,446', '2,234', '2,206', '2,161', '2,060', '1,949', '1,888', '2,149', '2,116', '2,219', '2,203', '2,177', '1,870', '1,955', '2,037', '2,051', '2,325', '2,515', '2,577', '2,850', '2,840', '2,741', '2,690', '2,551', '2,454', '2,539', '2,586', '2,430', '2,574', '2,657', '2,781', '2,511', '2,374', '2,267', '2,204', '2,185', '2,014', '1,665', '1,796', '1,362', '1,387', '1,454', '1,432', '1,512', '1,369', '1,099', '1,215', '1,144', '1,424', '1,245', '1,044', '1,065', '894', '763', '725', '626', '572', '462', '395', '336', '282', '236', '199', '163', '132', '112', '79', '69', '81', '53', '40', '39', '236']\n",
      "['서울특별시 종로구 청운효자동(1111051500)', '13,010', '13,010', '66', '79', '72', '98', '98', '94', '108', '109', '115', '95', '125', '142', '130', '105', '136', '124', '134', '151', '155', '147', '172', '143', '181', '188', '139', '163', '171', '186', '151', '137', '168', '157', '172', '160', '162', '193', '178', '232', '235', '226', '207', '192', '217', '232', '215', '260', '251', '260', '245', '240', '233', '217', '210', '227', '186', '170', '172', '197', '187', '183', '171', '150', '138', '160', '131', '132', '124', '91', '103', '115', '106', '119', '118', '95', '103', '92', '125', '94', '87', '103', '83', '64', '67', '62', '47', '47', '31', '30', '12', '21', '14', '9', '8', '14', '6', '7', '9', '4', '2', '2', '16']\n",
      "['서울특별시 종로구 사직동(1111053000)', '9,584', '9,584', '43', '50', '64', '67', '67', '70', '94', '65', '82', '64', '88', '73', '88', '70', '64', '75', '77', '68', '81', '96', '95', '110', '93', '103', '127', '120', '151', '139', '137', '126', '127', '169', '150', '124', '120', '138', '147', '146', '159', '134', '130', '149', '153', '151', '153', '147', '171', '176', '173', '167', '174', '159', '131', '151', '158', '160', '143', '149', '149', '164', '147', '137', '139', '117', '114', '106', '116', '65', '91', '85', '85', '95', '78', '74', '80', '68', '80', '82', '75', '66', '68', '60', '53', '60', '51', '38', '26', '22', '22', '20', '17', '14', '5', '12', '6', '5', '8', '2', '5', '4', '17']\n",
      "['서울특별시 종로구 삼청동(1111054000)', '2,820', '2,820', '9', '15', '3', '21', '11', '13', '9', '16', '14', '25', '18', '27', '20', '17', '19', '17', '17', '27', '23', '27', '25', '36', '29', '35', '35', '33', '37', '31', '36', '42', '46', '35', '35', '41', '32', '42', '45', '57', '43', '48', '37', '38', '38', '28', '41', '30', '41', '48', '43', '49', '42', '45', '34', '48', '42', '39', '53', '55', '41', '53', '54', '46', '41', '51', '51', '27', '45', '23', '24', '36', '34', '43', '31', '19', '28', '23', '33', '34', '25', '26', '15', '18', '20', '16', '14', '14', '14', '10', '8', '8', '4', '6', '6', '1', '3', '0', '3', '1', '0', '2', '7']\n",
      "...중략...\n"
     ]
    }
   ],
   "source": [
    "import csv\n",
    "\n",
    "f=open(d_pth)\n",
    "data=csv.reader(f)\n",
    "header=next(data)\n",
    "n=0\n",
    "# row[0] 행정구역, row[1], row[2] : 총 인구수 \n",
    "for row in data:\n",
    "    print(row)\n",
    "    n+=1\n",
    "    if n==5:\n",
    "        print('...중략...')\n",
    "        break\n",
    "f.close()"
   ]
  },
  {
   "cell_type": "markdown",
   "id": "50c35038",
   "metadata": {},
   "source": [
    "## 구의제1동 인구수 추출"
   ]
  },
  {
   "cell_type": "code",
   "execution_count": 3,
   "id": "c9f6c4e9",
   "metadata": {},
   "outputs": [
    {
     "name": "stdout",
     "output_type": "stream",
     "text": [
      "['서울특별시 광진구 구의제1동(1121585000)', '22,535', '22,535', '143', '119', '126', '119', '117', '98', '112', '78', '101', '80', '100', '92', '108', '97', '115', '138', '144', '172', '206', '244', '239', '308', '323', '420', '438', '538', '566', '599', '551', '600', '563', '509', '462', '473', '409', '468', '434', '411', '384', '347', '339', '319', '301', '310', '309', '365', '360', '357', '389', '352', '361', '367', '321', '319', '297', '288', '335', '348', '358', '359', '304', '280', '248', '251', '258', '194', '204', '153', '165', '177', '186', '170', '173', '118', '134', '126', '155', '125', '121', '113', '95', '102', '68', '52', '50', '25', '41', '34', '15', '13', '20', '10', '6', '11', '3', '5', '4', '5', '1', '1', '14']\n"
     ]
    }
   ],
   "source": [
    "f=open(d_pth)\n",
    "data=csv.reader(f)\n",
    "header=next(data)\n",
    "\n",
    "# row[0] 행정구역, row[1], row[2] : 총 인구수 \n",
    "for row in data:\n",
    "    if '구의제1동' in row[0]:\n",
    "        print(row)\n",
    "f.close()"
   ]
  },
  {
   "cell_type": "code",
   "execution_count": 4,
   "id": "83d65346",
   "metadata": {},
   "outputs": [
    {
     "name": "stdout",
     "output_type": "stream",
     "text": [
      "[143, 119, 126, 119, 117, 98, 112, 78, 101, 80, 100, 92, 108, 97, 115, 138, 144, 172, 206, 244, 239, 308, 323, 420, 438, 538, 566, 599, 551, 600, 563, 509, 462, 473, 409, 468, 434, 411, 384, 347, 339, 319, 301, 310, 309, 365, 360, 357, 389, 352, 361, 367, 321, 319, 297, 288, 335, 348, 358, 359, 304, 280, 248, 251, 258, 194, 204, 153, 165, 177, 186, 170, 173, 118, 134, 126, 155, 125, 121, 113, 95, 102, 68, 52, 50, 25, 41, 34, 15, 13, 20, 10, 6, 11, 3, 5, 4, 5, 1, 1, 14]\n"
     ]
    }
   ],
   "source": [
    "f=open(d_pth)\n",
    "data=csv.reader(f)\n",
    "header=next(data)\n",
    "guui=[]\n",
    "for row in data:\n",
    "    if '구의제1동' in row[0]:\n",
    "        for i in row[3:]:\n",
    "            guui.append(int(i))\n",
    "f.close()\n",
    "print(guui)"
   ]
  },
  {
   "cell_type": "markdown",
   "id": "34071c83",
   "metadata": {},
   "source": [
    "## 시각화"
   ]
  },
  {
   "cell_type": "code",
   "execution_count": 5,
   "id": "00bfe8e8",
   "metadata": {},
   "outputs": [],
   "source": [
    "import matplotlib.pyplot as plt"
   ]
  },
  {
   "cell_type": "code",
   "execution_count": 6,
   "id": "be8e20da",
   "metadata": {},
   "outputs": [
    {
     "data": {
      "image/png": "[encoded data removed]",
      "text/plain": [
       "<Figure size 432x288 with 1 Axes>"
      ]
     },
     "metadata": {},
     "output_type": "display_data"
    }
   ],
   "source": [
    "plt.style.use('ggplot')\n",
    "plt.plot(guui)\n",
    "plt.show()"
   ]
  }
 ],
 "metadata": {
  "kernelspec": {
   "display_name": "Python 3 (ipykernel)",
   "language": "python",
   "name": "python3"
  },
  "language_info": {
   "codemirror_mode": {
    "name": "ipython",
    "version": 3
   },
   "file_extension": ".py",
   "mimetype": "text/x-python",
   "name": "python",
   "nbconvert_exporter": "python",
   "pygments_lexer": "ipython3",
   "version": "3.8.12"
  },
  "toc": {
   "base_numbering": 1,
   "nav_menu": {},
   "number_sections": true,
   "sideBar": true,
   "skip_h1_title": false,
   "title_cell": "Table of Contents",
   "title_sidebar": "Contents",
   "toc_cell": false,
   "toc_position": {},
   "toc_section_display": true,
   "toc_window_display": false
  }
 },
 "nbformat": 4,
 "nbformat_minor": 5
}

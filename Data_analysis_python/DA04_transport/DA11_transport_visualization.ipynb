{
 "cells": [
  {
   "cell_type": "markdown",
   "id": "8ebcd0a3",
   "metadata": {},
   "source": [
    "# 대중교통 데이터 시각화하기"
   ]
  },
  {
   "cell_type": "markdown",
   "id": "a37cdaf2",
   "metadata": {},
   "source": [
    "---\n",
    "## 대중교통 데이터 내려받기\n",
    "[티머니 홈페이지](https://pay.tmoney.co.kr/index.dev) > 이용안내 > 대중교통 통계자료    \n",
    "2019. 01월 통계자료 이용"
   ]
  },
  {
   "cell_type": "markdown",
   "id": "296d5e15",
   "metadata": {},
   "source": [
    "## 지하철 유무임별 이용현황"
   ]
  },
  {
   "cell_type": "code",
   "execution_count": 2,
   "id": "1e8271ce",
   "metadata": {},
   "outputs": [],
   "source": [
    "d_pth='../data/subwayfee.csv'"
   ]
  },
  {
   "cell_type": "code",
   "execution_count": 54,
   "id": "d6e41378",
   "metadata": {},
   "outputs": [],
   "source": [
    "# 숫자에 쉼표를 제거하고, '작업일시' 컬럼을 제거\n",
    "import csv\n",
    "\n",
    "with open('../data/new_subwayfee.csv','w',newline='') as w:\n",
    "    f=open(d_pth,'r')\n",
    "    data=csv.reader(f)\n",
    "    wr=csv.writer(w)\n",
    "    header=next(data)[:-1]\n",
    "    wr.writerow(header)\n",
    "    for row in data:\n",
    "        del row[-1]\n",
    "        row[4:]=[r.replace(',','') for r in row[4:]]\n",
    "        wr.writerow(row)\n",
    "    f.close()"
   ]
  },
  {
   "cell_type": "code",
   "execution_count": null,
   "id": "52e9f2e2",
   "metadata": {},
   "outputs": [],
   "source": []
  },
  {
   "cell_type": "code",
   "execution_count": null,
   "id": "1aa28bce",
   "metadata": {},
   "outputs": [],
   "source": []
  },
  {
   "cell_type": "code",
   "execution_count": null,
   "id": "a7c35ec8",
   "metadata": {},
   "outputs": [],
   "source": []
  },
  {
   "cell_type": "code",
   "execution_count": null,
   "id": "455ee063",
   "metadata": {},
   "outputs": [],
   "source": []
  }
 ],
 "metadata": {
  "kernelspec": {
   "display_name": "Python 3 (ipykernel)",
   "language": "python",
   "name": "python3"
  },
  "language_info": {
   "codemirror_mode": {
    "name": "ipython",
    "version": 3
   },
   "file_extension": ".py",
   "mimetype": "text/x-python",
   "name": "python",
   "nbconvert_exporter": "python",
   "pygments_lexer": "ipython3",
   "version": "3.8.12"
  },
  "toc": {
   "base_numbering": 1,
   "nav_menu": {},
   "number_sections": true,
   "sideBar": true,
   "skip_h1_title": false,
   "title_cell": "Table of Contents",
   "title_sidebar": "Contents",
   "toc_cell": false,
   "toc_position": {},
   "toc_section_display": true,
   "toc_window_display": false
  }
 },
 "nbformat": 4,
 "nbformat_minor": 5
}

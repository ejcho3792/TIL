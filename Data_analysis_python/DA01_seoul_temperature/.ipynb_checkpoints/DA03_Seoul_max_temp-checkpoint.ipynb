{
 "cells": [
  {
   "cell_type": "markdown",
   "id": "78c9d872",
   "metadata": {},
   "source": [
    "# 가장 더운 날 찾기"
   ]
  },
  {
   "cell_type": "markdown",
   "id": "d04b7479",
   "metadata": {},
   "source": [
    "---"
   ]
  },
  {
   "cell_type": "markdown",
   "id": "3b6d52f3",
   "metadata": {},
   "source": [
    "1. 가장 더웠던 날짜와 온도 찾기"
   ]
  },
  {
   "cell_type": "code",
   "execution_count": 1,
   "id": "62ae068c",
   "metadata": {},
   "outputs": [
    {
     "name": "stdout",
     "output_type": "stream",
     "text": [
      "최고기온 :  39.6 , 그 날짜 :  2018-08-01\n"
     ]
    }
   ],
   "source": [
    "# import library\n",
    "import csv\n",
    "\n",
    "d_pth='../data/seoul_new.csv'\n",
    "f=open(d_pth,'r')\n",
    "rd=csv.reader(f)\n",
    "header=next(rd)\n",
    "max_tmp=-999\n",
    "max_date=''\n",
    "for row in rd:\n",
    "    if row[-1]=='':\n",
    "        row[-1]=-999\n",
    "    row[-1]=float(row[-1])\n",
    "    if max_tmp<row[-1]:\n",
    "        max_date=row[0]\n",
    "        max_tmp=row[-1]\n",
    "f.close()\n",
    "print('최고기온 : ',max_tmp,', 그 날짜 : ',max_date)        "
   ]
  },
  {
   "cell_type": "markdown",
   "id": "f583c693",
   "metadata": {},
   "source": [
    "2. pandas library 이용"
   ]
  },
  {
   "cell_type": "code",
   "execution_count": 2,
   "id": "fb2a3741",
   "metadata": {},
   "outputs": [
    {
     "data": {
      "text/html": [
       "<div>\n",
       "<style scoped>\n",
       "    .dataframe tbody tr th:only-of-type {\n",
       "        vertical-align: middle;\n",
       "    }\n",
       "\n",
       "    .dataframe tbody tr th {\n",
       "        vertical-align: top;\n",
       "    }\n",
       "\n",
       "    .dataframe thead th {\n",
       "        text-align: right;\n",
       "    }\n",
       "</style>\n",
       "<table border=\"1\" class=\"dataframe\">\n",
       "  <thead>\n",
       "    <tr style=\"text-align: right;\">\n",
       "      <th></th>\n",
       "      <th>날짜</th>\n",
       "      <th>지점</th>\n",
       "      <th>평균기온(℃)</th>\n",
       "      <th>최저기온(℃)</th>\n",
       "      <th>최고기온(℃)</th>\n",
       "    </tr>\n",
       "  </thead>\n",
       "  <tbody>\n",
       "    <tr>\n",
       "      <th>0</th>\n",
       "      <td>1907-10-01</td>\n",
       "      <td>108</td>\n",
       "      <td>13.5</td>\n",
       "      <td>7.9</td>\n",
       "      <td>20.7</td>\n",
       "    </tr>\n",
       "    <tr>\n",
       "      <th>1</th>\n",
       "      <td>1907-10-02</td>\n",
       "      <td>108</td>\n",
       "      <td>16.2</td>\n",
       "      <td>7.9</td>\n",
       "      <td>22.0</td>\n",
       "    </tr>\n",
       "    <tr>\n",
       "      <th>2</th>\n",
       "      <td>1907-10-03</td>\n",
       "      <td>108</td>\n",
       "      <td>16.2</td>\n",
       "      <td>13.1</td>\n",
       "      <td>21.3</td>\n",
       "    </tr>\n",
       "    <tr>\n",
       "      <th>3</th>\n",
       "      <td>1907-10-04</td>\n",
       "      <td>108</td>\n",
       "      <td>16.5</td>\n",
       "      <td>11.2</td>\n",
       "      <td>22.0</td>\n",
       "    </tr>\n",
       "    <tr>\n",
       "      <th>4</th>\n",
       "      <td>1907-10-05</td>\n",
       "      <td>108</td>\n",
       "      <td>17.6</td>\n",
       "      <td>10.9</td>\n",
       "      <td>25.4</td>\n",
       "    </tr>\n",
       "    <tr>\n",
       "      <th>...</th>\n",
       "      <td>...</td>\n",
       "      <td>...</td>\n",
       "      <td>...</td>\n",
       "      <td>...</td>\n",
       "      <td>...</td>\n",
       "    </tr>\n",
       "    <tr>\n",
       "      <th>40216</th>\n",
       "      <td>2019-01-13</td>\n",
       "      <td>108</td>\n",
       "      <td>1.2</td>\n",
       "      <td>-3.0</td>\n",
       "      <td>7.6</td>\n",
       "    </tr>\n",
       "    <tr>\n",
       "      <th>40217</th>\n",
       "      <td>2019-01-14</td>\n",
       "      <td>108</td>\n",
       "      <td>1.4</td>\n",
       "      <td>-2.4</td>\n",
       "      <td>5.3</td>\n",
       "    </tr>\n",
       "    <tr>\n",
       "      <th>40218</th>\n",
       "      <td>2019-01-15</td>\n",
       "      <td>108</td>\n",
       "      <td>-1.7</td>\n",
       "      <td>-7.2</td>\n",
       "      <td>2.6</td>\n",
       "    </tr>\n",
       "    <tr>\n",
       "      <th>40219</th>\n",
       "      <td>2019-01-16</td>\n",
       "      <td>108</td>\n",
       "      <td>-5.2</td>\n",
       "      <td>-10.1</td>\n",
       "      <td>-1.1</td>\n",
       "    </tr>\n",
       "    <tr>\n",
       "      <th>40220</th>\n",
       "      <td>2019-01-17</td>\n",
       "      <td>108</td>\n",
       "      <td>-0.3</td>\n",
       "      <td>-3.2</td>\n",
       "      <td>4.0</td>\n",
       "    </tr>\n",
       "  </tbody>\n",
       "</table>\n",
       "<p>40221 rows × 5 columns</p>\n",
       "</div>"
      ],
      "text/plain": [
       "               날짜   지점  평균기온(℃)  최저기온(℃)  최고기온(℃)\n",
       "0      1907-10-01  108     13.5      7.9     20.7\n",
       "1      1907-10-02  108     16.2      7.9     22.0\n",
       "2      1907-10-03  108     16.2     13.1     21.3\n",
       "3      1907-10-04  108     16.5     11.2     22.0\n",
       "4      1907-10-05  108     17.6     10.9     25.4\n",
       "...           ...  ...      ...      ...      ...\n",
       "40216  2019-01-13  108      1.2     -3.0      7.6\n",
       "40217  2019-01-14  108      1.4     -2.4      5.3\n",
       "40218  2019-01-15  108     -1.7     -7.2      2.6\n",
       "40219  2019-01-16  108     -5.2    -10.1     -1.1\n",
       "40220  2019-01-17  108     -0.3     -3.2      4.0\n",
       "\n",
       "[40221 rows x 5 columns]"
      ]
     },
     "execution_count": 2,
     "metadata": {},
     "output_type": "execute_result"
    }
   ],
   "source": [
    "# using pandas library\n",
    "\n",
    "#import library\n",
    "import pandas as pd\n",
    "\n",
    "d_pth='../data/seoul_new.csv'\n",
    "data=pd.read_csv(d_pth,encoding='cp949')\n",
    "data"
   ]
  },
  {
   "cell_type": "code",
   "execution_count": 3,
   "id": "21070f46",
   "metadata": {},
   "outputs": [
    {
     "name": "stdout",
     "output_type": "stream",
     "text": [
      "최고기온 :  39.6 날짜 :  2018-08-01\n"
     ]
    }
   ],
   "source": [
    "# 결측값 확인\n",
    "data.isnull().sum()\n",
    "# 결측값 대체\n",
    "data=data.fillna(-999)\n",
    "data.isnull().sum()\n",
    "max_tmp=data['최고기온(℃)'].max()\n",
    "data.iloc[data['최고기온(℃)'].idxmax()]\n",
    "max_date=data.iloc[data['최고기온(℃)'].idxmax()][0]\n",
    "print('최고기온 : ',max_tmp,'날짜 : ',max_date)"
   ]
  }
 ],
 "metadata": {
  "kernelspec": {
   "display_name": "Python 3 (ipykernel)",
   "language": "python",
   "name": "python3"
  },
  "language_info": {
   "codemirror_mode": {
    "name": "ipython",
    "version": 3
   },
   "file_extension": ".py",
   "mimetype": "text/x-python",
   "name": "python",
   "nbconvert_exporter": "python",
   "pygments_lexer": "ipython3",
   "version": "3.8.12"
  }
 },
 "nbformat": 4,
 "nbformat_minor": 5
}

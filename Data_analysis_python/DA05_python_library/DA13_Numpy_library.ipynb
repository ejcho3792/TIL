{
 "cells": [
  {
   "cell_type": "markdown",
   "id": "5d3189fb",
   "metadata": {},
   "source": [
    "# numpy library"
   ]
  },
  {
   "cell_type": "markdown",
   "id": "11a54dfc",
   "metadata": {},
   "source": [
    "---\n",
    "## matplotlib"
   ]
  },
  {
   "cell_type": "markdown",
   "id": "459781a4",
   "metadata": {},
   "source": [
    "* [matplotlib 홈페이지](https://matplotlib.org/stable/plot_types/index.html)에서 다양한 예제를 볼 수 있다.\n"
   ]
  },
  {
   "cell_type": "code",
   "execution_count": 5,
   "id": "61cdd097",
   "metadata": {},
   "outputs": [],
   "source": [
    "# import\n",
    "\n",
    "import numpy as np\n",
    "import matplotlib.pyplot as plt"
   ]
  },
  {
   "cell_type": "markdown",
   "id": "f3db8627",
   "metadata": {},
   "source": [
    "### numpy 라이브러리를 사용"
   ]
  },
  {
   "cell_type": "code",
   "execution_count": 7,
   "id": "614ea1bb",
   "metadata": {},
   "outputs": [
    {
     "data": {
      "image/png": "[encoded data removed]",
      "text/plain": [
       "<Figure size 432x288 with 1 Axes>"
      ]
     },
     "metadata": {
      "needs_background": "light"
     },
     "output_type": "display_data"
    }
   ],
   "source": [
    "t=np.arange(0.,5.,0.2)                       # np.arange (start,stop, step)\n",
    "plt.plot(t,t,'r--',t,t**2,'bs',t,t**3,'g^') \n",
    "plt.show()"
   ]
  },
  {
   "cell_type": "markdown",
   "id": "8d9d6a24",
   "metadata": {},
   "source": [
    "### python list를 사용"
   ]
  },
  {
   "cell_type": "code",
   "execution_count": 29,
   "id": "c2c42b00",
   "metadata": {
    "scrolled": true
   },
   "outputs": [
    {
     "data": {
      "image/png": "[encoded data removed]",
      "text/plain": [
       "<Figure size 432x288 with 1 Axes>"
      ]
     },
     "metadata": {
      "needs_background": "light"
     },
     "output_type": "display_data"
    }
   ],
   "source": [
    "t=[]\n",
    "p2=[]\n",
    "p3=[]\n",
    "for i in range(0,50,2):\n",
    "    t.append(i/10)\n",
    "    p2.append((i/10)**2)\n",
    "    p3.append((i/10)**3)\n",
    "plt.plot(t,t,'r--',t,p2,'bs',t,p3,'g^')\n",
    "plt.show()"
   ]
  },
  {
   "cell_type": "markdown",
   "id": "94bca1da",
   "metadata": {},
   "source": [
    "numpy라이브러리를 활용하여 적은 수의 코드로 작성 가능"
   ]
  },
  {
   "cell_type": "markdown",
   "id": "692f99ca",
   "metadata": {},
   "source": [
    "---\n",
    "## numpy 라이브러리"
   ]
  },
  {
   "cell_type": "markdown",
   "id": "cc9a26bc",
   "metadata": {},
   "source": [
    "### 삼각함수와 파이"
   ]
  },
  {
   "cell_type": "code",
   "execution_count": 2,
   "id": "7d05c191",
   "metadata": {},
   "outputs": [
    {
     "name": "stdout",
     "output_type": "stream",
     "text": [
      "sqrt(2) :  1.4142135623730951\n",
      "pi :  3.141592653589793\n",
      "sin(0) :  0.0\n",
      "cos(pi) :  -1.0\n"
     ]
    }
   ],
   "source": [
    "print('sqrt(2) : ',np.sqrt(2))    # np.sqrt(num) : num의 제곱근\n",
    "print('pi : ',np.pi)              # np.pi : 파이\n",
    "print('sin(0) : ',np.sin(0))      # np.sin(num) : num의 sin값 (in radians)\n",
    "print('cos(pi) : ',np.cos(np.pi)) # cos(pi) 출력"
   ]
  },
  {
   "cell_type": "code",
   "execution_count": 16,
   "id": "8556fe8a",
   "metadata": {},
   "outputs": [
    {
     "name": "stdout",
     "output_type": "stream",
     "text": [
      "sin(90(rad)) :  0.8939966636005579\n",
      "sin(90(deg)) :  1.0\n"
     ]
    }
   ],
   "source": [
    "print('sin(90(rad)) : ',np.sin(90))\n",
    "print('sin(90(deg)) : ',np.sin((90*np.pi/180)))"
   ]
  },
  {
   "cell_type": "markdown",
   "id": "b11150b1",
   "metadata": {},
   "source": [
    "### random.rand, random.randint"
   ]
  },
  {
   "cell_type": "code",
   "execution_count": 41,
   "id": "13d2f2ed",
   "metadata": {},
   "outputs": [
    {
     "name": "stdout",
     "output_type": "stream",
     "text": [
      "random.rand(5) :  [0.92056607 0.68091467 0.00964517 0.46419059 0.54007828]\n",
      "random.randint(5,50,10) :  [41 14 45 11 29 21 32 15 23 30]\n"
     ]
    }
   ],
   "source": [
    "# random.rand(n)\n",
    "print('random.rand(5) : ',np.random.rand(5))                   # 0~1 사이의 5개의 실수 출력\n",
    "print('random.randint(5,50,10) : ',np.random.randint(5,50,10)) # 5~49 사이의 10개의 정수 출력"
   ]
  },
  {
   "cell_type": "markdown",
   "id": "d5ba49f2",
   "metadata": {},
   "source": [
    "### random.choice"
   ]
  },
  {
   "cell_type": "markdown",
   "id": "b2669154",
   "metadata": {},
   "source": [
    "np.random.choice(a,size,replace=True,p)\n",
    "a : 추출할 숫자의 범위\n",
    "size : 추출할 횟수\n",
    "replace : True : 중복 허용(default), False : 중복하지 않음\n",
    "p : 각 경우의수가 발생할 확률을 지정"
   ]
  },
  {
   "cell_type": "code",
   "execution_count": 27,
   "id": "396bd872",
   "metadata": {},
   "outputs": [
    {
     "name": "stdout",
     "output_type": "stream",
     "text": [
      "random.choice(6,10) :  [2 3 3 2 5 3 2 0 0 5]\n",
      "random.choice(10,9,replace=False) :  [1 8 7 2 3 6 9 4 5]\n",
      "np.random.choice(6,10,p=[.1, .2, .3, .2, .1, .1]) :  [3 1 4 4 1 2 2 1 1 0]\n"
     ]
    }
   ],
   "source": [
    "# random.choice(a,size)\n",
    "print('random.choice(6,10) : ',np.random.choice(6,10))   # 0~5 사이의 수를 랜덤으로 10번 뽑음\n",
    "\n",
    "# random.choice(a,size,replace=False) : 중복 없이 뽑음\n",
    "print('random.choice(10,9,replace=False) : ',np.random.choice(10,9,replace=False))\n",
    "\n",
    "# random.choice(a,size,p)\n",
    "print('np.random.choice(6,10,p=[.1, .2, .3, .2, .1, .1]) : ',np.random.choice(6,10,p=[.1, .2, .3, .2, .1, .1]))"
   ]
  },
  {
   "cell_type": "markdown",
   "id": "d7a67a2f",
   "metadata": {},
   "source": [
    "---\n",
    "## numpy 라이브러리를 활용해 그래프 그리기"
   ]
  },
  {
   "cell_type": "code",
   "execution_count": 30,
   "id": "c34d4145",
   "metadata": {},
   "outputs": [
    {
     "data": {
      "text/plain": [
       "<function matplotlib.pyplot.show(close=None, block=None)>"
      ]
     },
     "execution_count": 30,
     "metadata": {},
     "output_type": "execute_result"
    },
    {
     "data": {
      "image/png": "[encoded data removed]",
      "text/plain": [
       "<Figure size 432x288 with 1 Axes>"
      ]
     },
     "metadata": {
      "needs_background": "light"
     },
     "output_type": "display_data"
    }
   ],
   "source": [
    "# 주사위(0~5)의 확률을 설정해주어 100만번 던질 때 히스토그램 그리기\n",
    "dice=np.random.choice(6,1000000,p=[.1, .2, .3, .2, .1, .1])  # 2가 나올 확률이 가장 높음\n",
    "plt.hist(dice,bins=6)\n",
    "plt.show"
   ]
  },
  {
   "cell_type": "code",
   "execution_count": 40,
   "id": "ad015dd6",
   "metadata": {},
   "outputs": [
    {
     "name": "stdout",
     "output_type": "stream",
     "text": [
      "(200,)\n"
     ]
    },
    {
     "data": {
      "image/png": "[encoded data removed]",
      "text/plain": [
       "<Figure size 432x288 with 2 Axes>"
      ]
     },
     "metadata": {
      "needs_background": "light"
     },
     "output_type": "display_data"
    }
   ],
   "source": [
    "# 버블차트 그리기 (산점도)\n",
    "x=np.random.randint(10,100,200) # 10~100 사이 정수 200개\n",
    "y=np.random.randint(10,100,200)\n",
    "size=np.random.rand(200)*100    # 0~1 실수 200개를 추출한 후 100 곱함 교재 오타\n",
    "\n",
    "plt.scatter(x,y,s=size,c=x,cmap='jet',alpha=.7)\n",
    "plt.colorbar()\n",
    "plt.show()\n"
   ]
  },
  {
   "cell_type": "markdown",
   "id": "d428ea6f",
   "metadata": {},
   "source": [
    "---\n",
    "## numpy array 생성하기"
   ]
  },
  {
   "cell_type": "code",
   "execution_count": null,
   "id": "bb39ff6d",
   "metadata": {},
   "outputs": [],
   "source": []
  },
  {
   "cell_type": "markdown",
   "id": "48ee5b83",
   "metadata": {},
   "source": [
    "---\n",
    "## numpy array의 다양한 활용"
   ]
  },
  {
   "cell_type": "code",
   "execution_count": null,
   "id": "3eb37dc9",
   "metadata": {},
   "outputs": [],
   "source": []
  }
 ],
 "metadata": {
  "kernelspec": {
   "display_name": "Python 3 (ipykernel)",
   "language": "python",
   "name": "python3"
  },
  "language_info": {
   "codemirror_mode": {
    "name": "ipython",
    "version": 3
   },
   "file_extension": ".py",
   "mimetype": "text/x-python",
   "name": "python",
   "nbconvert_exporter": "python",
   "pygments_lexer": "ipython3",
   "version": "3.8.12"
  },
  "toc": {
   "base_numbering": 1,
   "nav_menu": {},
   "number_sections": true,
   "sideBar": true,
   "skip_h1_title": false,
   "title_cell": "Table of Contents",
   "title_sidebar": "Contents",
   "toc_cell": false,
   "toc_position": {
    "height": "calc(100% - 180px)",
    "left": "10px",
    "top": "150px",
    "width": "176.179px"
   },
   "toc_section_display": true,
   "toc_window_display": true
  }
 },
 "nbformat": 4,
 "nbformat_minor": 5
}

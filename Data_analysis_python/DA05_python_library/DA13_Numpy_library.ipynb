{
 "cells": [
  {
   "cell_type": "markdown",
   "id": "5d3189fb",
   "metadata": {},
   "source": [
    "# numpy library"
   ]
  },
  {
   "cell_type": "markdown",
   "id": "11a54dfc",
   "metadata": {},
   "source": [
    "---\n",
    "## matplotlib"
   ]
  },
  {
   "cell_type": "markdown",
   "id": "3cb1120d",
   "metadata": {},
   "source": [
    "* [matplotlib 홈페이지](https://matplotlib.org/stable/plot_types/index.html)에서 다양한 예제를 볼 수 있다.\n"
   ]
  },
  {
   "cell_type": "code",
   "execution_count": null,
   "id": "61cdd097",
   "metadata": {},
   "outputs": [],
   "source": [
    "# import\n",
    "\n",
    "import numpy as np\n",
    "import matplotlib.pyplot as plt"
   ]
  },
  {
   "cell_type": "markdown",
   "id": "f3db8627",
   "metadata": {},
   "source": [
    "### numpy 라이브러리를 사용"
   ]
  },
  {
   "cell_type": "code",
   "execution_count": null,
   "id": "614ea1bb",
   "metadata": {},
   "outputs": [],
   "source": [
    "t=np.arange(0.,5.,0.2)                       # np.arange (start,stop, step)\n",
    "plt.plot(t,t,'r--',t,t**2,'bs',t,t**3,'g^') \n",
    "plt.show()"
   ]
  },
  {
   "cell_type": "markdown",
   "id": "8d9d6a24",
   "metadata": {},
   "source": [
    "### python list를 사용"
   ]
  },
  {
   "cell_type": "code",
   "execution_count": null,
   "id": "c2c42b00",
   "metadata": {
    "scrolled": true
   },
   "outputs": [],
   "source": [
    "t=[]\n",
    "p2=[]\n",
    "p3=[]\n",
    "for i in range(0,50,2):\n",
    "    t.append(i/10)\n",
    "    p2.append((i/10)**2)\n",
    "    p3.append((i/10)**3)\n",
    "plt.plot(t,t,'r--',t,p2,'bs',t,p3,'g^')\n",
    "plt.show()"
   ]
  },
  {
   "cell_type": "markdown",
   "id": "d023da9b",
   "metadata": {},
   "source": [
    "numpy라이브러리를 활용하여 적은 수의 코드로 작성 가능"
   ]
  },
  {
   "cell_type": "markdown",
   "id": "692f99ca",
   "metadata": {},
   "source": [
    "---\n",
    "## numpy 라이브러리"
   ]
  },
  {
   "cell_type": "markdown",
   "id": "3986350c",
   "metadata": {},
   "source": [
    "### 삼각함수와 파이"
   ]
  },
  {
   "cell_type": "code",
   "execution_count": null,
   "id": "7d05c191",
   "metadata": {},
   "outputs": [],
   "source": [
    "print('sqrt(2) : ',np.sqrt(2))    # np.sqrt(num) : num의 제곱근\n",
    "print('pi : ',np.pi)              # np.pi : 파이\n",
    "print('sin(0) : ',np.sin(0))      # np.sin(num) : num의 sin값 (in radians)\n",
    "print('cos(pi) : ',np.cos(np.pi)) # cos(pi) 출력"
   ]
  },
  {
   "cell_type": "code",
   "execution_count": null,
   "id": "618847f6",
   "metadata": {},
   "outputs": [],
   "source": [
    "print('sin(90(rad)) : ',np.sin(90))\n",
    "print('sin(90(deg)) : ',np.sin((90*np.pi/180)))"
   ]
  },
  {
   "cell_type": "markdown",
   "id": "c0bc60e8",
   "metadata": {},
   "source": [
    "### random.rand, random.randint"
   ]
  },
  {
   "cell_type": "code",
   "execution_count": null,
   "id": "1cb22d56",
   "metadata": {},
   "outputs": [],
   "source": [
    "# random.rand(n)\n",
    "print('random.rand(5) : ',np.random.rand(5))                   # 0~1 사이의 5개의 실수 출력\n",
    "print('random.randint(5,50,10) : ',np.random.randint(5,50,10)) # 5~49 사이의 10개의 정수 출력"
   ]
  },
  {
   "cell_type": "markdown",
   "id": "a4bb2c66",
   "metadata": {},
   "source": [
    "### random.choice"
   ]
  },
  {
   "cell_type": "markdown",
   "id": "b8011be2",
   "metadata": {},
   "source": [
    "np.random.choice(a,size,replace=True,p)\n",
    "a : 추출할 숫자의 범위\n",
    "size : 추출할 횟수\n",
    "replace : True : 중복 허용(default), False : 중복하지 않음\n",
    "p : 각 경우의수가 발생할 확률을 지정"
   ]
  },
  {
   "cell_type": "code",
   "execution_count": null,
   "id": "0ddb8ab1",
   "metadata": {},
   "outputs": [],
   "source": [
    "# random.choice(a,size)\n",
    "print('random.choice(6,10) : ',np.random.choice(6,10))   # 0~5 사이의 수를 랜덤으로 10번 뽑음\n",
    "\n",
    "# random.choice(a,size,replace=False) : 중복 없이 뽑음\n",
    "print('random.choice(10,9,replace=False) : ',np.random.choice(10,9,replace=False))\n",
    "\n",
    "# random.choice(a,size,p)\n",
    "print('np.random.choice(6,10,p=[.1, .2, .3, .2, .1, .1]) : ',np.random.choice(6,10,p=[.1, .2, .3, .2, .1, .1]))"
   ]
  },
  {
   "cell_type": "markdown",
   "id": "472f9c0f",
   "metadata": {},
   "source": [
    "---\n",
    "## numpy 라이브러리를 활용해 그래프 그리기"
   ]
  },
  {
   "cell_type": "code",
   "execution_count": null,
   "id": "9440c948",
   "metadata": {},
   "outputs": [],
   "source": [
    "# 주사위(0~5)의 확률을 설정해주어 100만번 던질 때 히스토그램 그리기\n",
    "dice=np.random.choice(6,1000000,p=[.1, .2, .3, .2, .1, .1])  # 2가 나올 확률이 가장 높음\n",
    "plt.hist(dice,bins=6)\n",
    "plt.show"
   ]
  },
  {
   "cell_type": "code",
   "execution_count": null,
   "id": "9ed02393",
   "metadata": {},
   "outputs": [],
   "source": [
    "# 버블차트 그리기 (산점도)\n",
    "x=np.random.randint(10,100,200) # 10~100 사이 정수 200개\n",
    "y=np.random.randint(10,100,200)\n",
    "size=np.random.rand(200)*100    # 0~1 실수 200개를 추출한 후 100 곱함 교재 오타\n",
    "\n",
    "plt.scatter(x,y,s=size,c=x,cmap='jet',alpha=.7)\n",
    "plt.colorbar()\n",
    "plt.show()\n"
   ]
  },
  {
   "cell_type": "markdown",
   "id": "c41c13df",
   "metadata": {},
   "source": [
    "---\n",
    "## numpy array 생성하기"
   ]
  },
  {
   "cell_type": "markdown",
   "id": "243e3176",
   "metadata": {},
   "source": [
    "### ndarray의 기본적인 특징"
   ]
  },
  {
   "cell_type": "code",
   "execution_count": null,
   "id": "10fe1138",
   "metadata": {},
   "outputs": [],
   "source": [
    "a=np.array([1,2,3,4])\n",
    "print(a)\n",
    "print(a[1],a[-1])      # a의 두번째 값, 마지막 값 출력\n",
    "print(a[1:])           # a의 두번째~ 마지막까지 출력"
   ]
  },
  {
   "cell_type": "code",
   "execution_count": null,
   "id": "bf34332b",
   "metadata": {},
   "outputs": [],
   "source": [
    "# 한가지 타입의 데이터만 저장 가능\n",
    "a=np.array([1,2,'3',4])\n",
    "print(a)                 # 모든 값이 문자로 변환된다"
   ]
  },
  {
   "cell_type": "markdown",
   "id": "9da01711",
   "metadata": {},
   "source": [
    "### np.zeros, ones, eye"
   ]
  },
  {
   "cell_type": "code",
   "execution_count": null,
   "id": "1e742562",
   "metadata": {
    "scrolled": true
   },
   "outputs": [],
   "source": [
    "print('np.zeros(10) : ',np.zeros(10))   # 0으로 구성된 크기 10 배열\n",
    "print('np.ones(10) : ',np.ones(10))     # 1로 구성된 크기 10 배열\n",
    "print('np.eye(3) : ',np.eye(3))         # 3*3 배열 생성"
   ]
  },
  {
   "cell_type": "markdown",
   "id": "62beaabc",
   "metadata": {},
   "source": [
    "### np.arange, linspace"
   ]
  },
  {
   "cell_type": "code",
   "execution_count": null,
   "id": "6e6e7c7c",
   "metadata": {},
   "outputs": [],
   "source": [
    "# arange\n",
    "print('np.arange(3) : ',np.arange(3))               # 0~2로 배열 생성\n",
    "print('np.arange(3,7) : ',np.arange(3,7))           # 3~6으로 배열 생성\n",
    "print('np.arange(3,7,2) : ',np.arange(3,7,2))       # 3~6으로 2씩 간격을 둔 배열 생성"
   ]
  },
  {
   "cell_type": "code",
   "execution_count": null,
   "id": "17df72f1",
   "metadata": {},
   "outputs": [],
   "source": [
    "# 실수 배열\n",
    "print('np.arange(1,2,0.1) : ',np.arange(1,2,.1))    # 1~2 구간에서 0.1 간격으로 실수 생성 (2는 제외)\n",
    "print('np.linspace(1,2,11) : ',np.linspace(1,2,11)) # 1~2 까지 11개 구간으로 나눈 실수 생성"
   ]
  },
  {
   "cell_type": "code",
   "execution_count": null,
   "id": "af0afe48",
   "metadata": {},
   "outputs": [],
   "source": [
    "print('np.arange(-pi,pi,pi/10) : ',np.arange(-np.pi,np.pi,np.pi/10))   \n",
    "print('np.linspace(-pi,pi,20) : ',np.linspace(-np.pi,np.pi,20))"
   ]
  },
  {
   "cell_type": "markdown",
   "id": "87157c18",
   "metadata": {},
   "source": [
    "---\n",
    "## numpy array의 다양한 활용"
   ]
  },
  {
   "cell_type": "markdown",
   "id": "8786bd63",
   "metadata": {},
   "source": [
    "### ndarray"
   ]
  },
  {
   "cell_type": "code",
   "execution_count": null,
   "id": "262096ef",
   "metadata": {},
   "outputs": [],
   "source": [
    "# 배열에 연산을 적용할 수 있다.\n",
    "print('np.zeros(10)+5 : ', np.zeros(10)+5)"
   ]
  },
  {
   "cell_type": "code",
   "execution_count": null,
   "id": "e607c9bc",
   "metadata": {},
   "outputs": [],
   "source": [
    "# 배열에 함수도 적용할 수 있다.\n",
    "a=np.linspace(1,2,11)\n",
    "print('a :', a)\n",
    "print('sqrt(a) : ',np.sqrt(a))"
   ]
  },
  {
   "cell_type": "markdown",
   "id": "6b3758b8",
   "metadata": {},
   "source": [
    "### graph"
   ]
  },
  {
   "cell_type": "code",
   "execution_count": null,
   "id": "82c41f04",
   "metadata": {},
   "outputs": [],
   "source": [
    "# 그래프 간단하게 그리기\n",
    "a=np.arange(-np.pi,np.pi,np.pi/100)   # -pi ~ pi 범위에서 pi/100마다 배열 생성. a는 총 200개 값 가짐\n",
    "plt.plot(a,np.sin(a))\n",
    "plt.show()"
   ]
  },
  {
   "cell_type": "code",
   "execution_count": null,
   "id": "0b5002ba",
   "metadata": {},
   "outputs": [],
   "source": [
    "a=np.arange(-np.pi,np.pi,np.pi/100)\n",
    "plt.plot(a,np.sin(a),label='sin')\n",
    "plt.plot(a,np.cos(a),label='cos')\n",
    "plt.plot(a+np.pi/2,np.sin(a),label='sin(a+pi/2)') # pi/2 만큼 평행이동한 a 값들에 sin을 취한 것\n",
    "plt.legend()\n",
    "plt.show()"
   ]
  },
  {
   "cell_type": "markdown",
   "id": "9ad1adc7",
   "metadata": {},
   "source": [
    "### mask"
   ]
  },
  {
   "cell_type": "code",
   "execution_count": null,
   "id": "af5d9de9",
   "metadata": {},
   "outputs": [],
   "source": [
    "# mask : 조건에 부합하는 데이터만 선별적으로 저장\n",
    "\n",
    "a=np.arange(-5,5)\n",
    "print('a :', a)\n",
    "print('a<0 : ',a<0)         # 음수만 True \n",
    "print('a[a<0] : ',a[a<0])   # True인 음수만 남는다"
   ]
  },
  {
   "cell_type": "code",
   "execution_count": null,
   "id": "0109db24",
   "metadata": {},
   "outputs": [],
   "source": [
    "# 변수에 입력하여 사용하기\n",
    "mask1=abs(a)>3              # 절대값이 3 이상인 경우,\n",
    "print('a[mask1] : ',a[mask1])"
   ]
  },
  {
   "cell_type": "code",
   "execution_count": null,
   "id": "2a2ab81c",
   "metadata": {},
   "outputs": [],
   "source": [
    "# mask 연결하기\n",
    "mask1=abs(a)>3              # 절대값이 3 이상인 경우\n",
    "mask2=abs(a)%2==0           # 절대값을 2로 나눈 나머지가 0인경우 (짝수인 경우)\n",
    "print('mask1 or mask2 : ',a[mask1+mask2])   # + 이용\n",
    "print('mask1 and mask2 : ',a[mask1*mask2])  # * 이용"
   ]
  },
  {
   "cell_type": "markdown",
   "id": "09a23337",
   "metadata": {},
   "source": [
    "---"
   ]
  },
  {
   "cell_type": "code",
   "execution_count": null,
   "id": "8ddd4a8e",
   "metadata": {},
   "outputs": [],
   "source": [
    "x=np.random.randint(-100,100,1000) \n",
    "y=np.random.randint(-100,100,1000)\n",
    "\n",
    "mask1=abs(x)>50\n",
    "mask2=abs(y)>50\n",
    "x=x[mask1+mask2]\n",
    "y=y[mask1+mask2]\n",
    "size=np.random.rand(x.shape[0])*100\n",
    "plt.scatter(x,y,s=size,c=x,cmap='jet',alpha=.7)\n",
    "plt.colorbar()\n",
    "plt.show()"
   ]
  }
 ],
 "metadata": {
  "kernelspec": {
   "display_name": "Python 3 (ipykernel)",
   "language": "python",
   "name": "python3"
  },
  "language_info": {
   "codemirror_mode": {
    "name": "ipython",
    "version": 3
   },
   "file_extension": ".py",
   "mimetype": "text/x-python",
   "name": "python",
   "nbconvert_exporter": "python",
   "pygments_lexer": "ipython3",
   "version": "3.8.12"
  },
  "toc": {
   "base_numbering": 1,
   "nav_menu": {},
   "number_sections": true,
   "sideBar": true,
   "skip_h1_title": false,
   "title_cell": "Table of Contents",
   "title_sidebar": "Contents",
   "toc_cell": false,
   "toc_position": {
    "height": "calc(100% - 180px)",
    "left": "10px",
    "top": "150px",
    "width": "240.712px"
   },
   "toc_section_display": true,
   "toc_window_display": true
  }
 },
 "nbformat": 4,
 "nbformat_minor": 5
}

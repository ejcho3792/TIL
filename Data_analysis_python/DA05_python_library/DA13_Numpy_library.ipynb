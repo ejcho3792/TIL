{
 "cells": [
  {
   "cell_type": "markdown",
   "id": "5d3189fb",
   "metadata": {},
   "source": [
    "# numpy library"
   ]
  },
  {
   "cell_type": "markdown",
   "id": "11a54dfc",
   "metadata": {},
   "source": [
    "---\n",
    "1. matplotlib"
   ]
  },
  {
   "cell_type": "code",
   "execution_count": 2,
   "id": "61cdd097",
   "metadata": {},
   "outputs": [],
   "source": [
    "# import\n",
    "import matplotlib.pyplot as plt\n",
    "import numpy as np"
   ]
  },
  {
   "cell_type": "markdown",
   "id": "f3db8627",
   "metadata": {},
   "source": [
    "(1) numpy 라이브러리를 사용"
   ]
  },
  {
   "cell_type": "code",
   "execution_count": 7,
   "id": "614ea1bb",
   "metadata": {},
   "outputs": [
    {
     "data": {
      "image/png": "[encoded data removed]",
      "text/plain": [
       "<Figure size 432x288 with 1 Axes>"
      ]
     },
     "metadata": {
      "needs_background": "light"
     },
     "output_type": "display_data"
    }
   ],
   "source": [
    "t=np.arange(0.,5.,0.2)                       # np.arange (start,stop, step)\n",
    "plt.plot(t,t,'r--',t,t**2,'bs',t,t**3,'g^') \n",
    "plt.show()"
   ]
  },
  {
   "cell_type": "markdown",
   "id": "8d9d6a24",
   "metadata": {},
   "source": [
    "(2) python list를 사용"
   ]
  },
  {
   "cell_type": "code",
   "execution_count": 13,
   "id": "c2c42b00",
   "metadata": {},
   "outputs": [
    {
     "data": {
      "image/png": "[encoded data removed]",
      "text/plain": [
       "<Figure size 432x288 with 1 Axes>"
      ]
     },
     "metadata": {
      "needs_background": "light"
     },
     "output_type": "display_data"
    }
   ],
   "source": [
    "import matplotlib.pyplot as plt\n",
    "t=[]\n",
    "p2=[]\n",
    "p3=[]\n",
    "for i in range(0,50,2):\n",
    "    t.append(i/10)\n",
    "    p2.append((i/10)**2)\n",
    "    p3.append((i/10)**3)\n",
    "plt.plot(t,t,'r--',t,p2,'bs',t,p3,'g^')\n",
    "plt.show()"
   ]
  },
  {
   "cell_type": "markdown",
   "id": "692f99ca",
   "metadata": {},
   "source": [
    "2. numpy 라이브러리"
   ]
  },
  {
   "cell_type": "code",
   "execution_count": 24,
   "id": "7d05c191",
   "metadata": {},
   "outputs": [
    {
     "name": "stdout",
     "output_type": "stream",
     "text": [
      "sqrt(2) :  1.4142135623730951\n",
      "pi :  3.141592653589793\n",
      "sin(0) :  0.0\n",
      "cos(pi) :  -1.0\n"
     ]
    }
   ],
   "source": [
    "import numpy as np\n",
    "print('sqrt(2) : ',np.sqrt(2))                   # np.sqrt(num) : num의 제곱근\n",
    "print('pi : ',np.pi)                             # np.pi : 파이\n",
    "print('sin(0) : ',np.sin(0))                     # np.sin(num) : num의 sin값 (radian)\n",
    "print('cos(pi) : ',np.cos(np.pi))                # cos(pi) 출력"
   ]
  },
  {
   "cell_type": "code",
   "execution_count": null,
   "id": "aa27a32e",
   "metadata": {},
   "outputs": [],
   "source": []
  }
 ],
 "metadata": {
  "kernelspec": {
   "display_name": "Python 3 (ipykernel)",
   "language": "python",
   "name": "python3"
  },
  "language_info": {
   "codemirror_mode": {
    "name": "ipython",
    "version": 3
   },
   "file_extension": ".py",
   "mimetype": "text/x-python",
   "name": "python",
   "nbconvert_exporter": "python",
   "pygments_lexer": "ipython3",
   "version": "3.8.12"
  }
 },
 "nbformat": 4,
 "nbformat_minor": 5
}

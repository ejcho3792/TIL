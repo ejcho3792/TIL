{
 "cells": [
  {
   "cell_type": "code",
   "execution_count": null,
   "id": "b741d275",
   "metadata": {},
   "outputs": [],
   "source": [
    "!pip install pyreadstat"
   ]
  },
  {
   "cell_type": "code",
   "execution_count": null,
   "id": "568e09d1",
   "metadata": {},
   "outputs": [],
   "source": [
    "import pandas as pd\n",
    "\n",
    "d=pd.read_spss('data_sav/koweps_hp01_15_long_210416.sav')"
   ]
  },
  {
   "cell_type": "code",
   "execution_count": null,
   "id": "6c8c6016",
   "metadata": {},
   "outputs": [],
   "source": [
    "d.to_csv('koweps_hp01_15_long_210416.csv',index=False)"
   ]
  }
 ],
 "metadata": {
  "kernelspec": {
   "display_name": "Python 3 (ipykernel)",
   "language": "python",
   "name": "python3"
  },
  "language_info": {
   "codemirror_mode": {
    "name": "ipython",
    "version": 3
   },
   "file_extension": ".py",
   "mimetype": "text/x-python",
   "name": "python",
   "nbconvert_exporter": "python",
   "pygments_lexer": "ipython3",
   "version": "3.8.12"
  }
 },
 "nbformat": 4,
 "nbformat_minor": 5
}

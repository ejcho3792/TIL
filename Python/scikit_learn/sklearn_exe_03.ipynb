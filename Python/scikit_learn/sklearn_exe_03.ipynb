{
 "cells": [
  {
   "cell_type": "markdown",
   "id": "b5608687",
   "metadata": {},
   "source": [
    "# 선형회귀분석\n",
    "---"
   ]
  },
  {
   "cell_type": "markdown",
   "id": "3f3ded9c",
   "metadata": {},
   "source": [
    "1. 해석적 방법"
   ]
  },
  {
   "cell_type": "code",
   "execution_count": 1,
   "id": "7a76bc33",
   "metadata": {},
   "outputs": [],
   "source": [
    "x=[157,160,160,168,172,175,175,177,182,184,188,190]\n",
    "y=[42,48,54,58,63,69,71,73,70,80,79,81]"
   ]
  },
  {
   "cell_type": "code",
   "execution_count": 2,
   "id": "9e12d93e",
   "metadata": {},
   "outputs": [
    {
     "name": "stdout",
     "output_type": "stream",
     "text": [
      "xmean 174.0 ymean 65.66666666666667\n",
      "cost :  62.19052917903056\n",
      "linear regression y= 1.1164688427299703 *x+ -128.59891196834815\n"
     ]
    }
   ],
   "source": [
    "xmean=sum(x)/len(x)\n",
    "ymean=sum(y)/len(y)\n",
    "print('xmean',xmean,'ymean',ymean)\n",
    "m1w=[.0]\n",
    "m1b=[.0]\n",
    "t1=0\n",
    "t2=0\n",
    "for i in range(len(x)):\n",
    "    t1+=(y[i]-ymean)*(x[i]-xmean)\n",
    "    t2+=pow((x[i]-xmean),2)\n",
    "m1w[0]=t1/t2\n",
    "m1b[0]=ymean-m1w[0]*xmean\n",
    "\n",
    "def costfunction(x,y,w,b,iters):\n",
    "    total=0\n",
    "    for i in range(len(x)):\n",
    "        total+=pow(w[iters]*x[i]+b[iters]-y[i],2)\n",
    "    return total/2\n",
    "\n",
    "m1cost=costfunction(x,y,m1w,m1b,0)\n",
    "print('cost : ',m1cost)\n",
    "print('linear regression y=',m1w[0],'*x+',m1b[0])"
   ]
  },
  {
   "cell_type": "markdown",
   "id": "0b20bb30",
   "metadata": {},
   "source": [
    "2. gradient descent"
   ]
  },
  {
   "cell_type": "code",
   "execution_count": 4,
   "id": "92d07eb1",
   "metadata": {},
   "outputs": [
    {
     "name": "stdout",
     "output_type": "stream",
     "text": [
      "iteration :  0 \n",
      "w[0] :  -17.0 \n",
      "b[0] :  -13.0 \n",
      "cost :  55549340.0\n",
      "iter 100 , gradw -7661.7, gradb -38.7 , w[100] 0.4,b[100] -12.9, cost 429.4\n",
      "\n",
      "iter 200 , gradw -8.6, gradb 5.1 , w[200] 0.5,b[200] -12.9, cost 359.1\n",
      "\n",
      "iter 300 , gradw -0.0, gradb 5.1 , w[300] 0.5,b[300] -12.9, cost 359.1\n",
      "\n",
      "iter 400 , gradw -0.0, gradb 5.1 , w[400] 0.5,b[400] -12.9, cost 359.1\n",
      "q\n"
     ]
    }
   ],
   "source": [
    "import random\n",
    "w=[0]\n",
    "b=[0]\n",
    "w[0]=float(random.randint(-100,100))\n",
    "b[0]=float(random.randint(-100,100))\n",
    "\n",
    "iters=0\n",
    "cost=costfunction(x,y,w,b,iters)\n",
    "print('iteration : ',iters,'\\nw[0] : ',w[0],'\\nb[0] : ',b[0],'\\ncost : ',cost)\n",
    "rate=10/cost\n",
    "max_iter=0.0001\n",
    "precision=0.0001\n",
    "def gw(x,y,iters):\n",
    "    total=0\n",
    "    for i in range(len(x)):\n",
    "        total+=w[iters]*x[i]*x[i]+b[iters]*x[i]-x[i]*y[i]\n",
    "    return total\n",
    "\n",
    "def gb(x,y,iters):\n",
    "    total=0\n",
    "    for i in range(len(x)):\n",
    "        total+=w[iters]*x[i]+b[iters]-y[i]\n",
    "    return total\n",
    "\n",
    "\n",
    "\n",
    "while cost>precision:\n",
    "    iters+=1\n",
    "    gradw=gw(x,y,iters-1)\n",
    "    gradb=gb(x,y,iters-1)\n",
    "    neww=w[iters-1]-rate*gradw\n",
    "    newb=b[iters-1]-rate*gradb\n",
    "    w.append(neww)\n",
    "    b.append(newb)\n",
    "    cost=costfunction(x,y,w,b,iters)\n",
    "    if iters%100==0:\n",
    "        print('iter',iters,', gradw %.1f, gradb %.1f'%(gradw,gradb),\n",
    "              ', w[%d] %.1f,b[%d] %.1f, cost %.1f'%(iters,w[iters],iters,b[iters],cost))\n",
    "        ans=input()\n",
    "        if ans=='q':\n",
    "            break"
   ]
  }
 ],
 "metadata": {
  "kernelspec": {
   "display_name": "Python 3 (ipykernel)",
   "language": "python",
   "name": "python3"
  },
  "language_info": {
   "codemirror_mode": {
    "name": "ipython",
    "version": 3
   },
   "file_extension": ".py",
   "mimetype": "text/x-python",
   "name": "python",
   "nbconvert_exporter": "python",
   "pygments_lexer": "ipython3",
   "version": "3.8.12"
  }
 },
 "nbformat": 4,
 "nbformat_minor": 5
}

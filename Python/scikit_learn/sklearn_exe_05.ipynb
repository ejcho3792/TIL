{
 "cells": [
  {
   "cell_type": "markdown",
   "id": "26e4aa05",
   "metadata": {},
   "source": [
    "# 로지스틱회귀\n",
    "---\n",
    "1. 데이터프레임 생성"
   ]
  },
  {
   "cell_type": "code",
   "execution_count": 1,
   "id": "30bafb06",
   "metadata": {},
   "outputs": [],
   "source": [
    "import pandas as pd\n",
    "import seaborn as sns\n",
    "from sklearn.datasets import load_iris\n",
    "sns.set()\n",
    "%matplotlib inline"
   ]
  },
  {
   "cell_type": "code",
   "execution_count": 2,
   "id": "e4ff453c",
   "metadata": {},
   "outputs": [
    {
     "name": "stdout",
     "output_type": "stream",
     "text": [
      "<class 'pandas.core.frame.DataFrame'>\n",
      "RangeIndex: 150 entries, 0 to 149\n",
      "Data columns (total 5 columns):\n",
      " #   Column             Non-Null Count  Dtype  \n",
      "---  ------             --------------  -----  \n",
      " 0   sepal length (cm)  150 non-null    float64\n",
      " 1   sepal width (cm)   150 non-null    float64\n",
      " 2   petal length (cm)  150 non-null    float64\n",
      " 3   petal width (cm)   150 non-null    float64\n",
      " 4   species            150 non-null    int32  \n",
      "dtypes: float64(4), int32(1)\n",
      "memory usage: 5.4 KB\n"
     ]
    }
   ],
   "source": [
    "iris=load_iris()\n",
    "df=pd.DataFrame(iris.data, columns=iris.feature_names)\n",
    "df['species']=pd.Series(iris.target)\n",
    "df.info()"
   ]
  },
  {
   "cell_type": "code",
   "execution_count": 4,
   "id": "a6bf4010",
   "metadata": {},
   "outputs": [
    {
     "name": "stdout",
     "output_type": "stream",
     "text": [
      "<class 'pandas.core.frame.DataFrame'>\n",
      "RangeIndex: 150 entries, 0 to 149\n",
      "Data columns (total 2 columns):\n",
      " #   Column        Non-Null Count  Dtype  \n",
      "---  ------        --------------  -----  \n",
      " 0   sepal_length  150 non-null    float64\n",
      " 1   species       150 non-null    int32  \n",
      "dtypes: float64(1), int32(1)\n",
      "memory usage: 1.9 KB\n",
      "<class 'pandas.core.frame.DataFrame'>\n",
      "RangeIndex: 100 entries, 0 to 99\n",
      "Data columns (total 2 columns):\n",
      " #   Column        Non-Null Count  Dtype  \n",
      "---  ------        --------------  -----  \n",
      " 0   sepal_length  100 non-null    float64\n",
      " 1   species       100 non-null    int32  \n",
      "dtypes: float64(1), int32(1)\n",
      "memory usage: 1.3 KB\n"
     ]
    }
   ],
   "source": [
    "sl_df=pd.DataFrame()\n",
    "sl_df['sepal_length']=df['sepal length (cm)']\n",
    "sl_df['species']=df['species']\n",
    "sl_df.info()\n",
    "\n",
    "sl_df=sl_df[:100]\n",
    "sl_df.info()"
   ]
  },
  {
   "cell_type": "code",
   "execution_count": 5,
   "id": "a4d3a139",
   "metadata": {},
   "outputs": [
    {
     "data": {
      "text/html": [
       "<div>\n",
       "<style scoped>\n",
       "    .dataframe tbody tr th:only-of-type {\n",
       "        vertical-align: middle;\n",
       "    }\n",
       "\n",
       "    .dataframe tbody tr th {\n",
       "        vertical-align: top;\n",
       "    }\n",
       "\n",
       "    .dataframe thead th {\n",
       "        text-align: right;\n",
       "    }\n",
       "</style>\n",
       "<table border=\"1\" class=\"dataframe\">\n",
       "  <thead>\n",
       "    <tr style=\"text-align: right;\">\n",
       "      <th></th>\n",
       "      <th>sepal_length</th>\n",
       "      <th>species</th>\n",
       "    </tr>\n",
       "  </thead>\n",
       "  <tbody>\n",
       "    <tr>\n",
       "      <th>count</th>\n",
       "      <td>100.000000</td>\n",
       "      <td>100.000000</td>\n",
       "    </tr>\n",
       "    <tr>\n",
       "      <th>mean</th>\n",
       "      <td>5.471000</td>\n",
       "      <td>0.500000</td>\n",
       "    </tr>\n",
       "    <tr>\n",
       "      <th>std</th>\n",
       "      <td>0.641698</td>\n",
       "      <td>0.502519</td>\n",
       "    </tr>\n",
       "    <tr>\n",
       "      <th>min</th>\n",
       "      <td>4.300000</td>\n",
       "      <td>0.000000</td>\n",
       "    </tr>\n",
       "    <tr>\n",
       "      <th>25%</th>\n",
       "      <td>5.000000</td>\n",
       "      <td>0.000000</td>\n",
       "    </tr>\n",
       "    <tr>\n",
       "      <th>50%</th>\n",
       "      <td>5.400000</td>\n",
       "      <td>0.500000</td>\n",
       "    </tr>\n",
       "    <tr>\n",
       "      <th>75%</th>\n",
       "      <td>5.900000</td>\n",
       "      <td>1.000000</td>\n",
       "    </tr>\n",
       "    <tr>\n",
       "      <th>max</th>\n",
       "      <td>7.000000</td>\n",
       "      <td>1.000000</td>\n",
       "    </tr>\n",
       "  </tbody>\n",
       "</table>\n",
       "</div>"
      ],
      "text/plain": [
       "       sepal_length     species\n",
       "count    100.000000  100.000000\n",
       "mean       5.471000    0.500000\n",
       "std        0.641698    0.502519\n",
       "min        4.300000    0.000000\n",
       "25%        5.000000    0.000000\n",
       "50%        5.400000    0.500000\n",
       "75%        5.900000    1.000000\n",
       "max        7.000000    1.000000"
      ]
     },
     "execution_count": 5,
     "metadata": {},
     "output_type": "execute_result"
    }
   ],
   "source": [
    "sl_df.describe()"
   ]
  },
  {
   "cell_type": "code",
   "execution_count": 6,
   "id": "18b59e34",
   "metadata": {},
   "outputs": [
    {
     "data": {
      "text/plain": [
       "<seaborn.axisgrid.PairGrid at 0x18316563280>"
      ]
     },
     "execution_count": 6,
     "metadata": {},
     "output_type": "execute_result"
    },
    {
     "data": {
      "image/png": "[encoded data removed]",
      "text/plain": [
       "<Figure size 229.55x180 with 2 Axes>"
      ]
     },
     "metadata": {
      "needs_background": "light"
     },
     "output_type": "display_data"
    }
   ],
   "source": [
    "sns.pairplot(sl_df,hue='species')"
   ]
  },
  {
   "cell_type": "markdown",
   "id": "2b88b427",
   "metadata": {},
   "source": [
    "---\n",
    "2. 데이터 나누기"
   ]
  },
  {
   "cell_type": "code",
   "execution_count": 7,
   "id": "68badf88",
   "metadata": {},
   "outputs": [],
   "source": [
    "from sklearn.model_selection import train_test_split\n",
    "xt,xv,yt,yv=train_test_split(sl_df.iloc[:,:1],sl_df.iloc[:,1:],test_size=.33)"
   ]
  },
  {
   "cell_type": "markdown",
   "id": "e38c80d3",
   "metadata": {},
   "source": [
    "---\n",
    "3. 모델 인스턴스화"
   ]
  },
  {
   "cell_type": "code",
   "execution_count": 9,
   "id": "a7d5d078",
   "metadata": {},
   "outputs": [],
   "source": [
    "from sklearn.linear_model import LogisticRegression\n",
    "\n",
    "lr=LogisticRegression()"
   ]
  },
  {
   "cell_type": "markdown",
   "id": "8eada4eb",
   "metadata": {},
   "source": [
    "---\n",
    "4. 학습"
   ]
  },
  {
   "cell_type": "code",
   "execution_count": 11,
   "id": "f416d3ba",
   "metadata": {
    "scrolled": true
   },
   "outputs": [
    {
     "name": "stderr",
     "output_type": "stream",
     "text": [
      "C:\\Users\\kk135\\Anaconda3\\envs\\bigdata\\lib\\site-packages\\sklearn\\utils\\validation.py:993: DataConversionWarning: A column-vector y was passed when a 1d array was expected. Please change the shape of y to (n_samples, ), for example using ravel().\n",
      "  y = column_or_1d(y, warn=True)\n"
     ]
    },
    {
     "data": {
      "text/plain": [
       "LogisticRegression()"
      ]
     },
     "execution_count": 11,
     "metadata": {},
     "output_type": "execute_result"
    }
   ],
   "source": [
    "lr.fit(xt,yt)"
   ]
  },
  {
   "cell_type": "markdown",
   "id": "744fa148",
   "metadata": {},
   "source": [
    "---\n",
    "5. 그래프 생성"
   ]
  },
  {
   "cell_type": "code",
   "execution_count": 14,
   "id": "d941ed42",
   "metadata": {
    "scrolled": false
   },
   "outputs": [
    {
     "data": {
      "text/plain": [
       "<seaborn.axisgrid.FacetGrid at 0x1831949da00>"
      ]
     },
     "execution_count": 14,
     "metadata": {},
     "output_type": "execute_result"
    },
    {
     "data": {
      "image/png": "[encoded data removed]",
      "text/plain": [
       "<Figure size 360x360 with 1 Axes>"
      ]
     },
     "metadata": {},
     "output_type": "display_data"
    }
   ],
   "source": [
    "import seaborn as sns\n",
    "sns.set()\n",
    "sns.lmplot(x='sepal_length',y='species',data=sl_df,logistic=True)"
   ]
  },
  {
   "cell_type": "markdown",
   "id": "824a9e82",
   "metadata": {},
   "source": [
    "---\n",
    "6. 학습데이터 성능평가\n"
   ]
  },
  {
   "cell_type": "code",
   "execution_count": 15,
   "id": "ba992018",
   "metadata": {},
   "outputs": [
    {
     "name": "stdout",
     "output_type": "stream",
     "text": [
      "[[30  2]\n",
      " [ 1 34]]\n",
      "              precision    recall  f1-score   support\n",
      "\n",
      "           0       0.97      0.94      0.95        32\n",
      "           1       0.94      0.97      0.96        35\n",
      "\n",
      "    accuracy                           0.96        67\n",
      "   macro avg       0.96      0.95      0.96        67\n",
      "weighted avg       0.96      0.96      0.96        67\n",
      "\n"
     ]
    }
   ],
   "source": [
    "from sklearn.metrics import classification_report, confusion_matrix\n",
    "print(confusion_matrix(yt,lr.predict(xt)))\n",
    "print(classification_report(yt,lr.predict(xt)))"
   ]
  },
  {
   "cell_type": "markdown",
   "id": "d1cbe93b",
   "metadata": {},
   "source": [
    "---\n",
    "7. 테스트데이터 성능평가"
   ]
  },
  {
   "cell_type": "code",
   "execution_count": 16,
   "id": "21980c03",
   "metadata": {},
   "outputs": [
    {
     "name": "stdout",
     "output_type": "stream",
     "text": [
      "[[15  3]\n",
      " [ 5 10]]\n",
      "              precision    recall  f1-score   support\n",
      "\n",
      "           0       0.75      0.83      0.79        18\n",
      "           1       0.77      0.67      0.71        15\n",
      "\n",
      "    accuracy                           0.76        33\n",
      "   macro avg       0.76      0.75      0.75        33\n",
      "weighted avg       0.76      0.76      0.76        33\n",
      "\n"
     ]
    }
   ],
   "source": [
    "print(confusion_matrix(yv,lr.predict(xv)))\n",
    "print(classification_report(yv,lr.predict(xv)))"
   ]
  }
 ],
 "metadata": {
  "kernelspec": {
   "display_name": "Python 3 (ipykernel)",
   "language": "python",
   "name": "python3"
  },
  "language_info": {
   "codemirror_mode": {
    "name": "ipython",
    "version": 3
   },
   "file_extension": ".py",
   "mimetype": "text/x-python",
   "name": "python",
   "nbconvert_exporter": "python",
   "pygments_lexer": "ipython3",
   "version": "3.8.12"
  }
 },
 "nbformat": 4,
 "nbformat_minor": 5
}

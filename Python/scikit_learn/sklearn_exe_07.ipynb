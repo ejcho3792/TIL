{
 "cells": [
  {
   "cell_type": "markdown",
   "id": "13645413",
   "metadata": {},
   "source": [
    "# linear SVM\n",
    "---\n",
    "1. 학습"
   ]
  },
  {
   "cell_type": "code",
   "execution_count": 1,
   "id": "505e91b0",
   "metadata": {},
   "outputs": [
    {
     "data": {
      "text/plain": [
       "LinearSVC()"
      ]
     },
     "execution_count": 1,
     "metadata": {},
     "output_type": "execute_result"
    }
   ],
   "source": [
    "import numpy as np\n",
    "from sklearn import svm\n",
    "\n",
    "X=np.array([[0,0],[1,1]])\n",
    "y=[0,1]\n",
    "\n",
    "LinearSVM=svm.LinearSVC()\n",
    "LinearSVM.fit(X,y)"
   ]
  },
  {
   "cell_type": "markdown",
   "id": "ad91e04e",
   "metadata": {},
   "source": [
    "---\n",
    "2. 학습 결과"
   ]
  },
  {
   "cell_type": "code",
   "execution_count": 2,
   "id": "39ccc06a",
   "metadata": {},
   "outputs": [
    {
     "name": "stdout",
     "output_type": "stream",
     "text": [
      "[0.58822994 0.58822994]\n",
      "-0.4705748577631975\n"
     ]
    }
   ],
   "source": [
    "LinearSVM.predict([[2,2]])\n",
    "print(LinearSVM.coef_[0])\n",
    "print(LinearSVM.intercept_[0])"
   ]
  },
  {
   "cell_type": "code",
   "execution_count": 3,
   "id": "565eb467",
   "metadata": {},
   "outputs": [
    {
     "name": "stdout",
     "output_type": "stream",
     "text": [
      "[0.58822994 0.58822994]\n"
     ]
    },
    {
     "data": {
      "image/png": "[encoded data removed]",
      "text/plain": [
       "<Figure size 432x288 with 1 Axes>"
      ]
     },
     "metadata": {},
     "output_type": "display_data"
    }
   ],
   "source": [
    "import matplotlib.pyplot as plt\n",
    "from matplotlib import style\n",
    "style.use('ggplot')\n",
    "\n",
    "w=LinearSVM.coef_[0]\n",
    "print(w)\n",
    "b=LinearSVM.intercept_[0]\n",
    "slope=-w[0]/w[1]\n",
    "xx=np.linspace(0,1.5)\n",
    "yy=slope*xx-b/w[1]\n",
    "\n",
    "h0=plt.plot(xx,yy,'k-',label='Hyperplane')\n",
    "plt.scatter(X[:,0],X[:,1],c=y)\n",
    "plt.legend()\n",
    "plt.show()"
   ]
  },
  {
   "cell_type": "markdown",
   "id": "c66cf5bc",
   "metadata": {},
   "source": [
    "---\n",
    "3. nonlinear SVM 학습"
   ]
  },
  {
   "cell_type": "code",
   "execution_count": 4,
   "id": "b5998cf9",
   "metadata": {},
   "outputs": [
    {
     "data": {
      "text/plain": [
       "SVC()"
      ]
     },
     "execution_count": 4,
     "metadata": {},
     "output_type": "execute_result"
    }
   ],
   "source": [
    "import numpy as np\n",
    "from sklearn import svm\n",
    "import matplotlib.pyplot as plt\n",
    "\n",
    "X=np.array([[0,0],[0,1],[0,1],[1,1]])\n",
    "y=[0,1,1,0]\n",
    "\n",
    "SVM_XOR=svm.SVC()\n",
    "SVM_XOR.fit(X,y)"
   ]
  },
  {
   "cell_type": "code",
   "execution_count": 5,
   "id": "adc919d6",
   "metadata": {},
   "outputs": [
    {
     "data": {
      "text/plain": [
       "SVC()"
      ]
     },
     "execution_count": 5,
     "metadata": {},
     "output_type": "execute_result"
    }
   ],
   "source": [
    "SVM_XOR"
   ]
  },
  {
   "cell_type": "code",
   "execution_count": 6,
   "id": "fa8e5782",
   "metadata": {},
   "outputs": [
    {
     "data": {
      "text/plain": [
       "array([0, 1])"
      ]
     },
     "execution_count": 6,
     "metadata": {},
     "output_type": "execute_result"
    }
   ],
   "source": [
    "test_=np.array([[.8,.8],[.2,.9]])\n",
    "SVM_XOR.predict(test_)"
   ]
  }
 ],
 "metadata": {
  "kernelspec": {
   "display_name": "Python 3 (ipykernel)",
   "language": "python",
   "name": "python3"
  },
  "language_info": {
   "codemirror_mode": {
    "name": "ipython",
    "version": 3
   },
   "file_extension": ".py",
   "mimetype": "text/x-python",
   "name": "python",
   "nbconvert_exporter": "python",
   "pygments_lexer": "ipython3",
   "version": "3.8.12"
  }
 },
 "nbformat": 4,
 "nbformat_minor": 5
}

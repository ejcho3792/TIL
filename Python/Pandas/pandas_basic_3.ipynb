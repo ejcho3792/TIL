{
 "cells": [
  {
   "cell_type": "markdown",
   "id": "8194f811",
   "metadata": {},
   "source": [
    "# 데이터 프레임 & 시리즈"
   ]
  },
  {
   "cell_type": "markdown",
   "id": "7d54074b",
   "metadata": {},
   "source": [
    "---\n",
    "1. 데이터 생성"
   ]
  },
  {
   "cell_type": "code",
   "execution_count": 1,
   "id": "0c5a1389",
   "metadata": {},
   "outputs": [
    {
     "name": "stdout",
     "output_type": "stream",
     "text": [
      "0    Age\n",
      "1     26\n",
      "dtype: object\n",
      "0    Name\n",
      "1    John\n",
      "dtype: object\n",
      "Name    John\n",
      "Age       26\n",
      "dtype: object\n"
     ]
    }
   ],
   "source": [
    "import pandas as pd\n",
    "\n",
    "# 시리즈 생성\n",
    "s=pd.Series(['Age',26])\n",
    "print(s)\n",
    "d=pd.Series(['Name','John'])\n",
    "print(d)\n",
    "f=pd.Series(['John','26'],index=['Name','Age'])\n",
    "print(f)"
   ]
  },
  {
   "cell_type": "code",
   "execution_count": 2,
   "id": "68e70549",
   "metadata": {},
   "outputs": [
    {
     "name": "stdout",
     "output_type": "stream",
     "text": [
      "   Name  Age Occupation        Born\n",
      "0  John   26   Engineer  1996-04-04\n",
      "1   Amy   30     Artist  1992-08-12\n",
      "      Name  Age Occupation        Born\n",
      "Name                                  \n",
      "John  John   26   Engineer  1996-04-04\n",
      "Amy    Amy   30     Artist  1992-08-12\n"
     ]
    }
   ],
   "source": [
    "# 데이터프레임 생성\n",
    "info=pd.DataFrame({\n",
    "    'Name' : ['John','Amy'],\n",
    "    'Age' : [26,30],\n",
    "    'Occupation' : ['Engineer','Artist'],\n",
    "    'Born' : ['1996-04-04','1992-08-12']\n",
    "})\n",
    "print(info)\n",
    "info.index=info['Name']\n",
    "print(info)"
   ]
  },
  {
   "cell_type": "markdown",
   "id": "030bc9af",
   "metadata": {},
   "source": [
    "---\n",
    "2. 시리즈 다루기 (1)"
   ]
  },
  {
   "cell_type": "markdown",
   "id": "f1f08df2",
   "metadata": {},
   "source": [
    "(1) index, values, keys"
   ]
  },
  {
   "cell_type": "code",
   "execution_count": 3,
   "id": "d327cb23",
   "metadata": {},
   "outputs": [
    {
     "name": "stdout",
     "output_type": "stream",
     "text": [
      "Name                John\n",
      "Age                   26\n",
      "Occupation      Engineer\n",
      "Born          1996-04-04\n",
      "Name: John, dtype: object\n",
      "\n",
      "index :  Index(['John', 'Amy'], dtype='object', name='Name')\n",
      "\n",
      "value :  [['John' 26 'Engineer' '1996-04-04']\n",
      " ['Amy' 30 'Artist' '1992-08-12']]\n",
      "\n",
      "keys  :  Index(['Name', 'Age', 'Occupation', 'Born'], dtype='object')\n"
     ]
    }
   ],
   "source": [
    "info=pd.DataFrame({\n",
    "    'Name' : ['John','Amy'],\n",
    "    'Age' : [26,30],\n",
    "    'Occupation' : ['Engineer','Artist'],\n",
    "    'Born' : ['1996-04-04','1992-08-12']\n",
    "},\n",
    "index=info['Name'],\n",
    "columns=['Name','Age','Occupation','Born'])\n",
    "\n",
    "print(info.loc['John'])\n",
    "print('\\nindex : ',info.index)\n",
    "print('\\nvalue : ',info.values)\n",
    "print('\\nkeys  : ',info.keys())"
   ]
  },
  {
   "cell_type": "markdown",
   "id": "d772dc69",
   "metadata": {},
   "source": [
    "(2) mean, min, max, std"
   ]
  },
  {
   "cell_type": "code",
   "execution_count": 4,
   "id": "6bc2d346",
   "metadata": {},
   "outputs": [
    {
     "name": "stdout",
     "output_type": "stream",
     "text": [
      "mean :  28.0\n",
      "min :  26\n",
      "max :  30\n",
      "std :  2.8284271247461903\n"
     ]
    }
   ],
   "source": [
    "ages=info['Age']\n",
    "print('mean : ',ages.mean())  # 평균\n",
    "print('min : ',ages.min())    # 최소\n",
    "print('max : ',ages.max())    # 최대\n",
    "print('std : ',ages.std())    # 표준편차"
   ]
  },
  {
   "cell_type": "markdown",
   "id": "3bdc9a78",
   "metadata": {},
   "source": [
    "---\n",
    "2. 시리즈 다루기 (2)"
   ]
  },
  {
   "cell_type": "code",
   "execution_count": 5,
   "id": "656e0240",
   "metadata": {},
   "outputs": [
    {
     "data": {
      "text/html": [
       "<div>\n",
       "<style scoped>\n",
       "    .dataframe tbody tr th:only-of-type {\n",
       "        vertical-align: middle;\n",
       "    }\n",
       "\n",
       "    .dataframe tbody tr th {\n",
       "        vertical-align: top;\n",
       "    }\n",
       "\n",
       "    .dataframe thead th {\n",
       "        text-align: right;\n",
       "    }\n",
       "</style>\n",
       "<table border=\"1\" class=\"dataframe\">\n",
       "  <thead>\n",
       "    <tr style=\"text-align: right;\">\n",
       "      <th></th>\n",
       "      <th>Name</th>\n",
       "      <th>Born</th>\n",
       "      <th>Died</th>\n",
       "      <th>Age</th>\n",
       "      <th>Occupation</th>\n",
       "    </tr>\n",
       "  </thead>\n",
       "  <tbody>\n",
       "    <tr>\n",
       "      <th>0</th>\n",
       "      <td>Rosaline Franklin</td>\n",
       "      <td>1920-07-25</td>\n",
       "      <td>1958-04-16</td>\n",
       "      <td>37</td>\n",
       "      <td>Chemist</td>\n",
       "    </tr>\n",
       "    <tr>\n",
       "      <th>1</th>\n",
       "      <td>William Gosset</td>\n",
       "      <td>1876-06-13</td>\n",
       "      <td>1937-10-16</td>\n",
       "      <td>61</td>\n",
       "      <td>Statistician</td>\n",
       "    </tr>\n",
       "    <tr>\n",
       "      <th>2</th>\n",
       "      <td>Florence Nightingale</td>\n",
       "      <td>1820-05-12</td>\n",
       "      <td>1910-08-13</td>\n",
       "      <td>90</td>\n",
       "      <td>Nurse</td>\n",
       "    </tr>\n",
       "    <tr>\n",
       "      <th>3</th>\n",
       "      <td>Marie Curie</td>\n",
       "      <td>1867-11-07</td>\n",
       "      <td>1934-07-04</td>\n",
       "      <td>66</td>\n",
       "      <td>Chemist</td>\n",
       "    </tr>\n",
       "    <tr>\n",
       "      <th>4</th>\n",
       "      <td>Rachel Carson</td>\n",
       "      <td>1907-05-27</td>\n",
       "      <td>1964-04-14</td>\n",
       "      <td>56</td>\n",
       "      <td>Biologist</td>\n",
       "    </tr>\n",
       "    <tr>\n",
       "      <th>5</th>\n",
       "      <td>John Snow</td>\n",
       "      <td>1813-03-15</td>\n",
       "      <td>1858-06-16</td>\n",
       "      <td>45</td>\n",
       "      <td>Physician</td>\n",
       "    </tr>\n",
       "    <tr>\n",
       "      <th>6</th>\n",
       "      <td>Alan Turing</td>\n",
       "      <td>1912-06-23</td>\n",
       "      <td>1954-06-07</td>\n",
       "      <td>41</td>\n",
       "      <td>Computer Scientist</td>\n",
       "    </tr>\n",
       "    <tr>\n",
       "      <th>7</th>\n",
       "      <td>Johann Gauss</td>\n",
       "      <td>1777-04-30</td>\n",
       "      <td>1855-02-23</td>\n",
       "      <td>77</td>\n",
       "      <td>Mathematician</td>\n",
       "    </tr>\n",
       "  </tbody>\n",
       "</table>\n",
       "</div>"
      ],
      "text/plain": [
       "                   Name        Born        Died  Age          Occupation\n",
       "0     Rosaline Franklin  1920-07-25  1958-04-16   37             Chemist\n",
       "1        William Gosset  1876-06-13  1937-10-16   61        Statistician\n",
       "2  Florence Nightingale  1820-05-12  1910-08-13   90               Nurse\n",
       "3           Marie Curie  1867-11-07  1934-07-04   66             Chemist\n",
       "4         Rachel Carson  1907-05-27  1964-04-14   56           Biologist\n",
       "5             John Snow  1813-03-15  1858-06-16   45           Physician\n",
       "6           Alan Turing  1912-06-23  1954-06-07   41  Computer Scientist\n",
       "7          Johann Gauss  1777-04-30  1855-02-23   77       Mathematician"
      ]
     },
     "execution_count": 5,
     "metadata": {},
     "output_type": "execute_result"
    }
   ],
   "source": [
    "s=pd.read_csv('data/scientists.csv')\n",
    "s"
   ]
  },
  {
   "cell_type": "code",
   "execution_count": 6,
   "id": "a22f40d3",
   "metadata": {},
   "outputs": [
    {
     "name": "stdout",
     "output_type": "stream",
     "text": [
      "mean 59.125\n",
      "max 90\n"
     ]
    }
   ],
   "source": [
    "ages=s['Age']\n",
    "print('mean',ages.mean())\n",
    "print('max',ages.max())"
   ]
  },
  {
   "cell_type": "code",
   "execution_count": 7,
   "id": "161b6508",
   "metadata": {},
   "outputs": [
    {
     "name": "stdout",
     "output_type": "stream",
     "text": [
      "[0    False\n",
      "1     True\n",
      "2     True\n",
      "3     True\n",
      "4    False\n",
      "5    False\n",
      "6    False\n",
      "7     True\n",
      "Name: Age, dtype: bool]\n",
      "1    61\n",
      "2    90\n",
      "3    66\n",
      "7    77\n",
      "Name: Age, dtype: int64\n",
      "                   Name  Age\n",
      "1        William Gosset   61\n",
      "2  Florence Nightingale   90\n",
      "3           Marie Curie   66\n",
      "7          Johann Gauss   77\n"
     ]
    }
   ],
   "source": [
    "# 평균보다 나이가 많은 사람만 추출\n",
    "print([ages>ages.mean()])\n",
    "print(ages[ages>ages.mean()])\n",
    "print(s.loc[ages[ages>ages.mean()].index,['Name','Age']])"
   ]
  },
  {
   "cell_type": "code",
   "execution_count": 8,
   "id": "97d8c146",
   "metadata": {},
   "outputs": [
    {
     "name": "stdout",
     "output_type": "stream",
     "text": [
      "                   Name        Born        Died  Age     Occupation\n",
      "1        William Gosset  1876-06-13  1937-10-16   61   Statistician\n",
      "2  Florence Nightingale  1820-05-12  1910-08-13   90          Nurse\n",
      "3           Marie Curie  1867-11-07  1934-07-04   66        Chemist\n",
      "7          Johann Gauss  1777-04-30  1855-02-23   77  Mathematician\n"
     ]
    }
   ],
   "source": [
    "#평균 연령보다 높은 행만 출력\n",
    "\n",
    "print(s[s['Age']>s['Age'].mean()])"
   ]
  },
  {
   "cell_type": "code",
   "execution_count": 9,
   "id": "4c90c7ac",
   "metadata": {},
   "outputs": [
    {
     "name": "stdout",
     "output_type": "stream",
     "text": [
      "0     74\n",
      "1    122\n",
      "2    180\n",
      "3    132\n",
      "4    112\n",
      "5     90\n",
      "6     82\n",
      "7    154\n",
      "Name: Age, dtype: int64 0    1369\n",
      "1    3721\n",
      "2    8100\n",
      "3    4356\n",
      "4    3136\n",
      "5    2025\n",
      "6    1681\n",
      "7    5929\n",
      "Name: Age, dtype: int64\n"
     ]
    }
   ],
   "source": [
    "# 시리즈와 브로드캐스팅\n",
    "print(ages+ages,ages*ages)"
   ]
  },
  {
   "cell_type": "code",
   "execution_count": 10,
   "id": "6f88e7e8",
   "metadata": {},
   "outputs": [
    {
     "data": {
      "text/plain": [
       "7    77\n",
       "6    41\n",
       "5    45\n",
       "4    56\n",
       "3    66\n",
       "2    90\n",
       "1    61\n",
       "0    37\n",
       "Name: Age, dtype: int64"
      ]
     },
     "execution_count": 10,
     "metadata": {},
     "output_type": "execute_result"
    }
   ],
   "source": [
    "# sort_index\n",
    "rev_ages=ages.sort_index(ascending=False)   #ascending=False : index의 역순\n",
    "rev_ages"
   ]
  },
  {
   "cell_type": "code",
   "execution_count": 11,
   "id": "01112ad8",
   "metadata": {
    "scrolled": true
   },
   "outputs": [
    {
     "name": "stdout",
     "output_type": "stream",
     "text": [
      "0     74\n",
      "1    122\n",
      "2    180\n",
      "3    132\n",
      "4    112\n",
      "5     90\n",
      "6     82\n",
      "7    154\n",
      "Name: Age, dtype: int64\n"
     ]
    }
   ],
   "source": [
    "### \n",
    "print(ages+rev_ages)     # 동일한 인덱스끼리 연산!"
   ]
  },
  {
   "cell_type": "markdown",
   "id": "70defbb2",
   "metadata": {},
   "source": [
    "---\n",
    "4. 데이터프레임 다루기"
   ]
  },
  {
   "cell_type": "code",
   "execution_count": 12,
   "id": "a143b837",
   "metadata": {},
   "outputs": [
    {
     "name": "stdout",
     "output_type": "stream",
     "text": [
      "                   Name        Born        Died  Age     Occupation\n",
      "1        William Gosset  1876-06-13  1937-10-16   61   Statistician\n",
      "2  Florence Nightingale  1820-05-12  1910-08-13   90          Nurse\n",
      "3           Marie Curie  1867-11-07  1934-07-04   66        Chemist\n",
      "7          Johann Gauss  1777-04-30  1855-02-23   77  Mathematician\n"
     ]
    }
   ],
   "source": [
    "s=pd.read_csv('data/scientists.csv')\n",
    "# 불린 추출\n",
    "print(s[s['Age']>s['Age'].mean()])    # age열에서 평균 age보다 높은 행만 출력"
   ]
  },
  {
   "cell_type": "markdown",
   "id": "d724659c",
   "metadata": {},
   "source": [
    "---\n",
    "5. 데이터 처리하기"
   ]
  },
  {
   "cell_type": "code",
   "execution_count": 13,
   "id": "2dd03d5b",
   "metadata": {},
   "outputs": [
    {
     "name": "stdout",
     "output_type": "stream",
     "text": [
      "object\n",
      "object\n"
     ]
    }
   ],
   "source": [
    "s=pd.read_csv('data/scientists.csv')\n",
    "print(s['Born'].dtype)\n",
    "print(s['Died'].dtype)"
   ]
  },
  {
   "cell_type": "code",
   "execution_count": 14,
   "id": "0746c2b5",
   "metadata": {},
   "outputs": [
    {
     "name": "stdout",
     "output_type": "stream",
     "text": [
      "0   1920-07-25\n",
      "1   1876-06-13\n",
      "2   1820-05-12\n",
      "3   1867-11-07\n",
      "4   1907-05-27\n",
      "5   1813-03-15\n",
      "6   1912-06-23\n",
      "7   1777-04-30\n",
      "Name: Born, dtype: datetime64[ns]\n",
      "0   1958-04-16\n",
      "1   1937-10-16\n",
      "2   1910-08-13\n",
      "3   1934-07-04\n",
      "4   1964-04-14\n",
      "5   1858-06-16\n",
      "6   1954-06-07\n",
      "7   1855-02-23\n",
      "Name: Died, dtype: datetime64[ns]\n",
      "                   Name        Born        Died  Age    Occupation    born_dt  \\\n",
      "0     Rosaline Franklin  1920-07-25  1958-04-16   37       Chemist 1920-07-25   \n",
      "1        William Gosset  1876-06-13  1937-10-16   61  Statistician 1876-06-13   \n",
      "2  Florence Nightingale  1820-05-12  1910-08-13   90         Nurse 1820-05-12   \n",
      "3           Marie Curie  1867-11-07  1934-07-04   66       Chemist 1867-11-07   \n",
      "4         Rachel Carson  1907-05-27  1964-04-14   56     Biologist 1907-05-27   \n",
      "\n",
      "     died_dt  \n",
      "0 1958-04-16  \n",
      "1 1937-10-16  \n",
      "2 1910-08-13  \n",
      "3 1934-07-04  \n",
      "4 1964-04-14  \n",
      "                   Name        Born        Died  Age    Occupation    born_dt  \\\n",
      "0     Rosaline Franklin  1920-07-25  1958-04-16   37       Chemist 1920-07-25   \n",
      "1        William Gosset  1876-06-13  1937-10-16   61  Statistician 1876-06-13   \n",
      "2  Florence Nightingale  1820-05-12  1910-08-13   90         Nurse 1820-05-12   \n",
      "3           Marie Curie  1867-11-07  1934-07-04   66       Chemist 1867-11-07   \n",
      "4         Rachel Carson  1907-05-27  1964-04-14   56     Biologist 1907-05-27   \n",
      "\n",
      "     died_dt   die-born  \n",
      "0 1958-04-16 13779 days  \n",
      "1 1937-10-16 22404 days  \n",
      "2 1910-08-13 32964 days  \n",
      "3 1934-07-04 24345 days  \n",
      "4 1964-04-14 20777 days  \n"
     ]
    }
   ],
   "source": [
    "# object 형을 datetime으로 변경\n",
    "born=pd.to_datetime(s['Born'],format='%Y-%m-%d')\n",
    "print(born)\n",
    "die=pd.to_datetime(s['Died'],format='%Y-%m-%d')\n",
    "print(die)\n",
    "# 원래 데이터 프레임에 추가\n",
    "s['born_dt'],s['died_dt']=born,die\n",
    "print(s.head())\n",
    "#datetime끼리 계산\n",
    "s['die-born']=s['died_dt']-s['born_dt']\n",
    "print(s.head())"
   ]
  },
  {
   "cell_type": "code",
   "execution_count": 15,
   "id": "b5528948",
   "metadata": {},
   "outputs": [
    {
     "name": "stdout",
     "output_type": "stream",
     "text": [
      "0    37\n",
      "1    61\n",
      "2    90\n",
      "3    66\n",
      "4    56\n",
      "5    45\n",
      "6    41\n",
      "7    77\n",
      "Name: Age, dtype: int64\n",
      "0    66\n",
      "1    56\n",
      "2    41\n",
      "3    77\n",
      "4    90\n",
      "5    45\n",
      "6    37\n",
      "7    61\n",
      "Name: Age, dtype: int64\n"
     ]
    },
    {
     "name": "stderr",
     "output_type": "stream",
     "text": [
      "C:\\Users\\kk135\\Anaconda3\\envs\\bigdata\\lib\\random.py:307: SettingWithCopyWarning: \n",
      "A value is trying to be set on a copy of a slice from a DataFrame\n",
      "\n",
      "See the caveats in the documentation: https://pandas.pydata.org/pandas-docs/stable/user_guide/indexing.html#returning-a-view-versus-a-copy\n",
      "  x[i], x[j] = x[j], x[i]\n"
     ]
    }
   ],
   "source": [
    "# 데이터 섞기 random.shuffle\n",
    "import random\n",
    "\n",
    "print(s['Age'])\n",
    "random.seed(42)\n",
    "random.shuffle(s['Age'])\n",
    "print(s['Age'])"
   ]
  },
  {
   "cell_type": "code",
   "execution_count": 16,
   "id": "776f542e",
   "metadata": {},
   "outputs": [
    {
     "data": {
      "text/html": [
       "<div>\n",
       "<style scoped>\n",
       "    .dataframe tbody tr th:only-of-type {\n",
       "        vertical-align: middle;\n",
       "    }\n",
       "\n",
       "    .dataframe tbody tr th {\n",
       "        vertical-align: top;\n",
       "    }\n",
       "\n",
       "    .dataframe thead th {\n",
       "        text-align: right;\n",
       "    }\n",
       "</style>\n",
       "<table border=\"1\" class=\"dataframe\">\n",
       "  <thead>\n",
       "    <tr style=\"text-align: right;\">\n",
       "      <th></th>\n",
       "      <th>Name</th>\n",
       "      <th>Born</th>\n",
       "      <th>Died</th>\n",
       "      <th>Occupation</th>\n",
       "      <th>born_dt</th>\n",
       "      <th>died_dt</th>\n",
       "      <th>die-born</th>\n",
       "    </tr>\n",
       "  </thead>\n",
       "  <tbody>\n",
       "    <tr>\n",
       "      <th>0</th>\n",
       "      <td>Rosaline Franklin</td>\n",
       "      <td>1920-07-25</td>\n",
       "      <td>1958-04-16</td>\n",
       "      <td>Chemist</td>\n",
       "      <td>1920-07-25</td>\n",
       "      <td>1958-04-16</td>\n",
       "      <td>13779 days</td>\n",
       "    </tr>\n",
       "    <tr>\n",
       "      <th>1</th>\n",
       "      <td>William Gosset</td>\n",
       "      <td>1876-06-13</td>\n",
       "      <td>1937-10-16</td>\n",
       "      <td>Statistician</td>\n",
       "      <td>1876-06-13</td>\n",
       "      <td>1937-10-16</td>\n",
       "      <td>22404 days</td>\n",
       "    </tr>\n",
       "    <tr>\n",
       "      <th>2</th>\n",
       "      <td>Florence Nightingale</td>\n",
       "      <td>1820-05-12</td>\n",
       "      <td>1910-08-13</td>\n",
       "      <td>Nurse</td>\n",
       "      <td>1820-05-12</td>\n",
       "      <td>1910-08-13</td>\n",
       "      <td>32964 days</td>\n",
       "    </tr>\n",
       "    <tr>\n",
       "      <th>3</th>\n",
       "      <td>Marie Curie</td>\n",
       "      <td>1867-11-07</td>\n",
       "      <td>1934-07-04</td>\n",
       "      <td>Chemist</td>\n",
       "      <td>1867-11-07</td>\n",
       "      <td>1934-07-04</td>\n",
       "      <td>24345 days</td>\n",
       "    </tr>\n",
       "    <tr>\n",
       "      <th>4</th>\n",
       "      <td>Rachel Carson</td>\n",
       "      <td>1907-05-27</td>\n",
       "      <td>1964-04-14</td>\n",
       "      <td>Biologist</td>\n",
       "      <td>1907-05-27</td>\n",
       "      <td>1964-04-14</td>\n",
       "      <td>20777 days</td>\n",
       "    </tr>\n",
       "    <tr>\n",
       "      <th>5</th>\n",
       "      <td>John Snow</td>\n",
       "      <td>1813-03-15</td>\n",
       "      <td>1858-06-16</td>\n",
       "      <td>Physician</td>\n",
       "      <td>1813-03-15</td>\n",
       "      <td>1858-06-16</td>\n",
       "      <td>16529 days</td>\n",
       "    </tr>\n",
       "    <tr>\n",
       "      <th>6</th>\n",
       "      <td>Alan Turing</td>\n",
       "      <td>1912-06-23</td>\n",
       "      <td>1954-06-07</td>\n",
       "      <td>Computer Scientist</td>\n",
       "      <td>1912-06-23</td>\n",
       "      <td>1954-06-07</td>\n",
       "      <td>15324 days</td>\n",
       "    </tr>\n",
       "    <tr>\n",
       "      <th>7</th>\n",
       "      <td>Johann Gauss</td>\n",
       "      <td>1777-04-30</td>\n",
       "      <td>1855-02-23</td>\n",
       "      <td>Mathematician</td>\n",
       "      <td>1777-04-30</td>\n",
       "      <td>1855-02-23</td>\n",
       "      <td>28422 days</td>\n",
       "    </tr>\n",
       "  </tbody>\n",
       "</table>\n",
       "</div>"
      ],
      "text/plain": [
       "                   Name        Born        Died          Occupation  \\\n",
       "0     Rosaline Franklin  1920-07-25  1958-04-16             Chemist   \n",
       "1        William Gosset  1876-06-13  1937-10-16        Statistician   \n",
       "2  Florence Nightingale  1820-05-12  1910-08-13               Nurse   \n",
       "3           Marie Curie  1867-11-07  1934-07-04             Chemist   \n",
       "4         Rachel Carson  1907-05-27  1964-04-14           Biologist   \n",
       "5             John Snow  1813-03-15  1858-06-16           Physician   \n",
       "6           Alan Turing  1912-06-23  1954-06-07  Computer Scientist   \n",
       "7          Johann Gauss  1777-04-30  1855-02-23       Mathematician   \n",
       "\n",
       "     born_dt    died_dt   die-born  \n",
       "0 1920-07-25 1958-04-16 13779 days  \n",
       "1 1876-06-13 1937-10-16 22404 days  \n",
       "2 1820-05-12 1910-08-13 32964 days  \n",
       "3 1867-11-07 1934-07-04 24345 days  \n",
       "4 1907-05-27 1964-04-14 20777 days  \n",
       "5 1813-03-15 1858-06-16 16529 days  \n",
       "6 1912-06-23 1954-06-07 15324 days  \n",
       "7 1777-04-30 1855-02-23 28422 days  "
      ]
     },
     "execution_count": 16,
     "metadata": {},
     "output_type": "execute_result"
    }
   ],
   "source": [
    "#열 삭제 drop\n",
    "deled_s=s.drop(['Age'],axis=1)\n",
    "deled_s"
   ]
  },
  {
   "cell_type": "markdown",
   "id": "dd44f203",
   "metadata": {},
   "source": [
    "---\n",
    "6. 데이터 저장하고 불러오기"
   ]
  },
  {
   "cell_type": "code",
   "execution_count": 17,
   "id": "35a1bbd7",
   "metadata": {},
   "outputs": [
    {
     "data": {
      "text/plain": [
       "0       Rosaline Franklin\n",
       "1          William Gosset\n",
       "2    Florence Nightingale\n",
       "3             Marie Curie\n",
       "4           Rachel Carson\n",
       "5               John Snow\n",
       "6             Alan Turing\n",
       "7            Johann Gauss\n",
       "Name: Name, dtype: object"
      ]
     },
     "execution_count": 17,
     "metadata": {},
     "output_type": "execute_result"
    }
   ],
   "source": [
    "# 데이터 저장 pickle\n",
    "names=s['Name']\n",
    "names.to_pickle('./out.pickle')\n",
    "load_s=pd.read_pickle('./out.pickle')\n",
    "load_s"
   ]
  },
  {
   "cell_type": "code",
   "execution_count": 18,
   "id": "9f091471",
   "metadata": {},
   "outputs": [],
   "source": [
    "# csv로 저장\n",
    "names.to_csv('./out.csv')"
   ]
  },
  {
   "cell_type": "code",
   "execution_count": 19,
   "id": "f40e186b",
   "metadata": {},
   "outputs": [],
   "source": [
    "# tsv로 저장\n",
    "names.to_csv('./out.tsv',sep='\\t')"
   ]
  }
 ],
 "metadata": {
  "kernelspec": {
   "display_name": "Python 3 (ipykernel)",
   "language": "python",
   "name": "python3"
  },
  "language_info": {
   "codemirror_mode": {
    "name": "ipython",
    "version": 3
   },
   "file_extension": ".py",
   "mimetype": "text/x-python",
   "name": "python",
   "nbconvert_exporter": "python",
   "pygments_lexer": "ipython3",
   "version": "3.8.12"
  }
 },
 "nbformat": 4,
 "nbformat_minor": 5
}

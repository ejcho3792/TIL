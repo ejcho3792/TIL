{
 "cells": [
  {
   "cell_type": "markdown",
   "id": "6d549617",
   "metadata": {},
   "source": [
    "# 자료형"
   ]
  },
  {
   "cell_type": "markdown",
   "id": "d6af409b",
   "metadata": {},
   "source": [
    "변수 : 값을 저장하기 위한 객체\n",
    "\n",
    "    - 변수의 명명 규칙 : 대소 구분, 숫자 시작 불가(숫자 포함 가능), 특수기호 삽입 불가(_ 가능)\n",
    "    \n",
    "    - 예약어(함수명, 함수내 인자명, 패키지 이름, ..., if, for, while)\n",
    "    \n",
    "모듈(module)\n",
    "\n",
    "    - 패키지(함수의 묶음)\n",
    "    - import라는 함수로 모듈 호출(로딩)"
   ]
  },
  {
   "cell_type": "markdown",
   "id": "a59a6713",
   "metadata": {},
   "source": [
    "### 숫자형"
   ]
  },
  {
   "cell_type": "code",
   "execution_count": 1,
   "id": "dd4c6093",
   "metadata": {},
   "outputs": [],
   "source": [
    "# 정수형(Integer)\n",
    "\n",
    "a=123\n",
    "a=-123"
   ]
  },
  {
   "cell_type": "code",
   "execution_count": 2,
   "id": "588cdac1",
   "metadata": {},
   "outputs": [],
   "source": [
    "# 실수형(Floating_point)\n",
    "\n",
    "a=1.23\n",
    "a=-1.23"
   ]
  },
  {
   "cell_type": "code",
   "execution_count": 3,
   "id": "f4d6ae92",
   "metadata": {},
   "outputs": [],
   "source": [
    "# 컴퓨터식 지수 표현 방식\n",
    "\n",
    "a=1.23e-10    # 1.23*10^-10"
   ]
  },
  {
   "cell_type": "code",
   "execution_count": 4,
   "id": "7e5b8bc1",
   "metadata": {},
   "outputs": [
    {
     "name": "stdout",
     "output_type": "stream",
     "text": [
      "83 2748\n"
     ]
    }
   ],
   "source": [
    "# 8진수와 16진수\n",
    "\n",
    "a=0o123    # 0o 또는 0O로 시작하면 8진수\n",
    "b=0xabc    # 0x로 시작하면 16진수\n",
    "print(a, b)"
   ]
  },
  {
   "cell_type": "code",
   "execution_count": 5,
   "id": "b11da8e8",
   "metadata": {},
   "outputs": [
    {
     "name": "stdout",
     "output_type": "stream",
     "text": [
      "a+b = 7\n",
      "a-b = -1\n",
      "a*b = 12\n",
      "a/b = 0.75\n"
     ]
    }
   ],
   "source": [
    "# 사칙연산\n",
    "\n",
    "a=3\n",
    "b=4\n",
    "print('a+b =', a+b)\n",
    "print('a-b =', a-b)\n",
    "print('a*b =', a*b)\n",
    "print('a/b =', a/b)"
   ]
  },
  {
   "cell_type": "code",
   "execution_count": 6,
   "id": "d63ed1ea",
   "metadata": {},
   "outputs": [
    {
     "name": "stdout",
     "output_type": "stream",
     "text": [
      "a의 b제곱 = 81\n"
     ]
    },
    {
     "data": {
      "text/plain": [
       "81.0"
      ]
     },
     "execution_count": 6,
     "metadata": {},
     "output_type": "execute_result"
    }
   ],
   "source": [
    "# 제곱\n",
    "print('a의 b제곱 =', a**b)\n",
    "#or \n",
    "import math\n",
    "math.pow(a,b)"
   ]
  },
  {
   "cell_type": "code",
   "execution_count": 7,
   "id": "f8fb9f9b",
   "metadata": {},
   "outputs": [
    {
     "name": "stdout",
     "output_type": "stream",
     "text": [
      "7/3의 나머지 = 1\n",
      "3/7의 나머지 = 3\n"
     ]
    }
   ],
   "source": [
    "# 나눗셈의 나머지 반환\n",
    "\n",
    "print('7/3의 나머지 =', 7%3)\n",
    "print('3/7의 나머지 =', 3%7)"
   ]
  },
  {
   "cell_type": "code",
   "execution_count": 8,
   "id": "8e6a985b",
   "metadata": {},
   "outputs": [
    {
     "name": "stdout",
     "output_type": "stream",
     "text": [
      "7/3의 몫 = 2\n",
      "3/7의 몫 = 0\n"
     ]
    }
   ],
   "source": [
    "# 나눗셈의 몫 반환\n",
    "\n",
    "print('7/3의 몫 =', 7//3)\n",
    "print('3/7의 몫 =', 3//7)"
   ]
  },
  {
   "cell_type": "markdown",
   "id": "3c5ed90c",
   "metadata": {},
   "source": [
    "### 문자열"
   ]
  },
  {
   "cell_type": "code",
   "execution_count": 9,
   "id": "d74680e2",
   "metadata": {},
   "outputs": [
    {
     "name": "stdout",
     "output_type": "stream",
     "text": [
      "Hello Hello Hello Hello\n"
     ]
    }
   ],
   "source": [
    "# 문자열 생성 방법\n",
    "    \n",
    "a=\"Hello\"     # 1. 큰따옴표\n",
    "b='Hello'     # 2. 작은따옴표\n",
    "c=\"\"\"Hello\"\"\" # 3. 큰따옴표 세개\n",
    "d='''Hello''' # 4. 작은따옴표 세개\n",
    "print(a,b,c,d)"
   ]
  },
  {
   "cell_type": "code",
   "execution_count": 10,
   "id": "155719af",
   "metadata": {},
   "outputs": [
    {
     "name": "stdout",
     "output_type": "stream",
     "text": [
      "'Hello'\n",
      "\"Hello\"\n",
      "\"hello'\n"
     ]
    }
   ],
   "source": [
    "# 문자열 안에 작은따옴표 혹은 큰따옴표를 포함시키기\n",
    "# 작은따옴표 포함\n",
    "a=\"'Hello'\"\n",
    "print(a)\n",
    "# 큰따옴표 포함\n",
    "a='\"Hello\"'\n",
    "print(a)\n",
    "# 백슬래시 사용\n",
    "a='\\\"hello\\''\n",
    "print(a)"
   ]
  },
  {
   "cell_type": "code",
   "execution_count": 11,
   "id": "284e8ffe",
   "metadata": {},
   "outputs": [
    {
     "name": "stdout",
     "output_type": "stream",
     "text": [
      "Hello\n",
      "Hi\n",
      "Hello\n",
      "Hi\n",
      "Hello\n",
      "Hi\n"
     ]
    }
   ],
   "source": [
    "# 여러줄의 문자열 생성\n",
    "a='Hello\\nHi'    # \\n : 줄바꿈\n",
    "print(a)\n",
    "a='''Hello\n",
    "Hi'''\n",
    "print(a)\n",
    "a=\"\"\"Hello\n",
    "Hi\"\"\"\n",
    "print(a)"
   ]
  },
  {
   "cell_type": "code",
   "execution_count": 12,
   "id": "d3960859",
   "metadata": {},
   "outputs": [
    {
     "name": "stdout",
     "output_type": "stream",
     "text": [
      "Hello\n",
      "world\n",
      "Hello\tworld\n",
      "Hello\\world\n",
      "Hello'world\n",
      "Hello\"world\n",
      "Hello\r",
      "world\n",
      "Hello\f",
      "world\n"
     ]
    }
   ],
   "source": [
    "# 이스케이프 코드\n",
    "print('Hello\\nworld')        # \\n : 줄바꿈\n",
    "print('Hello\\tworld')        # \\t : 탭키\n",
    "print('Hello\\\\world')        # \\\\ : \\표현\n",
    "print('Hello\\'world')        # \\' : '표현\n",
    "print('Hello\\\"world')        # \\\": \"표현\n",
    "print('Hello\\rworld')        # \\r: 커서를 다시 앞으로 이동\n",
    "print('Hello\\fworld')        # \\f: 커서를 다음줄로 이동"
   ]
  },
  {
   "cell_type": "code",
   "execution_count": 13,
   "id": "e6741d23",
   "metadata": {},
   "outputs": [
    {
     "name": "stdout",
     "output_type": "stream",
     "text": [
      "Helloworld\n",
      "HelloHello\n",
      "====================\n"
     ]
    }
   ],
   "source": [
    "# 문자열 연산\n",
    "# 더하기\n",
    "a='Hello'\n",
    "b='world'\n",
    "print(a+b)\n",
    "# 곱하기\n",
    "print(a*2)\n",
    "print('='*20)"
   ]
  },
  {
   "cell_type": "code",
   "execution_count": 14,
   "id": "7e4aa309",
   "metadata": {},
   "outputs": [
    {
     "data": {
      "text/plain": [
       "11"
      ]
     },
     "execution_count": 14,
     "metadata": {},
     "output_type": "execute_result"
    }
   ],
   "source": [
    "# 문자열 길이 구하기\n",
    "a='hello world'\n",
    "len(a)"
   ]
  },
  {
   "cell_type": "code",
   "execution_count": 15,
   "id": "5f4f3b59",
   "metadata": {
    "scrolled": true
   },
   "outputs": [
    {
     "name": "stdout",
     "output_type": "stream",
     "text": [
      "hello 123 hi\n",
      "hello one two three hi\n",
      "hello 123 hi\n",
      "hello 123 one two three hi\n"
     ]
    }
   ],
   "source": [
    "# 문자열 포매팅\n",
    "print('hello %d hi'%123)\n",
    "print('hello %s hi'%'one two three')\n",
    "a=123\n",
    "b='one two three'\n",
    "print('hello %d hi'%a)\n",
    "print('hello %d %s hi'%(a,b))"
   ]
  },
  {
   "cell_type": "code",
   "execution_count": 16,
   "id": "7419f96a",
   "metadata": {
    "scrolled": true
   },
   "outputs": [
    {
     "name": "stdout",
     "output_type": "stream",
     "text": [
      "accuracy : 100%\n",
      "     hello\n",
      "hello     hi\n"
     ]
    }
   ],
   "source": [
    "# %와 %d\n",
    "print('accuracy : %d%%'%100)\n",
    "# 정렬과 공백\n",
    "print('%10s'%'hello')     # 오른쪽 정렬 하고 앞의 10자리 공백\n",
    "print('%-10shi'%'hello')  # hello를 왼쪽 정렬하고 10자리 공백 후 뒤에 문장 출력"
   ]
  },
  {
   "cell_type": "code",
   "execution_count": 17,
   "id": "f9951e89",
   "metadata": {},
   "outputs": [
    {
     "name": "stdout",
     "output_type": "stream",
     "text": [
      "1.2346\n",
      "    1.2346\n"
     ]
    }
   ],
   "source": [
    "# 소수점 표현\n",
    "print('%.4f'%1.23456789)   # 소수점 네자리까지만 나타냄\n",
    "print('%10.4f'%1.23456789) # 열칸 오른쪽 정렬하고 소수점 네자리 까지만"
   ]
  },
  {
   "cell_type": "code",
   "execution_count": 18,
   "id": "c3bd0446",
   "metadata": {
    "scrolled": true
   },
   "outputs": [
    {
     "name": "stdout",
     "output_type": "stream",
     "text": [
      "hello 123 hi\n",
      "hello one two three hi\n",
      "hello 123 hi\n",
      "hello 123 one two three hi\n",
      "hello 123 one two three hi\n",
      "hello     \n",
      "     hello\n",
      "  hello   \n",
      "==hello===\n",
      "hello!!!!!\n",
      "1.2346\n",
      "    1.2346\n",
      "{Hello}\n"
     ]
    }
   ],
   "source": [
    "# format 함수\n",
    "a=123\n",
    "b='one two three'\n",
    "print('hello {0} hi'.format(123))\n",
    "print('hello {0} hi'.format('one two three'))\n",
    "print('hello {0} hi'.format(a))\n",
    "print('hello {0} {1} hi'.format(a,b))\n",
    "print('hello {num} {str} hi'.format(num=123,str='one two three'))\n",
    "# 정렬\n",
    "print('{0:<10}'.format('hello'))    # 왼쪽 정렬\n",
    "print('{0:>10}'.format('hello'))    # 오른쪽 정렬\n",
    "print('{0:^10}'.format('hello'))    # 가운데 정렬\n",
    "# 공백 채우기\n",
    "print(\"{0:=^10}\".format(\"hello\"))   # 가운데 정렬하고 빈공간은 =로 채우기\n",
    "print(\"{0:!<10}\".format(\"hello\"))   # 왼쪽 정렬하고 빈공간은 !로 채우기\n",
    "# 소수점\n",
    "a=1.23456789\n",
    "print('{0:0.4f}'.format(a))\n",
    "print('{0:10.4f}'.format(a))\n",
    "# { 또는 } 표현\n",
    "print('{{Hello}}'.format())"
   ]
  },
  {
   "cell_type": "code",
   "execution_count": 19,
   "id": "8cfb7935",
   "metadata": {},
   "outputs": [
    {
     "name": "stdout",
     "output_type": "stream",
     "text": [
      "str is one, and int is 1\n",
      "next int is 2\n",
      "str is one, and int is 1\n"
     ]
    }
   ],
   "source": [
    "# f 문자열 포매팅\n",
    "# 문자열 앞에 f를 붙여서 사용\n",
    "a='one'\n",
    "b=1\n",
    "print(f'str is {a}, and int is {b}')\n",
    "print(f'next int is {b+1}')\n",
    "# 딕셔너리\n",
    "a={'str':'one','int':1}\n",
    "print(f'str is {a[\"str\"]}, and int is {a[\"int\"]}')"
   ]
  },
  {
   "cell_type": "code",
   "execution_count": 20,
   "id": "ef6cfdbb",
   "metadata": {},
   "outputs": [
    {
     "name": "stdout",
     "output_type": "stream",
     "text": [
      "hi        \n",
      "        hi\n",
      "    hi    \n",
      "====hi====\n",
      "hi!!!!!!!!\n",
      "1.2346\n",
      "    1.2346\n"
     ]
    }
   ],
   "source": [
    "# 정렬\n",
    "print(f'{\"hi\":<10}')  # 왼쪽 정렬\n",
    "print(f'{\"hi\":>10}')  # 오른쪽 정렬\n",
    "print(f'{\"hi\":^10}')  # 가운데 정렬\n",
    "print(f'{\"hi\":=^10}')\n",
    "print(f'{\"hi\":!<10}')\n",
    "a = 1.23456789\n",
    "print(f'{a:0.4f}')\n",
    "print(f'{a:10.4f}')"
   ]
  },
  {
   "cell_type": "code",
   "execution_count": 21,
   "id": "1a83f04a",
   "metadata": {},
   "outputs": [
    {
     "name": "stdout",
     "output_type": "stream",
     "text": [
      "1\n",
      "2\n",
      "2\n",
      "a,b,c,d,e\n",
      "ABCDE\n",
      "abcde\n",
      "Abcde\n",
      "a  b  C  d  E     \n",
      "        a  b  C  d  E\n",
      "a  b  C  d  E\n",
      "AAAbcde\n",
      "['a', 'b', 'C', 'd', 'E']\n",
      "['1', '2', '3', '4', '5']\n"
     ]
    }
   ],
   "source": [
    "# 문자열 관련 함수\n",
    "# count : 문자 개수 세기\n",
    "a='abcde'\n",
    "b='aBcDe'\n",
    "c='        a  b  C  d  E     '\n",
    "d='1,2,3,4,5'\n",
    "print(a.count('c'))\n",
    "print(a.find('c'))           # 찾으려는 문자열이 없으면 -1 반환\n",
    "print(a.index('c'))          # 찾으려는 문자열이 없으면 에러남\n",
    "print(','.join(a))           # 문자 사이에 , 삽입\n",
    "print(a.upper())             # 대문자로 변환\n",
    "print(b.lower())             # 소문자로 변환\n",
    "print(b.title())             # 열 첫자만 대문자로\n",
    "print(c.lstrip())            # 왼쪽 공백 지우기\n",
    "print(c.rstrip())            # 오른쪽 공백 지우기\n",
    "print(c.strip())             # 양쪽 공백 지우기\n",
    "print(a.replace('a','AAA'))  # 문자열 바꾸기\n",
    "print(c.split())             # 문자열 나누기\n",
    "print(d.split(','))          # ,를 구분자로 문자열을 나누어줌"
   ]
  },
  {
   "cell_type": "markdown",
   "id": "8a30f1c5",
   "metadata": {},
   "source": [
    "### 리스트"
   ]
  },
  {
   "cell_type": "code",
   "execution_count": 22,
   "id": "09a820fd",
   "metadata": {},
   "outputs": [],
   "source": [
    "a=[1,3,5]\n",
    "b=['one','three','five']\n",
    "ab=[1,3,5,['one','three','five']]"
   ]
  },
  {
   "cell_type": "code",
   "execution_count": 23,
   "id": "6c7df486",
   "metadata": {
    "scrolled": true
   },
   "outputs": [
    {
     "name": "stdout",
     "output_type": "stream",
     "text": [
      "1\n",
      "6\n",
      "['one', 'three', 'five']\n",
      "three\n"
     ]
    }
   ],
   "source": [
    "# 인덱싱\n",
    "print(a[0])\n",
    "print(a[0]+a[-1])\n",
    "print(ab[-1])\n",
    "print(ab[-1][1])"
   ]
  },
  {
   "cell_type": "code",
   "execution_count": 24,
   "id": "d63d8fd1",
   "metadata": {},
   "outputs": [
    {
     "name": "stdout",
     "output_type": "stream",
     "text": [
      "[1, 3]\n",
      "[5]\n"
     ]
    }
   ],
   "source": [
    "# 슬라이싱\n",
    "print(a[0:2])\n",
    "print(a[2:])"
   ]
  },
  {
   "cell_type": "code",
   "execution_count": 25,
   "id": "3aea38af",
   "metadata": {},
   "outputs": [
    {
     "name": "stdout",
     "output_type": "stream",
     "text": [
      "[1, 3, 5, 'one', 'three', 'five']\n",
      "[1, 3, 5, 1, 3, 5]\n",
      "3\n"
     ]
    }
   ],
   "source": [
    "# 리스트의 연산\n",
    "print(a+b)\n",
    "print(a*2)\n",
    "print(len(a))"
   ]
  },
  {
   "cell_type": "code",
   "execution_count": 26,
   "id": "fb531145",
   "metadata": {},
   "outputs": [
    {
     "name": "stdout",
     "output_type": "stream",
     "text": [
      "[1, 2, 3, 4, 5, 6, 7, 8, 6]\n",
      "[1, 2, 3, 4, 5, 6, 7, 8]\n",
      "[1, 2]\n",
      "[1, 2, 3, 5, 6, 7, 8, 9]\n",
      "[1, 2, 3, 5, 6, 7, 8, 9, 3]\n",
      "[1, 2, 3, 4, 5, 6]\n",
      "[6, 4, 2, 5, 3, 1]\n",
      "3\n",
      "[100, 6, 4, 2, 5, 3, 1]\n",
      "[100, 6, 4, 2, 5, 3]\n",
      "6\n",
      "[1, 2, 3, 1, 1, 1, 1, 2, 1, 3, 4, 5, 6]\n"
     ]
    }
   ],
   "source": [
    "a=[1,2,3,4,5,6,7,8,9]\n",
    "a[-1]=6           # 원소 수정\n",
    "print(a)\n",
    "\n",
    "del a[-1]         # del : 원소 삭제\n",
    "print(a)\n",
    "del a[2:]\n",
    "print(a)\n",
    "# or \n",
    "a=[1,2,3,4,5,6,7,8,9] # remove : 처음으로 나오는 4를 삭제.\n",
    "a.remove(4)\n",
    "print(a)\n",
    "\n",
    "a.append(3)       # append : 원소 추가\n",
    "print(a)\n",
    "\n",
    "a=[1,3,5,2,4,6]\n",
    "a.sort()          # sort : 정렬\n",
    "print(a)\n",
    "\n",
    "a=[1,3,5,2,4,6]\n",
    "a.reverse()      # reverse : 리스트 뒤집기( 역순 정렬 아님 )\n",
    "print(a)\n",
    "\n",
    "print(a.index(5)) # index : 리스트 속 위치 반환 (없으면 오류)\n",
    "\n",
    "a.insert(0,100)   # insert : 0번째 위치에 100을 삽입\n",
    "print(a)\n",
    "\n",
    "a.pop()          # pop : 리스트의 맨 마지막 요소를 반환하고 요소를 삭제\n",
    "print(a)\n",
    "\n",
    "a=[1,2,3,1,1,1,1,2,1,3]\n",
    "print(a.count(1))       # count : 요소의 갯수 반환\n",
    "\n",
    "a.extend([4,5,6])       # extend : 리스트 확장\n",
    "print(a)"
   ]
  },
  {
   "cell_type": "markdown",
   "id": "a21a50e3",
   "metadata": {},
   "source": [
    "### 튜플"
   ]
  },
  {
   "cell_type": "markdown",
   "id": "1879cc0b",
   "metadata": {},
   "source": [
    "()로 둘러싸임\n",
    "\n",
    "값을 바꿀 수 없다."
   ]
  },
  {
   "cell_type": "code",
   "execution_count": 27,
   "id": "0a4ff853",
   "metadata": {},
   "outputs": [],
   "source": [
    "t1 = ()\n",
    "t2 = (1,)\n",
    "t3 = (1, 2, 3)\n",
    "t4 = 1, 2, 3\n",
    "t5 = ('a', 'b', ('ab', 'cd'))"
   ]
  },
  {
   "cell_type": "code",
   "execution_count": 28,
   "id": "60546cd3",
   "metadata": {},
   "outputs": [
    {
     "name": "stdout",
     "output_type": "stream",
     "text": [
      "1\n",
      "(2, 'a', 'b')\n",
      "(1, 2, 'a', 'b', 3, 4)\n",
      "(1, 2, 'a', 'b', 1, 2, 'a', 'b', 1, 2, 'a', 'b')\n",
      "4\n"
     ]
    }
   ],
   "source": [
    "a=(1,2,'a','b')\n",
    "print(a[0])       # 인덱싱\n",
    "print(a[1:])      # 슬라이싱\n",
    "\n",
    "b = (3,4)\n",
    "print(a+b)        # 튜플 더하기\n",
    "print(a*3)        # 튜플 곱하기\n",
    "print(len(a))     # 튜플 길이 구하기"
   ]
  },
  {
   "cell_type": "markdown",
   "id": "2b13a8d3",
   "metadata": {},
   "source": [
    "### 딕셔너리"
   ]
  },
  {
   "cell_type": "code",
   "execution_count": 29,
   "id": "5de143f8",
   "metadata": {},
   "outputs": [
    {
     "name": "stdout",
     "output_type": "stream",
     "text": [
      "{'one': '1', 'two': 2, 'three': '3'}\n",
      "{'one': '1', 'two': 2, 'three': '3', 'four': '4'}\n",
      "{'one': '1', 'three': '3', 'four': '4'}\n",
      "1\n",
      "dict_keys(['one', 'three', 'four'])\n",
      "dict_values(['1', '3', '4'])\n",
      "dict_items([('one', '1'), ('three', '3'), ('four', '4')])\n",
      "{}\n",
      "1\n",
      "True\n",
      "False\n"
     ]
    }
   ],
   "source": [
    "a={'one':'1','two':2,'three':'3'}\n",
    "print(a)\n",
    "\n",
    "a['four']='4'                   # 딕셔너리 추가하기\n",
    "print(a)\n",
    "\n",
    "del a['two']                   # 딕셔너리 삭제하기\n",
    "print(a)\n",
    "\n",
    "print(a['one'])                # value 얻기\n",
    "\n",
    "print(a.keys())                # keys : key 리스트 얻기\n",
    "print(a.values())              # values : value 리스트 얻기\n",
    "print(a.items())               # items : 쌍 얻기\n",
    "a.clear()                      # clear : key, value 모두 지우기\n",
    "print(a)\n",
    "a={'one':'1','two':2,'three':'3'}\n",
    "print(a.get('one'))           # get : key로 value 얻기\n",
    "print('one' in a)             # in : 딕셔너리 안에 있는지 조사하기\n",
    "print('four' in a)"
   ]
  },
  {
   "cell_type": "markdown",
   "id": "bf432e0a",
   "metadata": {},
   "source": [
    "### 집합"
   ]
  },
  {
   "cell_type": "markdown",
   "id": "3741f663",
   "metadata": {},
   "source": [
    "- 중복을 허용하지 않음\n",
    "- 순서가 없음"
   ]
  },
  {
   "cell_type": "code",
   "execution_count": 30,
   "id": "659776b7",
   "metadata": {},
   "outputs": [
    {
     "name": "stdout",
     "output_type": "stream",
     "text": [
      "{1, 2, 3}\n",
      "{'h', 'l', 'o', 'e'}\n"
     ]
    }
   ],
   "source": [
    "a=set([1,2,3])\n",
    "b=set('hello')\n",
    "print(a)\n",
    "print(b)"
   ]
  },
  {
   "cell_type": "code",
   "execution_count": 31,
   "id": "e0f970b2",
   "metadata": {},
   "outputs": [
    {
     "name": "stdout",
     "output_type": "stream",
     "text": [
      "{3, 4}\n",
      "{3, 4}\n",
      "{1, 2, 3, 4, 5, 6}\n",
      "{1, 2, 3, 4, 5, 6}\n",
      "{1, 2}\n",
      "{1, 2}\n"
     ]
    }
   ],
   "source": [
    "# 집합 구하기\n",
    "a=set([1,2,3,4])\n",
    "b=set([3,4,5,6])\n",
    "print(a&b)                # 교집합\n",
    "print(a.intersection(b))  # 교집합\n",
    "print(a|b)                # 합집합\n",
    "print(a.union(b))         # 합집합\n",
    "print(a-b)                # 차집합\n",
    "print(a.difference(b))    # 차집합"
   ]
  },
  {
   "cell_type": "code",
   "execution_count": 32,
   "id": "81ba0f52",
   "metadata": {},
   "outputs": [
    {
     "name": "stdout",
     "output_type": "stream",
     "text": [
      "{1, 2, 3, 4, 5}\n",
      "{1, 2, 3, 4, 5, 6, 7, 8}\n",
      "{1, 2, 3, 4, 5, 6, 7}\n"
     ]
    }
   ],
   "source": [
    "a=set([1,2,3,4])\n",
    "a.add(5)                # add : 값 추가\n",
    "print(a)\n",
    "a.update([6,7,8])       # update : 값 여러개 추가\n",
    "print(a)\n",
    "a.remove(8)             # remove : 값 제거\n",
    "print(a)"
   ]
  },
  {
   "cell_type": "markdown",
   "id": "d6d3d5ff",
   "metadata": {},
   "source": [
    "### 불"
   ]
  },
  {
   "cell_type": "code",
   "execution_count": null,
   "id": "c3df2284",
   "metadata": {},
   "outputs": [],
   "source": []
  },
  {
   "cell_type": "markdown",
   "id": "c5ae66f8",
   "metadata": {},
   "source": [
    "### 변수"
   ]
  },
  {
   "cell_type": "code",
   "execution_count": null,
   "id": "9e3c70bc",
   "metadata": {},
   "outputs": [],
   "source": []
  },
  {
   "cell_type": "markdown",
   "id": "8a13d2a6",
   "metadata": {},
   "source": [
    "### EXE"
   ]
  },
  {
   "cell_type": "code",
   "execution_count": null,
   "id": "51f4def1",
   "metadata": {},
   "outputs": [],
   "source": []
  }
 ],
 "metadata": {
  "kernelspec": {
   "display_name": "Python 3 (ipykernel)",
   "language": "python",
   "name": "python3"
  },
  "language_info": {
   "codemirror_mode": {
    "name": "ipython",
    "version": 3
   },
   "file_extension": ".py",
   "mimetype": "text/x-python",
   "name": "python",
   "nbconvert_exporter": "python",
   "pygments_lexer": "ipython3",
   "version": "3.8.12"
  }
 },
 "nbformat": 4,
 "nbformat_minor": 5
}

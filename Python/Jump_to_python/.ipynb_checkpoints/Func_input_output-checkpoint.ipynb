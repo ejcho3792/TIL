{
 "cells": [
  {
   "cell_type": "markdown",
   "id": "a2300258",
   "metadata": {},
   "source": [
    "# 함수\n",
    "\n",
    "함수와 메서드\n",
    "\n",
    "메서드도 함수의 일부\n",
    "\n",
    "인수의 전달 방식이 다름"
   ]
  },
  {
   "cell_type": "markdown",
   "id": "18482d9b",
   "metadata": {},
   "source": [
    "### 함수\n",
    "\n",
    "def 함수명(매개변수):\n",
    "\n",
    "    수행문장\n",
    "    \n",
    "    수행문장\n",
    "    \n",
    "    ..."
   ]
  },
  {
   "cell_type": "code",
   "execution_count": 2,
   "id": "19399a34",
   "metadata": {},
   "outputs": [
    {
     "name": "stdout",
     "output_type": "stream",
     "text": [
      "7\n"
     ]
    }
   ],
   "source": [
    "def add(a, b):              # a,b는 매개변수\n",
    "    return a+b\n",
    "\n",
    "a,b=3,4\n",
    "print(add(a,b))             # 3,4는 인수"
   ]
  },
  {
   "cell_type": "code",
   "execution_count": null,
   "id": "0b16d76e",
   "metadata": {},
   "outputs": [],
   "source": []
  }
 ],
 "metadata": {
  "kernelspec": {
   "display_name": "Python 3 (ipykernel)",
   "language": "python",
   "name": "python3"
  },
  "language_info": {
   "codemirror_mode": {
    "name": "ipython",
    "version": 3
   },
   "file_extension": ".py",
   "mimetype": "text/x-python",
   "name": "python",
   "nbconvert_exporter": "python",
   "pygments_lexer": "ipython3",
   "version": "3.8.12"
  }
 },
 "nbformat": 4,
 "nbformat_minor": 5
}

{
 "cells": [
  {
   "cell_type": "markdown",
   "id": "c7b33530",
   "metadata": {},
   "source": [
    "# 제어문"
   ]
  },
  {
   "cell_type": "markdown",
   "id": "5e14542d",
   "metadata": {},
   "source": [
    "### 1. If문\n",
    "* 참과 거짓을 판단하는 문장\n",
    "* 비교연산자 '< > == != >= <=' 사용\n",
    "* or, and, not 사용"
   ]
  },
  {
   "cell_type": "code",
   "execution_count": 1,
   "id": "3578ff6f",
   "metadata": {
    "scrolled": true
   },
   "outputs": [
    {
     "name": "stdout",
     "output_type": "stream",
     "text": [
      "False\n",
      "False\n",
      "True\n",
      "True\n",
      "False\n"
     ]
    }
   ],
   "source": [
    "v1=1\n",
    "print((v1>=3)and(v1<=7))\n",
    "print((v1>=3)&(v1<=7))\n",
    "print((v1<=3)or(v1>=7))\n",
    "print((v1<=3)|(v1>=7))\n",
    "print(not(v1==1))"
   ]
  },
  {
   "cell_type": "code",
   "execution_count": 2,
   "id": "4165c157",
   "metadata": {},
   "outputs": [
    {
     "name": "stdout",
     "output_type": "stream",
     "text": [
      "True\n",
      "False\n"
     ]
    }
   ],
   "source": [
    "# in, not in\n",
    "print(1 in [1,2,3])\n",
    "print(1 not in [1,2,3])"
   ]
  },
  {
   "cell_type": "code",
   "execution_count": 3,
   "id": "0f265ea5",
   "metadata": {},
   "outputs": [
    {
     "name": "stdout",
     "output_type": "stream",
     "text": [
      "k =  63 sum =  2016\n"
     ]
    }
   ],
   "source": [
    "# 1~100 까지 더하는데 2000이 넘을 때 k와 더한 수를 구하여라\n",
    "isum=0\n",
    "for i in range(1,101):\n",
    "    isum+=i\n",
    "    if isum>=2000:\n",
    "        print('k = ',i,'sum = ',isum)\n",
    "        break"
   ]
  },
  {
   "cell_type": "markdown",
   "id": "5658c495",
   "metadata": {},
   "source": [
    "### 2. while 문"
   ]
  },
  {
   "cell_type": "markdown",
   "id": "d115248d",
   "metadata": {},
   "source": [
    "while 조건:\n",
    "\n",
    "    수행 문장\n",
    "    \n",
    "    수행 문장\n",
    "    \n",
    "    ..."
   ]
  },
  {
   "cell_type": "code",
   "execution_count": 4,
   "id": "0e1a5325",
   "metadata": {},
   "outputs": [
    {
     "name": "stdout",
     "output_type": "stream",
     "text": [
      "\n",
      "1. Add\n",
      "2. Del\n",
      "3. List\n",
      "4. Quit\n",
      "\n",
      "Enter number: \n",
      "4\n"
     ]
    }
   ],
   "source": [
    "prompt = \"\"\"\n",
    "... 1. Add\n",
    "... 2. Del\n",
    "... 3. List\n",
    "... 4. Quit\n",
    "...\n",
    "... Enter number: \"\"\"\n",
    "number = 0\n",
    "while number != 4:\n",
    "    print(prompt)\n",
    "    number = int(input())"
   ]
  },
  {
   "cell_type": "markdown",
   "id": "7e875571",
   "metadata": {},
   "source": [
    "### 3. for문"
   ]
  },
  {
   "cell_type": "markdown",
   "id": "958ae24f",
   "metadata": {},
   "source": [
    "for 변수 in 리스트:\n",
    "\n",
    "    수행 문장\n",
    "    \n",
    "    수행 문장\n",
    "    \n",
    "    ..."
   ]
  },
  {
   "cell_type": "code",
   "execution_count": 5,
   "id": "51be9636",
   "metadata": {},
   "outputs": [
    {
     "name": "stdout",
     "output_type": "stream",
     "text": [
      "one\n",
      "two\n",
      "three\n"
     ]
    }
   ],
   "source": [
    "test_list = ['one', 'two', 'three'] \n",
    "for i in test_list: \n",
    "    print(i)"
   ]
  },
  {
   "cell_type": "markdown",
   "id": "4f1e925c",
   "metadata": {},
   "source": [
    "\"총 5명의 학생이 시험을 보았는데 시험 점수가 60점이 넘으면 합격이고 그렇지 않으면 불합격이다. 합격인지 불합격인지 결과를 보여 주시오.\""
   ]
  },
  {
   "cell_type": "code",
   "execution_count": 6,
   "id": "caa07521",
   "metadata": {},
   "outputs": [
    {
     "name": "stdout",
     "output_type": "stream",
     "text": [
      "1  : 합격\n",
      "2  : 불합격\n",
      "3  : 합격\n",
      "4  : 불합격\n",
      "5  : 합격\n"
     ]
    }
   ],
   "source": [
    "marks = [90, 25, 67, 45, 80]\n",
    "n=0\n",
    "for i in marks:\n",
    "    n+=1\n",
    "    if i>60:\n",
    "        print(n,' : 합격')\n",
    "    else:\n",
    "        print(n,' : 불합격')"
   ]
  },
  {
   "cell_type": "markdown",
   "id": "379c5eab",
   "metadata": {},
   "source": [
    "앞에서 for문 응용 예제를 그대로 사용해서 60점 이상인 사람에게는 축하 메시지를 보내고 나머지 사람에게는 아무 메시지도 전하지 않는 프로그램을 에디터를 사용해 작성해 보자."
   ]
  },
  {
   "cell_type": "code",
   "execution_count": 7,
   "id": "dbd520df",
   "metadata": {
    "scrolled": true
   },
   "outputs": [
    {
     "name": "stdout",
     "output_type": "stream",
     "text": [
      "1  : 합격 축하!\n",
      "3  : 합격 축하!\n",
      "5  : 합격 축하!\n"
     ]
    }
   ],
   "source": [
    "marks = [90, 25, 67, 45, 80]\n",
    "n=0\n",
    "for i in marks:\n",
    "    n+=1\n",
    "    if i>60:\n",
    "        print(n,' : 합격 축하!')\n",
    "    else:\n",
    "        continue"
   ]
  },
  {
   "cell_type": "code",
   "execution_count": 8,
   "id": "10c04d90",
   "metadata": {},
   "outputs": [
    {
     "name": "stdout",
     "output_type": "stream",
     "text": [
      "2 4 6 8 10 12 14 16 18 \n",
      "3 6 9 12 15 18 21 24 27 \n",
      "4 8 12 16 20 24 28 32 36 \n",
      "5 10 15 20 25 30 35 40 45 \n",
      "6 12 18 24 30 36 42 48 54 \n",
      "7 14 21 28 35 42 49 56 63 \n",
      "8 16 24 32 40 48 56 64 72 \n",
      "9 18 27 36 45 54 63 72 81 \n"
     ]
    }
   ],
   "source": [
    "# range\n",
    "# 구구단\n",
    "for i in range(2,10):\n",
    "    for j in range(1, 10):\n",
    "        print(i*j, end=\" \") \n",
    "    print('') "
   ]
  },
  {
   "cell_type": "code",
   "execution_count": 9,
   "id": "d99e8c9a",
   "metadata": {},
   "outputs": [
    {
     "name": "stdout",
     "output_type": "stream",
     "text": [
      "[3, 6, 9, 12]\n",
      "[3, 6, 9, 12]\n"
     ]
    }
   ],
   "source": [
    "# comprehension\n",
    "a = [1,2,3,4]\n",
    "result = []\n",
    "for num in a:\n",
    "    result.append(num*3)\n",
    "print(result)\n",
    "\n",
    "result = [num * 3 for num in a]\n",
    "print(result)"
   ]
  },
  {
   "cell_type": "markdown",
   "id": "fdfd4312",
   "metadata": {},
   "source": [
    "### Exe"
   ]
  },
  {
   "cell_type": "markdown",
   "id": "457dcd8e",
   "metadata": {},
   "source": [
    "다음 코드의 결괏값은 무엇일까?\n",
    "\n",
    "a = \"Life is too short, you need python\"\n",
    "\n",
    "if \"wife\" in a: print(\"wife\")\n",
    "\n",
    "elif \"python\" in a and \"you\" not in a: print(\"python\")\n",
    "\n",
    "elif \"shirt\" not in a: print(\"shirt\")\n",
    "\n",
    "elif \"need\" in a: print(\"need\")\n",
    "\n",
    "else: print(\"none\")"
   ]
  },
  {
   "cell_type": "code",
   "execution_count": 10,
   "id": "fc79b0e9",
   "metadata": {},
   "outputs": [
    {
     "name": "stdout",
     "output_type": "stream",
     "text": [
      "shirt\n"
     ]
    }
   ],
   "source": [
    "a = \"Life is too short, you need python\"\n",
    "if \"wife\" in a: print(\"wife\")\n",
    "elif \"python\" in a and \"you\" not in a: print(\"python\")\n",
    "elif \"shirt\" not in a: print(\"shirt\")\n",
    "elif \"need\" in a: print(\"need\")\n",
    "else: print(\"none\")"
   ]
  },
  {
   "cell_type": "markdown",
   "id": "7357cd5c",
   "metadata": {},
   "source": [
    "while문을 사용해 1부터 1000까지의 자연수 중 3의 배수의 합을 구해 보자."
   ]
  },
  {
   "cell_type": "code",
   "execution_count": 11,
   "id": "04270b85",
   "metadata": {},
   "outputs": [
    {
     "name": "stdout",
     "output_type": "stream",
     "text": [
      "166833\n"
     ]
    }
   ],
   "source": [
    "res=0\n",
    "i=1\n",
    "while i<=1000:\n",
    "    if i%3==0:\n",
    "        res+=i\n",
    "    i+=1\n",
    "print(res)"
   ]
  },
  {
   "cell_type": "markdown",
   "id": "791aed9a",
   "metadata": {},
   "source": [
    "while문을 사용하여 다음과 같이 별(*)을 표시하는 프로그램을 작성해 보자.\n",
    "\n",
    "*\n",
    "\n",
    "**\n",
    "\n",
    "\\***\n",
    "\n",
    "\\****\n",
    "\n",
    "\\*****"
   ]
  },
  {
   "cell_type": "code",
   "execution_count": 12,
   "id": "91580937",
   "metadata": {},
   "outputs": [
    {
     "name": "stdout",
     "output_type": "stream",
     "text": [
      "*\n",
      "**\n",
      "***\n",
      "****\n",
      "*****\n"
     ]
    }
   ],
   "source": [
    "i = 0\n",
    "while True:\n",
    "    i += 1\n",
    "    if i > 5: break\n",
    "    print('*' * i)"
   ]
  },
  {
   "cell_type": "markdown",
   "id": "583800fe",
   "metadata": {},
   "source": [
    "for문을 사용해 1부터 100까지의 숫자를 출력해 보자."
   ]
  },
  {
   "cell_type": "code",
   "execution_count": 13,
   "id": "25317e5c",
   "metadata": {
    "scrolled": true
   },
   "outputs": [
    {
     "name": "stdout",
     "output_type": "stream",
     "text": [
      "1\n",
      "2\n",
      "3\n",
      "4\n",
      "5\n",
      "6\n",
      "7\n",
      "8\n",
      "9\n",
      "10\n",
      "11\n",
      "12\n",
      "13\n",
      "14\n",
      "15\n",
      "16\n",
      "17\n",
      "18\n",
      "19\n",
      "20\n",
      "21\n",
      "22\n",
      "23\n",
      "24\n",
      "25\n",
      "26\n",
      "27\n",
      "28\n",
      "29\n",
      "30\n",
      "31\n",
      "32\n",
      "33\n",
      "34\n",
      "35\n",
      "36\n",
      "37\n",
      "38\n",
      "39\n",
      "40\n",
      "41\n",
      "42\n",
      "43\n",
      "44\n",
      "45\n",
      "46\n",
      "47\n",
      "48\n",
      "49\n",
      "50\n",
      "51\n",
      "52\n",
      "53\n",
      "54\n",
      "55\n",
      "56\n",
      "57\n",
      "58\n",
      "59\n",
      "60\n",
      "61\n",
      "62\n",
      "63\n",
      "64\n",
      "65\n",
      "66\n",
      "67\n",
      "68\n",
      "69\n",
      "70\n",
      "71\n",
      "72\n",
      "73\n",
      "74\n",
      "75\n",
      "76\n",
      "77\n",
      "78\n",
      "79\n",
      "80\n",
      "81\n",
      "82\n",
      "83\n",
      "84\n",
      "85\n",
      "86\n",
      "87\n",
      "88\n",
      "89\n",
      "90\n",
      "91\n",
      "92\n",
      "93\n",
      "94\n",
      "95\n",
      "96\n",
      "97\n",
      "98\n",
      "99\n",
      "100\n"
     ]
    }
   ],
   "source": [
    "for i in range(100):\n",
    "    print(i+1)"
   ]
  },
  {
   "cell_type": "markdown",
   "id": "34ee4583",
   "metadata": {},
   "source": [
    "A 학급에 총 10명의 학생이 있다. 이 학생들의 중간고사 점수는 다음과 같다.\n",
    "\n",
    "[70, 60, 55, 75, 95, 90, 80, 80, 85, 100]\n",
    "\n",
    "for문을 사용하여 A 학급의 평균 점수를 구해 보자."
   ]
  },
  {
   "cell_type": "code",
   "execution_count": 14,
   "id": "5359fce3",
   "metadata": {},
   "outputs": [
    {
     "name": "stdout",
     "output_type": "stream",
     "text": [
      "79.0\n"
     ]
    }
   ],
   "source": [
    "a=[70, 60, 55, 75, 95, 90, 80, 80, 85, 100]\n",
    "res=0\n",
    "for i in a:\n",
    "    res+=i\n",
    "avg=res/len(a)\n",
    "print(avg)"
   ]
  },
  {
   "cell_type": "markdown",
   "id": "f08edf2c",
   "metadata": {},
   "source": [
    "리스트 중에서 홀수에만 2를 곱하여 저장하는 다음 코드가 있다.\n",
    "\n",
    "numbers = [1, 2, 3, 4, 5]\n",
    "\n",
    "result = []\n",
    "\n",
    "for n in numbers:\n",
    "    \n",
    "    if n % 2 == 1:\n",
    "        \n",
    "        result.append(n*2)\n",
    "        \n",
    "위 코드를 리스트 내포(list comprehension)를 사용하여 표현해 보자."
   ]
  },
  {
   "cell_type": "code",
   "execution_count": 15,
   "id": "e6a103a3",
   "metadata": {},
   "outputs": [
    {
     "name": "stdout",
     "output_type": "stream",
     "text": [
      "[2, 6, 10]\n"
     ]
    }
   ],
   "source": [
    "numbers = [1, 2, 3, 4, 5]\n",
    "result = [n*2 for n in numbers if n%2==1]\n",
    "print(result)"
   ]
  }
 ],
 "metadata": {
  "kernelspec": {
   "display_name": "Python 3 (ipykernel)",
   "language": "python",
   "name": "python3"
  },
  "language_info": {
   "codemirror_mode": {
    "name": "ipython",
    "version": 3
   },
   "file_extension": ".py",
   "mimetype": "text/x-python",
   "name": "python",
   "nbconvert_exporter": "python",
   "pygments_lexer": "ipython3",
   "version": "3.8.12"
  }
 },
 "nbformat": 4,
 "nbformat_minor": 5
}

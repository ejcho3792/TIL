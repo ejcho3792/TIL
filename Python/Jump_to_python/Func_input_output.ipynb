{
 "cells": [
  {
   "cell_type": "markdown",
   "id": "bfe8e35f",
   "metadata": {},
   "source": [
    "# 함수\n",
    "\n",
    "함수와 메서드\n",
    "\n",
    "메서드도 함수의 일부\n",
    "\n",
    "인수의 전달 방식이 다름"
   ]
  },
  {
   "cell_type": "markdown",
   "id": "1936db1d",
   "metadata": {},
   "source": [
    "### 함수\n",
    "\n",
    "def 함수명(매개변수):\n",
    "\n",
    "    수행문장\n",
    "    \n",
    "    수행문장\n",
    "    \n",
    "    ..."
   ]
  },
  {
   "cell_type": "code",
   "execution_count": 1,
   "id": "c853cd16",
   "metadata": {},
   "outputs": [
    {
     "name": "stdout",
     "output_type": "stream",
     "text": [
      "7\n"
     ]
    }
   ],
   "source": [
    "def add(a, b):              # a,b는 매개변수\n",
    "    return a+b\n",
    "\n",
    "a,b=3,4\n",
    "print(add(a,b))             # 3,4는 인수"
   ]
  },
  {
   "cell_type": "markdown",
   "id": "7e5cb1f0",
   "metadata": {},
   "source": [
    "여러 입력값을 받는 함수\n",
    "\n",
    "다음 예를 통해 여러 개의 입력값을 모두 더하는 함수를 직접 만들어 보자. 예를 들어 add_many(1, 2)이면 3을, add_many(1,2,3)이면 6을, add_many(1, 2, 3, 4, 5, 6, 7, 8, 9, 10)이면 55를 돌려주는 함수를 만들어 보자."
   ]
  },
  {
   "cell_type": "code",
   "execution_count": 2,
   "id": "23e0188e",
   "metadata": {},
   "outputs": [
    {
     "name": "stdout",
     "output_type": "stream",
     "text": [
      "6\n",
      "55\n"
     ]
    }
   ],
   "source": [
    "# *args 사용\n",
    "def add_many(*args):\n",
    "    res=0\n",
    "    for i in args:\n",
    "        res+=i\n",
    "    return res\n",
    "result=add_many(1,2,3)\n",
    "print(result)\n",
    "result = add_many(1,2,3,4,5,6,7,8,9,10)\n",
    "print(result)"
   ]
  },
  {
   "cell_type": "code",
   "execution_count": 3,
   "id": "a43cee27",
   "metadata": {},
   "outputs": [
    {
     "name": "stdout",
     "output_type": "stream",
     "text": [
      "{'a': 1}\n",
      "{'name': 'foo', 'age': 3}\n"
     ]
    }
   ],
   "source": [
    "# 키워드 파라미터 **kwargs\n",
    "def print_kwargs(**kwargs):\n",
    "    print(kwargs)\n",
    "print_kwargs(a=1)\n",
    "print_kwargs(name='foo', age=3)"
   ]
  },
  {
   "cell_type": "code",
   "execution_count": 4,
   "id": "23d6ed7e",
   "metadata": {},
   "outputs": [
    {
     "name": "stdout",
     "output_type": "stream",
     "text": [
      "나의 이름은 박응용 입니다.\n",
      "나이는 27살입니다.\n",
      "남자입니다.\n",
      "나의 이름은 박응용 입니다.\n",
      "나이는 27살입니다.\n",
      "남자입니다.\n"
     ]
    }
   ],
   "source": [
    "# 매개변수에 초깃값을 미리 설정\n",
    "\n",
    "def say_myself(name, old, man=True): \n",
    "    print(\"나의 이름은 %s 입니다.\" % name) \n",
    "    print(\"나이는 %d살입니다.\" % old) \n",
    "    if man: \n",
    "        print(\"남자입니다.\")\n",
    "    else: \n",
    "        print(\"여자입니다.\")\n",
    "say_myself(\"박응용\", 27)\n",
    "say_myself(\"박응용\", 27, True)"
   ]
  },
  {
   "cell_type": "code",
   "execution_count": 5,
   "id": "ce9028ac",
   "metadata": {},
   "outputs": [
    {
     "name": "stdout",
     "output_type": "stream",
     "text": [
      "2\n",
      "2\n"
     ]
    }
   ],
   "source": [
    "# 함수 안에서 함수 밖의 변수를 변경\n",
    "# 1. return\n",
    "a = 1 \n",
    "def vartest(a): \n",
    "    a = a +1 \n",
    "    return a\n",
    "\n",
    "a = vartest(a) \n",
    "print(a)\n",
    "\n",
    "# 2. global\n",
    "a = 1 \n",
    "def vartest(): \n",
    "    global a \n",
    "    a = a+1\n",
    "\n",
    "vartest() \n",
    "print(a)"
   ]
  },
  {
   "cell_type": "code",
   "execution_count": 6,
   "id": "0273943d",
   "metadata": {},
   "outputs": [
    {
     "name": "stdout",
     "output_type": "stream",
     "text": [
      "7\n"
     ]
    }
   ],
   "source": [
    "# lambda\n",
    "addd=lambda a,b:a+b\n",
    "res=addd(3,4)\n",
    "print(res)"
   ]
  },
  {
   "cell_type": "code",
   "execution_count": 7,
   "id": "2ce72338",
   "metadata": {},
   "outputs": [
    {
     "name": "stdout",
     "output_type": "stream",
     "text": [
      "[11, 12, 15, 20]\n"
     ]
    },
    {
     "data": {
      "text/plain": [
       "[6, 10, 14, 20]"
      ]
     },
     "execution_count": 7,
     "metadata": {},
     "output_type": "execute_result"
    }
   ],
   "source": [
    "# exe\n",
    "def f_nul(x):\n",
    "    v1=x*10\n",
    "    return v1\n",
    "f_nul(100)\n",
    "def f_2_nul(x,y):\n",
    "    res=x*y\n",
    "    return res\n",
    "f_2_nul(2,10)\n",
    "#\n",
    "f1=lambda x: x*10\n",
    "f1(6)\n",
    "f2=lambda x,y,z:(x+y)*z\n",
    "f2(2,5,3)\n",
    "#\n",
    "f1=lambda x:x*10\n",
    "f1(4)\n",
    "l1=[1,2,5,10]\n",
    "f1(l1)\n",
    "#\n",
    "l2=[]\n",
    "for i in l1:\n",
    "    l2.append(i+10)\n",
    "print(l2)\n",
    "#\n",
    "f1(4)\n",
    "list(map(f1,l1))\n",
    "#\n",
    "l2=[3,5,7,10]\n",
    "\n",
    "def f3(x):\n",
    "    if x>10:\n",
    "        v1=x*3\n",
    "    else:\n",
    "        v1=x*2\n",
    "    return v1\n",
    "list(map(f3,l2))"
   ]
  },
  {
   "cell_type": "markdown",
   "id": "75846c0b",
   "metadata": {},
   "source": [
    "### 사용자 입력과 출력"
   ]
  },
  {
   "cell_type": "code",
   "execution_count": 8,
   "id": "20c8f162",
   "metadata": {},
   "outputs": [
    {
     "name": "stdout",
     "output_type": "stream",
     "text": [
      "inpp\n",
      "a =  inpp\n",
      "입력 : inpp\n",
      "출력 =  inpp\n",
      "Hello\n",
      "Hello\n",
      "H e llo\n",
      "0 1 2 3 4 5 6 7 8 9 "
     ]
    }
   ],
   "source": [
    "# 입력 : input\n",
    "# 출력 : print\n",
    "a=input()\n",
    "print('a = ',a)\n",
    "b=input('입력 : ')\n",
    "print('출력 = ',b)\n",
    "print(\"H\" \"e\" \"llo\")\n",
    "print(\"H\"+\"e\"+\"llo\")\n",
    "print(\"H\",\"e\",\"llo\")\n",
    "for i in range(10):\n",
    "    print(i, end=' ')          # 한줄에 결과 출력"
   ]
  },
  {
   "cell_type": "markdown",
   "id": "ffd8b7aa",
   "metadata": {},
   "source": [
    "### 파일 읽고 쓰기"
   ]
  },
  {
   "cell_type": "markdown",
   "id": "17ca1a9f",
   "metadata": {},
   "source": [
    "f=open('file_name.txt','w')\n",
    "\n",
    "f.close()\n",
    "\n",
    "r : 읽기모드\n",
    "\n",
    "w : 쓰기모드\n",
    "\n",
    "a : 추가모드"
   ]
  },
  {
   "cell_type": "markdown",
   "id": "6d14ae95",
   "metadata": {},
   "source": [
    "###### readline 함수\n",
    "\n",
    "f = open(\"file_name.txt\", 'r')\n",
    "\n",
    "while True:\n",
    "\n",
    "    line = f.readline()\n",
    "    \n",
    "    if not line: break\n",
    "    \n",
    "    print(line)\n",
    "    \n",
    "f.close()"
   ]
  },
  {
   "cell_type": "markdown",
   "id": "c53ecd06",
   "metadata": {},
   "source": [
    "###### readlines 함수\n",
    "\n",
    "f = open(\"file_name.txt\", 'r')\n",
    "\n",
    "lines = f.readlines()\n",
    "\n",
    "for line in lines:\n",
    "    \n",
    "    print(line)\n",
    "    \n",
    "f.close()"
   ]
  },
  {
   "cell_type": "markdown",
   "id": "76ee2110",
   "metadata": {},
   "source": [
    "###### read 함수\n",
    "\n",
    "f = open(\"file_name.txt\", 'r')\n",
    "\n",
    "data = f.read()\n",
    "\n",
    "print(data)\n",
    "\n",
    "f.close()"
   ]
  },
  {
   "cell_type": "markdown",
   "id": "6b6e6fbd",
   "metadata": {},
   "source": [
    "### exe"
   ]
  },
  {
   "cell_type": "markdown",
   "id": "a0ddb9eb",
   "metadata": {},
   "source": [
    "주어진 자연수가 홀수인지 짝수인지 판별해 주는 함수(is_odd)를 작성해 보자."
   ]
  },
  {
   "cell_type": "code",
   "execution_count": 9,
   "id": "8772f308",
   "metadata": {
    "scrolled": true
   },
   "outputs": [
    {
     "name": "stdout",
     "output_type": "stream",
     "text": [
      "True\n",
      "False\n"
     ]
    }
   ],
   "source": [
    "def is_odd(n):\n",
    "    if n%2==1:\n",
    "        return True\n",
    "    else:\n",
    "        return False\n",
    "print(is_odd(3))\n",
    "print(is_odd(4))"
   ]
  },
  {
   "cell_type": "code",
   "execution_count": 10,
   "id": "6368f1e3",
   "metadata": {},
   "outputs": [
    {
     "name": "stdout",
     "output_type": "stream",
     "text": [
      "True\n",
      "False\n"
     ]
    }
   ],
   "source": [
    "# or\n",
    "is_odd = lambda x: True if x % 2 == 1 else False\n",
    "print(is_odd(3))\n",
    "print(is_odd(4))"
   ]
  },
  {
   "cell_type": "markdown",
   "id": "58965493",
   "metadata": {},
   "source": [
    "입력으로 들어오는 모든 수의 평균 값을 계산해 주는 함수를 작성해 보자. (단 입력으로 들어오는 수의 개수는 정해져 있지 않다.)\n",
    "\n",
    "※ 평균 값을 구할 때 len 함수를 사용해 보자."
   ]
  },
  {
   "cell_type": "code",
   "execution_count": 11,
   "id": "daf444d2",
   "metadata": {},
   "outputs": [
    {
     "name": "stdout",
     "output_type": "stream",
     "text": [
      "1.5\n",
      "5.0\n"
     ]
    }
   ],
   "source": [
    "def avg_n(*args):\n",
    "    res=0\n",
    "    for i in args:\n",
    "        res+=i\n",
    "    return res/len(args)\n",
    "\n",
    "print(avg_n(1,2))\n",
    "print(avg_n(1,2,3,4,5,6,7,8,9))"
   ]
  },
  {
   "cell_type": "markdown",
   "id": "c666fc13",
   "metadata": {},
   "source": [
    "다음은 두 개의 숫자를 입력받아 더하여 돌려주는 프로그램이다.\n",
    "\n",
    "input1 = input(\"첫번째 숫자를 입력하세요:\")\n",
    "input2 = input(\"두번째 숫자를 입력하세요:\")\n",
    "\n",
    "total = input1 + input2\n",
    "\n",
    "print(\"두 수의 합은 %s 입니다\" % total)\n",
    "\n",
    "이 프로그램을 수행해 보자.\n",
    "\n",
    "첫번째 숫자를 입력하세요:3\n",
    "\n",
    "두번째 숫자를 입력하세요:6\n",
    "\n",
    "두 수의 합은 36 입니다\n",
    "\n",
    "3과 6을 입력했을 때 9가 아닌 36이라는 결괏값을 돌려주었다. 이 프로그램의 오류를 수정해 보자.\n",
    "\n",
    "※ int 함수를 사용해 보자."
   ]
  },
  {
   "cell_type": "code",
   "execution_count": 12,
   "id": "cc56c0a6",
   "metadata": {},
   "outputs": [
    {
     "name": "stdout",
     "output_type": "stream",
     "text": [
      "첫 번째 숫자를 입력하세요:3\n",
      "두 번째 숫자를 입력하세요:5\n",
      "두수의 합은 8 입니다\n"
     ]
    }
   ],
   "source": [
    "input1 = input(\"첫 번째 숫자를 입력하세요:\")\n",
    "input2 = input(\"두 번째 숫자를 입력하세요:\")\n",
    "\n",
    "total = int(input1) + int(input2)\n",
    "print(\"두수의 합은 %s 입니다\" % total)"
   ]
  },
  {
   "cell_type": "markdown",
   "id": "bafcade0",
   "metadata": {},
   "source": [
    "다음은 \"test.txt\"라는 파일에 \"Life is too short\" 문자열을 저장한 후 다시 그 파일을 읽어서 출력하는 프로그램이다.\n",
    "\n",
    "f1 = open(\"test.txt\", 'w')\n",
    "\n",
    "f1.write(\"Life is too short\")\n",
    "\n",
    "f2 = open(\"test.txt\", 'r')\n",
    "\n",
    "print(f2.read())\n",
    "\n",
    "이 프로그램은 우리가 예상한 \"Life is too short\"라는 문장을 출력하지 않는다. 우리가 예상한 값을 출력할 수 있도록 프로그램을 수정해 보자\n"
   ]
  },
  {
   "cell_type": "code",
   "execution_count": 13,
   "id": "ba960cfd",
   "metadata": {},
   "outputs": [
    {
     "name": "stdout",
     "output_type": "stream",
     "text": [
      "Life is too short!\n"
     ]
    }
   ],
   "source": [
    "f1 = open(\"test.txt\", 'w')\n",
    "f1.write(\"Life is too short!\")\n",
    "f1.close()\n",
    "f2 = open(\"test.txt\", 'r')\n",
    "print(f2.read())\n",
    "f2.close()"
   ]
  },
  {
   "cell_type": "markdown",
   "id": "bcf027af",
   "metadata": {},
   "source": [
    "사용자의 입력을 파일(test.txt)에 저장하는 프로그램을 작성해 보자. (단 프로그램을 다시 실행하더라도 기존에 작성한 내용을 유지하고 새로 입력한 내용을 추가해야 한다.)"
   ]
  },
  {
   "cell_type": "code",
   "execution_count": 14,
   "id": "b7709dc7",
   "metadata": {},
   "outputs": [
    {
     "name": "stdout",
     "output_type": "stream",
     "text": [
      "저장할 내용을 입력하세요:aaaaa\n"
     ]
    }
   ],
   "source": [
    "user_input = input(\"저장할 내용을 입력하세요:\")\n",
    "f = open('test.txt', 'a')\n",
    "f.write(user_input)\n",
    "f.write(\"\\n\")\n",
    "f.close()"
   ]
  },
  {
   "cell_type": "markdown",
   "id": "ab747837",
   "metadata": {},
   "source": [
    "다음과 같은 내용을 지닌 파일 test.txt가 있다. 이 파일의 내용 중 \"java\"라는 문자열을 \"python\"으로 바꾸어서 저장해 보자.\n",
    "\n",
    "Life is too short\n",
    "\n",
    "you need java\n",
    "\n",
    "※ replace 함수를 사용해 보자."
   ]
  },
  {
   "cell_type": "code",
   "execution_count": 15,
   "id": "1d4ea564",
   "metadata": {},
   "outputs": [],
   "source": [
    "f = open('test.txt', 'r')\n",
    "body = f.read()\n",
    "f.close()\n",
    "\n",
    "body = body.replace('java', 'python')\n",
    "\n",
    "f = open('test.txt', 'w')\n",
    "f.write(body)\n",
    "f.close()"
   ]
  }
 ],
 "metadata": {
  "kernelspec": {
   "display_name": "Python 3 (ipykernel)",
   "language": "python",
   "name": "python3"
  },
  "language_info": {
   "codemirror_mode": {
    "name": "ipython",
    "version": 3
   },
   "file_extension": ".py",
   "mimetype": "text/x-python",
   "name": "python",
   "nbconvert_exporter": "python",
   "pygments_lexer": "ipython3",
   "version": "3.8.12"
  }
 },
 "nbformat": 4,
 "nbformat_minor": 5
}

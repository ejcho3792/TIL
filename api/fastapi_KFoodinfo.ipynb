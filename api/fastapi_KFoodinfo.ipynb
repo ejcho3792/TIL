{
 "cells": [
  {
   "cell_type": "code",
   "execution_count": 1,
   "metadata": {
    "id": "hTzMY_oeI3wQ"
   },
   "outputs": [],
   "source": [
    "import numpy as np\n",
    "import pandas as pd"
   ]
  },
  {
   "cell_type": "code",
   "execution_count": 2,
   "metadata": {
    "id": "NcZdab5RJCu8"
   },
   "outputs": [],
   "source": [
    "data = pd.read_csv('./K-Food_info.csv', encoding = 'cp949', index_col='음식명').drop('구분', axis = 1).fillna('No data')"
   ]
  },
  {
   "cell_type": "code",
   "execution_count": 3,
   "metadata": {
    "id": "fgGw0e7uaiVG"
   },
   "outputs": [],
   "source": [
    "data2 = pd.read_csv('./K-Food_Recipe.csv', encoding='cp949', index_col='RECIPE_NM_KO')"
   ]
  },
  {
   "cell_type": "code",
   "execution_count": 4,
   "metadata": {
    "id": "aJ3K9sMSbO2q"
   },
   "outputs": [],
   "source": [
    "data3 = pd.read_csv('./recipe_resource.csv', encoding='cp949').drop(['IRDNT_SN', 'IRDNT_CPCTY', 'IRDNT_TY_CODE', 'IRDNT_TY_NM'], axis = 1)"
   ]
  },
  {
   "cell_type": "code",
   "execution_count": 5,
   "metadata": {
    "id": "RDhuLN0afpX0"
   },
   "outputs": [],
   "source": [
    "Allergie = {'메밀': ['메밀', '메밀가루'],\n",
    "            '밀': ['밀가루', '밀', '강력분', '박력분', '중력분', '빵', '부침가루', '바게트', '칼국수', '국수', '소면', '면', '쫄면', '라면'],\n",
    "            '대두': ['두부', '어묵', '콩나물'],\n",
    "            '호두': ['호두'],\n",
    "            '땅콩': ['땅콩', '땅콩버터'],\n",
    "            '복숭아': ['복숭아'],\n",
    "            '게': ['꽃게', '참게', '대게', '킹크랩'],\n",
    "            '고등어': ['고등어'],\n",
    "            '토마토': ['토마토'],\n",
    "            '돼지고기': ['돼지고기', '갈비', '다진돼지고기', '베이컨', '돼지고기육수', '삼겹살', '햄'],\n",
    "            '계란': ['계란', '달걀'],\n",
    "            '우유': ['우유', '치즈', '치즈가루', '모짜렐라치즈'],\n",
    "            '닭고기': ['닭고기'],\n",
    "            '쇠고기': ['쇠고기', '소고기', '갈비', '쇠고기육수', '양지머리', '안심', '등심'],\n",
    "            '새우': ['새우', '대하', '건새우', '새우젓', '생새우'],\n",
    "            '홍합': ['홍합'],\n",
    "            '전복': ['전복'],\n",
    "            '굴': ['굴', '굴소스'],\n",
    "            '조개류': ['바지락', '꼬막', '골뱅이', '소라'],\n",
    "            '오징어': ['오징어', '진미채', '오징어젓갈'],\n",
    "            '아황산': ['소시지', '소세지', '햄', '스팸', '육포','베이컨']}"
   ]
  },
  {
   "cell_type": "markdown",
   "metadata": {
    "id": "bEDsWc30fpX3"
   },
   "source": [
    "# 음식정보"
   ]
  },
  {
   "cell_type": "code",
   "execution_count": 6,
   "metadata": {
    "id": "nCqp05kZJkoX"
   },
   "outputs": [],
   "source": [
    "def food_en(name):\n",
    "    failtext = '요리를 찾지 못했습니다.'\n",
    "    try:\n",
    "        food_name = name\n",
    "        food_name_en = data.loc[name]['영문']\n",
    "        food_info_en = data.loc[name]['음식설명']\n",
    "\n",
    "        return food_name, food_name_en, food_info_en\n",
    "    except:\n",
    "        food_name = name\n",
    "        food_name_en = failtext\n",
    "        food_info_en = failtext\n",
    "        return food_name, food_name_en, food_info_en"
   ]
  },
  {
   "cell_type": "code",
   "execution_count": 7,
   "metadata": {
    "colab": {
     "base_uri": "https://localhost:8080/"
    },
    "id": "ftqmwgpvU2Xp",
    "outputId": "96fdd7ca-379e-4a78-bf47-7c715f5e9f41",
    "scrolled": true
   },
   "outputs": [
    {
     "data": {
      "text/plain": [
       "('비빔', '요리를 찾지 못했습니다.', '요리를 찾지 못했습니다.')"
      ]
     },
     "execution_count": 7,
     "metadata": {},
     "output_type": "execute_result"
    }
   ],
   "source": [
    "food_en('비빔')"
   ]
  },
  {
   "cell_type": "markdown",
   "metadata": {
    "id": "HBjjqhAXfpYC"
   },
   "source": [
    "# 알레르기정보"
   ]
  },
  {
   "cell_type": "code",
   "execution_count": 8,
   "metadata": {
    "id": "Rl2F2z7matdK"
   },
   "outputs": [],
   "source": [
    "def food_resource(name):\n",
    "    failment = str('레시피를 찾을 수 없습니다.')\n",
    "    try:\n",
    "        rc_no = int(data2.loc[name]['RECIPE_ID'])\n",
    "        resource = data3[data3.RECIPE_ID == rc_no]['IRDNT_NM'].tolist()\n",
    "\n",
    "        result = resource\n",
    "    except:\n",
    "        result = failment\n",
    "        \n",
    "    try:\n",
    "        alwar = set()\n",
    "        for key, value in Allergie.items():\n",
    "            alsource = set(value) & set(result)\n",
    "            if alsource != set():\n",
    "                alwar = alwar | alsource\n",
    "            else:\n",
    "                pass\n",
    "    except:\n",
    "        pass\n",
    "    \n",
    "    try:\n",
    "        keys = []\n",
    "        for key, value in Allergie.items():\n",
    "            if alwar & set(value) != set():\n",
    "                keys.append(key)\n",
    "    except:\n",
    "        pass\n",
    "  \n",
    "    if keys != []:\n",
    "      return result, keys\n",
    "    else:\n",
    "      return result, keys"
   ]
  },
  {
   "cell_type": "code",
   "execution_count": 9,
   "metadata": {
    "colab": {
     "base_uri": "https://localhost:8080/"
    },
    "id": "9BEc5FEcgnYw",
    "outputId": "488b036c-6acf-4157-9050-c39d4b8a18bf",
    "scrolled": true
   },
   "outputs": [
    {
     "data": {
      "text/plain": [
       "(['쌀',\n",
       "  '안심',\n",
       "  '콩나물',\n",
       "  '청포묵',\n",
       "  '미나리',\n",
       "  '소금',\n",
       "  '국간장',\n",
       "  '다진파',\n",
       "  '다진마늘',\n",
       "  '참기름',\n",
       "  '고추장',\n",
       "  '설탕',\n",
       "  '숙주',\n",
       "  '도라지',\n",
       "  '고사리',\n",
       "  '계란',\n",
       "  '양지머리'],\n",
       " ['대두', '계란', '쇠고기'])"
      ]
     },
     "execution_count": 9,
     "metadata": {},
     "output_type": "execute_result"
    }
   ],
   "source": [
    "food_resource('비빔밥')"
   ]
  },
  {
   "cell_type": "markdown",
   "metadata": {
    "id": "maS1HQtsfpYH"
   },
   "source": [
    "# 음식정보[최종]"
   ]
  },
  {
   "cell_type": "code",
   "execution_count": 10,
   "metadata": {
    "id": "6kWiw1uOj6Vw"
   },
   "outputs": [],
   "source": [
    "def food_info(name):\n",
    "    food_en(name)\n",
    "    food_resource(name)"
   ]
  },
  {
   "cell_type": "code",
   "execution_count": 11,
   "metadata": {
    "id": "ECx8nNTFkt6C"
   },
   "outputs": [],
   "source": [
    "food_info('비빔밥')"
   ]
  },
  {
   "cell_type": "markdown",
   "metadata": {
    "id": "hdEurbu9A5Vu"
   },
   "source": [
    "# 네이버 API 적용"
   ]
  },
  {
   "cell_type": "code",
   "execution_count": 12,
   "metadata": {
    "colab": {
     "base_uri": "https://localhost:8080/"
    },
    "id": "0MG-4LRLBWVT",
    "outputId": "56e2e806-5f00-48dd-dda2-1178dd39374b"
   },
   "outputs": [
    {
     "name": "stderr",
     "output_type": "stream",
     "text": [
      "하위 디렉터리 또는 파일 static이(가) 이미 있습니다.\n"
     ]
    }
   ],
   "source": [
    "! mkdir static"
   ]
  },
  {
   "cell_type": "code",
   "execution_count": 13,
   "metadata": {
    "id": "pd0GL0w3fpYL"
   },
   "outputs": [],
   "source": [
    "def foodname_voice(name):\n",
    "  import requests\n",
    "  import json\n",
    "  import os\n",
    "  import sys\n",
    "  import urllib.request\n",
    "  import shutil\n",
    "\n",
    "  client_id = \"fr2pmzwe08\"\n",
    "  client_secret = \"uzTbsKj83c57qTJNlHRbeIsTiwDdVoZLKDod8UBh\"\n",
    "  encText = urllib.parse.quote(name)\n",
    "  data = \"speaker=nara&volume=0&speed=0&pitch=0&format=mp3&text=\" + encText;\n",
    "  url = \"https://naveropenapi.apigw.ntruss.com/tts-premium/v1/tts\"\n",
    "  request = urllib.request.Request(url)\n",
    "  request.add_header(\"X-NCP-APIGW-API-KEY-ID\",client_id)\n",
    "  request.add_header(\"X-NCP-APIGW-API-KEY\",client_secret)\n",
    "  response = urllib.request.urlopen(request, data=data.encode('utf-8'))\n",
    "  rescode = response.getcode()\n",
    "  if(rescode==200):\n",
    "      response_body = response.read()\n",
    "      with open('foodname.mp3', 'wb') as f:\n",
    "          f.write(response_body)\n",
    "      source = 'foodname.mp3'\n",
    "      destination = 'static/foodname.mp3'\n",
    "      shutil.move(source, destination)\n",
    "  else:\n",
    "      print(\"Error Code:\" + rescode)"
   ]
  },
  {
   "cell_type": "code",
   "execution_count": 14,
   "metadata": {
    "id": "duTLhTBFBJIA"
   },
   "outputs": [],
   "source": [
    "def kfoodinfo(name):\n",
    "  food_en(name)\n",
    "  food_resource(name)\n",
    "  foodname_voice(name)"
   ]
  },
  {
   "cell_type": "code",
   "execution_count": 15,
   "metadata": {
    "id": "I7e6I1n3BPGs"
   },
   "outputs": [],
   "source": [
    "kfoodinfo('비빔밥')"
   ]
  },
  {
   "cell_type": "markdown",
   "metadata": {
    "id": "DzY4CKi-_mXn"
   },
   "source": [
    "**모듈 임포트**"
   ]
  },
  {
   "cell_type": "code",
   "execution_count": 22,
   "metadata": {
    "colab": {
     "base_uri": "https://localhost:8080/"
    },
    "id": "WbVn8PBTvvgI",
    "outputId": "4c4bb0db-3b4e-47da-c00c-0aa3e7d67b97"
   },
   "outputs": [
    {
     "name": "stdout",
     "output_type": "stream",
     "text": [
      "Requirement already satisfied: fastapi in c:\\users\\kk135\\anaconda3\\envs\\tf\\lib\\site-packages (0.75.0)\n",
      "Requirement already satisfied: nest-asyncio in c:\\users\\kk135\\anaconda3\\envs\\tf\\lib\\site-packages (1.5.4)\n",
      "Requirement already satisfied: pyngrok in c:\\users\\kk135\\anaconda3\\envs\\tf\\lib\\site-packages (5.1.0)\n",
      "Requirement already satisfied: uvicorn in c:\\users\\kk135\\anaconda3\\envs\\tf\\lib\\site-packages (0.17.6)\n",
      "Requirement already satisfied: aiofiles in c:\\users\\kk135\\anaconda3\\envs\\tf\\lib\\site-packages (0.8.0)\n",
      "Requirement already satisfied: python-multipart in c:\\users\\kk135\\anaconda3\\envs\\tf\\lib\\site-packages (0.0.5)\n",
      "Requirement already satisfied: pydantic!=1.7,!=1.7.1,!=1.7.2,!=1.7.3,!=1.8,!=1.8.1,<2.0.0,>=1.6.2 in c:\\users\\kk135\\anaconda3\\envs\\tf\\lib\\site-packages (from fastapi) (1.9.0)\n",
      "Requirement already satisfied: starlette==0.17.1 in c:\\users\\kk135\\anaconda3\\envs\\tf\\lib\\site-packages (from fastapi) (0.17.1)\n",
      "Requirement already satisfied: typing-extensions in c:\\users\\kk135\\anaconda3\\envs\\tf\\lib\\site-packages (from starlette==0.17.1->fastapi) (4.1.1)\n",
      "Requirement already satisfied: anyio<4,>=3.0.0 in c:\\users\\kk135\\anaconda3\\envs\\tf\\lib\\site-packages (from starlette==0.17.1->fastapi) (3.5.0)\n",
      "Requirement already satisfied: PyYAML in c:\\users\\kk135\\anaconda3\\envs\\tf\\lib\\site-packages (from pyngrok) (6.0)\n",
      "Requirement already satisfied: click>=7.0 in c:\\users\\kk135\\anaconda3\\envs\\tf\\lib\\site-packages (from uvicorn) (8.0.4)\n",
      "Requirement already satisfied: h11>=0.8 in c:\\users\\kk135\\anaconda3\\envs\\tf\\lib\\site-packages (from uvicorn) (0.13.0)\n",
      "Requirement already satisfied: asgiref>=3.4.0 in c:\\users\\kk135\\anaconda3\\envs\\tf\\lib\\site-packages (from uvicorn) (3.5.0)\n",
      "Requirement already satisfied: six>=1.4.0 in c:\\users\\kk135\\anaconda3\\envs\\tf\\lib\\site-packages (from python-multipart) (1.16.0)\n",
      "Requirement already satisfied: sniffio>=1.1 in c:\\users\\kk135\\anaconda3\\envs\\tf\\lib\\site-packages (from anyio<4,>=3.0.0->starlette==0.17.1->fastapi) (1.2.0)\n",
      "Requirement already satisfied: idna>=2.8 in c:\\users\\kk135\\anaconda3\\envs\\tf\\lib\\site-packages (from anyio<4,>=3.0.0->starlette==0.17.1->fastapi) (3.3)\n",
      "Requirement already satisfied: importlib-metadata in c:\\users\\kk135\\anaconda3\\envs\\tf\\lib\\site-packages (from click>=7.0->uvicorn) (4.11.3)\n",
      "Requirement already satisfied: colorama in c:\\users\\kk135\\anaconda3\\envs\\tf\\lib\\site-packages (from click>=7.0->uvicorn) (0.4.4)\n",
      "Requirement already satisfied: zipp>=0.5 in c:\\users\\kk135\\anaconda3\\envs\\tf\\lib\\site-packages (from importlib-metadata->click>=7.0->uvicorn) (3.7.0)\n"
     ]
    }
   ],
   "source": [
    "!pip install fastapi nest-asyncio pyngrok uvicorn aiofiles python-multipart"
   ]
  },
  {
   "cell_type": "code",
   "execution_count": 16,
   "metadata": {
    "id": "KD6Kg9xqvS27"
   },
   "outputs": [],
   "source": [
    "from fastapi import FastAPI, Request, Form\n",
    "from fastapi.responses import HTMLResponse\n",
    "from fastapi.staticfiles import StaticFiles\n",
    "from fastapi.templating import Jinja2Templates\n",
    "import nest_asyncio\n",
    "from pyngrok import ngrok\n",
    "\n",
    "import uvicorn"
   ]
  },
  {
   "cell_type": "markdown",
   "metadata": {
    "id": "6D9GIMHl_xrd"
   },
   "source": [
    "**템플릿 생성**"
   ]
  },
  {
   "cell_type": "code",
   "execution_count": 17,
   "metadata": {
    "colab": {
     "base_uri": "https://localhost:8080/"
    },
    "id": "DPpkhuhs1qmh",
    "outputId": "9c2740d0-db0a-4ac0-fe7c-ad5d8a446559"
   },
   "outputs": [
    {
     "name": "stderr",
     "output_type": "stream",
     "text": [
      "하위 디렉터리 또는 파일 templates이(가) 이미 있습니다.\n"
     ]
    }
   ],
   "source": [
    "!mkdir templates"
   ]
  },
  {
   "cell_type": "code",
   "execution_count": 25,
   "metadata": {
    "colab": {
     "base_uri": "https://localhost:8080/"
    },
    "id": "Mr4-CzWHvuLY",
    "outputId": "dcb319f1-30eb-4589-9c82-1c466956389c"
   },
   "outputs": [
    {
     "name": "stdout",
     "output_type": "stream",
     "text": [
      "Writing templates/input.html\n"
     ]
    }
   ],
   "source": [
    "%%writefile templates/input.html\n",
    "<!DOCTYPE html>\n",
    "<html>\n",
    "<body>\n",
    "\n",
    "<h2>HTML Forms</h2>\n",
    "\n",
    "<form action=\"/topic\" method='post'>\n",
    "  <label for=\"fname\">요리명:</label><br>\n",
    "  <input type=\"text\" id=\"fname\" name=\"fname\" value=\"요리명\"><br><br>\n",
    "  <input type=\"submit\" value=\"Submit\">\n",
    "</form> \n",
    "\n",
    "<p>If you click the \"Submit\" button, the form-data will be sent to a page called \"/action_page.php\".</p>\n",
    "\n",
    "</body>\n",
    "</html>\n"
   ]
  },
  {
   "cell_type": "code",
   "execution_count": 65,
   "metadata": {
    "colab": {
     "base_uri": "https://localhost:8080/"
    },
    "id": "4umpiluRvuyN",
    "outputId": "ca61de43-35d0-4f13-c6d1-f8c47511ac8b"
   },
   "outputs": [
    {
     "name": "stdout",
     "output_type": "stream",
     "text": [
      "Overwriting templates/result_video.html\n"
     ]
    }
   ],
   "source": [
    "%%writefile templates/result_video.html\n",
    "<!DOCTYPE html>\n",
    "<html>\n",
    "<body>\n",
    "\n",
    "<h1>찾으신 한식에 관련된 정보입니다.</h1>\n",
    "<ul>\n",
    "\n",
    "<li>요리명 : {{foodname}}</li>\n",
    "<li>요리명(영문) : {{fooden}}</li>\n",
    "<li>요리설명(영문) : {{foodinen}}</li>\n",
    "<li>요리재료 : {{foodsource}}</li>\n",
    "\n",
    "<script>\n",
    "    if ({{allergie}}!=[] ) {\n",
    "        <li>※경고 : 알러지 유발재료 {{allergie}} 가 포함되어 있을 수 있습니다.</li>\n",
    "      } else {\n",
    "        <li></li>\n",
    "      }\n",
    "</script>\n",
    "    \n",
    "</ul>\n",
    "\n",
    "<p>음식명(한국어) 발음:</p>\n",
    "\n",
    "<audio controls autoplay>\n",
    "  <source src= {{ fn }} type=\"audio/mpeg\">\n",
    "  Your browser does not support the audio element.\n",
    "</audio>\n",
    "\n",
    "</body>\n",
    "</html>\n"
   ]
  },
  {
   "cell_type": "markdown",
   "metadata": {
    "id": "Y4z5OvR1jwmR"
   },
   "source": [
    "**API 구성 및 실행**"
   ]
  },
  {
   "cell_type": "code",
   "execution_count": 66,
   "metadata": {
    "id": "qtiaTV3DvuTB"
   },
   "outputs": [],
   "source": [
    "from fastapi.staticfiles import StaticFiles\n",
    "\n",
    "app=FastAPI()\n",
    "templates = Jinja2Templates(directory=\"templates\")\n",
    "app.mount('/static', StaticFiles(directory='static'), name='static')\n",
    "\n",
    "@app.get('/', response_class=HTMLResponse)\n",
    "async def read_topic(request: Request):\n",
    "  return templates.TemplateResponse(\"input.html\", {\"request\": request})\n",
    "\n",
    "@app.post('/topic', response_class=HTMLResponse)\n",
    "async def get_topic(request: Request, fname: str = Form(...)):\n",
    "  food_en(fname)\n",
    "  food_resource(fname)\n",
    "  foodname_voice(fname)\n",
    "\n",
    "  return templates.TemplateResponse(\"result_video.html\", {\"request\": request,\n",
    "                                                          'fn': '/static/foodname.mp3',\n",
    "                                                          'foodname': fname,\n",
    "                                                          'fooden': food_en(fname)[1],\n",
    "                                                          'foodinen' : food_en(fname)[2],\n",
    "                                                          'foodsource' : food_resource(fname)[0],\n",
    "                                                          'allergie' : food_resource(fname)[1]\n",
    "                                                          })\n",
    "\n"
   ]
  },
  {
   "cell_type": "code",
   "execution_count": 67,
   "metadata": {
    "colab": {
     "base_uri": "https://localhost:8080/"
    },
    "id": "Xai-ntaMxtYP",
    "outputId": "2b8d4fa5-2a64-4153-cdb7-de5f024d3e5a"
   },
   "outputs": [
    {
     "name": "stdout",
     "output_type": "stream",
     "text": [
      "Authtoken saved to configuration file: C:\\Users\\kk135/.ngrok2/ngrok.yml\n"
     ]
    }
   ],
   "source": [
    "!ngrok authtoken 26yWCLJ3Z9w72caEDhAo2a5x1Bd_37x6zHiyhnZ4LhYECiqAM"
   ]
  },
  {
   "cell_type": "code",
   "execution_count": 68,
   "metadata": {
    "colab": {
     "base_uri": "https://localhost:8080/",
     "height": 35
    },
    "id": "pnxpjJpCtKos",
    "outputId": "7217b837-ac99-4d02-915f-958177563933",
    "scrolled": true
   },
   "outputs": [
    {
     "data": {
      "text/plain": [
       "'/static/foodname.mp3'"
      ]
     },
     "execution_count": 68,
     "metadata": {},
     "output_type": "execute_result"
    }
   ],
   "source": [
    "app.url_path_for('static', path='/foodname.mp3')"
   ]
  },
  {
   "cell_type": "code",
   "execution_count": 69,
   "metadata": {
    "colab": {
     "base_uri": "https://localhost:8080/",
     "height": 54
    },
    "id": "7u_5AVuzKl6e",
    "outputId": "d2f3ff73-d357-4eb2-b0b6-a97bb2c993bf"
   },
   "outputs": [
    {
     "data": {
      "text/plain": [
       "\"['쌀', '안심', '콩나물', '청포묵', '미나리', '소금', '국간장', '다진파', '다진마늘', '참기름', '고추장', '설탕', '숙주', '도라지', '고사리', '계란', '양지머리']\""
      ]
     },
     "execution_count": 69,
     "metadata": {},
     "output_type": "execute_result"
    }
   ],
   "source": [
    "str(food_resource('비빔밥')[0])"
   ]
  },
  {
   "cell_type": "code",
   "execution_count": 70,
   "metadata": {
    "colab": {
     "base_uri": "https://localhost:8080/"
    },
    "id": "rNsYG9x9vuV-",
    "outputId": "31e98e62-fa87-4df0-ebce-6527022fa3d3"
   },
   "outputs": [
    {
     "name": "stdout",
     "output_type": "stream",
     "text": [
      "Public URL: http://fd73-112-187-142-248.ngrok.io\n"
     ]
    },
    {
     "name": "stderr",
     "output_type": "stream",
     "text": [
      "INFO:     Started server process [14252]\n",
      "INFO:     Waiting for application startup.\n",
      "INFO:     Application startup complete.\n",
      "INFO:     Uvicorn running on http://0.0.0.0:8000 (Press CTRL+C to quit)\n"
     ]
    },
    {
     "name": "stdout",
     "output_type": "stream",
     "text": [
      "INFO:     182.172.56.228:0 - \"GET / HTTP/1.1\" 200 OK\n",
      "INFO:     112.187.142.248:0 - \"GET / HTTP/1.1\" 200 OK\n",
      "INFO:     112.187.142.248:0 - \"GET /favicon.ico HTTP/1.1\" 404 Not Found\n",
      "INFO:     112.187.142.248:0 - \"POST /topic HTTP/1.1\" 200 OK\n",
      "INFO:     112.187.142.248:0 - \"GET /foodname.mp3 HTTP/1.1\" 200 OK\n",
      "INFO:     112.187.142.248:0 - \"GET /favicon.ico HTTP/1.1\" 404 Not Found\n",
      "INFO:     112.187.142.248:0 - \"POST /topic HTTP/1.1\" 200 OK\n",
      "INFO:     112.187.142.248:0 - \"GET /foodname.mp3 HTTP/1.1\" 200 OK\n",
      "INFO:     112.187.142.248:0 - \"GET /favicon.ico HTTP/1.1\" 404 Not Found\n"
     ]
    },
    {
     "name": "stderr",
     "output_type": "stream",
     "text": [
      "INFO:     Shutting down\n",
      "INFO:     Waiting for application shutdown.\n",
      "INFO:     Application shutdown complete.\n",
      "INFO:     Finished server process [14252]\n"
     ]
    }
   ],
   "source": [
    "ngrok_tunnel = ngrok.connect(8000)\n",
    "print ('Public URL:', ngrok_tunnel.public_url) \n",
    "nest_asyncio.apply()\n",
    "uvicorn.run(app, host='0.0.0.0', port=8000)"
   ]
  },
  {
   "cell_type": "code",
   "execution_count": 80,
   "metadata": {
    "colab": {
     "base_uri": "https://localhost:8080/",
     "height": 35
    },
    "id": "0w6v44tnKalc",
    "outputId": "a6831da1-e915-4f5a-da95-303140861d48"
   },
   "outputs": [
    {
     "data": {
      "application/vnd.google.colaboratory.intrinsic+json": {
       "type": "string"
      },
      "text/plain": [
       "'레'"
      ]
     },
     "execution_count": 80,
     "metadata": {},
     "output_type": "execute_result"
    }
   ],
   "source": [
    "food_resource('가지볶음')[0]"
   ]
  },
  {
   "cell_type": "code",
   "execution_count": null,
   "metadata": {
    "id": "BAagfMUMAUfB"
   },
   "outputs": [],
   "source": []
  }
 ],
 "metadata": {
  "colab": {
   "collapsed_sections": [],
   "name": "fastapi_KFoodinfo.ipynb",
   "provenance": []
  },
  "kernelspec": {
   "display_name": "Python 3 (ipykernel)",
   "language": "python",
   "name": "python3"
  },
  "language_info": {
   "codemirror_mode": {
    "name": "ipython",
    "version": 3
   },
   "file_extension": ".py",
   "mimetype": "text/x-python",
   "name": "python",
   "nbconvert_exporter": "python",
   "pygments_lexer": "ipython3",
   "version": "3.7.11"
  }
 },
 "nbformat": 4,
 "nbformat_minor": 1
}

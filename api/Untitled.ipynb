{
 "cells": [
  {
   "cell_type": "code",
   "execution_count": 1,
   "id": "40dcb4ca",
   "metadata": {},
   "outputs": [
    {
     "name": "stdout",
     "output_type": "stream",
     "text": [
      "Requirement already satisfied: fastapi in c:\\users\\kk135\\anaconda3\\envs\\tf\\lib\\site-packages (0.75.0)\n",
      "Requirement already satisfied: uvicorn in c:\\users\\kk135\\anaconda3\\envs\\tf\\lib\\site-packages (0.17.6)\n",
      "Requirement already satisfied: pydantic!=1.7,!=1.7.1,!=1.7.2,!=1.7.3,!=1.8,!=1.8.1,<2.0.0,>=1.6.2 in c:\\users\\kk135\\anaconda3\\envs\\tf\\lib\\site-packages (from fastapi) (1.9.0)\n",
      "Requirement already satisfied: starlette==0.17.1 in c:\\users\\kk135\\anaconda3\\envs\\tf\\lib\\site-packages (from fastapi) (0.17.1)\n",
      "Requirement already satisfied: anyio<4,>=3.0.0 in c:\\users\\kk135\\anaconda3\\envs\\tf\\lib\\site-packages (from starlette==0.17.1->fastapi) (3.5.0)\n",
      "Requirement already satisfied: typing-extensions in c:\\users\\kk135\\anaconda3\\envs\\tf\\lib\\site-packages (from starlette==0.17.1->fastapi) (4.1.1)\n",
      "Requirement already satisfied: h11>=0.8 in c:\\users\\kk135\\anaconda3\\envs\\tf\\lib\\site-packages (from uvicorn) (0.13.0)\n",
      "Requirement already satisfied: click>=7.0 in c:\\users\\kk135\\anaconda3\\envs\\tf\\lib\\site-packages (from uvicorn) (8.0.4)\n",
      "Requirement already satisfied: asgiref>=3.4.0 in c:\\users\\kk135\\anaconda3\\envs\\tf\\lib\\site-packages (from uvicorn) (3.5.0)\n",
      "Requirement already satisfied: idna>=2.8 in c:\\users\\kk135\\anaconda3\\envs\\tf\\lib\\site-packages (from anyio<4,>=3.0.0->starlette==0.17.1->fastapi) (3.3)\n",
      "Requirement already satisfied: sniffio>=1.1 in c:\\users\\kk135\\anaconda3\\envs\\tf\\lib\\site-packages (from anyio<4,>=3.0.0->starlette==0.17.1->fastapi) (1.2.0)\n",
      "Requirement already satisfied: colorama in c:\\users\\kk135\\anaconda3\\envs\\tf\\lib\\site-packages (from click>=7.0->uvicorn) (0.4.4)\n",
      "Requirement already satisfied: importlib-metadata in c:\\users\\kk135\\anaconda3\\envs\\tf\\lib\\site-packages (from click>=7.0->uvicorn) (4.11.3)\n",
      "Requirement already satisfied: zipp>=0.5 in c:\\users\\kk135\\anaconda3\\envs\\tf\\lib\\site-packages (from importlib-metadata->click>=7.0->uvicorn) (3.7.0)\n"
     ]
    }
   ],
   "source": [
    "! pip install fastapi uvicorn\n"
   ]
  },
  {
   "cell_type": "code",
   "execution_count": null,
   "id": "633e659a",
   "metadata": {},
   "outputs": [],
   "source": [
    "from typing import Optional\n",
    "from fastapi import FastAPI\n",
    "import uvicorn\n",
    "\n",
    "app=FastAPI()\n",
    "@app.get('/')\n",
    "def read_root():\n",
    "    return {'Hello':'World'}\n",
    "\n",
    "\n"
   ]
  }
 ],
 "metadata": {
  "kernelspec": {
   "display_name": "Python 3 (ipykernel)",
   "language": "python",
   "name": "python3"
  },
  "language_info": {
   "codemirror_mode": {
    "name": "ipython",
    "version": 3
   },
   "file_extension": ".py",
   "mimetype": "text/x-python",
   "name": "python",
   "nbconvert_exporter": "python",
   "pygments_lexer": "ipython3",
   "version": "3.7.11"
  }
 },
 "nbformat": 4,
 "nbformat_minor": 5
}

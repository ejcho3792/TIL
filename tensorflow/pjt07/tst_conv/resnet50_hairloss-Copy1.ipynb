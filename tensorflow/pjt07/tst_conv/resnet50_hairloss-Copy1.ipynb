{
 "cells": [
  {
   "cell_type": "code",
   "execution_count": 1,
   "id": "99841873",
   "metadata": {},
   "outputs": [],
   "source": [
    "import pandas as pd\n",
    "import numpy as np\n",
    "import matplotlib.pyplot as plt\n",
    "import seaborn as sns\n",
    "import cv2\n",
    "import os\n",
    "import glob \n",
    "import tensorflow as tf\n",
    "import PIL\n",
    "from PIL import ImageDraw\n",
    "\n",
    "from tensorflow.keras import models\n",
    "from tensorflow.keras.models import Model,load_model,Sequential\n",
    "from tensorflow.keras.layers import Conv2D, MaxPooling2D, Dropout, Dense,Flatten, Activation, BatchNormalization,Input,Add,ZeroPadding2D,AveragePooling2D,GlobalMaxPooling2D,MaxPool2D\n",
    "from tensorflow.keras import optimizers\n",
    "from tensorflow.keras import regularizers\n",
    "from tensorflow.keras.preprocessing import image\n",
    "from tensorflow.keras.preprocessing.image import ImageDataGenerator\n",
    "from tensorflow.keras.callbacks import EarlyStopping, ModelCheckpoint\n",
    "from tensorflow.keras.applications.resnet_v2 import ResNet152V2,ResNet50V2, preprocess_input, decode_predictions\n",
    "from tensorflow.keras.applications.resnet50 import ResNet50, preprocess_input, decode_predictions\n",
    "\n"
   ]
  },
  {
   "cell_type": "code",
   "execution_count": 2,
   "id": "a86ecbed",
   "metadata": {},
   "outputs": [],
   "source": [
    "train_path = 'D:\\\\빅데이터기반지능형서비스개발\\\\07기업요구사항기반의문제해결pjt\\\\data\\\\Train_data\\\\hairloss'\n",
    "valid_path = 'D:\\\\빅데이터기반지능형서비스개발\\\\07기업요구사항기반의문제해결pjt\\\\data\\\\Validation\\\\hairloss'\n",
    "test_path = 'D:\\\\빅데이터기반지능형서비스개발\\\\07기업요구사항기반의문제해결pjt\\\\data\\\\Test\\\\hairloss'"
   ]
  },
  {
   "cell_type": "code",
   "execution_count": 3,
   "id": "1ad490ab",
   "metadata": {},
   "outputs": [],
   "source": [
    "def preprocess(x):\n",
    "    ii=x\n",
    "    ii[:,:,0]= 1.0 * (ii[:,:,0] > 75)\n",
    "    ii[:,:,1]= 1.0 * (ii[:,:,1] > 125)\n",
    "    ii[:,:,2]= 1.0 * (ii[:,:,2] > 180)\n",
    "    x=ii\n",
    "    return x\n",
    "    "
   ]
  },
  {
   "cell_type": "code",
   "execution_count": 14,
   "id": "e12b529e",
   "metadata": {},
   "outputs": [
    {
     "name": "stdout",
     "output_type": "stream",
     "text": [
      "Found 63270 images belonging to 4 classes.\n",
      "Found 2643 images belonging to 4 classes.\n",
      "Found 7514 images belonging to 4 classes.\n"
     ]
    }
   ],
   "source": [
    "labels=pd.Series(os.listdir(train_path))\n",
    "labels=labels.sort_values()\n",
    "labels=labels.to_list()\n",
    "\n",
    "image_height = 224  # 이미지 높이\n",
    "image_width = 224   # 이미지 넓이\n",
    "batch_size = 32     # batch size\n",
    "epochs  = 20  # trining 횟수\n",
    "train_datagen = ImageDataGenerator(rescale=1./255)\n",
    "val_datagen = ImageDataGenerator(rescale=1./255)\n",
    "test_datagen = ImageDataGenerator(rescale=1./255)\n",
    "#train_datagen = ImageDataGenerator(preprocessing_function=preprocess)\n",
    "#val_datagen = ImageDataGenerator(preprocessing_function=preprocess)\n",
    "#test_datagen = ImageDataGenerator(preprocessing_function=preprocess)\n",
    "                                  \n",
    "# train_datagen 인스턴스를 통해 train dataset 에서 한번에 batch_size 만큼 이미지를 만들어내는 training_set 객체를 생성.\n",
    "train_set = train_datagen.flow_from_directory(train_path,\n",
    "                                                 target_size=(image_width, image_height),\n",
    "                                                 batch_size=batch_size,\n",
    "                                                 class_mode='categorical')\n",
    "\n",
    "\n",
    "# val_datagen 인스턴스를 통해 test dataset 에서 한번에 batch_size 만큼 이미지를 만들어내는 test_set 객체를 생성.\n",
    "test_set = test_datagen.flow_from_directory(test_path,                                            \n",
    "                                            target_size=(image_width, image_height),\n",
    "                                            batch_size=batch_size,\n",
    "                                            class_mode='categorical')\n",
    "\n",
    "#val_datagen 인스턴스를 통해 val dataset 에서 한번에 batch_size 만큼 이미지를 만들어내는 val_set 객체를 생성.\n",
    "val_set = val_datagen.flow_from_directory(valid_path,                                        \n",
    "                                           target_size=(image_width, image_height),\n",
    "                                           batch_size=batch_size,\n",
    "                                           class_mode='categorical')"
   ]
  },
  {
   "cell_type": "code",
   "execution_count": 31,
   "id": "547e598a",
   "metadata": {},
   "outputs": [
    {
     "data": {
      "text/plain": [
       "array([[0., 0., 1., 0.],\n",
       "       [0., 1., 0., 0.],\n",
       "       [0., 1., 0., 0.],\n",
       "       [0., 1., 0., 0.],\n",
       "       [0., 0., 0., 1.],\n",
       "       [0., 1., 0., 0.],\n",
       "       [0., 0., 1., 0.],\n",
       "       [0., 1., 0., 0.],\n",
       "       [0., 0., 1., 0.],\n",
       "       [0., 1., 0., 0.],\n",
       "       [0., 0., 0., 1.],\n",
       "       [0., 0., 0., 1.],\n",
       "       [0., 0., 0., 1.],\n",
       "       [0., 0., 0., 1.],\n",
       "       [0., 1., 0., 0.],\n",
       "       [0., 1., 0., 0.],\n",
       "       [1., 0., 0., 0.],\n",
       "       [0., 0., 0., 1.],\n",
       "       [0., 0., 0., 1.],\n",
       "       [1., 0., 0., 0.],\n",
       "       [0., 0., 1., 0.],\n",
       "       [0., 0., 0., 1.],\n",
       "       [0., 1., 0., 0.],\n",
       "       [0., 0., 0., 1.],\n",
       "       [0., 1., 0., 0.],\n",
       "       [1., 0., 0., 0.],\n",
       "       [1., 0., 0., 0.],\n",
       "       [0., 1., 0., 0.],\n",
       "       [0., 1., 0., 0.],\n",
       "       [0., 0., 1., 0.],\n",
       "       [0., 0., 0., 1.],\n",
       "       [0., 0., 1., 0.]], dtype=float32)"
      ]
     },
     "execution_count": 31,
     "metadata": {},
     "output_type": "execute_result"
    }
   ],
   "source": [
    "train_set[1][1]"
   ]
  },
  {
   "cell_type": "code",
   "execution_count": 15,
   "id": "29cfa593",
   "metadata": {},
   "outputs": [
    {
     "name": "stdout",
     "output_type": "stream",
     "text": [
      "train set의 이미지 클래스: {'hairloss_0': 0, 'hairloss_1': 1, 'hairloss_2': 2, 'hairloss_3': 3}\n",
      "test set의 이미지 클래스: {'hairloss_0': 0, 'hairloss_1': 1, 'hairloss_2': 2, 'hairloss_3': 3}\n",
      "validation set의 이미지 클래스: {'hairloss_0': 0, 'hairloss_1': 1, 'hairloss_2': 2, 'hairloss_3': 3}\n"
     ]
    },
    {
     "data": {
      "text/plain": [
       "{0: 15651, 1: 20669, 2: 10992, 3: 15958}"
      ]
     },
     "execution_count": 15,
     "metadata": {},
     "output_type": "execute_result"
    }
   ],
   "source": [
    "class_path = glob.glob(train_path + '/*')\n",
    "print(f'train set의 이미지 클래스: {train_set.class_indices}')\n",
    "print(f'test set의 이미지 클래스: {test_set.class_indices}')\n",
    "print(f'validation set의 이미지 클래스: {val_set.class_indices}')\n",
    "classNum = []\n",
    "fileNum = []\n",
    "for path in class_path :\n",
    "    fileNum.append(len(glob.glob(path + '/*')))\n",
    "    classNum.append(int(path.split('_')[-1]))\n",
    "\n",
    "label_dic = dict(zip(classNum, fileNum))\n",
    "label_dic"
   ]
  },
  {
   "cell_type": "code",
   "execution_count": 16,
   "id": "812d2cc9",
   "metadata": {},
   "outputs": [
    {
     "name": "stdout",
     "output_type": "stream",
     "text": [
      "Model: \"sequential_4\"\n",
      "_________________________________________________________________\n",
      "Layer (type)                 Output Shape              Param #   \n",
      "=================================================================\n",
      "conv2d_11 (Conv2D)           (None, 222, 222, 32)      896       \n",
      "_________________________________________________________________\n",
      "batch_normalization_12 (Batc (None, 222, 222, 32)      128       \n",
      "_________________________________________________________________\n",
      "max_pooling2d_11 (MaxPooling (None, 111, 111, 32)      0         \n",
      "_________________________________________________________________\n",
      "dropout_15 (Dropout)         (None, 111, 111, 32)      0         \n",
      "_________________________________________________________________\n",
      "conv2d_12 (Conv2D)           (None, 109, 109, 64)      18496     \n",
      "_________________________________________________________________\n",
      "batch_normalization_13 (Batc (None, 109, 109, 64)      256       \n",
      "_________________________________________________________________\n",
      "max_pooling2d_12 (MaxPooling (None, 54, 54, 64)        0         \n",
      "_________________________________________________________________\n",
      "dropout_16 (Dropout)         (None, 54, 54, 64)        0         \n",
      "_________________________________________________________________\n",
      "flatten_4 (Flatten)          (None, 186624)            0         \n",
      "_________________________________________________________________\n",
      "dense_8 (Dense)              (None, 64)                11944000  \n",
      "_________________________________________________________________\n",
      "dropout_17 (Dropout)         (None, 64)                0         \n",
      "_________________________________________________________________\n",
      "dense_9 (Dense)              (None, 4)                 260       \n",
      "=================================================================\n",
      "Total params: 11,964,036\n",
      "Trainable params: 11,963,844\n",
      "Non-trainable params: 192\n",
      "_________________________________________________________________\n"
     ]
    }
   ],
   "source": [
    "model = Sequential()\n",
    "model.add(Conv2D(32, (3, 3), activation='relu', input_shape=(224, 224, 3)))\n",
    "model.add(BatchNormalization())\n",
    "model.add(MaxPooling2D(pool_size=(2, 2)))\n",
    "model.add(Dropout(0.25))\n",
    "\n",
    "model.add(Conv2D(64, (3, 3), activation='relu'))\n",
    "model.add(BatchNormalization())\n",
    "model.add(MaxPooling2D(pool_size=(2, 2)))\n",
    "model.add(Dropout(0.25))\n",
    "\n",
    "#model.add(Conv2D(128, (3, 3), activation='relu'))\n",
    "#model.add(BatchNormalization())\n",
    "#model.add(MaxPooling2D(pool_size=(2, 2)))\n",
    "#model.add(Dropout(0.25))\n",
    "\n",
    "model.add(Flatten())\n",
    "model.add(Dense(64, activation='relu'))\n",
    "model.add(Dropout(0.3))\n",
    "model.add(Dense(4, activation='softmax')) # 2 because we have cat and dog classes\n",
    "model.summary()"
   ]
  },
  {
   "cell_type": "code",
   "execution_count": 24,
   "id": "c0f4dd65",
   "metadata": {},
   "outputs": [
    {
     "data": {
      "text/plain": [
       "{0: 0.13206184908312568, 1: 0.1, 2: 0.1880367540029112, 3: 0.12952124326356687}"
      ]
     },
     "execution_count": 24,
     "metadata": {},
     "output_type": "execute_result"
    }
   ],
   "source": [
    "from collections import Counter\n",
    "counter = Counter(train_set.classes)\n",
    "max_val = float(max(counter.values()))       \n",
    "class_weights = {class_id : max_val/num_images/10 for class_id, num_images in counter.items()}                     \n",
    "class_weights"
   ]
  },
  {
   "cell_type": "code",
   "execution_count": 25,
   "id": "7cb7b0ab",
   "metadata": {},
   "outputs": [
    {
     "name": "stdout",
     "output_type": "stream",
     "text": [
      "WARNING:tensorflow:sample_weight modes were coerced from\n",
      "  ...\n",
      "    to  \n",
      "  ['...']\n",
      "WARNING:tensorflow:sample_weight modes were coerced from\n",
      "  ...\n",
      "    to  \n",
      "  ['...']\n",
      "Train for 1978 steps, validate for 235 steps\n",
      "Epoch 1/20\n",
      "1978/1978 [==============================] - 157s 80ms/step - loss: 0.6077 - acc: 0.7494 - val_loss: 0.8609 - val_acc: 0.6731\n",
      "Epoch 2/20\n",
      "1978/1978 [==============================] - 157s 79ms/step - loss: 0.5748 - acc: 0.7622 - val_loss: 1.2610 - val_acc: 0.6053\n",
      "Epoch 3/20\n",
      "1978/1978 [==============================] - 156s 79ms/step - loss: 0.5559 - acc: 0.7729 - val_loss: 0.8696 - val_acc: 0.6417\n",
      "Epoch 4/20\n",
      "1978/1978 [==============================] - 156s 79ms/step - loss: 0.5284 - acc: 0.7816 - val_loss: 1.2707 - val_acc: 0.5789\n"
     ]
    }
   ],
   "source": [
    "opt = tf.keras.optimizers.Adam(learning_rate= 0.0001)\n",
    "\n",
    "# 모델 학습시 가장 최신의 최고 모델을 저장하는 인스턴스를 정의\n",
    "modelCheckpoint = ModelCheckpoint('logs/hairloss_custom.h5', save_best_only=True)\n",
    "\n",
    "# 모델 학습시 정확도를 모니터링하여 조기에 학습을 종료시키는 인스턴스 정의\n",
    "monitor_val_acc = EarlyStopping(monitor='val_acc', patience=3)\n",
    "\n",
    "# callback 정의\n",
    "callbacks= [modelCheckpoint,monitor_val_acc]\n",
    "\n",
    "model.compile(loss='categorical_crossentropy', optimizer=opt,metrics=['acc'])\n",
    "\n",
    "history =model.fit(train_set,\n",
    "                    epochs=epochs,\n",
    "                    validation_data=val_set,\n",
    "                    callbacks=callbacks\n",
    "                   )"
   ]
  },
  {
   "cell_type": "code",
   "execution_count": 26,
   "id": "ed114b3a",
   "metadata": {},
   "outputs": [
    {
     "name": "stdout",
     "output_type": "stream",
     "text": [
      "WARNING:tensorflow:sample_weight modes were coerced from\n",
      "  ...\n",
      "    to  \n",
      "  ['...']\n",
      "83/83 [==============================] - 3s 35ms/step - loss: 0.8418 - acc: 0.7382\n",
      "Test loss: 0.8418174669685135\n",
      "Test accuracy: 73.81762862205505\n"
     ]
    }
   ],
   "source": [
    "(test_loss, test_accuracy) = model.evaluate(test_set, verbose=1)\n",
    "print('Test loss:', test_loss)\n",
    "print('Test accuracy:', test_accuracy*100)"
   ]
  },
  {
   "cell_type": "code",
   "execution_count": 27,
   "id": "d63e6de7",
   "metadata": {},
   "outputs": [
    {
     "data": {
      "image/png": "[encoded data removed]",
      "text/plain": [
       "<Figure size 1296x720 with 1 Axes>"
      ]
     },
     "metadata": {
      "needs_background": "light"
     },
     "output_type": "display_data"
    }
   ],
   "source": [
    "font1 = {'family': 'DejaVu Sans',\n",
    "         'weight': 'bold',\n",
    "         'size': 20\n",
    "         }\n",
    "\n",
    "font2 = {'family': 'DejaVu Sans',\n",
    "         'size': 16\n",
    "         }   \n",
    "\n",
    "plt.figure(figsize=(18,10))\n",
    "\n",
    "plt.plot(history.history['loss'], '--', c = 'red', label = 'loss', linewidth = 3)\n",
    "plt.plot(history.history['val_loss'], '--', c = 'dodgerblue', label = 'val_loss', linewidth = 3)\n",
    "plt.plot(history.history['acc'], c='orange',label = 'accuracy', linewidth = 5)\n",
    "plt.plot(history.history['val_acc'],c='purple',label = 'val_accuracy', linewidth = 5)\n",
    "\n",
    "\n",
    "plt.legend(['loss', 'val_loss','accuracy','val_accuracy'],shadow = True, loc='best',fontsize = 16)\n",
    "plt.title('erythema', fontdict=font1, pad = 20)\n",
    "plt.xlabel('epoch', fontdict=font2, labelpad=10)\n",
    "plt.xticks(fontsize=16)\n",
    "plt.yticks(fontsize=16)\n",
    "plt.grid(True, alpha=0.5, linestyle='--')\n",
    "plt.show()"
   ]
  },
  {
   "cell_type": "code",
   "execution_count": null,
   "id": "73703d42",
   "metadata": {},
   "outputs": [],
   "source": []
  },
  {
   "cell_type": "code",
   "execution_count": null,
   "id": "ccc07e5a",
   "metadata": {},
   "outputs": [],
   "source": [
    "from tensorflow.keras.models import load_model\n",
    "model=load_model('logs/hairloss_custom.h5')"
   ]
  },
  {
   "cell_type": "code",
   "execution_count": null,
   "id": "0e96ae81",
   "metadata": {},
   "outputs": [],
   "source": [
    "dd = model.evaluate_generator(test_set,32)\n",
    "dd"
   ]
  },
  {
   "cell_type": "code",
   "execution_count": null,
   "id": "ef906840",
   "metadata": {},
   "outputs": [],
   "source": []
  },
  {
   "cell_type": "code",
   "execution_count": null,
   "id": "d14e4035",
   "metadata": {},
   "outputs": [],
   "source": []
  },
  {
   "cell_type": "markdown",
   "id": "f8604321",
   "metadata": {},
   "source": [
    "---"
   ]
  },
  {
   "cell_type": "markdown",
   "id": "f964b30b",
   "metadata": {},
   "source": [
    "---"
   ]
  },
  {
   "cell_type": "code",
   "execution_count": 5,
   "id": "ea81b070",
   "metadata": {},
   "outputs": [],
   "source": [
    "from tensorflow.keras.models import load_model\n",
    "model=load_model('logs/hairloss.h5')"
   ]
  },
  {
   "cell_type": "code",
   "execution_count": 28,
   "id": "9b6cf25e",
   "metadata": {},
   "outputs": [
    {
     "name": "stdout",
     "output_type": "stream",
     "text": [
      "WARNING:tensorflow:sample_weight modes were coerced from\n",
      "  ...\n",
      "    to  \n",
      "  ['...']\n"
     ]
    },
    {
     "data": {
      "text/plain": [
       "[0.807028517127037, 0.7402344]"
      ]
     },
     "execution_count": 28,
     "metadata": {},
     "output_type": "execute_result"
    }
   ],
   "source": [
    "dd = model.evaluate_generator(test_set,32)\n",
    "dd"
   ]
  },
  {
   "cell_type": "code",
   "execution_count": 29,
   "id": "a785121f",
   "metadata": {},
   "outputs": [
    {
     "data": {
      "text/plain": [
       "<AxesSubplot:>"
      ]
     },
     "execution_count": 29,
     "metadata": {},
     "output_type": "execute_result"
    },
    {
     "data": {
      "image/png": "[encoded data removed]",
      "text/plain": [
       "<Figure size 432x288 with 2 Axes>"
      ]
     },
     "metadata": {
      "needs_background": "light"
     },
     "output_type": "display_data"
    }
   ],
   "source": [
    "test_set.reset()\n",
    "Y_pred = model.predict_generator(test_set)#validation_generator.n // validation_generator.batch_size+1)\n",
    "import numpy as np\n",
    "from sklearn.metrics import classification_report, confusion_matrix\n",
    "\n",
    "y_pred = np.argmax(Y_pred, axis=1) \n",
    "\n",
    "cm=confusion_matrix(test_set.classes, y_pred)\n",
    "tot=np.sum(cm,axis=1)\n",
    "cm1=cm/tot[:,None]\n",
    "classes=['0','1','2','3']\n",
    "import seaborn as sn\n",
    "import pandas as pd\n",
    "import matplotlib.pyplot as plt\n",
    "plt.rc('font', family='Malgun Gothic')\n",
    "df_cm = pd.DataFrame(cm1,\n",
    "                     index = [i for i in classes],\n",
    "                  columns = [i for i in classes])\n",
    "plt.figure()\n",
    "sn.heatmap(df_cm, annot=True)"
   ]
  },
  {
   "cell_type": "code",
   "execution_count": 8,
   "id": "6f1e7c30",
   "metadata": {},
   "outputs": [
    {
     "data": {
      "text/plain": [
       "array([[  8,  53,   6,   9],\n",
       "       [ 54, 199,  30,  20],\n",
       "       [ 19,  78,   8,   3],\n",
       "       [ 10,  30,   4,   3]], dtype=int64)"
      ]
     },
     "execution_count": 8,
     "metadata": {},
     "output_type": "execute_result"
    }
   ],
   "source": [
    "cm"
   ]
  },
  {
   "cell_type": "code",
   "execution_count": null,
   "id": "09eb7cb7",
   "metadata": {},
   "outputs": [],
   "source": []
  }
 ],
 "metadata": {
  "kernelspec": {
   "display_name": "Python 3 (ipykernel)",
   "language": "python",
   "name": "python3"
  },
  "language_info": {
   "codemirror_mode": {
    "name": "ipython",
    "version": 3
   },
   "file_extension": ".py",
   "mimetype": "text/x-python",
   "name": "python",
   "nbconvert_exporter": "python",
   "pygments_lexer": "ipython3",
   "version": "3.7.11"
  }
 },
 "nbformat": 4,
 "nbformat_minor": 5
}

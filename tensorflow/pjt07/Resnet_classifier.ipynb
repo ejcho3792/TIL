{
 "cells": [
  {
   "cell_type": "markdown",
   "metadata": {
    "id": "UDCEyHmBkRyx"
   },
   "source": [
    "# Scalp Type Image Classifier using ResNet152v2 "
   ]
  },
  {
   "cell_type": "code",
   "execution_count": 1,
   "metadata": {
    "executionInfo": {
     "elapsed": 2995,
     "status": "ok",
     "timestamp": 1650256859833,
     "user": {
      "displayName": "H.W park",
      "userId": "06250213374847463567"
     },
     "user_tz": -540
    },
    "id": "D498U_w0KESy"
   },
   "outputs": [],
   "source": [
    "import pandas as pd\n",
    "import numpy as np\n",
    "import matplotlib.pyplot as plt\n",
    "import seaborn as sns\n",
    "import cv2\n",
    "import os\n",
    "import glob \n",
    "import tensorflow as tf\n",
    "import PIL\n",
    "from PIL import ImageDraw\n",
    "\n",
    "from tensorflow.keras import models\n",
    "from tensorflow.keras.models import Model,load_model,Sequential\n",
    "from tensorflow.keras.layers import Conv2D, MaxPooling2D, Dropout, Dense,Flatten, Activation, BatchNormalization,Input,Add,ZeroPadding2D,AveragePooling2D,GlobalMaxPooling2D,MaxPool2D\n",
    "from tensorflow.keras import optimizers\n",
    "from tensorflow.keras import regularizers\n",
    "from tensorflow.keras.preprocessing import image\n",
    "from tensorflow.keras.preprocessing.image import ImageDataGenerator\n",
    "from tensorflow.keras.callbacks import EarlyStopping, ModelCheckpoint\n",
    "from tensorflow.keras.applications.resnet_v2 import ResNet152V2,ResNet50V2, preprocess_input, decode_predictions\n",
    "from tensorflow.keras.applications.resnet50 import ResNet50, preprocess_input, decode_predictions\n",
    "\n",
    "\n",
    "from sklearn.metrics import confusion_matrix"
   ]
  },
  {
   "cell_type": "markdown",
   "metadata": {
    "id": "uefSTMSPk1Em"
   },
   "source": [
    "Train_data, Validation, Test >> dandruff, erythema, hairloss, folliculitis, oily_scalp, dry_scalp 총 6가지 두피 타입 이미지 데이터셋이 있음"
   ]
  },
  {
   "cell_type": "code",
   "execution_count": 2,
   "metadata": {
    "executionInfo": {
     "elapsed": 691,
     "status": "ok",
     "timestamp": 1650262114697,
     "user": {
      "displayName": "H.W park",
      "userId": "06250213374847463567"
     },
     "user_tz": -540
    },
    "id": "W1AptC6b_GXU"
   },
   "outputs": [],
   "source": [
    "train_dir = 'D:\\\\빅데이터기반지능형서비스개발\\\\07기업요구사항기반의문제해결pjt\\\\tdata\\\\train'\n",
    "valid_dir = 'D:\\\\빅데이터기반지능형서비스개발\\\\07기업요구사항기반의문제해결pjt\\\\tdata\\\\validation'\n",
    "test_dir = 'D:\\\\빅데이터기반지능형서비스개발\\\\07기업요구사항기반의문제해결pjt\\\\tdata\\\\test'"
   ]
  },
  {
   "cell_type": "markdown",
   "metadata": {
    "id": "f_41ISSymBdT"
   },
   "source": [
    "------------------------------"
   ]
  },
  {
   "cell_type": "markdown",
   "metadata": {
    "id": "dfSavUlGIysT"
   },
   "source": [
    "### Image generator"
   ]
  },
  {
   "cell_type": "code",
   "execution_count": 3,
   "metadata": {
    "colab": {
     "base_uri": "https://localhost:8080/"
    },
    "executionInfo": {
     "elapsed": 4,
     "status": "ok",
     "timestamp": 1650262119736,
     "user": {
      "displayName": "H.W park",
      "userId": "06250213374847463567"
     },
     "user_tz": -540
    },
    "id": "5HrKbO9M_Csk",
    "outputId": "2e2a70c1-9813-43ac-d002-b843973c0587"
   },
   "outputs": [
    {
     "data": {
      "text/plain": [
       "['folliculitis_0', 'folliculitis_1', 'folliculitis_2', 'folliculitis_3']"
      ]
     },
     "execution_count": 3,
     "metadata": {},
     "output_type": "execute_result"
    }
   ],
   "source": [
    "# image labels\n",
    "\n",
    "labels=pd.Series(os.listdir(train_dir))\n",
    "\n",
    "labels=labels.sort_values()\n",
    "labels=labels.to_list()\n",
    "labels"
   ]
  },
  {
   "cell_type": "code",
   "execution_count": 4,
   "metadata": {
    "executionInfo": {
     "elapsed": 9,
     "status": "ok",
     "timestamp": 1650262121848,
     "user": {
      "displayName": "H.W park",
      "userId": "06250213374847463567"
     },
     "user_tz": -540
    },
    "id": "1dzqA6e4KEQa"
   },
   "outputs": [],
   "source": [
    "image_height = 224  # 이미지 높이\n",
    "image_width = 224   # 이미지 넓이\n",
    "batch_size = 32     # batch size\n",
    "epochs  = 20  # trining 횟수"
   ]
  },
  {
   "cell_type": "code",
   "execution_count": 5,
   "metadata": {
    "executionInfo": {
     "elapsed": 467,
     "status": "ok",
     "timestamp": 1650262139324,
     "user": {
      "displayName": "H.W park",
      "userId": "06250213374847463567"
     },
     "user_tz": -540
    },
    "id": "udClSB-PKEOK"
   },
   "outputs": [],
   "source": [
    "# ImageDataGenerator 클래스를 통해 train_datagen, val_datagen 인스턴스를 생성.\n",
    "# 픽셀 값을 0~1 범위로 변환\n",
    "\n",
    "train_datagen = ImageDataGenerator(rescale=1./255)\n",
    "val_datagen = ImageDataGenerator(rescale=1./255)\n",
    "test_datagen = ImageDataGenerator(rescale=1./255)"
   ]
  },
  {
   "cell_type": "code",
   "execution_count": 6,
   "metadata": {
    "colab": {
     "base_uri": "https://localhost:8080/"
    },
    "executionInfo": {
     "elapsed": 1539,
     "status": "ok",
     "timestamp": 1650262450230,
     "user": {
      "displayName": "H.W park",
      "userId": "06250213374847463567"
     },
     "user_tz": -540
    },
    "id": "QVQhwU2LKEL1",
    "outputId": "441655e3-8bba-4649-ec16-c49117840171"
   },
   "outputs": [
    {
     "name": "stdout",
     "output_type": "stream",
     "text": [
      "Found 8446 images belonging to 4 classes.\n",
      "Found 534 images belonging to 4 classes.\n",
      "Found 1333 images belonging to 4 classes.\n"
     ]
    }
   ],
   "source": [
    "# train_datagen 인스턴스를 통해 train dataset 에서 한번에 batch_size 만큼 이미지를 만들어내는 training_set 객체를 생성.\n",
    "train_set = train_datagen.flow_from_directory(train_dir,\n",
    "                                                 target_size=(image_width, image_height),\n",
    "                                                 \n",
    "                                                 batch_size=batch_size,\n",
    "                                                 class_mode='categorical')\n",
    "\n",
    "\n",
    "# val_datagen 인스턴스를 통해 test dataset 에서 한번에 batch_size 만큼 이미지를 만들어내는 test_set 객체를 생성.\n",
    "test_set = test_datagen.flow_from_directory(test_dir,\n",
    "                                            \n",
    "                                            target_size=(image_width, image_height),\n",
    "                                            batch_size=batch_size,\n",
    "                                            class_mode='categorical')\n",
    "\n",
    "#val_datagen 인스턴스를 통해 val dataset 에서 한번에 batch_size 만큼 이미지를 만들어내는 val_set 객체를 생성.\n",
    "val_set = val_datagen.flow_from_directory(valid_dir,\n",
    "                                          \n",
    "                                           target_size=(image_width, image_height),\n",
    "                                           batch_size=batch_size,\n",
    "                                           class_mode='categorical')"
   ]
  },
  {
   "cell_type": "code",
   "execution_count": 7,
   "metadata": {
    "colab": {
     "base_uri": "https://localhost:8080/"
    },
    "executionInfo": {
     "elapsed": 443,
     "status": "ok",
     "timestamp": 1650262455779,
     "user": {
      "displayName": "H.W park",
      "userId": "06250213374847463567"
     },
     "user_tz": -540
    },
    "id": "tydVFZG9_VcL",
    "outputId": "eabe5f65-a518-4584-b574-6234e2707575"
   },
   "outputs": [
    {
     "data": {
      "text/plain": [
       "['D:\\\\빅데이터기반지능형서비스개발\\\\07기업요구사항기반의문제해결pjt\\\\tdata\\\\train\\\\folliculitis_0',\n",
       " 'D:\\\\빅데이터기반지능형서비스개발\\\\07기업요구사항기반의문제해결pjt\\\\tdata\\\\train\\\\folliculitis_1',\n",
       " 'D:\\\\빅데이터기반지능형서비스개발\\\\07기업요구사항기반의문제해결pjt\\\\tdata\\\\train\\\\folliculitis_2',\n",
       " 'D:\\\\빅데이터기반지능형서비스개발\\\\07기업요구사항기반의문제해결pjt\\\\tdata\\\\train\\\\folliculitis_3']"
      ]
     },
     "execution_count": 7,
     "metadata": {},
     "output_type": "execute_result"
    }
   ],
   "source": [
    "class_path = glob.glob(train_dir + '/*')\n",
    "class_path"
   ]
  },
  {
   "cell_type": "code",
   "execution_count": 8,
   "metadata": {
    "colab": {
     "base_uri": "https://localhost:8080/"
    },
    "executionInfo": {
     "elapsed": 5,
     "status": "ok",
     "timestamp": 1650262457839,
     "user": {
      "displayName": "H.W park",
      "userId": "06250213374847463567"
     },
     "user_tz": -540
    },
    "id": "ngm0ngGvKEJd",
    "outputId": "ccd99da2-e8c5-4e98-bf0a-665c118de453"
   },
   "outputs": [
    {
     "name": "stdout",
     "output_type": "stream",
     "text": [
      "train set의 이미지 클래스: {'folliculitis_0': 0, 'folliculitis_1': 1, 'folliculitis_2': 2, 'folliculitis_3': 3}\n",
      "test set의 이미지 클래스: {'folliculitis_0': 0, 'folliculitis_1': 1, 'folliculitis_2': 2, 'folliculitis_3': 3}\n",
      "validation set의 이미지 클래스: {'folliculitis_0': 0, 'folliculitis_1': 1, 'folliculitis_2': 2, 'folliculitis_3': 3}\n"
     ]
    }
   ],
   "source": [
    "# 각각의 data set 이 만들어 내는 이미지의 클래스 인덱스 확인\n",
    "print(f'train set의 이미지 클래스: {train_set.class_indices}')\n",
    "print(f'test set의 이미지 클래스: {test_set.class_indices}')\n",
    "print(f'validation set의 이미지 클래스: {val_set.class_indices}')"
   ]
  },
  {
   "cell_type": "code",
   "execution_count": 9,
   "metadata": {
    "colab": {
     "base_uri": "https://localhost:8080/"
    },
    "executionInfo": {
     "elapsed": 13,
     "status": "ok",
     "timestamp": 1650262460093,
     "user": {
      "displayName": "H.W park",
      "userId": "06250213374847463567"
     },
     "user_tz": -540
    },
    "id": "dgVk7KAC_wJI",
    "outputId": "7c640b77-81ca-493d-feee-f422bdc21aaa"
   },
   "outputs": [
    {
     "data": {
      "text/plain": [
       "{0: 2022, 1: 2126, 2: 2157, 3: 2141}"
      ]
     },
     "execution_count": 9,
     "metadata": {},
     "output_type": "execute_result"
    }
   ],
   "source": [
    "classNum = []\n",
    "fileNum = []\n",
    "for path in class_path :\n",
    "    fileNum.append(len(glob.glob(path + '/*')))\n",
    "    classNum.append(int(path.split('_')[-1]))\n",
    "\n",
    "label_dic = dict(zip(classNum, fileNum))\n",
    "label_dic"
   ]
  },
  {
   "cell_type": "markdown",
   "metadata": {
    "id": "8ESK3c_iHi8-"
   },
   "source": [
    "### 모델링"
   ]
  },
  {
   "cell_type": "code",
   "execution_count": 10,
   "metadata": {
    "colab": {
     "base_uri": "https://localhost:8080/"
    },
    "executionInfo": {
     "elapsed": 20661,
     "status": "ok",
     "timestamp": 1650262488180,
     "user": {
      "displayName": "H.W park",
      "userId": "06250213374847463567"
     },
     "user_tz": -540
    },
    "id": "wIzeUQVyLlm1",
    "outputId": "dbf3c5a9-9cc9-48c1-e631-3389cce2f203"
   },
   "outputs": [
    {
     "name": "stdout",
     "output_type": "stream",
     "text": [
      "Model: \"resnet50v2\"\n",
      "__________________________________________________________________________________________________\n",
      "Layer (type)                    Output Shape         Param #     Connected to                     \n",
      "==================================================================================================\n",
      "input_1 (InputLayer)            [(None, 224, 224, 3) 0                                            \n",
      "__________________________________________________________________________________________________\n",
      "conv1_pad (ZeroPadding2D)       (None, 230, 230, 3)  0           input_1[0][0]                    \n",
      "__________________________________________________________________________________________________\n",
      "conv1_conv (Conv2D)             (None, 112, 112, 64) 9472        conv1_pad[0][0]                  \n",
      "__________________________________________________________________________________________________\n",
      "pool1_pad (ZeroPadding2D)       (None, 114, 114, 64) 0           conv1_conv[0][0]                 \n",
      "__________________________________________________________________________________________________\n",
      "pool1_pool (MaxPooling2D)       (None, 56, 56, 64)   0           pool1_pad[0][0]                  \n",
      "__________________________________________________________________________________________________\n",
      "conv2_block1_preact_bn (BatchNo (None, 56, 56, 64)   256         pool1_pool[0][0]                 \n",
      "__________________________________________________________________________________________________\n",
      "conv2_block1_preact_relu (Activ (None, 56, 56, 64)   0           conv2_block1_preact_bn[0][0]     \n",
      "__________________________________________________________________________________________________\n",
      "conv2_block1_1_conv (Conv2D)    (None, 56, 56, 64)   4096        conv2_block1_preact_relu[0][0]   \n",
      "__________________________________________________________________________________________________\n",
      "conv2_block1_1_bn (BatchNormali (None, 56, 56, 64)   256         conv2_block1_1_conv[0][0]        \n",
      "__________________________________________________________________________________________________\n",
      "conv2_block1_1_relu (Activation (None, 56, 56, 64)   0           conv2_block1_1_bn[0][0]          \n",
      "__________________________________________________________________________________________________\n",
      "conv2_block1_2_pad (ZeroPadding (None, 58, 58, 64)   0           conv2_block1_1_relu[0][0]        \n",
      "__________________________________________________________________________________________________\n",
      "conv2_block1_2_conv (Conv2D)    (None, 56, 56, 64)   36864       conv2_block1_2_pad[0][0]         \n",
      "__________________________________________________________________________________________________\n",
      "conv2_block1_2_bn (BatchNormali (None, 56, 56, 64)   256         conv2_block1_2_conv[0][0]        \n",
      "__________________________________________________________________________________________________\n",
      "conv2_block1_2_relu (Activation (None, 56, 56, 64)   0           conv2_block1_2_bn[0][0]          \n",
      "__________________________________________________________________________________________________\n",
      "conv2_block1_0_conv (Conv2D)    (None, 56, 56, 256)  16640       conv2_block1_preact_relu[0][0]   \n",
      "__________________________________________________________________________________________________\n",
      "conv2_block1_3_conv (Conv2D)    (None, 56, 56, 256)  16640       conv2_block1_2_relu[0][0]        \n",
      "__________________________________________________________________________________________________\n",
      "conv2_block1_out (Add)          (None, 56, 56, 256)  0           conv2_block1_0_conv[0][0]        \n",
      "                                                                 conv2_block1_3_conv[0][0]        \n",
      "__________________________________________________________________________________________________\n",
      "conv2_block2_preact_bn (BatchNo (None, 56, 56, 256)  1024        conv2_block1_out[0][0]           \n",
      "__________________________________________________________________________________________________\n",
      "conv2_block2_preact_relu (Activ (None, 56, 56, 256)  0           conv2_block2_preact_bn[0][0]     \n",
      "__________________________________________________________________________________________________\n",
      "conv2_block2_1_conv (Conv2D)    (None, 56, 56, 64)   16384       conv2_block2_preact_relu[0][0]   \n",
      "__________________________________________________________________________________________________\n",
      "conv2_block2_1_bn (BatchNormali (None, 56, 56, 64)   256         conv2_block2_1_conv[0][0]        \n",
      "__________________________________________________________________________________________________\n",
      "conv2_block2_1_relu (Activation (None, 56, 56, 64)   0           conv2_block2_1_bn[0][0]          \n",
      "__________________________________________________________________________________________________\n",
      "conv2_block2_2_pad (ZeroPadding (None, 58, 58, 64)   0           conv2_block2_1_relu[0][0]        \n",
      "__________________________________________________________________________________________________\n",
      "conv2_block2_2_conv (Conv2D)    (None, 56, 56, 64)   36864       conv2_block2_2_pad[0][0]         \n",
      "__________________________________________________________________________________________________\n",
      "conv2_block2_2_bn (BatchNormali (None, 56, 56, 64)   256         conv2_block2_2_conv[0][0]        \n",
      "__________________________________________________________________________________________________\n",
      "conv2_block2_2_relu (Activation (None, 56, 56, 64)   0           conv2_block2_2_bn[0][0]          \n",
      "__________________________________________________________________________________________________\n",
      "conv2_block2_3_conv (Conv2D)    (None, 56, 56, 256)  16640       conv2_block2_2_relu[0][0]        \n",
      "__________________________________________________________________________________________________\n",
      "conv2_block2_out (Add)          (None, 56, 56, 256)  0           conv2_block1_out[0][0]           \n",
      "                                                                 conv2_block2_3_conv[0][0]        \n",
      "__________________________________________________________________________________________________\n",
      "conv2_block3_preact_bn (BatchNo (None, 56, 56, 256)  1024        conv2_block2_out[0][0]           \n",
      "__________________________________________________________________________________________________\n",
      "conv2_block3_preact_relu (Activ (None, 56, 56, 256)  0           conv2_block3_preact_bn[0][0]     \n",
      "__________________________________________________________________________________________________\n",
      "conv2_block3_1_conv (Conv2D)    (None, 56, 56, 64)   16384       conv2_block3_preact_relu[0][0]   \n",
      "__________________________________________________________________________________________________\n",
      "conv2_block3_1_bn (BatchNormali (None, 56, 56, 64)   256         conv2_block3_1_conv[0][0]        \n",
      "__________________________________________________________________________________________________\n",
      "conv2_block3_1_relu (Activation (None, 56, 56, 64)   0           conv2_block3_1_bn[0][0]          \n",
      "__________________________________________________________________________________________________\n",
      "conv2_block3_2_pad (ZeroPadding (None, 58, 58, 64)   0           conv2_block3_1_relu[0][0]        \n",
      "__________________________________________________________________________________________________\n",
      "conv2_block3_2_conv (Conv2D)    (None, 28, 28, 64)   36864       conv2_block3_2_pad[0][0]         \n",
      "__________________________________________________________________________________________________\n",
      "conv2_block3_2_bn (BatchNormali (None, 28, 28, 64)   256         conv2_block3_2_conv[0][0]        \n",
      "__________________________________________________________________________________________________\n",
      "conv2_block3_2_relu (Activation (None, 28, 28, 64)   0           conv2_block3_2_bn[0][0]          \n",
      "__________________________________________________________________________________________________\n",
      "max_pooling2d (MaxPooling2D)    (None, 28, 28, 256)  0           conv2_block2_out[0][0]           \n",
      "__________________________________________________________________________________________________\n",
      "conv2_block3_3_conv (Conv2D)    (None, 28, 28, 256)  16640       conv2_block3_2_relu[0][0]        \n",
      "__________________________________________________________________________________________________\n",
      "conv2_block3_out (Add)          (None, 28, 28, 256)  0           max_pooling2d[0][0]              \n",
      "                                                                 conv2_block3_3_conv[0][0]        \n",
      "__________________________________________________________________________________________________\n",
      "conv3_block1_preact_bn (BatchNo (None, 28, 28, 256)  1024        conv2_block3_out[0][0]           \n",
      "__________________________________________________________________________________________________\n",
      "conv3_block1_preact_relu (Activ (None, 28, 28, 256)  0           conv3_block1_preact_bn[0][0]     \n",
      "__________________________________________________________________________________________________\n",
      "conv3_block1_1_conv (Conv2D)    (None, 28, 28, 128)  32768       conv3_block1_preact_relu[0][0]   \n",
      "__________________________________________________________________________________________________\n",
      "conv3_block1_1_bn (BatchNormali (None, 28, 28, 128)  512         conv3_block1_1_conv[0][0]        \n",
      "__________________________________________________________________________________________________\n",
      "conv3_block1_1_relu (Activation (None, 28, 28, 128)  0           conv3_block1_1_bn[0][0]          \n",
      "__________________________________________________________________________________________________\n",
      "conv3_block1_2_pad (ZeroPadding (None, 30, 30, 128)  0           conv3_block1_1_relu[0][0]        \n",
      "__________________________________________________________________________________________________\n",
      "conv3_block1_2_conv (Conv2D)    (None, 28, 28, 128)  147456      conv3_block1_2_pad[0][0]         \n",
      "__________________________________________________________________________________________________\n",
      "conv3_block1_2_bn (BatchNormali (None, 28, 28, 128)  512         conv3_block1_2_conv[0][0]        \n",
      "__________________________________________________________________________________________________\n",
      "conv3_block1_2_relu (Activation (None, 28, 28, 128)  0           conv3_block1_2_bn[0][0]          \n",
      "__________________________________________________________________________________________________\n",
      "conv3_block1_0_conv (Conv2D)    (None, 28, 28, 512)  131584      conv3_block1_preact_relu[0][0]   \n",
      "__________________________________________________________________________________________________\n",
      "conv3_block1_3_conv (Conv2D)    (None, 28, 28, 512)  66048       conv3_block1_2_relu[0][0]        \n",
      "__________________________________________________________________________________________________\n",
      "conv3_block1_out (Add)          (None, 28, 28, 512)  0           conv3_block1_0_conv[0][0]        \n",
      "                                                                 conv3_block1_3_conv[0][0]        \n",
      "__________________________________________________________________________________________________\n",
      "conv3_block2_preact_bn (BatchNo (None, 28, 28, 512)  2048        conv3_block1_out[0][0]           \n",
      "__________________________________________________________________________________________________\n",
      "conv3_block2_preact_relu (Activ (None, 28, 28, 512)  0           conv3_block2_preact_bn[0][0]     \n",
      "__________________________________________________________________________________________________\n",
      "conv3_block2_1_conv (Conv2D)    (None, 28, 28, 128)  65536       conv3_block2_preact_relu[0][0]   \n",
      "__________________________________________________________________________________________________\n",
      "conv3_block2_1_bn (BatchNormali (None, 28, 28, 128)  512         conv3_block2_1_conv[0][0]        \n",
      "__________________________________________________________________________________________________\n",
      "conv3_block2_1_relu (Activation (None, 28, 28, 128)  0           conv3_block2_1_bn[0][0]          \n",
      "__________________________________________________________________________________________________\n",
      "conv3_block2_2_pad (ZeroPadding (None, 30, 30, 128)  0           conv3_block2_1_relu[0][0]        \n",
      "__________________________________________________________________________________________________\n",
      "conv3_block2_2_conv (Conv2D)    (None, 28, 28, 128)  147456      conv3_block2_2_pad[0][0]         \n",
      "__________________________________________________________________________________________________\n",
      "conv3_block2_2_bn (BatchNormali (None, 28, 28, 128)  512         conv3_block2_2_conv[0][0]        \n",
      "__________________________________________________________________________________________________\n",
      "conv3_block2_2_relu (Activation (None, 28, 28, 128)  0           conv3_block2_2_bn[0][0]          \n",
      "__________________________________________________________________________________________________\n",
      "conv3_block2_3_conv (Conv2D)    (None, 28, 28, 512)  66048       conv3_block2_2_relu[0][0]        \n",
      "__________________________________________________________________________________________________\n",
      "conv3_block2_out (Add)          (None, 28, 28, 512)  0           conv3_block1_out[0][0]           \n",
      "                                                                 conv3_block2_3_conv[0][0]        \n",
      "__________________________________________________________________________________________________\n",
      "conv3_block3_preact_bn (BatchNo (None, 28, 28, 512)  2048        conv3_block2_out[0][0]           \n",
      "__________________________________________________________________________________________________\n",
      "conv3_block3_preact_relu (Activ (None, 28, 28, 512)  0           conv3_block3_preact_bn[0][0]     \n",
      "__________________________________________________________________________________________________\n",
      "conv3_block3_1_conv (Conv2D)    (None, 28, 28, 128)  65536       conv3_block3_preact_relu[0][0]   \n",
      "__________________________________________________________________________________________________\n",
      "conv3_block3_1_bn (BatchNormali (None, 28, 28, 128)  512         conv3_block3_1_conv[0][0]        \n",
      "__________________________________________________________________________________________________\n",
      "conv3_block3_1_relu (Activation (None, 28, 28, 128)  0           conv3_block3_1_bn[0][0]          \n",
      "__________________________________________________________________________________________________\n",
      "conv3_block3_2_pad (ZeroPadding (None, 30, 30, 128)  0           conv3_block3_1_relu[0][0]        \n",
      "__________________________________________________________________________________________________\n",
      "conv3_block3_2_conv (Conv2D)    (None, 28, 28, 128)  147456      conv3_block3_2_pad[0][0]         \n",
      "__________________________________________________________________________________________________\n",
      "conv3_block3_2_bn (BatchNormali (None, 28, 28, 128)  512         conv3_block3_2_conv[0][0]        \n",
      "__________________________________________________________________________________________________\n",
      "conv3_block3_2_relu (Activation (None, 28, 28, 128)  0           conv3_block3_2_bn[0][0]          \n",
      "__________________________________________________________________________________________________\n",
      "conv3_block3_3_conv (Conv2D)    (None, 28, 28, 512)  66048       conv3_block3_2_relu[0][0]        \n",
      "__________________________________________________________________________________________________\n",
      "conv3_block3_out (Add)          (None, 28, 28, 512)  0           conv3_block2_out[0][0]           \n",
      "                                                                 conv3_block3_3_conv[0][0]        \n",
      "__________________________________________________________________________________________________\n",
      "conv3_block4_preact_bn (BatchNo (None, 28, 28, 512)  2048        conv3_block3_out[0][0]           \n",
      "__________________________________________________________________________________________________\n",
      "conv3_block4_preact_relu (Activ (None, 28, 28, 512)  0           conv3_block4_preact_bn[0][0]     \n",
      "__________________________________________________________________________________________________\n",
      "conv3_block4_1_conv (Conv2D)    (None, 28, 28, 128)  65536       conv3_block4_preact_relu[0][0]   \n",
      "__________________________________________________________________________________________________\n",
      "conv3_block4_1_bn (BatchNormali (None, 28, 28, 128)  512         conv3_block4_1_conv[0][0]        \n",
      "__________________________________________________________________________________________________\n",
      "conv3_block4_1_relu (Activation (None, 28, 28, 128)  0           conv3_block4_1_bn[0][0]          \n",
      "__________________________________________________________________________________________________\n",
      "conv3_block4_2_pad (ZeroPadding (None, 30, 30, 128)  0           conv3_block4_1_relu[0][0]        \n",
      "__________________________________________________________________________________________________\n",
      "conv3_block4_2_conv (Conv2D)    (None, 14, 14, 128)  147456      conv3_block4_2_pad[0][0]         \n",
      "__________________________________________________________________________________________________\n",
      "conv3_block4_2_bn (BatchNormali (None, 14, 14, 128)  512         conv3_block4_2_conv[0][0]        \n",
      "__________________________________________________________________________________________________\n",
      "conv3_block4_2_relu (Activation (None, 14, 14, 128)  0           conv3_block4_2_bn[0][0]          \n",
      "__________________________________________________________________________________________________\n",
      "max_pooling2d_1 (MaxPooling2D)  (None, 14, 14, 512)  0           conv3_block3_out[0][0]           \n",
      "__________________________________________________________________________________________________\n",
      "conv3_block4_3_conv (Conv2D)    (None, 14, 14, 512)  66048       conv3_block4_2_relu[0][0]        \n",
      "__________________________________________________________________________________________________\n",
      "conv3_block4_out (Add)          (None, 14, 14, 512)  0           max_pooling2d_1[0][0]            \n",
      "                                                                 conv3_block4_3_conv[0][0]        \n",
      "__________________________________________________________________________________________________\n",
      "conv4_block1_preact_bn (BatchNo (None, 14, 14, 512)  2048        conv3_block4_out[0][0]           \n",
      "__________________________________________________________________________________________________\n",
      "conv4_block1_preact_relu (Activ (None, 14, 14, 512)  0           conv4_block1_preact_bn[0][0]     \n",
      "__________________________________________________________________________________________________\n",
      "conv4_block1_1_conv (Conv2D)    (None, 14, 14, 256)  131072      conv4_block1_preact_relu[0][0]   \n",
      "__________________________________________________________________________________________________\n",
      "conv4_block1_1_bn (BatchNormali (None, 14, 14, 256)  1024        conv4_block1_1_conv[0][0]        \n",
      "__________________________________________________________________________________________________\n",
      "conv4_block1_1_relu (Activation (None, 14, 14, 256)  0           conv4_block1_1_bn[0][0]          \n",
      "__________________________________________________________________________________________________\n",
      "conv4_block1_2_pad (ZeroPadding (None, 16, 16, 256)  0           conv4_block1_1_relu[0][0]        \n",
      "__________________________________________________________________________________________________\n",
      "conv4_block1_2_conv (Conv2D)    (None, 14, 14, 256)  589824      conv4_block1_2_pad[0][0]         \n",
      "__________________________________________________________________________________________________\n",
      "conv4_block1_2_bn (BatchNormali (None, 14, 14, 256)  1024        conv4_block1_2_conv[0][0]        \n",
      "__________________________________________________________________________________________________\n",
      "conv4_block1_2_relu (Activation (None, 14, 14, 256)  0           conv4_block1_2_bn[0][0]          \n",
      "__________________________________________________________________________________________________\n",
      "conv4_block1_0_conv (Conv2D)    (None, 14, 14, 1024) 525312      conv4_block1_preact_relu[0][0]   \n",
      "__________________________________________________________________________________________________\n",
      "conv4_block1_3_conv (Conv2D)    (None, 14, 14, 1024) 263168      conv4_block1_2_relu[0][0]        \n",
      "__________________________________________________________________________________________________\n",
      "conv4_block1_out (Add)          (None, 14, 14, 1024) 0           conv4_block1_0_conv[0][0]        \n",
      "                                                                 conv4_block1_3_conv[0][0]        \n",
      "__________________________________________________________________________________________________\n",
      "conv4_block2_preact_bn (BatchNo (None, 14, 14, 1024) 4096        conv4_block1_out[0][0]           \n",
      "__________________________________________________________________________________________________\n",
      "conv4_block2_preact_relu (Activ (None, 14, 14, 1024) 0           conv4_block2_preact_bn[0][0]     \n",
      "__________________________________________________________________________________________________\n",
      "conv4_block2_1_conv (Conv2D)    (None, 14, 14, 256)  262144      conv4_block2_preact_relu[0][0]   \n",
      "__________________________________________________________________________________________________\n",
      "conv4_block2_1_bn (BatchNormali (None, 14, 14, 256)  1024        conv4_block2_1_conv[0][0]        \n",
      "__________________________________________________________________________________________________\n",
      "conv4_block2_1_relu (Activation (None, 14, 14, 256)  0           conv4_block2_1_bn[0][0]          \n",
      "__________________________________________________________________________________________________\n",
      "conv4_block2_2_pad (ZeroPadding (None, 16, 16, 256)  0           conv4_block2_1_relu[0][0]        \n",
      "__________________________________________________________________________________________________\n",
      "conv4_block2_2_conv (Conv2D)    (None, 14, 14, 256)  589824      conv4_block2_2_pad[0][0]         \n",
      "__________________________________________________________________________________________________\n",
      "conv4_block2_2_bn (BatchNormali (None, 14, 14, 256)  1024        conv4_block2_2_conv[0][0]        \n",
      "__________________________________________________________________________________________________\n",
      "conv4_block2_2_relu (Activation (None, 14, 14, 256)  0           conv4_block2_2_bn[0][0]          \n",
      "__________________________________________________________________________________________________\n",
      "conv4_block2_3_conv (Conv2D)    (None, 14, 14, 1024) 263168      conv4_block2_2_relu[0][0]        \n",
      "__________________________________________________________________________________________________\n",
      "conv4_block2_out (Add)          (None, 14, 14, 1024) 0           conv4_block1_out[0][0]           \n",
      "                                                                 conv4_block2_3_conv[0][0]        \n",
      "__________________________________________________________________________________________________\n",
      "conv4_block3_preact_bn (BatchNo (None, 14, 14, 1024) 4096        conv4_block2_out[0][0]           \n",
      "__________________________________________________________________________________________________\n",
      "conv4_block3_preact_relu (Activ (None, 14, 14, 1024) 0           conv4_block3_preact_bn[0][0]     \n",
      "__________________________________________________________________________________________________\n",
      "conv4_block3_1_conv (Conv2D)    (None, 14, 14, 256)  262144      conv4_block3_preact_relu[0][0]   \n",
      "__________________________________________________________________________________________________\n",
      "conv4_block3_1_bn (BatchNormali (None, 14, 14, 256)  1024        conv4_block3_1_conv[0][0]        \n",
      "__________________________________________________________________________________________________\n",
      "conv4_block3_1_relu (Activation (None, 14, 14, 256)  0           conv4_block3_1_bn[0][0]          \n",
      "__________________________________________________________________________________________________\n",
      "conv4_block3_2_pad (ZeroPadding (None, 16, 16, 256)  0           conv4_block3_1_relu[0][0]        \n",
      "__________________________________________________________________________________________________\n",
      "conv4_block3_2_conv (Conv2D)    (None, 14, 14, 256)  589824      conv4_block3_2_pad[0][0]         \n",
      "__________________________________________________________________________________________________\n",
      "conv4_block3_2_bn (BatchNormali (None, 14, 14, 256)  1024        conv4_block3_2_conv[0][0]        \n",
      "__________________________________________________________________________________________________\n",
      "conv4_block3_2_relu (Activation (None, 14, 14, 256)  0           conv4_block3_2_bn[0][0]          \n",
      "__________________________________________________________________________________________________\n",
      "conv4_block3_3_conv (Conv2D)    (None, 14, 14, 1024) 263168      conv4_block3_2_relu[0][0]        \n",
      "__________________________________________________________________________________________________\n",
      "conv4_block3_out (Add)          (None, 14, 14, 1024) 0           conv4_block2_out[0][0]           \n",
      "                                                                 conv4_block3_3_conv[0][0]        \n",
      "__________________________________________________________________________________________________\n",
      "conv4_block4_preact_bn (BatchNo (None, 14, 14, 1024) 4096        conv4_block3_out[0][0]           \n",
      "__________________________________________________________________________________________________\n",
      "conv4_block4_preact_relu (Activ (None, 14, 14, 1024) 0           conv4_block4_preact_bn[0][0]     \n",
      "__________________________________________________________________________________________________\n",
      "conv4_block4_1_conv (Conv2D)    (None, 14, 14, 256)  262144      conv4_block4_preact_relu[0][0]   \n",
      "__________________________________________________________________________________________________\n",
      "conv4_block4_1_bn (BatchNormali (None, 14, 14, 256)  1024        conv4_block4_1_conv[0][0]        \n",
      "__________________________________________________________________________________________________\n",
      "conv4_block4_1_relu (Activation (None, 14, 14, 256)  0           conv4_block4_1_bn[0][0]          \n",
      "__________________________________________________________________________________________________\n",
      "conv4_block4_2_pad (ZeroPadding (None, 16, 16, 256)  0           conv4_block4_1_relu[0][0]        \n",
      "__________________________________________________________________________________________________\n",
      "conv4_block4_2_conv (Conv2D)    (None, 14, 14, 256)  589824      conv4_block4_2_pad[0][0]         \n",
      "__________________________________________________________________________________________________\n",
      "conv4_block4_2_bn (BatchNormali (None, 14, 14, 256)  1024        conv4_block4_2_conv[0][0]        \n",
      "__________________________________________________________________________________________________\n",
      "conv4_block4_2_relu (Activation (None, 14, 14, 256)  0           conv4_block4_2_bn[0][0]          \n",
      "__________________________________________________________________________________________________\n",
      "conv4_block4_3_conv (Conv2D)    (None, 14, 14, 1024) 263168      conv4_block4_2_relu[0][0]        \n",
      "__________________________________________________________________________________________________\n",
      "conv4_block4_out (Add)          (None, 14, 14, 1024) 0           conv4_block3_out[0][0]           \n",
      "                                                                 conv4_block4_3_conv[0][0]        \n",
      "__________________________________________________________________________________________________\n",
      "conv4_block5_preact_bn (BatchNo (None, 14, 14, 1024) 4096        conv4_block4_out[0][0]           \n",
      "__________________________________________________________________________________________________\n",
      "conv4_block5_preact_relu (Activ (None, 14, 14, 1024) 0           conv4_block5_preact_bn[0][0]     \n",
      "__________________________________________________________________________________________________\n",
      "conv4_block5_1_conv (Conv2D)    (None, 14, 14, 256)  262144      conv4_block5_preact_relu[0][0]   \n",
      "__________________________________________________________________________________________________\n",
      "conv4_block5_1_bn (BatchNormali (None, 14, 14, 256)  1024        conv4_block5_1_conv[0][0]        \n",
      "__________________________________________________________________________________________________\n",
      "conv4_block5_1_relu (Activation (None, 14, 14, 256)  0           conv4_block5_1_bn[0][0]          \n",
      "__________________________________________________________________________________________________\n",
      "conv4_block5_2_pad (ZeroPadding (None, 16, 16, 256)  0           conv4_block5_1_relu[0][0]        \n",
      "__________________________________________________________________________________________________\n",
      "conv4_block5_2_conv (Conv2D)    (None, 14, 14, 256)  589824      conv4_block5_2_pad[0][0]         \n",
      "__________________________________________________________________________________________________\n",
      "conv4_block5_2_bn (BatchNormali (None, 14, 14, 256)  1024        conv4_block5_2_conv[0][0]        \n",
      "__________________________________________________________________________________________________\n",
      "conv4_block5_2_relu (Activation (None, 14, 14, 256)  0           conv4_block5_2_bn[0][0]          \n",
      "__________________________________________________________________________________________________\n",
      "conv4_block5_3_conv (Conv2D)    (None, 14, 14, 1024) 263168      conv4_block5_2_relu[0][0]        \n",
      "__________________________________________________________________________________________________\n",
      "conv4_block5_out (Add)          (None, 14, 14, 1024) 0           conv4_block4_out[0][0]           \n",
      "                                                                 conv4_block5_3_conv[0][0]        \n",
      "__________________________________________________________________________________________________\n",
      "conv4_block6_preact_bn (BatchNo (None, 14, 14, 1024) 4096        conv4_block5_out[0][0]           \n",
      "__________________________________________________________________________________________________\n",
      "conv4_block6_preact_relu (Activ (None, 14, 14, 1024) 0           conv4_block6_preact_bn[0][0]     \n",
      "__________________________________________________________________________________________________\n",
      "conv4_block6_1_conv (Conv2D)    (None, 14, 14, 256)  262144      conv4_block6_preact_relu[0][0]   \n",
      "__________________________________________________________________________________________________\n",
      "conv4_block6_1_bn (BatchNormali (None, 14, 14, 256)  1024        conv4_block6_1_conv[0][0]        \n",
      "__________________________________________________________________________________________________\n",
      "conv4_block6_1_relu (Activation (None, 14, 14, 256)  0           conv4_block6_1_bn[0][0]          \n",
      "__________________________________________________________________________________________________\n",
      "conv4_block6_2_pad (ZeroPadding (None, 16, 16, 256)  0           conv4_block6_1_relu[0][0]        \n",
      "__________________________________________________________________________________________________\n",
      "conv4_block6_2_conv (Conv2D)    (None, 7, 7, 256)    589824      conv4_block6_2_pad[0][0]         \n",
      "__________________________________________________________________________________________________\n",
      "conv4_block6_2_bn (BatchNormali (None, 7, 7, 256)    1024        conv4_block6_2_conv[0][0]        \n",
      "__________________________________________________________________________________________________\n",
      "conv4_block6_2_relu (Activation (None, 7, 7, 256)    0           conv4_block6_2_bn[0][0]          \n",
      "__________________________________________________________________________________________________\n",
      "max_pooling2d_2 (MaxPooling2D)  (None, 7, 7, 1024)   0           conv4_block5_out[0][0]           \n",
      "__________________________________________________________________________________________________\n",
      "conv4_block6_3_conv (Conv2D)    (None, 7, 7, 1024)   263168      conv4_block6_2_relu[0][0]        \n",
      "__________________________________________________________________________________________________\n",
      "conv4_block6_out (Add)          (None, 7, 7, 1024)   0           max_pooling2d_2[0][0]            \n",
      "                                                                 conv4_block6_3_conv[0][0]        \n",
      "__________________________________________________________________________________________________\n",
      "conv5_block1_preact_bn (BatchNo (None, 7, 7, 1024)   4096        conv4_block6_out[0][0]           \n",
      "__________________________________________________________________________________________________\n",
      "conv5_block1_preact_relu (Activ (None, 7, 7, 1024)   0           conv5_block1_preact_bn[0][0]     \n",
      "__________________________________________________________________________________________________\n",
      "conv5_block1_1_conv (Conv2D)    (None, 7, 7, 512)    524288      conv5_block1_preact_relu[0][0]   \n",
      "__________________________________________________________________________________________________\n",
      "conv5_block1_1_bn (BatchNormali (None, 7, 7, 512)    2048        conv5_block1_1_conv[0][0]        \n",
      "__________________________________________________________________________________________________\n",
      "conv5_block1_1_relu (Activation (None, 7, 7, 512)    0           conv5_block1_1_bn[0][0]          \n",
      "__________________________________________________________________________________________________\n",
      "conv5_block1_2_pad (ZeroPadding (None, 9, 9, 512)    0           conv5_block1_1_relu[0][0]        \n",
      "__________________________________________________________________________________________________\n",
      "conv5_block1_2_conv (Conv2D)    (None, 7, 7, 512)    2359296     conv5_block1_2_pad[0][0]         \n",
      "__________________________________________________________________________________________________\n",
      "conv5_block1_2_bn (BatchNormali (None, 7, 7, 512)    2048        conv5_block1_2_conv[0][0]        \n",
      "__________________________________________________________________________________________________\n",
      "conv5_block1_2_relu (Activation (None, 7, 7, 512)    0           conv5_block1_2_bn[0][0]          \n",
      "__________________________________________________________________________________________________\n",
      "conv5_block1_0_conv (Conv2D)    (None, 7, 7, 2048)   2099200     conv5_block1_preact_relu[0][0]   \n",
      "__________________________________________________________________________________________________\n",
      "conv5_block1_3_conv (Conv2D)    (None, 7, 7, 2048)   1050624     conv5_block1_2_relu[0][0]        \n",
      "__________________________________________________________________________________________________\n",
      "conv5_block1_out (Add)          (None, 7, 7, 2048)   0           conv5_block1_0_conv[0][0]        \n",
      "                                                                 conv5_block1_3_conv[0][0]        \n",
      "__________________________________________________________________________________________________\n",
      "conv5_block2_preact_bn (BatchNo (None, 7, 7, 2048)   8192        conv5_block1_out[0][0]           \n",
      "__________________________________________________________________________________________________\n",
      "conv5_block2_preact_relu (Activ (None, 7, 7, 2048)   0           conv5_block2_preact_bn[0][0]     \n",
      "__________________________________________________________________________________________________\n",
      "conv5_block2_1_conv (Conv2D)    (None, 7, 7, 512)    1048576     conv5_block2_preact_relu[0][0]   \n",
      "__________________________________________________________________________________________________\n",
      "conv5_block2_1_bn (BatchNormali (None, 7, 7, 512)    2048        conv5_block2_1_conv[0][0]        \n",
      "__________________________________________________________________________________________________\n",
      "conv5_block2_1_relu (Activation (None, 7, 7, 512)    0           conv5_block2_1_bn[0][0]          \n",
      "__________________________________________________________________________________________________\n",
      "conv5_block2_2_pad (ZeroPadding (None, 9, 9, 512)    0           conv5_block2_1_relu[0][0]        \n",
      "__________________________________________________________________________________________________\n",
      "conv5_block2_2_conv (Conv2D)    (None, 7, 7, 512)    2359296     conv5_block2_2_pad[0][0]         \n",
      "__________________________________________________________________________________________________\n",
      "conv5_block2_2_bn (BatchNormali (None, 7, 7, 512)    2048        conv5_block2_2_conv[0][0]        \n",
      "__________________________________________________________________________________________________\n",
      "conv5_block2_2_relu (Activation (None, 7, 7, 512)    0           conv5_block2_2_bn[0][0]          \n",
      "__________________________________________________________________________________________________\n",
      "conv5_block2_3_conv (Conv2D)    (None, 7, 7, 2048)   1050624     conv5_block2_2_relu[0][0]        \n",
      "__________________________________________________________________________________________________\n",
      "conv5_block2_out (Add)          (None, 7, 7, 2048)   0           conv5_block1_out[0][0]           \n",
      "                                                                 conv5_block2_3_conv[0][0]        \n",
      "__________________________________________________________________________________________________\n",
      "conv5_block3_preact_bn (BatchNo (None, 7, 7, 2048)   8192        conv5_block2_out[0][0]           \n",
      "__________________________________________________________________________________________________\n",
      "conv5_block3_preact_relu (Activ (None, 7, 7, 2048)   0           conv5_block3_preact_bn[0][0]     \n",
      "__________________________________________________________________________________________________\n",
      "conv5_block3_1_conv (Conv2D)    (None, 7, 7, 512)    1048576     conv5_block3_preact_relu[0][0]   \n",
      "__________________________________________________________________________________________________\n",
      "conv5_block3_1_bn (BatchNormali (None, 7, 7, 512)    2048        conv5_block3_1_conv[0][0]        \n",
      "__________________________________________________________________________________________________\n",
      "conv5_block3_1_relu (Activation (None, 7, 7, 512)    0           conv5_block3_1_bn[0][0]          \n",
      "__________________________________________________________________________________________________\n",
      "conv5_block3_2_pad (ZeroPadding (None, 9, 9, 512)    0           conv5_block3_1_relu[0][0]        \n",
      "__________________________________________________________________________________________________\n",
      "conv5_block3_2_conv (Conv2D)    (None, 7, 7, 512)    2359296     conv5_block3_2_pad[0][0]         \n",
      "__________________________________________________________________________________________________\n",
      "conv5_block3_2_bn (BatchNormali (None, 7, 7, 512)    2048        conv5_block3_2_conv[0][0]        \n",
      "__________________________________________________________________________________________________\n",
      "conv5_block3_2_relu (Activation (None, 7, 7, 512)    0           conv5_block3_2_bn[0][0]          \n",
      "__________________________________________________________________________________________________\n",
      "conv5_block3_3_conv (Conv2D)    (None, 7, 7, 2048)   1050624     conv5_block3_2_relu[0][0]        \n",
      "__________________________________________________________________________________________________\n",
      "conv5_block3_out (Add)          (None, 7, 7, 2048)   0           conv5_block2_out[0][0]           \n",
      "                                                                 conv5_block3_3_conv[0][0]        \n",
      "__________________________________________________________________________________________________\n",
      "post_bn (BatchNormalization)    (None, 7, 7, 2048)   8192        conv5_block3_out[0][0]           \n",
      "__________________________________________________________________________________________________\n",
      "post_relu (Activation)          (None, 7, 7, 2048)   0           post_bn[0][0]                    \n",
      "==================================================================================================\n",
      "Total params: 23,564,800\n",
      "Trainable params: 23,519,360\n",
      "Non-trainable params: 45,440\n",
      "__________________________________________________________________________________________________\n"
     ]
    }
   ],
   "source": [
    "from tensorflow.keras.applications.resnet_v2 import ResNet152V2,ResNet50V2, preprocess_input, decode_predictions\n",
    "\n",
    "conv_base = ResNet50V2(include_top=False, weights = 'imagenet' ,input_shape=(224,224,3))\n",
    "#conv_base.trainable = False\n",
    "conv_base.summary()\n"
   ]
  },
  {
   "cell_type": "code",
   "execution_count": 11,
   "metadata": {
    "colab": {
     "base_uri": "https://localhost:8080/"
    },
    "executionInfo": {
     "elapsed": 81,
     "status": "ok",
     "timestamp": 1650262488181,
     "user": {
      "displayName": "H.W park",
      "userId": "06250213374847463567"
     },
     "user_tz": -540
    },
    "id": "VwLJnhkRWH52",
    "outputId": "02f89ae4-7410-4ea8-a454-8d7efafc0d88"
   },
   "outputs": [
    {
     "name": "stdout",
     "output_type": "stream",
     "text": [
      "Model: \"sequential\"\n",
      "_________________________________________________________________\n",
      "Layer (type)                 Output Shape              Param #   \n",
      "=================================================================\n",
      "resnet50v2 (Model)           (None, 7, 7, 2048)        23564800  \n",
      "_________________________________________________________________\n",
      "flatten (Flatten)            (None, 100352)            0         \n",
      "_________________________________________________________________\n",
      "dense (Dense)                (None, 128)               12845184  \n",
      "_________________________________________________________________\n",
      "dropout (Dropout)            (None, 128)               0         \n",
      "_________________________________________________________________\n",
      "dense_1 (Dense)              (None, 4)                 516       \n",
      "=================================================================\n",
      "Total params: 36,410,500\n",
      "Trainable params: 36,365,060\n",
      "Non-trainable params: 45,440\n",
      "_________________________________________________________________\n"
     ]
    }
   ],
   "source": [
    "model = Sequential()\n",
    "model.add(conv_base)\n",
    "model.add(Flatten())\n",
    "model.add(Dense(128, activation='relu'))\n",
    "model.add(Dropout(0.3))\n",
    "model.add(Dense(4, activation='softmax'))\n",
    "model.summary()"
   ]
  },
  {
   "cell_type": "code",
   "execution_count": null,
   "metadata": {
    "colab": {
     "base_uri": "https://localhost:8080/"
    },
    "executionInfo": {
     "elapsed": 9,
     "status": "ok",
     "timestamp": 1650077528695,
     "user": {
      "displayName": "H.W park",
      "userId": "06250213374847463567"
     },
     "user_tz": -540
    },
    "id": "YIZ8DgNOZio8",
    "outputId": "d7a0d961-9af8-4b0d-da4a-56fa0dd5ea9b"
   },
   "outputs": [
    {
     "name": "stdout",
     "output_type": "stream",
     "text": [
      "0 input_1\n",
      "1 conv1_pad\n",
      "2 conv1_conv\n",
      "3 pool1_pad\n",
      "4 pool1_pool\n",
      "5 conv2_block1_preact_bn\n",
      "6 conv2_block1_preact_relu\n",
      "7 conv2_block1_1_conv\n",
      "8 conv2_block1_1_bn\n",
      "9 conv2_block1_1_relu\n",
      "10 conv2_block1_2_pad\n",
      "11 conv2_block1_2_conv\n",
      "12 conv2_block1_2_bn\n",
      "13 conv2_block1_2_relu\n",
      "14 conv2_block1_0_conv\n",
      "15 conv2_block1_3_conv\n",
      "16 conv2_block1_out\n",
      "17 conv2_block2_preact_bn\n",
      "18 conv2_block2_preact_relu\n",
      "19 conv2_block2_1_conv\n",
      "20 conv2_block2_1_bn\n",
      "21 conv2_block2_1_relu\n",
      "22 conv2_block2_2_pad\n",
      "23 conv2_block2_2_conv\n",
      "24 conv2_block2_2_bn\n",
      "25 conv2_block2_2_relu\n",
      "26 conv2_block2_3_conv\n",
      "27 conv2_block2_out\n",
      "28 conv2_block3_preact_bn\n",
      "29 conv2_block3_preact_relu\n",
      "30 conv2_block3_1_conv\n",
      "31 conv2_block3_1_bn\n",
      "32 conv2_block3_1_relu\n",
      "33 conv2_block3_2_pad\n",
      "34 conv2_block3_2_conv\n",
      "35 conv2_block3_2_bn\n",
      "36 conv2_block3_2_relu\n",
      "37 max_pooling2d\n",
      "38 conv2_block3_3_conv\n",
      "39 conv2_block3_out\n",
      "40 conv3_block1_preact_bn\n",
      "41 conv3_block1_preact_relu\n",
      "42 conv3_block1_1_conv\n",
      "43 conv3_block1_1_bn\n",
      "44 conv3_block1_1_relu\n",
      "45 conv3_block1_2_pad\n",
      "46 conv3_block1_2_conv\n",
      "47 conv3_block1_2_bn\n",
      "48 conv3_block1_2_relu\n",
      "49 conv3_block1_0_conv\n",
      "50 conv3_block1_3_conv\n",
      "51 conv3_block1_out\n",
      "52 conv3_block2_preact_bn\n",
      "53 conv3_block2_preact_relu\n",
      "54 conv3_block2_1_conv\n",
      "55 conv3_block2_1_bn\n",
      "56 conv3_block2_1_relu\n",
      "57 conv3_block2_2_pad\n",
      "58 conv3_block2_2_conv\n",
      "59 conv3_block2_2_bn\n",
      "60 conv3_block2_2_relu\n",
      "61 conv3_block2_3_conv\n",
      "62 conv3_block2_out\n",
      "63 conv3_block3_preact_bn\n",
      "64 conv3_block3_preact_relu\n",
      "65 conv3_block3_1_conv\n",
      "66 conv3_block3_1_bn\n",
      "67 conv3_block3_1_relu\n",
      "68 conv3_block3_2_pad\n",
      "69 conv3_block3_2_conv\n",
      "70 conv3_block3_2_bn\n",
      "71 conv3_block3_2_relu\n",
      "72 conv3_block3_3_conv\n",
      "73 conv3_block3_out\n",
      "74 conv3_block4_preact_bn\n",
      "75 conv3_block4_preact_relu\n",
      "76 conv3_block4_1_conv\n",
      "77 conv3_block4_1_bn\n",
      "78 conv3_block4_1_relu\n",
      "79 conv3_block4_2_pad\n",
      "80 conv3_block4_2_conv\n",
      "81 conv3_block4_2_bn\n",
      "82 conv3_block4_2_relu\n",
      "83 conv3_block4_3_conv\n",
      "84 conv3_block4_out\n",
      "85 conv3_block5_preact_bn\n",
      "86 conv3_block5_preact_relu\n",
      "87 conv3_block5_1_conv\n",
      "88 conv3_block5_1_bn\n",
      "89 conv3_block5_1_relu\n",
      "90 conv3_block5_2_pad\n",
      "91 conv3_block5_2_conv\n",
      "92 conv3_block5_2_bn\n",
      "93 conv3_block5_2_relu\n",
      "94 conv3_block5_3_conv\n",
      "95 conv3_block5_out\n",
      "96 conv3_block6_preact_bn\n",
      "97 conv3_block6_preact_relu\n",
      "98 conv3_block6_1_conv\n",
      "99 conv3_block6_1_bn\n",
      "100 conv3_block6_1_relu\n",
      "101 conv3_block6_2_pad\n",
      "102 conv3_block6_2_conv\n",
      "103 conv3_block6_2_bn\n",
      "104 conv3_block6_2_relu\n",
      "105 conv3_block6_3_conv\n",
      "106 conv3_block6_out\n",
      "107 conv3_block7_preact_bn\n",
      "108 conv3_block7_preact_relu\n",
      "109 conv3_block7_1_conv\n",
      "110 conv3_block7_1_bn\n",
      "111 conv3_block7_1_relu\n",
      "112 conv3_block7_2_pad\n",
      "113 conv3_block7_2_conv\n",
      "114 conv3_block7_2_bn\n",
      "115 conv3_block7_2_relu\n",
      "116 conv3_block7_3_conv\n",
      "117 conv3_block7_out\n",
      "118 conv3_block8_preact_bn\n",
      "119 conv3_block8_preact_relu\n",
      "120 conv3_block8_1_conv\n",
      "121 conv3_block8_1_bn\n",
      "122 conv3_block8_1_relu\n",
      "123 conv3_block8_2_pad\n",
      "124 conv3_block8_2_conv\n",
      "125 conv3_block8_2_bn\n",
      "126 conv3_block8_2_relu\n",
      "127 max_pooling2d_1\n",
      "128 conv3_block8_3_conv\n",
      "129 conv3_block8_out\n",
      "130 conv4_block1_preact_bn\n",
      "131 conv4_block1_preact_relu\n",
      "132 conv4_block1_1_conv\n",
      "133 conv4_block1_1_bn\n",
      "134 conv4_block1_1_relu\n",
      "135 conv4_block1_2_pad\n",
      "136 conv4_block1_2_conv\n",
      "137 conv4_block1_2_bn\n",
      "138 conv4_block1_2_relu\n",
      "139 conv4_block1_0_conv\n",
      "140 conv4_block1_3_conv\n",
      "141 conv4_block1_out\n",
      "142 conv4_block2_preact_bn\n",
      "143 conv4_block2_preact_relu\n",
      "144 conv4_block2_1_conv\n",
      "145 conv4_block2_1_bn\n",
      "146 conv4_block2_1_relu\n",
      "147 conv4_block2_2_pad\n",
      "148 conv4_block2_2_conv\n",
      "149 conv4_block2_2_bn\n",
      "150 conv4_block2_2_relu\n",
      "151 conv4_block2_3_conv\n",
      "152 conv4_block2_out\n",
      "153 conv4_block3_preact_bn\n",
      "154 conv4_block3_preact_relu\n",
      "155 conv4_block3_1_conv\n",
      "156 conv4_block3_1_bn\n",
      "157 conv4_block3_1_relu\n",
      "158 conv4_block3_2_pad\n",
      "159 conv4_block3_2_conv\n",
      "160 conv4_block3_2_bn\n",
      "161 conv4_block3_2_relu\n",
      "162 conv4_block3_3_conv\n",
      "163 conv4_block3_out\n",
      "164 conv4_block4_preact_bn\n",
      "165 conv4_block4_preact_relu\n",
      "166 conv4_block4_1_conv\n",
      "167 conv4_block4_1_bn\n",
      "168 conv4_block4_1_relu\n",
      "169 conv4_block4_2_pad\n",
      "170 conv4_block4_2_conv\n",
      "171 conv4_block4_2_bn\n",
      "172 conv4_block4_2_relu\n",
      "173 conv4_block4_3_conv\n",
      "174 conv4_block4_out\n",
      "175 conv4_block5_preact_bn\n",
      "176 conv4_block5_preact_relu\n",
      "177 conv4_block5_1_conv\n",
      "178 conv4_block5_1_bn\n",
      "179 conv4_block5_1_relu\n",
      "180 conv4_block5_2_pad\n",
      "181 conv4_block5_2_conv\n",
      "182 conv4_block5_2_bn\n",
      "183 conv4_block5_2_relu\n",
      "184 conv4_block5_3_conv\n",
      "185 conv4_block5_out\n",
      "186 conv4_block6_preact_bn\n",
      "187 conv4_block6_preact_relu\n",
      "188 conv4_block6_1_conv\n",
      "189 conv4_block6_1_bn\n",
      "190 conv4_block6_1_relu\n",
      "191 conv4_block6_2_pad\n",
      "192 conv4_block6_2_conv\n",
      "193 conv4_block6_2_bn\n",
      "194 conv4_block6_2_relu\n",
      "195 conv4_block6_3_conv\n",
      "196 conv4_block6_out\n",
      "197 conv4_block7_preact_bn\n",
      "198 conv4_block7_preact_relu\n",
      "199 conv4_block7_1_conv\n",
      "200 conv4_block7_1_bn\n",
      "201 conv4_block7_1_relu\n",
      "202 conv4_block7_2_pad\n",
      "203 conv4_block7_2_conv\n",
      "204 conv4_block7_2_bn\n",
      "205 conv4_block7_2_relu\n",
      "206 conv4_block7_3_conv\n",
      "207 conv4_block7_out\n",
      "208 conv4_block8_preact_bn\n",
      "209 conv4_block8_preact_relu\n",
      "210 conv4_block8_1_conv\n",
      "211 conv4_block8_1_bn\n",
      "212 conv4_block8_1_relu\n",
      "213 conv4_block8_2_pad\n",
      "214 conv4_block8_2_conv\n",
      "215 conv4_block8_2_bn\n",
      "216 conv4_block8_2_relu\n",
      "217 conv4_block8_3_conv\n",
      "218 conv4_block8_out\n",
      "219 conv4_block9_preact_bn\n",
      "220 conv4_block9_preact_relu\n",
      "221 conv4_block9_1_conv\n",
      "222 conv4_block9_1_bn\n",
      "223 conv4_block9_1_relu\n",
      "224 conv4_block9_2_pad\n",
      "225 conv4_block9_2_conv\n",
      "226 conv4_block9_2_bn\n",
      "227 conv4_block9_2_relu\n",
      "228 conv4_block9_3_conv\n",
      "229 conv4_block9_out\n",
      "230 conv4_block10_preact_bn\n",
      "231 conv4_block10_preact_relu\n",
      "232 conv4_block10_1_conv\n",
      "233 conv4_block10_1_bn\n",
      "234 conv4_block10_1_relu\n",
      "235 conv4_block10_2_pad\n",
      "236 conv4_block10_2_conv\n",
      "237 conv4_block10_2_bn\n",
      "238 conv4_block10_2_relu\n",
      "239 conv4_block10_3_conv\n",
      "240 conv4_block10_out\n",
      "241 conv4_block11_preact_bn\n",
      "242 conv4_block11_preact_relu\n",
      "243 conv4_block11_1_conv\n",
      "244 conv4_block11_1_bn\n",
      "245 conv4_block11_1_relu\n",
      "246 conv4_block11_2_pad\n",
      "247 conv4_block11_2_conv\n",
      "248 conv4_block11_2_bn\n",
      "249 conv4_block11_2_relu\n",
      "250 conv4_block11_3_conv\n",
      "251 conv4_block11_out\n",
      "252 conv4_block12_preact_bn\n",
      "253 conv4_block12_preact_relu\n",
      "254 conv4_block12_1_conv\n",
      "255 conv4_block12_1_bn\n",
      "256 conv4_block12_1_relu\n",
      "257 conv4_block12_2_pad\n",
      "258 conv4_block12_2_conv\n",
      "259 conv4_block12_2_bn\n",
      "260 conv4_block12_2_relu\n",
      "261 conv4_block12_3_conv\n",
      "262 conv4_block12_out\n",
      "263 conv4_block13_preact_bn\n",
      "264 conv4_block13_preact_relu\n",
      "265 conv4_block13_1_conv\n",
      "266 conv4_block13_1_bn\n",
      "267 conv4_block13_1_relu\n",
      "268 conv4_block13_2_pad\n",
      "269 conv4_block13_2_conv\n",
      "270 conv4_block13_2_bn\n",
      "271 conv4_block13_2_relu\n",
      "272 conv4_block13_3_conv\n",
      "273 conv4_block13_out\n",
      "274 conv4_block14_preact_bn\n",
      "275 conv4_block14_preact_relu\n",
      "276 conv4_block14_1_conv\n",
      "277 conv4_block14_1_bn\n",
      "278 conv4_block14_1_relu\n",
      "279 conv4_block14_2_pad\n",
      "280 conv4_block14_2_conv\n",
      "281 conv4_block14_2_bn\n",
      "282 conv4_block14_2_relu\n",
      "283 conv4_block14_3_conv\n",
      "284 conv4_block14_out\n",
      "285 conv4_block15_preact_bn\n",
      "286 conv4_block15_preact_relu\n",
      "287 conv4_block15_1_conv\n",
      "288 conv4_block15_1_bn\n",
      "289 conv4_block15_1_relu\n",
      "290 conv4_block15_2_pad\n",
      "291 conv4_block15_2_conv\n",
      "292 conv4_block15_2_bn\n",
      "293 conv4_block15_2_relu\n",
      "294 conv4_block15_3_conv\n",
      "295 conv4_block15_out\n",
      "296 conv4_block16_preact_bn\n",
      "297 conv4_block16_preact_relu\n",
      "298 conv4_block16_1_conv\n",
      "299 conv4_block16_1_bn\n",
      "300 conv4_block16_1_relu\n",
      "301 conv4_block16_2_pad\n",
      "302 conv4_block16_2_conv\n",
      "303 conv4_block16_2_bn\n",
      "304 conv4_block16_2_relu\n",
      "305 conv4_block16_3_conv\n",
      "306 conv4_block16_out\n",
      "307 conv4_block17_preact_bn\n",
      "308 conv4_block17_preact_relu\n",
      "309 conv4_block17_1_conv\n",
      "310 conv4_block17_1_bn\n",
      "311 conv4_block17_1_relu\n",
      "312 conv4_block17_2_pad\n",
      "313 conv4_block17_2_conv\n",
      "314 conv4_block17_2_bn\n",
      "315 conv4_block17_2_relu\n",
      "316 conv4_block17_3_conv\n",
      "317 conv4_block17_out\n",
      "318 conv4_block18_preact_bn\n",
      "319 conv4_block18_preact_relu\n",
      "320 conv4_block18_1_conv\n",
      "321 conv4_block18_1_bn\n",
      "322 conv4_block18_1_relu\n",
      "323 conv4_block18_2_pad\n",
      "324 conv4_block18_2_conv\n",
      "325 conv4_block18_2_bn\n",
      "326 conv4_block18_2_relu\n",
      "327 conv4_block18_3_conv\n",
      "328 conv4_block18_out\n",
      "329 conv4_block19_preact_bn\n",
      "330 conv4_block19_preact_relu\n",
      "331 conv4_block19_1_conv\n",
      "332 conv4_block19_1_bn\n",
      "333 conv4_block19_1_relu\n",
      "334 conv4_block19_2_pad\n",
      "335 conv4_block19_2_conv\n",
      "336 conv4_block19_2_bn\n",
      "337 conv4_block19_2_relu\n",
      "338 conv4_block19_3_conv\n",
      "339 conv4_block19_out\n",
      "340 conv4_block20_preact_bn\n",
      "341 conv4_block20_preact_relu\n",
      "342 conv4_block20_1_conv\n",
      "343 conv4_block20_1_bn\n",
      "344 conv4_block20_1_relu\n",
      "345 conv4_block20_2_pad\n",
      "346 conv4_block20_2_conv\n",
      "347 conv4_block20_2_bn\n",
      "348 conv4_block20_2_relu\n",
      "349 conv4_block20_3_conv\n",
      "350 conv4_block20_out\n",
      "351 conv4_block21_preact_bn\n",
      "352 conv4_block21_preact_relu\n",
      "353 conv4_block21_1_conv\n",
      "354 conv4_block21_1_bn\n",
      "355 conv4_block21_1_relu\n",
      "356 conv4_block21_2_pad\n",
      "357 conv4_block21_2_conv\n",
      "358 conv4_block21_2_bn\n",
      "359 conv4_block21_2_relu\n",
      "360 conv4_block21_3_conv\n",
      "361 conv4_block21_out\n",
      "362 conv4_block22_preact_bn\n",
      "363 conv4_block22_preact_relu\n",
      "364 conv4_block22_1_conv\n",
      "365 conv4_block22_1_bn\n",
      "366 conv4_block22_1_relu\n",
      "367 conv4_block22_2_pad\n",
      "368 conv4_block22_2_conv\n",
      "369 conv4_block22_2_bn\n",
      "370 conv4_block22_2_relu\n",
      "371 conv4_block22_3_conv\n",
      "372 conv4_block22_out\n",
      "373 conv4_block23_preact_bn\n",
      "374 conv4_block23_preact_relu\n",
      "375 conv4_block23_1_conv\n",
      "376 conv4_block23_1_bn\n",
      "377 conv4_block23_1_relu\n",
      "378 conv4_block23_2_pad\n",
      "379 conv4_block23_2_conv\n",
      "380 conv4_block23_2_bn\n",
      "381 conv4_block23_2_relu\n",
      "382 conv4_block23_3_conv\n",
      "383 conv4_block23_out\n",
      "384 conv4_block24_preact_bn\n",
      "385 conv4_block24_preact_relu\n",
      "386 conv4_block24_1_conv\n",
      "387 conv4_block24_1_bn\n",
      "388 conv4_block24_1_relu\n",
      "389 conv4_block24_2_pad\n",
      "390 conv4_block24_2_conv\n",
      "391 conv4_block24_2_bn\n",
      "392 conv4_block24_2_relu\n",
      "393 conv4_block24_3_conv\n",
      "394 conv4_block24_out\n",
      "395 conv4_block25_preact_bn\n",
      "396 conv4_block25_preact_relu\n",
      "397 conv4_block25_1_conv\n",
      "398 conv4_block25_1_bn\n",
      "399 conv4_block25_1_relu\n",
      "400 conv4_block25_2_pad\n",
      "401 conv4_block25_2_conv\n",
      "402 conv4_block25_2_bn\n",
      "403 conv4_block25_2_relu\n",
      "404 conv4_block25_3_conv\n",
      "405 conv4_block25_out\n",
      "406 conv4_block26_preact_bn\n",
      "407 conv4_block26_preact_relu\n",
      "408 conv4_block26_1_conv\n",
      "409 conv4_block26_1_bn\n",
      "410 conv4_block26_1_relu\n",
      "411 conv4_block26_2_pad\n",
      "412 conv4_block26_2_conv\n",
      "413 conv4_block26_2_bn\n",
      "414 conv4_block26_2_relu\n",
      "415 conv4_block26_3_conv\n",
      "416 conv4_block26_out\n",
      "417 conv4_block27_preact_bn\n",
      "418 conv4_block27_preact_relu\n",
      "419 conv4_block27_1_conv\n",
      "420 conv4_block27_1_bn\n",
      "421 conv4_block27_1_relu\n",
      "422 conv4_block27_2_pad\n",
      "423 conv4_block27_2_conv\n",
      "424 conv4_block27_2_bn\n",
      "425 conv4_block27_2_relu\n",
      "426 conv4_block27_3_conv\n",
      "427 conv4_block27_out\n",
      "428 conv4_block28_preact_bn\n",
      "429 conv4_block28_preact_relu\n",
      "430 conv4_block28_1_conv\n",
      "431 conv4_block28_1_bn\n",
      "432 conv4_block28_1_relu\n",
      "433 conv4_block28_2_pad\n",
      "434 conv4_block28_2_conv\n",
      "435 conv4_block28_2_bn\n",
      "436 conv4_block28_2_relu\n",
      "437 conv4_block28_3_conv\n",
      "438 conv4_block28_out\n",
      "439 conv4_block29_preact_bn\n",
      "440 conv4_block29_preact_relu\n",
      "441 conv4_block29_1_conv\n",
      "442 conv4_block29_1_bn\n",
      "443 conv4_block29_1_relu\n",
      "444 conv4_block29_2_pad\n",
      "445 conv4_block29_2_conv\n",
      "446 conv4_block29_2_bn\n",
      "447 conv4_block29_2_relu\n",
      "448 conv4_block29_3_conv\n",
      "449 conv4_block29_out\n",
      "450 conv4_block30_preact_bn\n",
      "451 conv4_block30_preact_relu\n",
      "452 conv4_block30_1_conv\n",
      "453 conv4_block30_1_bn\n",
      "454 conv4_block30_1_relu\n",
      "455 conv4_block30_2_pad\n",
      "456 conv4_block30_2_conv\n",
      "457 conv4_block30_2_bn\n",
      "458 conv4_block30_2_relu\n",
      "459 conv4_block30_3_conv\n",
      "460 conv4_block30_out\n",
      "461 conv4_block31_preact_bn\n",
      "462 conv4_block31_preact_relu\n",
      "463 conv4_block31_1_conv\n",
      "464 conv4_block31_1_bn\n",
      "465 conv4_block31_1_relu\n",
      "466 conv4_block31_2_pad\n",
      "467 conv4_block31_2_conv\n",
      "468 conv4_block31_2_bn\n",
      "469 conv4_block31_2_relu\n",
      "470 conv4_block31_3_conv\n",
      "471 conv4_block31_out\n",
      "472 conv4_block32_preact_bn\n",
      "473 conv4_block32_preact_relu\n",
      "474 conv4_block32_1_conv\n",
      "475 conv4_block32_1_bn\n",
      "476 conv4_block32_1_relu\n",
      "477 conv4_block32_2_pad\n",
      "478 conv4_block32_2_conv\n",
      "479 conv4_block32_2_bn\n",
      "480 conv4_block32_2_relu\n",
      "481 conv4_block32_3_conv\n",
      "482 conv4_block32_out\n",
      "483 conv4_block33_preact_bn\n",
      "484 conv4_block33_preact_relu\n",
      "485 conv4_block33_1_conv\n",
      "486 conv4_block33_1_bn\n",
      "487 conv4_block33_1_relu\n",
      "488 conv4_block33_2_pad\n",
      "489 conv4_block33_2_conv\n",
      "490 conv4_block33_2_bn\n",
      "491 conv4_block33_2_relu\n",
      "492 conv4_block33_3_conv\n",
      "493 conv4_block33_out\n",
      "494 conv4_block34_preact_bn\n",
      "495 conv4_block34_preact_relu\n",
      "496 conv4_block34_1_conv\n",
      "497 conv4_block34_1_bn\n",
      "498 conv4_block34_1_relu\n",
      "499 conv4_block34_2_pad\n",
      "500 conv4_block34_2_conv\n",
      "501 conv4_block34_2_bn\n",
      "502 conv4_block34_2_relu\n",
      "503 conv4_block34_3_conv\n",
      "504 conv4_block34_out\n",
      "505 conv4_block35_preact_bn\n",
      "506 conv4_block35_preact_relu\n",
      "507 conv4_block35_1_conv\n",
      "508 conv4_block35_1_bn\n",
      "509 conv4_block35_1_relu\n",
      "510 conv4_block35_2_pad\n",
      "511 conv4_block35_2_conv\n",
      "512 conv4_block35_2_bn\n",
      "513 conv4_block35_2_relu\n",
      "514 conv4_block35_3_conv\n",
      "515 conv4_block35_out\n",
      "516 conv4_block36_preact_bn\n",
      "517 conv4_block36_preact_relu\n",
      "518 conv4_block36_1_conv\n",
      "519 conv4_block36_1_bn\n",
      "520 conv4_block36_1_relu\n",
      "521 conv4_block36_2_pad\n",
      "522 conv4_block36_2_conv\n",
      "523 conv4_block36_2_bn\n",
      "524 conv4_block36_2_relu\n",
      "525 max_pooling2d_2\n",
      "526 conv4_block36_3_conv\n",
      "527 conv4_block36_out\n",
      "528 conv5_block1_preact_bn\n",
      "529 conv5_block1_preact_relu\n",
      "530 conv5_block1_1_conv\n",
      "531 conv5_block1_1_bn\n",
      "532 conv5_block1_1_relu\n",
      "533 conv5_block1_2_pad\n",
      "534 conv5_block1_2_conv\n",
      "535 conv5_block1_2_bn\n",
      "536 conv5_block1_2_relu\n",
      "537 conv5_block1_0_conv\n",
      "538 conv5_block1_3_conv\n",
      "539 conv5_block1_out\n",
      "540 conv5_block2_preact_bn\n",
      "541 conv5_block2_preact_relu\n",
      "542 conv5_block2_1_conv\n",
      "543 conv5_block2_1_bn\n",
      "544 conv5_block2_1_relu\n",
      "545 conv5_block2_2_pad\n",
      "546 conv5_block2_2_conv\n",
      "547 conv5_block2_2_bn\n",
      "548 conv5_block2_2_relu\n",
      "549 conv5_block2_3_conv\n",
      "550 conv5_block2_out\n",
      "551 conv5_block3_preact_bn\n",
      "552 conv5_block3_preact_relu\n",
      "553 conv5_block3_1_conv\n",
      "554 conv5_block3_1_bn\n",
      "555 conv5_block3_1_relu\n",
      "556 conv5_block3_2_pad\n",
      "557 conv5_block3_2_conv\n",
      "558 conv5_block3_2_bn\n",
      "559 conv5_block3_2_relu\n",
      "560 conv5_block3_3_conv\n",
      "561 conv5_block3_out\n",
      "562 post_bn\n",
      "563 post_relu\n"
     ]
    }
   ],
   "source": [
    "for i, layer in enumerate(conv_base.layers) :\n",
    "  print(i, layer.name)"
   ]
  },
  {
   "cell_type": "code",
   "execution_count": 23,
   "metadata": {
    "executionInfo": {
     "elapsed": 439,
     "status": "ok",
     "timestamp": 1650262511972,
     "user": {
      "displayName": "H.W park",
      "userId": "06250213374847463567"
     },
     "user_tz": -540
    },
    "id": "I1rzjUIAciPt"
   },
   "outputs": [],
   "source": [
    "for layer in conv_base.layers[528:] :\n",
    "  layer.trainable = True"
   ]
  },
  {
   "cell_type": "code",
   "execution_count": 24,
   "metadata": {
    "executionInfo": {
     "elapsed": 452,
     "status": "ok",
     "timestamp": 1650262515156,
     "user": {
      "displayName": "H.W park",
      "userId": "06250213374847463567"
     },
     "user_tz": -540
    },
    "id": "sU2NM1ZIcQUi"
   },
   "outputs": [],
   "source": [
    "# model.summary()"
   ]
  },
  {
   "cell_type": "code",
   "execution_count": 12,
   "metadata": {
    "executionInfo": {
     "elapsed": 432,
     "status": "ok",
     "timestamp": 1650262517137,
     "user": {
      "displayName": "H.W park",
      "userId": "06250213374847463567"
     },
     "user_tz": -540
    },
    "id": "qlE2vJXFLmfW"
   },
   "outputs": [],
   "source": [
    "# optimizer 정의\n",
    "\n",
    "opt = tf.keras.optimizers.Adam(learning_rate= 0.0001)"
   ]
  },
  {
   "cell_type": "code",
   "execution_count": 13,
   "metadata": {
    "executionInfo": {
     "elapsed": 7,
     "status": "ok",
     "timestamp": 1650262519909,
     "user": {
      "displayName": "H.W park",
      "userId": "06250213374847463567"
     },
     "user_tz": -540
    },
    "id": "ddxjnrZfLlfn"
   },
   "outputs": [],
   "source": [
    "# 모델 학습시 가장 최신의 최고 모델을 저장하는 인스턴스를 정의\n",
    "modelCheckpoint = ModelCheckpoint('logs/f_resnet_0.h5', save_best_only=True)\n",
    "\n",
    "# 모델 학습시 정확도를 모니터링하여 조기에 학습을 종료시키는 인스턴스 정의\n",
    "monitor_val_acc = EarlyStopping(monitor='val_acc', patience=5)\n",
    "\n",
    "# callback 정의\n",
    "callbacks= [modelCheckpoint,monitor_val_acc]"
   ]
  },
  {
   "cell_type": "code",
   "execution_count": 14,
   "metadata": {
    "executionInfo": {
     "elapsed": 443,
     "status": "ok",
     "timestamp": 1650262522591,
     "user": {
      "displayName": "H.W park",
      "userId": "06250213374847463567"
     },
     "user_tz": -540
    },
    "id": "dQAQ-VGvWH3P"
   },
   "outputs": [],
   "source": [
    "model.compile(loss='categorical_crossentropy', optimizer=opt,metrics=['acc'])"
   ]
  },
  {
   "cell_type": "code",
   "execution_count": 15,
   "metadata": {
    "colab": {
     "base_uri": "https://localhost:8080/",
     "height": 1000
    },
    "executionInfo": {
     "elapsed": 56453,
     "status": "error",
     "timestamp": 1650262580528,
     "user": {
      "displayName": "H.W park",
      "userId": "06250213374847463567"
     },
     "user_tz": -540
    },
    "id": "w8U-KsJzLlX7",
    "outputId": "39daa525-d462-4cfe-952f-60f275601944"
   },
   "outputs": [
    {
     "name": "stdout",
     "output_type": "stream",
     "text": [
      "WARNING:tensorflow:sample_weight modes were coerced from\n",
      "  ...\n",
      "    to  \n",
      "  ['...']\n",
      "WARNING:tensorflow:sample_weight modes were coerced from\n",
      "  ...\n",
      "    to  \n",
      "  ['...']\n",
      "Train for 264 steps, validate for 42 steps\n",
      "Epoch 1/20\n",
      "264/264 [==============================] - 119s 451ms/step - loss: 0.8633 - acc: 0.6415 - val_loss: 0.7566 - val_acc: 0.6909\n",
      "Epoch 2/20\n",
      "264/264 [==============================] - 96s 362ms/step - loss: 0.3485 - acc: 0.8584 - val_loss: 0.9481 - val_acc: 0.6804\n",
      "Epoch 3/20\n",
      "264/264 [==============================] - 96s 363ms/step - loss: 0.1686 - acc: 0.9357 - val_loss: 1.2287 - val_acc: 0.7337\n",
      "Epoch 4/20\n",
      "264/264 [==============================] - 96s 362ms/step - loss: 0.1323 - acc: 0.9479 - val_loss: 1.5442 - val_acc: 0.6534\n",
      "Epoch 5/20\n",
      "264/264 [==============================] - 96s 363ms/step - loss: 0.0982 - acc: 0.9672 - val_loss: 1.2834 - val_acc: 0.7314\n",
      "Epoch 6/20\n",
      "264/264 [==============================] - 96s 363ms/step - loss: 0.1126 - acc: 0.9605 - val_loss: 2.2685 - val_acc: 0.5919\n",
      "Epoch 7/20\n",
      "264/264 [==============================] - 96s 363ms/step - loss: 0.0776 - acc: 0.9718 - val_loss: 1.3473 - val_acc: 0.6962\n",
      "Epoch 8/20\n",
      "264/264 [==============================] - 96s 363ms/step - loss: 0.0695 - acc: 0.9750 - val_loss: 1.4791 - val_acc: 0.6834\n"
     ]
    }
   ],
   "source": [
    "history =model.fit(train_set,\n",
    "\n",
    "                    epochs=epochs,\n",
    "                    validation_data=val_set,\n",
    "\n",
    "                    callbacks=callbacks\n",
    "                   )"
   ]
  },
  {
   "cell_type": "code",
   "execution_count": 16,
   "metadata": {
    "colab": {
     "base_uri": "https://localhost:8080/"
    },
    "executionInfo": {
     "elapsed": 272429,
     "status": "ok",
     "timestamp": 1650084629366,
     "user": {
      "displayName": "H.W park",
      "userId": "06250213374847463567"
     },
     "user_tz": -540
    },
    "id": "gFzdwKzGkaly",
    "outputId": "fa0e26d5-8f9d-405d-d30e-72d12e0ec312"
   },
   "outputs": [
    {
     "name": "stdout",
     "output_type": "stream",
     "text": [
      "WARNING:tensorflow:sample_weight modes were coerced from\n",
      "  ...\n",
      "    to  \n",
      "  ['...']\n",
      "17/17 [==============================] - 3s 186ms/step - loss: 1.5246 - acc: 0.6479\n",
      "Test loss: 1.5245697007459753\n",
      "Test accuracy: 64.79400992393494\n"
     ]
    }
   ],
   "source": [
    "# resnet_model 모델 평가\n",
    "(test_loss, test_accuracy) = model.evaluate(test_set, verbose=1)\n",
    "print('Test loss:', test_loss)\n",
    "print('Test accuracy:', test_accuracy*100)"
   ]
  },
  {
   "cell_type": "code",
   "execution_count": 17,
   "metadata": {
    "id": "Q7OvTSBCppcz"
   },
   "outputs": [],
   "source": [
    "# font 설정\n",
    "\n",
    "font1 = {'family': 'DejaVu Sans',\n",
    "         'weight': 'bold',\n",
    "         'size': 20\n",
    "         }\n",
    "\n",
    "font2 = {'family': 'DejaVu Sans',\n",
    "         'size': 16\n",
    "         }   "
   ]
  },
  {
   "cell_type": "code",
   "execution_count": 19,
   "metadata": {
    "colab": {
     "base_uri": "https://localhost:8080/"
    },
    "executionInfo": {
     "elapsed": 888,
     "status": "ok",
     "timestamp": 1650084630248,
     "user": {
      "displayName": "H.W park",
      "userId": "06250213374847463567"
     },
     "user_tz": -540
    },
    "id": "tVl46gskNSBb",
    "outputId": "e7ccc282-10ed-4e91-ec7c-00c3c0b4773d"
   },
   "outputs": [
    {
     "data": {
      "image/png": "[encoded data removed]",
      "text/plain": [
       "<Figure size 1296x720 with 1 Axes>"
      ]
     },
     "metadata": {
      "needs_background": "light"
     },
     "output_type": "display_data"
    }
   ],
   "source": [
    "plt.figure(figsize=(18,10))\n",
    "\n",
    "plt.plot(history.history['loss'], '--', c = 'red', label = 'loss', linewidth = 3)\n",
    "plt.plot(history.history['val_loss'], '--', c = 'dodgerblue', label = 'val_loss', linewidth = 3)\n",
    "plt.plot(history.history['acc'], c='orange',label = 'accuracy', linewidth = 5)\n",
    "plt.plot(history.history['val_acc'],c='purple',label = 'val_accuracy', linewidth = 5)\n",
    "\n",
    "\n",
    "plt.legend(['loss', 'val_loss','accuracy','val_accuracy'],shadow = True, loc='best',fontsize = 16)\n",
    "plt.title('erythema', fontdict=font1, pad = 20)\n",
    "plt.xlabel('epoch', fontdict=font2, labelpad=10)\n",
    "plt.xticks(fontsize=16)\n",
    "plt.yticks(fontsize=16)\n",
    "plt.grid(True, alpha=0.5, linestyle='--')\n",
    "plt.show()"
   ]
  },
  {
   "cell_type": "code",
   "execution_count": 20,
   "metadata": {
    "id": "IheU35BDNR2i"
   },
   "outputs": [
    {
     "name": "stdout",
     "output_type": "stream",
     "text": [
      "-- Confusion Matrix --\n",
      "[[ 69   7   0   0]\n",
      " [ 29 200  69   5]\n",
      " [  0  53  51   4]\n",
      " [  2   5  14  26]]\n",
      "-- Classification Report --\n",
      "                precision    recall  f1-score   support\n",
      "\n",
      "folliculitis_0       0.69      0.91      0.78        76\n",
      "folliculitis_1       0.75      0.66      0.70       303\n",
      "folliculitis_2       0.38      0.47      0.42       108\n",
      "folliculitis_3       0.74      0.55      0.63        47\n",
      "\n",
      "      accuracy                           0.65       534\n",
      "     macro avg       0.64      0.65      0.64       534\n",
      "  weighted avg       0.67      0.65      0.65       534\n",
      "\n"
     ]
    }
   ],
   "source": [
    "from sklearn.metrics import classification_report, confusion_matrix\n",
    "\n",
    "Y_pred = model.predict(test_set)\n",
    "classes = test_set.classes[test_set.index_array]\n",
    "y_pred = np.argmax(Y_pred, axis=1)\n",
    "\n",
    "result_dict = dict(map(reversed, test_set.class_indices.items()))\n",
    "class_names = list(result_dict.values())\n",
    "\n",
    "print('-- Confusion Matrix --')\n",
    "print(confusion_matrix(classes, y_pred))\n",
    "\n",
    "print('-- Classification Report --')\n",
    "print(classification_report(classes, y_pred, target_names=class_names))"
   ]
  },
  {
   "cell_type": "code",
   "execution_count": 22,
   "metadata": {
    "id": "0xUjkhqDNRzL"
   },
   "outputs": [
    {
     "data": {
      "text/plain": [
       "Text(0.5, 1.0, '_confusion matrix')"
      ]
     },
     "execution_count": 22,
     "metadata": {},
     "output_type": "execute_result"
    },
    {
     "data": {
      "image/png": "[encoded data removed]",
      "text/plain": [
       "<Figure size 432x288 with 2 Axes>"
      ]
     },
     "metadata": {
      "needs_background": "light"
     },
     "output_type": "display_data"
    }
   ],
   "source": [
    "ax = plt.subplot()\n",
    "sns.heatmap(confusion_matrix(classes, y_pred), annot=True, fmt='d' )\n",
    "ax.set_xlabel('Predicted labels');ax.set_ylabel('True labels');\n",
    "ax.set_title('_confusion matrix')"
   ]
  },
  {
   "cell_type": "code",
   "execution_count": null,
   "metadata": {},
   "outputs": [],
   "source": []
  }
 ],
 "metadata": {
  "accelerator": "GPU",
  "colab": {
   "authorship_tag": "ABX9TyPPatWUQaquEOLbl/qIy8VM",
   "collapsed_sections": [],
   "mount_file_id": "1Ahas7Cbf8qnTwVye4oBfK0PcCAU14YVB",
   "name": "Resnet_classifier.ipynb",
   "provenance": []
  },
  "kernelspec": {
   "display_name": "Python 3 (ipykernel)",
   "language": "python",
   "name": "python3"
  },
  "language_info": {
   "codemirror_mode": {
    "name": "ipython",
    "version": 3
   },
   "file_extension": ".py",
   "mimetype": "text/x-python",
   "name": "python",
   "nbconvert_exporter": "python",
   "pygments_lexer": "ipython3",
   "version": "3.7.11"
  }
 },
 "nbformat": 4,
 "nbformat_minor": 1
}

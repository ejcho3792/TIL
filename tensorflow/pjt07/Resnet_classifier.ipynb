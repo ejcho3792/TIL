{
 "cells": [
  {
   "cell_type": "markdown",
   "metadata": {
    "id": "UDCEyHmBkRyx"
   },
   "source": [
    "# Scalp Type Image Classifier using ResNet152v2 "
   ]
  },
  {
   "cell_type": "code",
   "execution_count": null,
   "metadata": {
    "colab": {
     "base_uri": "https://localhost:8080/"
    },
    "executionInfo": {
     "elapsed": 2003,
     "status": "ok",
     "timestamp": 1650437532205,
     "user": {
      "displayName": "H.W park",
      "userId": "06250213374847463567"
     },
     "user_tz": -540
    },
    "id": "fWFwLyRqJuKl",
    "outputId": "e3f46962-6dd2-484f-fc70-4114d30839fa"
   },
   "outputs": [
    {
     "name": "stdout",
     "output_type": "stream",
     "text": [
      "Drive already mounted at /content/drive; to attempt to forcibly remount, call drive.mount(\"/content/drive\", force_remount=True).\n"
     ]
    }
   ],
   "source": [
    "from google.colab import drive\n",
    "drive.mount('/content/drive')"
   ]
  },
  {
   "cell_type": "code",
   "execution_count": null,
   "metadata": {
    "id": "TC9ddBvpfsUJ"
   },
   "outputs": [],
   "source": [
    "# dataset.zip >> img sharpening 한 dandruff \n",
    "from zipfile import ZipFile\n",
    "\n",
    "with ZipFile('/content/drive/MyDrive/Final_Project/박현우/dataset/dataset_2.zip') as z: \n",
    "    z.extractall()"
   ]
  },
  {
   "cell_type": "code",
   "execution_count": null,
   "metadata": {
    "id": "D498U_w0KESy"
   },
   "outputs": [],
   "source": [
    "import pandas as pd\n",
    "import numpy as np\n",
    "import matplotlib.pyplot as plt\n",
    "import seaborn as sns\n",
    "import cv2\n",
    "import os\n",
    "import glob \n",
    "import tensorflow as tf\n",
    "import PIL\n",
    "from PIL import ImageDraw\n",
    "\n",
    "from keras import models\n",
    "from tensorflow.keras.models import Model,load_model,Sequential\n",
    "from tensorflow.keras.layers import Conv2D, MaxPooling2D, Dropout, Dense,Flatten, Activation, BatchNormalization,Input,Add,ZeroPadding2D,AveragePooling2D,GlobalMaxPooling2D,MaxPool2D\n",
    "from keras import optimizers\n",
    "from keras import regularizers\n",
    "from keras.preprocessing import image\n",
    "from tensorflow.keras.preprocessing.image import ImageDataGenerator\n",
    "from tensorflow.keras.callbacks import EarlyStopping, ModelCheckpoint\n",
    "from tensorflow.keras.applications.resnet_v2 import ResNet152V2, ResNet50V2, preprocess_input, decode_predictions\n",
    "from tensorflow.keras.applications.resnet50 import ResNet50, preprocess_input, decode_predictions\n",
    "\n",
    "\n",
    "from sklearn.metrics import confusion_matrix"
   ]
  },
  {
   "cell_type": "markdown",
   "metadata": {
    "id": "uefSTMSPk1Em"
   },
   "source": [
    "Train_data, Validation, Test >> dandruff, erythema, hairloss, folliculitis, oily_scalp, dry_scalp 총 6가지 두피 타입 이미지 데이터셋이 있음"
   ]
  },
  {
   "cell_type": "markdown",
   "metadata": {
    "id": "mqA6KdsOllY0"
   },
   "source": [
    "### dry_scalp 이미지 데이터 불러오기"
   ]
  },
  {
   "cell_type": "code",
   "execution_count": null,
   "metadata": {
    "id": "W1AptC6b_GXU"
   },
   "outputs": [],
   "source": [
    "train_path = '/content/drive/MyDrive/Final_Project/Train_data/dry_scalp'\n",
    "valid_path = '/content/drive/MyDrive/Final_Project/Validation/dry_scalp'\n",
    "test_path = '/content/drive/MyDrive/Final_Project/Test/dry_scalp'"
   ]
  },
  {
   "cell_type": "code",
   "execution_count": null,
   "metadata": {
    "colab": {
     "base_uri": "https://localhost:8080/",
     "height": 35
    },
    "executionInfo": {
     "elapsed": 8,
     "status": "ok",
     "timestamp": 1650257294617,
     "user": {
      "displayName": "H.W park",
      "userId": "06250213374847463567"
     },
     "user_tz": -540
    },
    "id": "bGtKeDXq_916",
    "outputId": "a8002221-b3b3-44a7-c1b6-4a122fe00798"
   },
   "outputs": [
    {
     "data": {
      "application/vnd.google.colaboratory.intrinsic+json": {
       "type": "string"
      },
      "text/plain": [
       "'/content/drive/MyDrive/Final_Project/Train_data/dry_scalp'"
      ]
     },
     "execution_count": 10,
     "metadata": {},
     "output_type": "execute_result"
    }
   ],
   "source": [
    "train_path"
   ]
  },
  {
   "cell_type": "markdown",
   "metadata": {
    "id": "7Yp69u6Gl2eN"
   },
   "source": [
    "### oily_scalp 이미지 데이터 불러오기"
   ]
  },
  {
   "cell_type": "code",
   "execution_count": null,
   "metadata": {
    "id": "1YfiqC2pl3U3"
   },
   "outputs": [],
   "source": [
    "train_path = '/content/drive/MyDrive/Final_Project/Train_data/oily_scalp'\n",
    "valid_path = '/content/drive/MyDrive/Final_Project/Validation/oily_scalp'\n",
    "test_path = '/content/drive/MyDrive/Final_Project/Test/oily_scalp'"
   ]
  },
  {
   "cell_type": "markdown",
   "metadata": {
    "id": "yQTRYimknL13"
   },
   "source": [
    "### dandruff 이미지 불러오기"
   ]
  },
  {
   "cell_type": "code",
   "execution_count": null,
   "metadata": {
    "id": "b8iSe05pnPx9"
   },
   "outputs": [],
   "source": [
    "train_path = '/content/drive/MyDrive/Final_Project/Train_data/dandruff'\n",
    "valid_path = '/content/drive/MyDrive/Final_Project/Validation/dandruff'\n",
    "test_path = '/content/drive/MyDrive/Final_Project/Test/dandruff'"
   ]
  },
  {
   "cell_type": "code",
   "execution_count": null,
   "metadata": {
    "id": "9n7gHB6RgqX0"
   },
   "outputs": [],
   "source": [
    "# zip해제 후\n",
    "train_path = '/content/train/dandruff'\n",
    "valid_path = '/content/val/dandruff'\n",
    "test_path = '/content/test/dandruff'"
   ]
  },
  {
   "cell_type": "markdown",
   "metadata": {
    "id": "ofuLV3EJmIYD"
   },
   "source": [
    "### erythema 이미지 불러오기"
   ]
  },
  {
   "cell_type": "code",
   "execution_count": null,
   "metadata": {
    "id": "AJfqFLlbIYaE"
   },
   "outputs": [],
   "source": [
    "train_path = '/content/drive/MyDrive/Final_Project/Train_data/erythema'\n",
    "valid_path = '/content/drive/MyDrive/Final_Project/Validation/erythema'\n",
    "test_path = '/content/drive/MyDrive/Final_Project/Test/erythema'"
   ]
  },
  {
   "cell_type": "markdown",
   "metadata": {
    "id": "8n_7tjm-IkWp"
   },
   "source": [
    "### folliculitis 이미지 불러오기\n"
   ]
  },
  {
   "cell_type": "code",
   "execution_count": null,
   "metadata": {
    "id": "STkOrkJiJEwU"
   },
   "outputs": [],
   "source": [
    "train_path = '/content/drive/MyDrive/Final_Project/Train_data/folliculitis'\n",
    "valid_path = '/content/drive/MyDrive/Final_Project/Validation/folliculitis'\n",
    "test_path = '/content/drive/MyDrive/Final_Project/Test/folliculitis'"
   ]
  },
  {
   "cell_type": "code",
   "execution_count": null,
   "metadata": {
    "id": "eKpbjBdFB_g3"
   },
   "outputs": [],
   "source": [
    "# 전처리된 이미지\n",
    "train_path = '/content/drive/MyDrive/final_pjt/dataset/train/folliculitis'\n",
    "valid_path = '/content/drive/MyDrive/final_pjt/dataset/val/folliculitis'\n",
    "test_path = '/content/drive/MyDrive/final_pjt/dataset/test/folliculitis'"
   ]
  },
  {
   "cell_type": "markdown",
   "metadata": {
    "id": "Z3SPLukdJZzE"
   },
   "source": [
    "###                                                            이미지 불러오기"
   ]
  },
  {
   "cell_type": "code",
   "execution_count": null,
   "metadata": {
    "id": "KkQj3BZTJeKg"
   },
   "outputs": [],
   "source": [
    "train_path = '/content/drive/MyDrive/Final_Project/Train_data/folliculitis'\n",
    "valid_path = '/content/drive/MyDrive/Final_Project/Validation/folliculitis'\n",
    "test_path = '/content/drive/MyDrive/Final_Project/Test/folliculitis'"
   ]
  },
  {
   "cell_type": "markdown",
   "metadata": {
    "id": "f_41ISSymBdT"
   },
   "source": [
    "------------------------------"
   ]
  },
  {
   "cell_type": "markdown",
   "metadata": {
    "id": "dfSavUlGIysT"
   },
   "source": [
    "### Image generator"
   ]
  },
  {
   "cell_type": "code",
   "execution_count": null,
   "metadata": {
    "colab": {
     "base_uri": "https://localhost:8080/",
     "height": 35
    },
    "executionInfo": {
     "elapsed": 335,
     "status": "ok",
     "timestamp": 1650437610947,
     "user": {
      "displayName": "H.W park",
      "userId": "06250213374847463567"
     },
     "user_tz": -540
    },
    "id": "XV1LqUCo_LKq",
    "outputId": "21769ec6-8b3e-4015-e6c0-4288ac29ed00"
   },
   "outputs": [
    {
     "data": {
      "application/vnd.google.colaboratory.intrinsic+json": {
       "type": "string"
      },
      "text/plain": [
       "'dandruff'"
      ]
     },
     "execution_count": 5,
     "metadata": {},
     "output_type": "execute_result"
    }
   ],
   "source": [
    "subject = train_path.split('/')[-1]\n",
    "subject"
   ]
  },
  {
   "cell_type": "code",
   "execution_count": null,
   "metadata": {
    "colab": {
     "base_uri": "https://localhost:8080/"
    },
    "executionInfo": {
     "elapsed": 2,
     "status": "ok",
     "timestamp": 1650437612229,
     "user": {
      "displayName": "H.W park",
      "userId": "06250213374847463567"
     },
     "user_tz": -540
    },
    "id": "5HrKbO9M_Csk",
    "outputId": "3a7be280-bd0d-4c07-e92f-32077209f161"
   },
   "outputs": [
    {
     "data": {
      "text/plain": [
       "['dandruff_0', 'dandruff_1', 'dandruff_2', 'dandruff_3']"
      ]
     },
     "execution_count": 6,
     "metadata": {},
     "output_type": "execute_result"
    }
   ],
   "source": [
    "# image labels\n",
    "\n",
    "labels=pd.Series(os.listdir(train_path))\n",
    "\n",
    "labels=labels.sort_values()\n",
    "labels=labels.to_list()\n",
    "labels"
   ]
  },
  {
   "cell_type": "code",
   "execution_count": null,
   "metadata": {
    "id": "1dzqA6e4KEQa"
   },
   "outputs": [],
   "source": [
    "image_height = 224  # 이미지 높이\n",
    "image_width = 224   # 이미지 넓이\n",
    "batch_size = 32     # batch size\n",
    "epochs  = 20  # trining 횟수"
   ]
  },
  {
   "cell_type": "code",
   "execution_count": null,
   "metadata": {
    "id": "udClSB-PKEOK"
   },
   "outputs": [],
   "source": [
    "# ImageDataGenerator 클래스를 통해 train_datagen, val_datagen 인스턴스를 생성.\n",
    "# 픽셀 값을 0~1 범위로 변환\n",
    "\n",
    "train_datagen = ImageDataGenerator(rescale=1./255)\n",
    "val_datagen = ImageDataGenerator(rescale=1./255)\n",
    "test_datagen = ImageDataGenerator(rescale=1./255)"
   ]
  },
  {
   "cell_type": "code",
   "execution_count": null,
   "metadata": {
    "colab": {
     "base_uri": "https://localhost:8080/"
    },
    "executionInfo": {
     "elapsed": 557,
     "status": "ok",
     "timestamp": 1650437625218,
     "user": {
      "displayName": "H.W park",
      "userId": "06250213374847463567"
     },
     "user_tz": -540
    },
    "id": "QVQhwU2LKEL1",
    "outputId": "dd1b8746-ff76-44fe-cbda-c35d932725df"
   },
   "outputs": [
    {
     "name": "stdout",
     "output_type": "stream",
     "text": [
      "Found 19712 images belonging to 4 classes.\n",
      "Found 4123 images belonging to 4 classes.\n",
      "Found 8218 images belonging to 4 classes.\n"
     ]
    }
   ],
   "source": [
    "# train_datagen 인스턴스를 통해 train dataset 에서 한번에 batch_size 만큼 이미지를 만들어내는 training_set 객체를 생성.\n",
    "train_set = train_datagen.flow_from_directory(train_path,\n",
    "                                                 target_size=(image_width, image_height),\n",
    "                                                 batch_size=batch_size,\n",
    "                                                 class_mode='categorical')\n",
    "\n",
    "\n",
    "# val_datagen 인스턴스를 통해 test dataset 에서 한번에 batch_size 만큼 이미지를 만들어내는 test_set 객체를 생성.\n",
    "test_set = test_datagen.flow_from_directory(test_path,                                            \n",
    "                                            target_size=(image_width, image_height),\n",
    "                                            batch_size=batch_size,\n",
    "                                            class_mode='categorical')\n",
    "\n",
    "#val_datagen 인스턴스를 통해 val dataset 에서 한번에 batch_size 만큼 이미지를 만들어내는 val_set 객체를 생성.\n",
    "val_set = val_datagen.flow_from_directory(valid_path,                                        \n",
    "                                           target_size=(image_width, image_height),\n",
    "                                           batch_size=batch_size,\n",
    "                                           class_mode='categorical')"
   ]
  },
  {
   "cell_type": "code",
   "execution_count": null,
   "metadata": {
    "colab": {
     "base_uri": "https://localhost:8080/"
    },
    "executionInfo": {
     "elapsed": 4,
     "status": "ok",
     "timestamp": 1650437626803,
     "user": {
      "displayName": "H.W park",
      "userId": "06250213374847463567"
     },
     "user_tz": -540
    },
    "id": "tydVFZG9_VcL",
    "outputId": "f27308fb-4f98-4e81-8fa7-7e488bbaa635"
   },
   "outputs": [
    {
     "data": {
      "text/plain": [
       "['/content/train/dandruff/dandruff_1',\n",
       " '/content/train/dandruff/dandruff_3',\n",
       " '/content/train/dandruff/dandruff_0',\n",
       " '/content/train/dandruff/dandruff_2']"
      ]
     },
     "execution_count": 12,
     "metadata": {},
     "output_type": "execute_result"
    }
   ],
   "source": [
    "class_path = glob.glob(train_path + '/*')\n",
    "class_path"
   ]
  },
  {
   "cell_type": "code",
   "execution_count": null,
   "metadata": {
    "colab": {
     "base_uri": "https://localhost:8080/"
    },
    "executionInfo": {
     "elapsed": 5,
     "status": "ok",
     "timestamp": 1650437628211,
     "user": {
      "displayName": "H.W park",
      "userId": "06250213374847463567"
     },
     "user_tz": -540
    },
    "id": "ngm0ngGvKEJd",
    "outputId": "1b454820-9f52-4eef-a7eb-6e9c5dac568d"
   },
   "outputs": [
    {
     "name": "stdout",
     "output_type": "stream",
     "text": [
      "train set의 이미지 클래스: {'dandruff_0': 0, 'dandruff_1': 1, 'dandruff_2': 2, 'dandruff_3': 3}\n",
      "test set의 이미지 클래스: {'dandruff_0': 0, 'dandruff_1': 1, 'dandruff_2': 2, 'dandruff_3': 3}\n",
      "validation set의 이미지 클래스: {'dandruff_0': 0, 'dandruff_1': 1, 'dandruff_2': 2, 'dandruff_3': 3}\n"
     ]
    }
   ],
   "source": [
    "# 각각의 data set 이 만들어 내는 이미지의 클래스 인덱스 확인\n",
    "print(f'train set의 이미지 클래스: {train_set.class_indices}')\n",
    "print(f'test set의 이미지 클래스: {test_set.class_indices}')\n",
    "print(f'validation set의 이미지 클래스: {val_set.class_indices}')"
   ]
  },
  {
   "cell_type": "code",
   "execution_count": null,
   "metadata": {
    "colab": {
     "base_uri": "https://localhost:8080/"
    },
    "executionInfo": {
     "elapsed": 322,
     "status": "ok",
     "timestamp": 1650437630041,
     "user": {
      "displayName": "H.W park",
      "userId": "06250213374847463567"
     },
     "user_tz": -540
    },
    "id": "dgVk7KAC_wJI",
    "outputId": "216e9d93-bfac-48bb-b85c-55d2055b8918"
   },
   "outputs": [
    {
     "data": {
      "text/plain": [
       "{0: 534, 1: 8031, 2: 8891, 3: 2256}"
      ]
     },
     "execution_count": 14,
     "metadata": {},
     "output_type": "execute_result"
    }
   ],
   "source": [
    "classNum = []\n",
    "fileNum = []\n",
    "for path in class_path :\n",
    "    fileNum.append(len(glob.glob(path + '/*')))\n",
    "    classNum.append(int(path.split('_')[-1]))\n",
    "\n",
    "label_dic = dict(zip(classNum, fileNum))\n",
    "label_dic"
   ]
  },
  {
   "cell_type": "markdown",
   "metadata": {
    "id": "8ESK3c_iHi8-"
   },
   "source": [
    "### 모델링"
   ]
  },
  {
   "cell_type": "code",
   "execution_count": null,
   "metadata": {
    "id": "wIzeUQVyLlm1"
   },
   "outputs": [],
   "source": [
    "conv_base = ResNet50V2(include_top=False, weights = 'imagenet' ,input_shape=(224,224,3))\n",
    "conv_base.trainable = True\n",
    "# conv_base.summary()\n"
   ]
  },
  {
   "cell_type": "code",
   "execution_count": null,
   "metadata": {
    "id": "VwLJnhkRWH52"
   },
   "outputs": [],
   "source": [
    "model = Sequential()\n",
    "model.add(conv_base)\n",
    "model.add(Flatten())\n",
    "model.add(Dense(128, activation='relu'))\n",
    "model.add(Dropout(0.3))\n",
    "model.add(Dense(4, activation='softmax'))\n",
    "# model.summary()"
   ]
  },
  {
   "cell_type": "code",
   "execution_count": null,
   "metadata": {
    "id": "YIZ8DgNOZio8"
   },
   "outputs": [],
   "source": [
    "for i, layer in enumerate(conv_base.layers) :\n",
    "  print(i, layer.name)"
   ]
  },
  {
   "cell_type": "code",
   "execution_count": null,
   "metadata": {
    "id": "I1rzjUIAciPt"
   },
   "outputs": [],
   "source": [
    "for layer in conv_base.layers[528:] :\n",
    "  layer.trainable = True"
   ]
  },
  {
   "cell_type": "code",
   "execution_count": null,
   "metadata": {
    "id": "qlE2vJXFLmfW"
   },
   "outputs": [],
   "source": [
    "# optimizer 정의\n",
    "\n",
    "opt = tf.keras.optimizers.Adam(learning_rate= 0.0001)"
   ]
  },
  {
   "cell_type": "code",
   "execution_count": null,
   "metadata": {
    "id": "ddxjnrZfLlfn"
   },
   "outputs": [],
   "source": [
    "# 모델 학습시 가장 최신의 최고 모델을 저장하는 인스턴스를 정의\n",
    "modelCheckpoint = ModelCheckpoint(f'/content/drive/MyDrive/Final_Project/박현우/model/{subject}_resnet_cv2.h5', save_best_only=True)\n",
    "\n",
    "# 모델 학습시 정확도를 모니터링하여 조기에 학습을 종료시키는 인스턴스 정의\n",
    "monitor_val_acc = EarlyStopping(monitor='val_acc', patience=7)\n",
    "\n",
    "# callback 정의\n",
    "callbacks= [modelCheckpoint,monitor_val_acc]"
   ]
  },
  {
   "cell_type": "code",
   "execution_count": null,
   "metadata": {
    "id": "dQAQ-VGvWH3P"
   },
   "outputs": [],
   "source": [
    "model.compile(loss='categorical_crossentropy', optimizer=opt,metrics=['acc'])"
   ]
  },
  {
   "cell_type": "code",
   "execution_count": null,
   "metadata": {
    "colab": {
     "base_uri": "https://localhost:8080/"
    },
    "executionInfo": {
     "elapsed": 496263,
     "status": "ok",
     "timestamp": 1650438148556,
     "user": {
      "displayName": "H.W park",
      "userId": "06250213374847463567"
     },
     "user_tz": -540
    },
    "id": "w8U-KsJzLlX7",
    "outputId": "64edcf01-962e-4098-b413-69d308cd5669"
   },
   "outputs": [
    {
     "name": "stdout",
     "output_type": "stream",
     "text": [
      "Epoch 1/20\n",
      "75/75 [==============================] - 39s 390ms/step - loss: 0.7355 - acc: 0.7529 - val_loss: 7.2751 - val_acc: 0.1850\n",
      "Epoch 2/20\n",
      "75/75 [==============================] - 28s 366ms/step - loss: 0.2932 - acc: 0.8804 - val_loss: 6.9640 - val_acc: 0.2262\n",
      "Epoch 3/20\n",
      "75/75 [==============================] - 27s 359ms/step - loss: 0.3018 - acc: 0.8963 - val_loss: 4.9949 - val_acc: 0.3125\n",
      "Epoch 4/20\n",
      "75/75 [==============================] - 21s 281ms/step - loss: 0.2231 - acc: 0.9125 - val_loss: 6.2003 - val_acc: 0.2812\n",
      "Epoch 5/20\n",
      "75/75 [==============================] - 25s 334ms/step - loss: 0.2104 - acc: 0.9304 - val_loss: 4.3291 - val_acc: 0.4275\n",
      "Epoch 6/20\n",
      "75/75 [==============================] - 20s 266ms/step - loss: 0.1959 - acc: 0.9233 - val_loss: 4.4228 - val_acc: 0.4313\n",
      "Epoch 7/20\n",
      "75/75 [==============================] - 25s 333ms/step - loss: 0.1918 - acc: 0.9312 - val_loss: 3.8294 - val_acc: 0.4275\n",
      "Epoch 8/20\n",
      "75/75 [==============================] - 19s 257ms/step - loss: 0.1902 - acc: 0.9296 - val_loss: 4.6467 - val_acc: 0.3638\n",
      "Epoch 9/20\n",
      "75/75 [==============================] - 19s 253ms/step - loss: 0.1607 - acc: 0.9433 - val_loss: 5.7253 - val_acc: 0.3137\n",
      "Epoch 10/20\n",
      "75/75 [==============================] - 19s 247ms/step - loss: 0.1773 - acc: 0.9379 - val_loss: 5.8652 - val_acc: 0.3063\n",
      "Epoch 11/20\n",
      "75/75 [==============================] - 19s 246ms/step - loss: 0.1525 - acc: 0.9479 - val_loss: 4.3328 - val_acc: 0.4263\n",
      "Epoch 12/20\n",
      "75/75 [==============================] - 18s 242ms/step - loss: 0.1520 - acc: 0.9479 - val_loss: 6.3266 - val_acc: 0.3175\n",
      "Epoch 13/20\n",
      "75/75 [==============================] - 18s 242ms/step - loss: 0.1287 - acc: 0.9579 - val_loss: 4.1810 - val_acc: 0.4437\n",
      "Epoch 14/20\n",
      "75/75 [==============================] - 18s 241ms/step - loss: 0.1437 - acc: 0.9483 - val_loss: 6.6024 - val_acc: 0.3363\n",
      "Epoch 15/20\n",
      "75/75 [==============================] - 18s 237ms/step - loss: 0.1247 - acc: 0.9558 - val_loss: 5.7662 - val_acc: 0.3688\n",
      "Epoch 16/20\n",
      "75/75 [==============================] - 18s 236ms/step - loss: 0.1249 - acc: 0.9550 - val_loss: 6.4644 - val_acc: 0.3775\n",
      "Epoch 17/20\n",
      "75/75 [==============================] - 18s 237ms/step - loss: 0.1208 - acc: 0.9625 - val_loss: 6.0376 - val_acc: 0.3500\n",
      "Epoch 18/20\n",
      "75/75 [==============================] - 18s 237ms/step - loss: 0.1159 - acc: 0.9575 - val_loss: 6.1388 - val_acc: 0.2713\n",
      "Epoch 19/20\n",
      "75/75 [==============================] - 18s 238ms/step - loss: 0.1248 - acc: 0.9546 - val_loss: 5.0799 - val_acc: 0.3738\n",
      "Epoch 20/20\n",
      "75/75 [==============================] - 18s 239ms/step - loss: 0.0996 - acc: 0.9642 - val_loss: 7.2463 - val_acc: 0.3525\n"
     ]
    }
   ],
   "source": [
    "resnet152v2_history =model.fit(train_set,\n",
    "                    steps_per_epoch=2400//batch_size,\n",
    "                    epochs=epochs,\n",
    "                    validation_data=val_set,\n",
    "                    validation_steps=800//batch_size,\n",
    "                    callbacks=callbacks\n",
    "                   )"
   ]
  },
  {
   "cell_type": "code",
   "execution_count": null,
   "metadata": {
    "colab": {
     "base_uri": "https://localhost:8080/"
    },
    "executionInfo": {
     "elapsed": 8920,
     "status": "ok",
     "timestamp": 1650438175630,
     "user": {
      "displayName": "H.W park",
      "userId": "06250213374847463567"
     },
     "user_tz": -540
    },
    "id": "gFzdwKzGkaly",
    "outputId": "3cc020b7-67e6-489b-a32d-95c68e41883e"
   },
   "outputs": [
    {
     "name": "stdout",
     "output_type": "stream",
     "text": [
      "25/25 [==============================] - 3s 135ms/step - loss: 8.6754 - acc: 0.3663\n",
      "Test loss: 8.675362586975098\n",
      "Test accuracy: 36.62500083446503\n"
     ]
    }
   ],
   "source": [
    "# resnet_model 모델 평가\n",
    "(test_loss, test_accuracy) = model.evaluate(test_set, steps=800//batch_size, verbose=1)\n",
    "print('Test loss:', test_loss)\n",
    "print('Test accuracy:', test_accuracy*100)"
   ]
  },
  {
   "cell_type": "code",
   "execution_count": null,
   "metadata": {
    "id": "Q7OvTSBCppcz"
   },
   "outputs": [],
   "source": [
    "# font 설정\n",
    "\n",
    "font1 = {'family': 'DejaVu Sans',\n",
    "         'weight': 'bold',\n",
    "         'size': 20\n",
    "         }\n",
    "\n",
    "font2 = {'family': 'DejaVu Sans',\n",
    "         'size': 16\n",
    "         }   "
   ]
  },
  {
   "cell_type": "code",
   "execution_count": null,
   "metadata": {
    "colab": {
     "base_uri": "https://localhost:8080/"
    },
    "executionInfo": {
     "elapsed": 888,
     "status": "ok",
     "timestamp": 1650084630248,
     "user": {
      "displayName": "H.W park",
      "userId": "06250213374847463567"
     },
     "user_tz": -540
    },
    "id": "tVl46gskNSBb",
    "outputId": "e7ccc282-10ed-4e91-ec7c-00c3c0b4773d"
   },
   "outputs": [
    {
     "data": {
      "image/png": "[encoded data removed]",
      "text/plain": [
       "<Figure size 1296x720 with 1 Axes>"
      ]
     },
     "metadata": {
      "needs_background": "light"
     },
     "output_type": "display_data"
    }
   ],
   "source": [
    "plt.figure(figsize=(18,10))\n",
    "\n",
    "plt.plot(resnet152v2_history.history['loss'], '--', c = 'red', label = 'loss', linewidth = 3)\n",
    "plt.plot(resnet152v2_history.history['val_loss'], '--', c = 'dodgerblue', label = 'val_loss', linewidth = 3)\n",
    "plt.plot(resnet152v2_history.history['acc'], c='orange',label = 'accuracy', linewidth = 5)\n",
    "plt.plot(resnet152v2_history.history['val_acc'],c='purple',label = 'val_accuracy', linewidth = 5)\n",
    "\n",
    "\n",
    "plt.legend(['loss', 'val_loss','accuracy','val_accuracy'],shadow = True, loc='best',fontsize = 16)\n",
    "plt.title('erythema', fontdict=font1, pad = 20)\n",
    "plt.xlabel('epoch', fontdict=font2, labelpad=10)\n",
    "plt.xticks(fontsize=16)\n",
    "plt.yticks(fontsize=16)\n",
    "plt.grid(True, alpha=0.5, linestyle='--')\n",
    "plt.show()"
   ]
  },
  {
   "cell_type": "code",
   "execution_count": null,
   "metadata": {
    "id": "IheU35BDNR2i"
   },
   "outputs": [],
   "source": [
    "from sklearn.metrics import classification_report, confusion_matrix\n",
    "\n",
    "Y_pred = model.predict(test_set)\n",
    "classes = test_set.classes[test_set.index_array]\n",
    "y_pred = np.argmax(Y_pred, axis=1)\n",
    "\n",
    "result_dict = dict(map(reversed, test_set.class_indices.items()))\n",
    "class_names = list(result_dict.values())\n",
    "\n",
    "print('-- Confusion Matrix --')\n",
    "print(confusion_matrix(classes, y_pred))\n",
    "\n",
    "print('-- Classification Report --')\n",
    "print(classification_report(classes, y_pred, target_names=class_names))"
   ]
  },
  {
   "cell_type": "code",
   "execution_count": null,
   "metadata": {
    "id": "0xUjkhqDNRzL"
   },
   "outputs": [],
   "source": [
    "ax = plt.subplot()\n",
    "sns.heatmap(confusion_matrix(classes, y_pred), annot=True, fmt='d' )\n",
    "ax.set_xlabel('Predicted labels');ax.set_ylabel('True labels');\n",
    "ax.set_title(f'{subject}_confusion matrix')"
   ]
  }
 ],
 "metadata": {
  "accelerator": "GPU",
  "colab": {
   "collapsed_sections": [],
   "name": "Resnet_classifier.ipynb",
   "provenance": []
  },
  "kernelspec": {
   "display_name": "Python 3 (ipykernel)",
   "language": "python",
   "name": "python3"
  },
  "language_info": {
   "codemirror_mode": {
    "name": "ipython",
    "version": 3
   },
   "file_extension": ".py",
   "mimetype": "text/x-python",
   "name": "python",
   "nbconvert_exporter": "python",
   "pygments_lexer": "ipython3",
   "version": "3.7.11"
  }
 },
 "nbformat": 4,
 "nbformat_minor": 1
}

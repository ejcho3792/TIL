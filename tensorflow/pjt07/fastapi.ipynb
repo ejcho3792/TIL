{
 "cells": [
  {
   "cell_type": "code",
   "execution_count": 1,
   "id": "803bacc5",
   "metadata": {},
   "outputs": [
    {
     "name": "stdout",
     "output_type": "stream",
     "text": [
      "Authtoken saved to configuration file: C:\\Users\\kk135/.ngrok2/ngrok.yml\n"
     ]
    }
   ],
   "source": [
    "from fastapi import FastAPI, UploadFile, File\n",
    "!ngrok authtoken 272OQOen3t66lUE2CwrqZSJe5eR_5ez3xrkRBAX5TF5TykmM9\n",
    "app = FastAPI()\n",
    "\n",
    "@app.post(\"/upload\")\n",
    "async def upload_file(file: UploadFile = File(...)):\n",
    "    with open(file.filename, 'wb') as image:\n",
    "        content = await file.read()\n",
    "        image.write(content)\n",
    "        image.close()\n",
    "    return JSONResponse(content={\"filename\": file.filename},\n",
    "status_code=200)"
   ]
  },
  {
   "cell_type": "code",
   "execution_count": 9,
   "id": "b3ea7b82",
   "metadata": {},
   "outputs": [
    {
     "name": "stdout",
     "output_type": "stream",
     "text": [
      "Public URL: http://0a64-112-187-142-248.ngrok.io\n"
     ]
    },
    {
     "name": "stderr",
     "output_type": "stream",
     "text": [
      "INFO:     Started server process [33140]\n",
      "INFO:     Waiting for application startup.\n",
      "INFO:     Application startup complete.\n",
      "INFO:     Uvicorn running on http://0.0.0.0:8000 (Press CTRL+C to quit)\n"
     ]
    },
    {
     "name": "stdout",
     "output_type": "stream",
     "text": [
      "INFO:     112.187.142.248:0 - \"GET / HTTP/1.1\" 404 Not Found\n",
      "INFO:     112.187.142.248:0 - \"GET /favicon.ico HTTP/1.1\" 404 Not Found\n",
      "INFO:     112.187.142.248:0 - \"GET / HTTP/1.1\" 404 Not Found\n",
      "INFO:     112.187.142.248:0 - \"POST / HTTP/1.1\" 404 Not Found\n",
      "INFO:     112.187.142.248:0 - \"POST /?=d HTTP/1.1\" 404 Not Found\n",
      "INFO:     112.187.142.248:0 - \"POST /?ffff=dddd HTTP/1.1\" 404 Not Found\n",
      "INFO:     112.187.142.248:0 - \"POST /?file HTTP/1.1\" 404 Not Found\n",
      "INFO:     112.187.142.248:0 - \"POST /?file HTTP/1.1\" 404 Not Found\n",
      "INFO:     112.187.142.248:0 - \"POST /?file HTTP/1.1\" 404 Not Found\n",
      "INFO:     112.187.142.248:0 - \"POST /upload HTTP/1.1\" 200 OK\n",
      "INFO:     112.187.142.248:0 - \"GET / HTTP/1.1\" 404 Not Found\n",
      "INFO:     112.187.142.248:0 - \"POST /upload HTTP/1.1\" 200 OK\n"
     ]
    },
    {
     "name": "stderr",
     "output_type": "stream",
     "text": [
      "INFO:     Shutting down\n",
      "INFO:     Waiting for application shutdown.\n",
      "INFO:     Application shutdown complete.\n",
      "INFO:     Finished server process [33140]\n"
     ]
    }
   ],
   "source": [
    "ngrok_tunnel = ngrok.connect(8000)\n",
    "print ('Public URL:', ngrok_tunnel.public_url) \n",
    "nest_asyncio.apply()\n",
    "uvicorn.run(app, host='0.0.0.0', port=8000)"
   ]
  },
  {
   "cell_type": "code",
   "execution_count": null,
   "id": "8d288a8f",
   "metadata": {},
   "outputs": [],
   "source": []
  },
  {
   "cell_type": "code",
   "execution_count": null,
   "id": "6979b8f4",
   "metadata": {},
   "outputs": [],
   "source": []
  },
  {
   "cell_type": "code",
   "execution_count": null,
   "id": "4bff4efd",
   "metadata": {},
   "outputs": [],
   "source": []
  },
  {
   "cell_type": "code",
   "execution_count": null,
   "id": "bdd1a2bc",
   "metadata": {},
   "outputs": [],
   "source": []
  },
  {
   "cell_type": "code",
   "execution_count": null,
   "id": "750272f0",
   "metadata": {},
   "outputs": [],
   "source": []
  },
  {
   "cell_type": "code",
   "execution_count": null,
   "id": "c26e6151",
   "metadata": {},
   "outputs": [],
   "source": []
  },
  {
   "cell_type": "code",
   "execution_count": null,
   "id": "70f578ed",
   "metadata": {},
   "outputs": [],
   "source": []
  }
 ],
 "metadata": {
  "kernelspec": {
   "display_name": "Python 3 (ipykernel)",
   "language": "python",
   "name": "python3"
  },
  "language_info": {
   "codemirror_mode": {
    "name": "ipython",
    "version": 3
   },
   "file_extension": ".py",
   "mimetype": "text/x-python",
   "name": "python",
   "nbconvert_exporter": "python",
   "pygments_lexer": "ipython3",
   "version": "3.7.11"
  }
 },
 "nbformat": 4,
 "nbformat_minor": 5
}

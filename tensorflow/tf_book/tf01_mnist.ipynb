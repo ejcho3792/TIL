{
 "cells": [
  {
   "cell_type": "code",
   "execution_count": 1,
   "id": "27a6660e",
   "metadata": {},
   "outputs": [],
   "source": [
    "# download dataset\n",
    "from tensorflow.keras.datasets.mnist import load_data\n",
    "\n",
    "(xtrain,ytrain),(xtest,ytest)=load_data(path='mnist.npz')"
   ]
  },
  {
   "cell_type": "code",
   "execution_count": 2,
   "id": "0bceea10",
   "metadata": {},
   "outputs": [
    {
     "name": "stdout",
     "output_type": "stream",
     "text": [
      "---train_data---\n",
      "(60000, 28, 28) (60000,)\n",
      "[5 0 4 ... 5 6 8]\n",
      "---test_data---\n",
      "(10000, 28, 28) (10000,)\n",
      "[7 2 1 ... 4 5 6]\n"
     ]
    }
   ],
   "source": [
    "# print data shape\n",
    "print('---train_data---')\n",
    "print(xtrain.shape,ytrain.shape)\n",
    "print(ytrain)\n",
    "print('---test_data---')\n",
    "print(xtest.shape,ytest.shape)\n",
    "print(ytest)"
   ]
  },
  {
   "cell_type": "code",
   "execution_count": 3,
   "id": "38ef677c",
   "metadata": {},
   "outputs": [
    {
     "data": {
      "image/png": "[encoded data removed]",
      "text/plain": [
       "<Figure size 432x288 with 1 Axes>"
      ]
     },
     "metadata": {
      "needs_background": "light"
     },
     "output_type": "display_data"
    },
    {
     "data": {
      "image/png": "[encoded data removed]",
      "text/plain": [
       "<Figure size 432x288 with 1 Axes>"
      ]
     },
     "metadata": {
      "needs_background": "light"
     },
     "output_type": "display_data"
    },
    {
     "data": {
      "image/png": "[encoded data removed]",
      "text/plain": [
       "<Figure size 432x288 with 1 Axes>"
      ]
     },
     "metadata": {
      "needs_background": "light"
     },
     "output_type": "display_data"
    }
   ],
   "source": [
    "# show data\n",
    "import numpy as np\n",
    "import matplotlib.pyplot as plt\n",
    "\n",
    "sample_size=3\n",
    "rand_idx=np.random.randint(60000,size=sample_size)\n",
    "\n",
    "for idx in rand_idx:\n",
    "    img=xtrain[idx,:]\n",
    "    label=ytrain[idx]\n",
    "    plt.figure()\n",
    "    plt.imshow(img)\n",
    "    plt.title('%d-th data. label is %d'%(idx,label))"
   ]
  },
  {
   "cell_type": "code",
   "execution_count": 4,
   "id": "bc4b4cd3",
   "metadata": {},
   "outputs": [
    {
     "name": "stdout",
     "output_type": "stream",
     "text": [
      "trainx(42000, 28, 28) trainy(42000,)\n",
      "valx(18000, 28, 28) valy(18000,)\n"
     ]
    }
   ],
   "source": [
    "# create validation data\n",
    "from sklearn.model_selection import train_test_split\n",
    "\n",
    "xtrain,xval,ytrain,yval=train_test_split(xtrain,ytrain,\n",
    "                                        test_size=.3)\n",
    "\n",
    "print(f'trainx{xtrain.shape} trainy{ytrain.shape}')\n",
    "print(f'valx{xval.shape} valy{yval.shape}')"
   ]
  },
  {
   "cell_type": "code",
   "execution_count": 5,
   "id": "6f5bac6a",
   "metadata": {},
   "outputs": [
    {
     "name": "stdout",
     "output_type": "stream",
     "text": [
      "42000 18000 10000\n",
      "(42000, 784)\n"
     ]
    }
   ],
   "source": [
    "# data preprocessing\n",
    "num_xtrain=xtrain.shape[0]\n",
    "num_xval=xval.shape[0]\n",
    "num_xtest=xtest.shape[0]\n",
    "print(num_xtrain,num_xval,num_xtest)\n",
    "\n",
    "## 28*28 ->784, minmax scale\n",
    "xtrain=(xtrain.reshape((num_xtrain,28*28)))/255\n",
    "xval=(xval.reshape((num_xval,28*28)))/255\n",
    "xtest=(xtest.reshape((num_xtest,28*28)))/255\n",
    "print(xtrain.shape)"
   ]
  },
  {
   "cell_type": "code",
   "execution_count": 6,
   "id": "9e1bf5d4",
   "metadata": {},
   "outputs": [
    {
     "name": "stdout",
     "output_type": "stream",
     "text": [
      "[[0. 0. 0. ... 0. 0. 1.]\n",
      " [0. 0. 0. ... 1. 0. 0.]\n",
      " [0. 1. 0. ... 0. 0. 0.]\n",
      " ...\n",
      " [0. 1. 0. ... 0. 0. 0.]\n",
      " [0. 0. 0. ... 0. 0. 1.]\n",
      " [0. 0. 1. ... 0. 0. 0.]]\n"
     ]
    }
   ],
   "source": [
    "# label preprocessing\n",
    "from tensorflow.keras.utils import to_categorical\n",
    "\n",
    "ytrain=to_categorical(ytrain)\n",
    "yval=to_categorical(yval)\n",
    "ytest=to_categorical(ytest)\n",
    "\n",
    "print(ytrain)"
   ]
  },
  {
   "cell_type": "code",
   "execution_count": 7,
   "id": "c6e99920",
   "metadata": {},
   "outputs": [],
   "source": [
    "# model\n",
    "from tensorflow.keras.layers import Dense\n",
    "from tensorflow.keras.models import Sequential\n",
    "\n",
    "model=Sequential()\n",
    "\n",
    "model.add(Dense(64,activation='relu',input_shape=(784,)))\n",
    "model.add(Dense(32,activation='relu'))\n",
    "model.add(Dense(10,activation='softmax'))"
   ]
  },
  {
   "cell_type": "code",
   "execution_count": 8,
   "id": "3b2db98c",
   "metadata": {},
   "outputs": [],
   "source": [
    "# compile\n",
    "model.compile(optimizer='adam',\n",
    "             loss='categorical_crossentropy',\n",
    "             metrics=['acc'])"
   ]
  },
  {
   "cell_type": "code",
   "execution_count": 9,
   "id": "c91daf77",
   "metadata": {
    "scrolled": false
   },
   "outputs": [
    {
     "name": "stdout",
     "output_type": "stream",
     "text": [
      "Epoch 1/30\n",
      "329/329 [==============================] - 3s 5ms/step - loss: 0.5335 - acc: 0.8495 - val_loss: 0.2569 - val_acc: 0.9272\n",
      "Epoch 2/30\n",
      "329/329 [==============================] - 1s 4ms/step - loss: 0.2039 - acc: 0.9414 - val_loss: 0.1867 - val_acc: 0.9474\n",
      "Epoch 3/30\n",
      "329/329 [==============================] - 1s 4ms/step - loss: 0.1513 - acc: 0.9549 - val_loss: 0.1544 - val_acc: 0.9557\n",
      "Epoch 4/30\n",
      "329/329 [==============================] - 1s 4ms/step - loss: 0.1192 - acc: 0.9648 - val_loss: 0.1452 - val_acc: 0.9567\n",
      "Epoch 5/30\n",
      "329/329 [==============================] - 1s 5ms/step - loss: 0.1001 - acc: 0.9703 - val_loss: 0.1307 - val_acc: 0.9624\n",
      "Epoch 6/30\n",
      "329/329 [==============================] - 1s 4ms/step - loss: 0.0849 - acc: 0.9748 - val_loss: 0.1255 - val_acc: 0.9634\n",
      "Epoch 7/30\n",
      "329/329 [==============================] - 1s 4ms/step - loss: 0.0709 - acc: 0.9794 - val_loss: 0.1292 - val_acc: 0.9638\n",
      "Epoch 8/30\n",
      "329/329 [==============================] - 2s 5ms/step - loss: 0.0619 - acc: 0.9810 - val_loss: 0.1264 - val_acc: 0.9627\n",
      "Epoch 9/30\n",
      "329/329 [==============================] - 2s 5ms/step - loss: 0.0547 - acc: 0.9839 - val_loss: 0.1155 - val_acc: 0.9661\n",
      "Epoch 10/30\n",
      "329/329 [==============================] - 2s 5ms/step - loss: 0.0461 - acc: 0.9864 - val_loss: 0.1181 - val_acc: 0.9658\n",
      "Epoch 11/30\n",
      "329/329 [==============================] - 1s 4ms/step - loss: 0.0407 - acc: 0.9881 - val_loss: 0.1155 - val_acc: 0.9671\n",
      "Epoch 12/30\n",
      "329/329 [==============================] - 1s 4ms/step - loss: 0.0359 - acc: 0.9893 - val_loss: 0.1199 - val_acc: 0.9659\n",
      "Epoch 13/30\n",
      "329/329 [==============================] - 1s 4ms/step - loss: 0.0305 - acc: 0.9917 - val_loss: 0.1146 - val_acc: 0.9684\n",
      "Epoch 14/30\n",
      "329/329 [==============================] - 1s 4ms/step - loss: 0.0277 - acc: 0.9918 - val_loss: 0.1193 - val_acc: 0.9688\n",
      "Epoch 15/30\n",
      "329/329 [==============================] - 1s 4ms/step - loss: 0.0245 - acc: 0.9931 - val_loss: 0.1247 - val_acc: 0.9676\n",
      "Epoch 16/30\n",
      "329/329 [==============================] - 1s 4ms/step - loss: 0.0200 - acc: 0.9951 - val_loss: 0.1280 - val_acc: 0.9689\n",
      "Epoch 17/30\n",
      "329/329 [==============================] - 1s 4ms/step - loss: 0.0181 - acc: 0.9951 - val_loss: 0.1357 - val_acc: 0.9673\n",
      "Epoch 18/30\n",
      "329/329 [==============================] - 1s 4ms/step - loss: 0.0167 - acc: 0.9955 - val_loss: 0.1324 - val_acc: 0.9675\n",
      "Epoch 19/30\n",
      "329/329 [==============================] - 1s 4ms/step - loss: 0.0161 - acc: 0.9958 - val_loss: 0.1462 - val_acc: 0.9663\n",
      "Epoch 20/30\n",
      "329/329 [==============================] - 1s 4ms/step - loss: 0.0146 - acc: 0.9959 - val_loss: 0.1423 - val_acc: 0.9656\n",
      "Epoch 21/30\n",
      "329/329 [==============================] - 1s 4ms/step - loss: 0.0121 - acc: 0.9967 - val_loss: 0.1332 - val_acc: 0.9686\n",
      "Epoch 22/30\n",
      "329/329 [==============================] - 1s 4ms/step - loss: 0.0094 - acc: 0.9979 - val_loss: 0.1463 - val_acc: 0.9663\n",
      "Epoch 23/30\n",
      "329/329 [==============================] - 1s 4ms/step - loss: 0.0102 - acc: 0.9973 - val_loss: 0.1443 - val_acc: 0.9688\n",
      "Epoch 24/30\n",
      "329/329 [==============================] - 1s 4ms/step - loss: 0.0084 - acc: 0.9980 - val_loss: 0.1485 - val_acc: 0.9689\n",
      "Epoch 25/30\n",
      "329/329 [==============================] - 1s 4ms/step - loss: 0.0079 - acc: 0.9980 - val_loss: 0.1587 - val_acc: 0.9678\n",
      "Epoch 26/30\n",
      "329/329 [==============================] - 1s 4ms/step - loss: 0.0083 - acc: 0.9979 - val_loss: 0.1453 - val_acc: 0.9684\n",
      "Epoch 27/30\n",
      "329/329 [==============================] - 1s 4ms/step - loss: 0.0067 - acc: 0.9984 - val_loss: 0.1549 - val_acc: 0.9674\n",
      "Epoch 28/30\n",
      "329/329 [==============================] - 1s 4ms/step - loss: 0.0090 - acc: 0.9974 - val_loss: 0.1547 - val_acc: 0.9690\n",
      "Epoch 29/30\n",
      "329/329 [==============================] - 1s 4ms/step - loss: 0.0056 - acc: 0.9987 - val_loss: 0.1535 - val_acc: 0.9694\n",
      "Epoch 30/30\n",
      "329/329 [==============================] - 1s 4ms/step - loss: 0.0027 - acc: 0.9996 - val_loss: 0.1502 - val_acc: 0.9702\n"
     ]
    }
   ],
   "source": [
    "# train\n",
    "history=model.fit(xtrain,ytrain,\n",
    "                 epochs=30,\n",
    "                 batch_size=128,\n",
    "                 validation_data=(xval,yval))"
   ]
  },
  {
   "cell_type": "code",
   "execution_count": 10,
   "id": "71fd1604",
   "metadata": {},
   "outputs": [
    {
     "data": {
      "text/plain": [
       "<Figure size 720x360 with 0 Axes>"
      ]
     },
     "metadata": {},
     "output_type": "display_data"
    },
    {
     "data": {
      "image/png": "[encoded data removed]",
      "text/plain": [
       "<Figure size 432x288 with 2 Axes>"
      ]
     },
     "metadata": {
      "needs_background": "light"
     },
     "output_type": "display_data"
    }
   ],
   "source": [
    "# result visualization\n",
    "import matplotlib.pyplot as plt\n",
    "\n",
    "his_dict=history.history\n",
    "\n",
    "loss=his_dict['loss']\n",
    "val_loss=his_dict['val_loss']\n",
    "acc=his_dict['acc']\n",
    "val_acc=his_dict['val_acc']\n",
    "epochs=range(1,len(loss)+1)\n",
    "\n",
    "fig=plt.figure(figsize=(10,5))\n",
    "\n",
    "fig,ax1=plt.subplots()\n",
    "ax1.plot(epochs,loss,color='skyblue',label='train_loss')\n",
    "ax1.plot(epochs,val_loss,color='pink',label='val_loss')\n",
    "ax1.set_title('acc,loss graph')\n",
    "ax1.set_xlabel('epochs')\n",
    "ax1.set_ylabel('loss')\n",
    "ax1.legend()\n",
    "ax2=ax1.twinx()\n",
    "ax2.plot(epochs,acc,color='blue',label='train_acc')\n",
    "ax2.plot(epochs,val_acc,color='red',label='val_acc')\n",
    "ax2.set_ylabel('acc')\n",
    "ax2.legend()\n",
    "\n",
    "plt.show()"
   ]
  },
  {
   "cell_type": "code",
   "execution_count": 11,
   "id": "6ccf1fbf",
   "metadata": {},
   "outputs": [
    {
     "name": "stdout",
     "output_type": "stream",
     "text": [
      "313/313 [==============================] - 1s 3ms/step - loss: 0.1372 - acc: 0.9752\n",
      "[0.13716687262058258, 0.9751999974250793]\n",
      "[loss,acc]\n"
     ]
    }
   ],
   "source": [
    "# evaluation\n",
    "print(model.evaluate(xtest,ytest))\n",
    "print('[loss,acc]')"
   ]
  },
  {
   "cell_type": "code",
   "execution_count": 12,
   "id": "f002f5ba",
   "metadata": {},
   "outputs": [
    {
     "name": "stdout",
     "output_type": "stream",
     "text": [
      "(10000, 10)\n",
      "확률 : \n",
      "[3.4847999e-12 1.8323370e-12 9.7308984e-12 7.5108559e-08 6.3532411e-14\n",
      " 2.4519802e-12 1.8890109e-18 9.9999988e-01 3.0105184e-14 5.3963167e-11]\n"
     ]
    },
    {
     "data": {
      "image/png": "[encoded data removed]",
      "text/plain": [
       "<Figure size 432x288 with 1 Axes>"
      ]
     },
     "metadata": {
      "needs_background": "light"
     },
     "output_type": "display_data"
    }
   ],
   "source": [
    "# predict\n",
    "results=model.predict(xtest)\n",
    "print(results.shape)\n",
    "np.set_printoptions(precision=7)\n",
    "print(f'확률 : \\n{results [0]}')\n",
    "\n",
    "arg_res=np.argmax(results,axis=-1)\n",
    "plt.imshow(xtest[0].reshape(28,28))\n",
    "plt.title('predict :'+ str(arg_res[0]))\n",
    "plt.show()"
   ]
  },
  {
   "cell_type": "code",
   "execution_count": 13,
   "id": "74442ec1",
   "metadata": {},
   "outputs": [
    {
     "data": {
      "image/png": "[encoded data removed]",
      "text/plain": [
       "<Figure size 504x504 with 2 Axes>"
      ]
     },
     "metadata": {
      "needs_background": "light"
     },
     "output_type": "display_data"
    }
   ],
   "source": [
    "# confusion matrix\n",
    "import seaborn as sns\n",
    "import matplotlib.pyplot as plt\n",
    "from sklearn.metrics import classification_report, confusion_matrix\n",
    "\n",
    "plt.figure(figsize=(7,7))\n",
    "cm=confusion_matrix(np.argmax(ytest,axis=-1),np.argmax(results,axis=-1))\n",
    "sns.heatmap(cm,annot=True,fmt='d',cmap='Blues')\n",
    "plt.xlabel('predict')\n",
    "plt.ylabel('true')\n",
    "plt.show()"
   ]
  },
  {
   "cell_type": "code",
   "execution_count": 14,
   "id": "0fcfae2e",
   "metadata": {},
   "outputs": [
    {
     "name": "stdout",
     "output_type": "stream",
     "text": [
      "              precision    recall  f1-score   support\n",
      "\n",
      "           0       0.98      0.99      0.99       980\n",
      "           1       0.99      0.99      0.99      1135\n",
      "           2       0.97      0.97      0.97      1032\n",
      "           3       0.96      0.98      0.97      1010\n",
      "           4       0.97      0.98      0.98       982\n",
      "           5       0.98      0.96      0.97       892\n",
      "           6       0.97      0.98      0.98       958\n",
      "           7       0.98      0.97      0.97      1028\n",
      "           8       0.97      0.96      0.97       974\n",
      "           9       0.97      0.97      0.97      1009\n",
      "\n",
      "    accuracy                           0.98     10000\n",
      "   macro avg       0.98      0.97      0.97     10000\n",
      "weighted avg       0.98      0.98      0.98     10000\n",
      "\n"
     ]
    }
   ],
   "source": [
    "# classification report\n",
    "print(classification_report(np.argmax(ytest,axis=-1),\n",
    "                           np.argmax(results,axis=-1)))"
   ]
  }
 ],
 "metadata": {
  "kernelspec": {
   "display_name": "Python 3 (ipykernel)",
   "language": "python",
   "name": "python3"
  },
  "language_info": {
   "codemirror_mode": {
    "name": "ipython",
    "version": 3
   },
   "file_extension": ".py",
   "mimetype": "text/x-python",
   "name": "python",
   "nbconvert_exporter": "python",
   "pygments_lexer": "ipython3",
   "version": "3.8.12"
  }
 },
 "nbformat": 4,
 "nbformat_minor": 5
}

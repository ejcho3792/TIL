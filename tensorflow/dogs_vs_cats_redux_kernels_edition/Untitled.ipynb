{
 "cells": [
  {
   "cell_type": "markdown",
   "id": "2a56e108",
   "metadata": {},
   "source": [
    "##### dataset root : ./dataset/train.zip 25000 , ./dataset/test.zip 12500\n",
    "\n",
    "##### train data name : cat(or dog).num"
   ]
  },
  {
   "cell_type": "code",
   "execution_count": 7,
   "id": "f2bf4656",
   "metadata": {},
   "outputs": [],
   "source": [
    "# extract zip file\n",
    "import zipfile\n",
    "train_zip_root='./dataset/train.zip'\n",
    "test_zip_root='./dataset/test.zip'\n",
    "\n",
    "train_zip=zipfile.ZipFile(train_zip_root,'r')\n",
    "train_zip.extractall('./dataset/')\n",
    "\n",
    "test_zip=zipfile.ZipFile(test_zip_root,'r')\n",
    "test_zip.extractall('./dataset/')"
   ]
  },
  {
   "cell_type": "code",
   "execution_count": 1,
   "id": "685e9cec",
   "metadata": {},
   "outputs": [],
   "source": [
    "# load dataset\n",
    "# reshape images to 300*300\n",
    "\n",
    "train_rt='./dataset/train/'\n",
    "test_rt='./dataset/test/'\n",
    "\n",
    "import os\n",
    "import cv2\n",
    "import numpy as np\n",
    "xtrain=np.zeros((len(os.listdir(train_rt)),100,100))\n",
    "ytrain=np.zeros((len(os.listdir(train_rt)),2))"
   ]
  },
  {
   "cell_type": "code",
   "execution_count": null,
   "id": "85fe525b",
   "metadata": {},
   "outputs": [
    {
     "name": "stdout",
     "output_type": "stream",
     "text": [
      "8717\r"
     ]
    }
   ],
   "source": [
    "# label : cat=1,0,dog=0,1\n",
    "for i in range(len(os.listdir(train_rt))):\n",
    "    tmp_=cv2.resize(cv2.imread(train_rt+os.listdir(train_rt)[i],cv2.IMREAD_GRAYSCALE),(100,100))\n",
    "    xtrain[i]=tmp_\n",
    "    \n",
    "    if os.listdir(train_rt)[i][:3]=='dog':\n",
    "        ytrain[i]=[0,1]\n",
    "    else:\n",
    "        ytrain[i]=[1,0]\n",
    "    print(i,end='\\r')"
   ]
  },
  {
   "cell_type": "code",
   "execution_count": null,
   "id": "d6e6111d",
   "metadata": {},
   "outputs": [],
   "source": [
    "import pandas as pd\n",
    "\n",
    "xtrain_df=pd.DataFrame(xtrain)\n",
    "ytrain_df=pd.DataFrame(ytrain)\n",
    "\n"
   ]
  },
  {
   "cell_type": "code",
   "execution_count": null,
   "id": "2e5b1a77",
   "metadata": {},
   "outputs": [],
   "source": [
    "xtest=np.zeros((len(os.listdir(test_rt)),100,100))\n",
    "ytest=np.zeros((len(os.listdir(test_rt)),2))"
   ]
  }
 ],
 "metadata": {
  "kernelspec": {
   "display_name": "Python 3 (ipykernel)",
   "language": "python",
   "name": "python3"
  },
  "language_info": {
   "codemirror_mode": {
    "name": "ipython",
    "version": 3
   },
   "file_extension": ".py",
   "mimetype": "text/x-python",
   "name": "python",
   "nbconvert_exporter": "python",
   "pygments_lexer": "ipython3",
   "version": "3.8.12"
  }
 },
 "nbformat": 4,
 "nbformat_minor": 5
}

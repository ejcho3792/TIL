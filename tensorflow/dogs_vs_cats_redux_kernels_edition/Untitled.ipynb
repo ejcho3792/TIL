{
 "cells": [
  {
   "cell_type": "markdown",
   "id": "2a56e108",
   "metadata": {},
   "source": [
    "##### dataset root : ./dataset/train.zip 25000 , ./dataset/test.zip 12500\n",
    "\n",
    "##### train data name : cat(or dog).num"
   ]
  },
  {
   "cell_type": "code",
   "execution_count": 7,
   "id": "f2bf4656",
   "metadata": {},
   "outputs": [],
   "source": [
    "# extract zip file\n",
    "import zipfile\n",
    "train_zip_root='./dataset/train.zip'\n",
    "test_zip_root='./dataset/test.zip'\n",
    "\n",
    "train_zip=zipfile.ZipFile(train_zip_root,'r')\n",
    "train_zip.extractall('./dataset/')\n",
    "\n",
    "test_zip=zipfile.ZipFile(test_zip_root,'r')\n",
    "test_zip.extractall('./dataset/')"
   ]
  },
  {
   "cell_type": "code",
   "execution_count": 1,
   "id": "685e9cec",
   "metadata": {},
   "outputs": [],
   "source": [
    "# load dataset\n",
    "# reshape images to 300*300\n",
    "\n",
    "train_rt='./dataset/train/'\n",
    "test_rt='./dataset/test/'\n",
    "\n",
    "import os\n",
    "import cv2\n",
    "import numpy as np\n",
    "xtrain=np.zeros((len(os.listdir(train_rt)),100,100))\n",
    "##ytrain=np.zeros(((len(os.listdir(train_rt),1))"
   ]
  },
  {
   "cell_type": "code",
   "execution_count": null,
   "id": "85fe525b",
   "metadata": {},
   "outputs": [],
   "source": [
    "for i in range(len(os.listdir(train_rt))):\n",
    "    tmp_=cv2.resize(cv2.imread(train_rt+os.listdir(train_rt)[i],cv2.IMREAD_GRAYSCALE),(100,100))\n",
    "    train_dataset[i]=tmp_\n",
    "    "
   ]
  },
  {
   "cell_type": "code",
   "execution_count": null,
   "id": "164a363d",
   "metadata": {},
   "outputs": [],
   "source": [
    "import matplotlib.pyplot as plt\n",
    "plt.imshow(train_dataset[-1])"
   ]
  },
  {
   "cell_type": "code",
   "execution_count": null,
   "id": "18682136",
   "metadata": {},
   "outputs": [],
   "source": []
  },
  {
   "cell_type": "code",
   "execution_count": null,
   "id": "670f5ca6",
   "metadata": {},
   "outputs": [],
   "source": []
  }
 ],
 "metadata": {
  "kernelspec": {
   "display_name": "Python 3 (ipykernel)",
   "language": "python",
   "name": "python3"
  },
  "language_info": {
   "codemirror_mode": {
    "name": "ipython",
    "version": 3
   },
   "file_extension": ".py",
   "mimetype": "text/x-python",
   "name": "python",
   "nbconvert_exporter": "python",
   "pygments_lexer": "ipython3",
   "version": "3.8.12"
  }
 },
 "nbformat": 4,
 "nbformat_minor": 5
}

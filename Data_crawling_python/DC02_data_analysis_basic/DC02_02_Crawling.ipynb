{
 "cells": [
  {
   "cell_type": "markdown",
   "id": "feab54db",
   "metadata": {},
   "source": [
    "# Crawling\n",
    "---"
   ]
  },
  {
   "cell_type": "markdown",
   "id": "d65b01c0",
   "metadata": {},
   "source": [
    "## 1. 웹크롤링을 위한 환경 설정"
   ]
  },
  {
   "cell_type": "markdown",
   "id": "c13f1a45",
   "metadata": {},
   "source": [
    "### (1) selenium 설치"
   ]
  },
  {
   "cell_type": "code",
   "execution_count": 1,
   "id": "c89e5c8d",
   "metadata": {
    "scrolled": false
   },
   "outputs": [],
   "source": [
    "# !pip install selenium"
   ]
  },
  {
   "cell_type": "markdown",
   "id": "629570aa",
   "metadata": {},
   "source": [
    "### (2) chromedriver 설치"
   ]
  },
  {
   "cell_type": "markdown",
   "id": "ee0c5d0f",
   "metadata": {},
   "source": [
    "chrome 설정에서 도움말, 버전 확인. 97버전   \n",
    "https://chromedriver.chromium.org/downloads   \n",
    "https://chromedriver.storage.googleapis.com/97.0.4692.71/chromedriver_win32.zip   "
   ]
  },
  {
   "cell_type": "code",
   "execution_count": 2,
   "id": "583e7e67",
   "metadata": {},
   "outputs": [
    {
     "data": {
      "text/plain": [
       "'4.1.0'"
      ]
     },
     "execution_count": 2,
     "metadata": {},
     "output_type": "execute_result"
    }
   ],
   "source": [
    "from selenium import webdriver\n",
    "webdriver.__version__"
   ]
  },
  {
   "cell_type": "markdown",
   "id": "8b7ffa9f",
   "metadata": {},
   "source": [
    "---\n",
    "## 2. Chromedriver 활용"
   ]
  },
  {
   "cell_type": "markdown",
   "id": "da86d3cb",
   "metadata": {},
   "source": [
    "### (1) Chromedriver 실행"
   ]
  },
  {
   "cell_type": "code",
   "execution_count": 3,
   "id": "db4ac290",
   "metadata": {},
   "outputs": [],
   "source": [
    "from selenium.webdriver.chrome.service import Service"
   ]
  },
  {
   "cell_type": "code",
   "execution_count": 4,
   "id": "b6a0d913",
   "metadata": {},
   "outputs": [],
   "source": [
    "service=Service('../chromedriver/chromedriver.exe')"
   ]
  },
  {
   "cell_type": "code",
   "execution_count": 5,
   "id": "142fe7b5",
   "metadata": {},
   "outputs": [],
   "source": [
    "driver=webdriver.Chrome(service=service)"
   ]
  },
  {
   "cell_type": "markdown",
   "id": "9d3e5a0a",
   "metadata": {},
   "source": [
    "### (2) 웹페이지에 접속하여 html 정보 가져오기"
   ]
  },
  {
   "cell_type": "code",
   "execution_count": 6,
   "id": "d1ab307b",
   "metadata": {},
   "outputs": [],
   "source": [
    "url = 'https://www.naver.com/'\n",
    "driver.get(url)                          # ctrl+shift+i (F12) 개발자 도구"
   ]
  },
  {
   "cell_type": "code",
   "execution_count": 7,
   "id": "2b70d8ac",
   "metadata": {},
   "outputs": [],
   "source": [
    "html=driver.page_source"
   ]
  },
  {
   "cell_type": "code",
   "execution_count": 8,
   "id": "4f4a7cc0",
   "metadata": {},
   "outputs": [],
   "source": [
    "# 예제\n",
    "html='''\n",
    "<html>\n",
    "    <head>\n",
    "    </head>\n",
    "    <body>\n",
    "        <h1> 우리동네시장</h1>\n",
    "            <div class = 'sale'>\n",
    "                <p id='fruits1' class='fruits'>\n",
    "                    <span class = 'name'> 바나나 </span>\n",
    "                    <span class = 'price'> 3000원 </span>\n",
    "                    <span class = 'inventory'> 500개 </span>\n",
    "                    <span class = 'store'> 가나다상회 </span>\n",
    "                    <a href = 'http://bit.ly/forPlaywithData' > 홈페이지 </a>\n",
    "                </p>\n",
    "            </div>\n",
    "            <div class = 'prepare'>\n",
    "                <p id='fruits2' class='fruits'>\n",
    "                    <span class ='name'> 파인애플 </span>\n",
    "                </p>\n",
    "            </div>\n",
    "    </body>\n",
    "</html>\n",
    "'''"
   ]
  },
  {
   "cell_type": "code",
   "execution_count": 9,
   "id": "29f50994",
   "metadata": {},
   "outputs": [
    {
     "data": {
      "text/plain": [
       "\"\\n<html>\\n    <head>\\n    </head>\\n    <body>\\n        <h1> 우리동네시장</h1>\\n            <div class = 'sale'>\\n                <p id='fruits1' class='fruits'>\\n                    <span class = 'name'> 바나나 </span>\\n                    <span class = 'price'> 3000원 </span>\\n                    <span class = 'inventory'> 500개 </span>\\n                    <span class = 'store'> 가나다상회 </span>\\n                    <a href = 'http://bit.ly/forPlaywithData' > 홈페이지 </a>\\n                </p>\\n            </div>\\n            <div class = 'prepare'>\\n                <p id='fruits2' class='fruits'>\\n                    <span class ='name'> 파인애플 </span>\\n                </p>\\n            </div>\\n    </body>\\n</html>\\n\""
      ]
     },
     "execution_count": 9,
     "metadata": {},
     "output_type": "execute_result"
    }
   ],
   "source": [
    "html        # 알아보기 어렵게 출력된다."
   ]
  },
  {
   "cell_type": "markdown",
   "id": "157f4063",
   "metadata": {},
   "source": [
    "## 3. 정보 찾기 (BeautifulSoup)"
   ]
  },
  {
   "cell_type": "code",
   "execution_count": 10,
   "id": "528aefbf",
   "metadata": {},
   "outputs": [],
   "source": [
    "# !pip install bs4"
   ]
  },
  {
   "cell_type": "code",
   "execution_count": 11,
   "id": "e8574c42",
   "metadata": {},
   "outputs": [],
   "source": [
    "from bs4 import BeautifulSoup"
   ]
  },
  {
   "cell_type": "code",
   "execution_count": 12,
   "id": "3c17b7f3",
   "metadata": {},
   "outputs": [
    {
     "data": {
      "text/plain": [
       "\n",
       "<html>\n",
       "<head>\n",
       "</head>\n",
       "<body>\n",
       "<h1> 우리동네시장</h1>\n",
       "<div class=\"sale\">\n",
       "<p class=\"fruits\" id=\"fruits1\">\n",
       "<span class=\"name\"> 바나나 </span>\n",
       "<span class=\"price\"> 3000원 </span>\n",
       "<span class=\"inventory\"> 500개 </span>\n",
       "<span class=\"store\"> 가나다상회 </span>\n",
       "<a href=\"http://bit.ly/forPlaywithData\"> 홈페이지 </a>\n",
       "</p>\n",
       "</div>\n",
       "<div class=\"prepare\">\n",
       "<p class=\"fruits\" id=\"fruits2\">\n",
       "<span class=\"name\"> 파인애플 </span>\n",
       "</p>\n",
       "</div>\n",
       "</body>\n",
       "</html>"
      ]
     },
     "execution_count": 12,
     "metadata": {},
     "output_type": "execute_result"
    }
   ],
   "source": [
    "soup=BeautifulSoup(html, 'html.parser')\n",
    "soup"
   ]
  },
  {
   "cell_type": "code",
   "execution_count": 13,
   "id": "81023f85",
   "metadata": {
    "scrolled": false
   },
   "outputs": [],
   "source": [
    "# 다시 네이버 url 가져오기\n",
    "url='https://naver.com'\n",
    "driver.get(url)\n",
    "html=driver.page_source\n",
    "soup=BeautifulSoup(html,'html.parser')\n",
    "# soup"
   ]
  },
  {
   "cell_type": "markdown",
   "id": "3d66a91f",
   "metadata": {},
   "source": [
    "## 4. 멜론차트 크롤링"
   ]
  },
  {
   "cell_type": "code",
   "execution_count": 14,
   "id": "d2fc1742",
   "metadata": {},
   "outputs": [],
   "source": [
    "from selenium import webdriver\n",
    "from selenium.webdriver.chrome.service import Service\n",
    "from bs4 import BeautifulSoup"
   ]
  },
  {
   "cell_type": "code",
   "execution_count": 16,
   "id": "f0790c62",
   "metadata": {},
   "outputs": [
    {
     "name": "stdout",
     "output_type": "stream",
     "text": [
      "100\n"
     ]
    },
    {
     "data": {
      "text/plain": [
       "<tr class=\"lst50\" data-song-no=\"34061322\" id=\"lst50\">\n",
       "<td><div class=\"wrap t_right\"><input class=\"input_check\" name=\"input_check\" title=\"사랑은 늘 도망가 곡 선택\" type=\"checkbox\" value=\"34061322\"/></div></td>\n",
       "<td><div class=\"wrap t_center\"><span class=\"rank\">1</span><span class=\"none\">위</span></div></td>\n",
       "<!-- 차트순위 추가 -->\n",
       "<td><div class=\"wrap\">\n",
       "<span class=\"rank_wrap\" title=\"순위 동일\">\n",
       "<span class=\"bullet_icons rank_static\"><span class=\"none\">순위 동일</span></span>\n",
       "<span class=\"none\">0</span>\n",
       "</span>\n",
       "</div></td>\n",
       "<td><div class=\"wrap\">\n",
       "<a class=\"image_typeAll\" href=\"javascript:melon.link.goAlbumDetail('10735654');\" title=\"신사와 아가씨 OST Part.2\">\n",
       "<img alt=\"신사와 아가씨 OST Part.2 - 페이지 이동\" height=\"60\" onerror=\"WEBPOCIMG.defaultAlbumImg(this);\" src=\"https://cdnimg.melon.co.kr/cm2/album/images/107/35/654/10735654_20211008114339_500.jpg/melon/resize/120/quality/80/optimize\" width=\"60\"/>\n",
       "<span class=\"bg_album_frame\"></span>\n",
       "</a>\n",
       "</div></td>\n",
       "<td><div class=\"wrap\">\n",
       "<a class=\"btn button_icons type03 song_info\" href=\"javascript:melon.link.goSongDetail('34061322');\" title=\"사랑은 늘 도망가 곡정보\"><span class=\"none\">곡정보</span></a>\n",
       "</div></td>\n",
       "<td><div class=\"wrap\">\n",
       "<div class=\"wrap_song_info\">\n",
       "<div class=\"ellipsis rank01\"><span>\n",
       "<a href=\"javascript:melon.play.playSong('1000002721',34061322);\" title=\"사랑은 늘 도망가 재생\">사랑은 늘 도망가</a>\n",
       "</span></div><br/>\n",
       "<div class=\"ellipsis rank02\">\n",
       "<a href=\"javascript:melon.link.goArtistDetail('994944');\" title=\"임영웅 - 페이지 이동\">임영웅</a><span class=\"checkEllipsis\" style=\"display: none;\"><a href=\"javascript:melon.link.goArtistDetail('994944');\" title=\"임영웅 - 페이지 이동\">임영웅</a></span>\n",
       "</div>\n",
       "</div>\n",
       "</div></td>\n",
       "<td><div class=\"wrap\">\n",
       "<div class=\"wrap_song_info\">\n",
       "<div class=\"ellipsis rank03\">\n",
       "<a href=\"javascript:melon.link.goAlbumDetail('10735654');\" title=\"신사와 아가씨 OST Part.2 - 페이지 이동\">신사와 아가씨 OST Part.2</a>\n",
       "</div>\n",
       "</div>\n",
       "</div></td>\n",
       "<td><div class=\"wrap\">\n",
       "<button class=\"button_etc like\" data-song-menuid=\"1000002721\" data-song-no=\"34061322\" title=\"사랑은 늘 도망가 좋아요\" type=\"button\"><span class=\"odd_span\">좋아요</span>\n",
       "<span class=\"cnt\">\n",
       "<span class=\"none\">총건수</span>\n",
       "108,826</span></button>\n",
       "</div></td>\n",
       "<td><div class=\"wrap t_center\">\n",
       "<button class=\"button_icons play\" onclick=\"melon.play.playSong('1000002721',34061322);\" title=\"듣기\" type=\"button\"><span class=\"none\">듣기</span></button>\n",
       "</div></td>\n",
       "<td><div class=\"wrap t_center\">\n",
       "<button class=\"button_icons scrap\" onclick=\"melon.play.addPlayList('34061322');\" title=\"담기\" type=\"button\"><span class=\"none\">담기</span></button>\n",
       "</div></td>\n",
       "<td><div class=\"wrap t_center\">\n",
       "<button class=\"button_icons download\" onclick=\"melon.buy.goBuyProduct('frm', '34061322', '3C0001', '','0', '1000002721');\" title=\"다운로드\" type=\"button\"><span class=\"none\">다운로드</span></button>\n",
       "</div></td>\n",
       "<td><div class=\"wrap t_center\">\n",
       "<button class=\"button_icons video\" onclick=\"melon.link.goMvDetail('1000002721', '34061322','song');\" title=\"뮤직비디오\" type=\"button\"><span class=\"none\">뮤직비디오</span></button>\n",
       "</div></td>\n",
       "</tr>"
      ]
     },
     "execution_count": 16,
     "metadata": {},
     "output_type": "execute_result"
    }
   ],
   "source": [
    "service=Service('../chromedriver/chromedriver.exe')\n",
    "driver=webdriver.Chrome(service=service)\n",
    "url='https://www.melon.com/chart/index.htm'\n",
    "driver.get(url)\n",
    "html=driver.page_source\n",
    "# 멜론 사이트의 전체 html 가져오기\n",
    "soup=BeautifulSoup(html, 'html.parser')\n",
    "songs=soup.select('table>tbody>tr')\n",
    "print(len(songs))\n",
    "songs[0]"
   ]
  },
  {
   "cell_type": "code",
   "execution_count": 17,
   "id": "ed668c0c",
   "metadata": {},
   "outputs": [
    {
     "name": "stdout",
     "output_type": "stream",
     "text": [
      "사랑은 늘 도망가\n",
      "임영웅\n"
     ]
    }
   ],
   "source": [
    "# 1등 곡과 가수 뽑기\n",
    "song=songs[0]\n",
    "title=song.select('div.ellipsis.rank01>span>a')[0].text\n",
    "singer=song.select('div.ellipsis.rank02>a')[0].text\n",
    "print(title)\n",
    "print(singer)"
   ]
  },
  {
   "cell_type": "code",
   "execution_count": 18,
   "id": "ff2a08ee",
   "metadata": {
    "scrolled": false
   },
   "outputs": [
    {
     "name": "stdout",
     "output_type": "stream",
     "text": [
      "사랑은 늘 도망가:임영웅\n",
      "취중고백:김민석 (멜로망스)\n",
      "회전목마 (Feat. Zion.T, 원슈타인) (Prod. Slom):sokodomo\n",
      "Counting Stars (Feat. Beenzino):BE'O (비오)\n",
      "ELEVEN:IVE (아이브)\n",
      "리무진 (Feat. MINO) (Prod. GRAY):BE'O (비오)\n",
      "겨울잠:아이유\n",
      "Dreams Come True:aespa\n",
      "눈이 오잖아(Feat.헤이즈):이무진\n",
      "만남은 쉽고 이별은 어려워 (Feat. Leellamarz) (Prod. TOIL):베이식 (Basick)\n",
      "다정히 내 이름을 부르면:경서예지\n",
      "strawberry moon:아이유\n",
      "Step Back:GOT the beat\n",
      "신호등:이무진\n",
      "Savage:aespa\n",
      "드라마:아이유\n",
      "STAY:The Kid LAROI\n",
      "이제 나만 믿어요:임영웅\n",
      "Next Level:aespa\n",
      "불협화음 (Feat. AKMU) (Prod. GRAY):Mudd the student\n",
      "Christmas Tree:V\n",
      "흰눈:먼데이 키즈 (Monday Kiz)\n",
      "우리가 헤어져야 했던 이유:비비 (BIBI)\n",
      "그대라는 사치:임영웅\n",
      "쉬어 (Feat. MINO) (Prod. GRAY):아넌딜라이트(Anandelight)\n",
      "네가 없는 밤 (Feat. ASH ISLAND) (Prod. GRAY):BE'O (비오)\n",
      "다시 사랑한다면 (김필 Ver.):임영웅\n",
      "너를 생각해:주시크 (Joosiq)\n",
      "별빛 같은 나의 사랑아:임영웅\n",
      "Butter:방탄소년단\n",
      "OHAYO MY NIGHT:디핵 (D-Hack)\n",
      "Wake Up (Prod. 코드 쿤스트):개코\n",
      "잊었니:임영웅\n",
      "언덕나무:이승윤\n",
      "서랍:10CM\n",
      "HERO:임영웅\n",
      "Permission to Dance:방탄소년단\n",
      "문득:BE'O (비오)\n",
      "바라만 본다:MSG워너비(M.O.M)\n",
      "끝사랑:임영웅\n",
      "이별후회:김나영\n",
      "My Universe:Coldplay\n",
      "낙하 (with 아이유):AKMU (악뮤)\n",
      "Dynamite:방탄소년단\n",
      "Bk Love:임영웅\n",
      "Celebrity:아이유\n",
      "정거장:아이유\n",
      "Weekend:태연 (TAEYEON)\n",
      "그게 더 편할 것 같아 (N번째 연애 X 멜로망스):멜로망스\n",
      "헤픈 우연:헤이즈 (Heize)\n",
      "라일락:아이유\n",
      "Bad Habits:Ed Sheeran\n",
      "밤하늘의 별을(2020):경서\n",
      "Still I Love You:토요태\n",
      "고백:멜로망스\n",
      "안녕 우린 헤어져야만 해:전상근\n",
      "찰나가 영원이 될 때 (The Eternal Moment):마크툽 (MAKTUB)\n",
      "어떻게 이별까지 사랑하겠어, 널 사랑하는 거지:AKMU (악뮤)\n",
      "사랑이 아니었다고 말하지 마요:이예준\n",
      "러브레터:아이유\n",
      "사이렌 Remix (Feat. UNEDUCATED KID, Paul Blanco):호미들\n",
      "모든 날, 모든 순간 (Every day, Every Moment):폴킴\n",
      "롤린 (Rollin'):브레이브걸스\n",
      "추억은 만남보다 이별에 남아:정동하\n",
      "내 손을 잡아:아이유\n",
      "Off My Face:Justin Bieber\n",
      "Dun Dun Dance:오마이걸 (OH MY GIRL)\n",
      "밝게 빛나는 별이 되어 비춰줄게:송이한\n",
      "시간을 거슬러 (낮에 뜨는 달 X 케이윌):케이윌\n",
      "Blueming:아이유\n",
      "오늘도 빛나는 너에게 (To You My Light) (Feat.이라온):마크툽 (MAKTUB)\n",
      "MBTI (Feat. 쿠기 & 로꼬) (Prod. GRAY):BE'O (비오)\n",
      "계단말고 엘리베이터:임영웅\n",
      "비가 오는 날엔 (2021):헤이즈 (Heize)\n",
      "봄날:방탄소년단\n",
      "작은 것들을 위한 시 (Boy With Luv) (Feat. Halsey):방탄소년단\n",
      "너:아이유\n",
      "좋아좋아:조정석\n",
      "Queendom:Red Velvet (레드벨벳)\n",
      "그날에 나는 맘이 편했을까:이예준\n",
      "Savage Love (Laxed - Siren Beat) (BTS Remix):Jawsh 685\n",
      "취기를 빌려 (취향저격 그녀 X 산들):산들\n",
      "DUMB DUMB:전소미\n",
      "여름비:샘김 (Sam Kim)\n",
      "Snowman:Sia\n",
      "멜로디:ASH ISLAND\n",
      "너의 모든 순간:성시경\n",
      "나 그댈위해 시 한편을 쓰겠어:케이시 (Kassy)\n",
      "Life Goes On:방탄소년단\n",
      "비와 당신:이무진\n",
      "탕!♡:MINO (송민호)\n",
      "ASAP:STAYC(스테이씨)\n",
      "매일 크리스마스 (Everyday Christmas):다비치\n",
      "호우주의 (Feat. 개코, 넉살 (Nucksal)) (Prod. 코드 쿤스트):조광일\n",
      "아직도 좋아해:양요섭\n",
      "죽을 만큼 아파서 (Feat. JAMIE (제이미)):MC몽\n",
      "깐부 (Feat. 염따, ASH ISLAND) (Prod. TOIL):쿤타\n",
      "Peaches (Feat. Daniel Caesar & Giveon):Justin Bieber\n",
      "밤새 서로 미루다:존박\n",
      "Santa Tell Me:Ariana Grande\n"
     ]
    }
   ],
   "source": [
    "# 차트 100개 다 뽑아서 출력\n",
    "for song in songs:\n",
    "    title=song.select('div.ellipsis.rank01>span>a')[0].text\n",
    "    singer=song.select('div.ellipsis.rank02>a')[0].text\n",
    "    print(title, singer, sep=':')"
   ]
  }
 ],
 "metadata": {
  "kernelspec": {
   "display_name": "Python 3 (ipykernel)",
   "language": "python",
   "name": "python3"
  },
  "language_info": {
   "codemirror_mode": {
    "name": "ipython",
    "version": 3
   },
   "file_extension": ".py",
   "mimetype": "text/x-python",
   "name": "python",
   "nbconvert_exporter": "python",
   "pygments_lexer": "ipython3",
   "version": "3.8.12"
  }
 },
 "nbformat": 4,
 "nbformat_minor": 5
}

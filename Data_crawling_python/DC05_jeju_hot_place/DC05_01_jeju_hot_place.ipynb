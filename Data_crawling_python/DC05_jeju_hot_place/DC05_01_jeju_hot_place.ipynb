{
 "cells": [
  {
   "cell_type": "markdown",
   "id": "84665d85",
   "metadata": {},
   "source": [
    "# Jeju Hot Place"
   ]
  },
  {
   "cell_type": "markdown",
   "id": "adc7f96c",
   "metadata": {},
   "source": [
    "---\n",
    "## 1. 게시글 정보 가져오기"
   ]
  },
  {
   "cell_type": "code",
   "execution_count": 1,
   "id": "82ab1a65",
   "metadata": {},
   "outputs": [],
   "source": [
    "import re\n",
    "\n",
    "import time\n",
    "import unicodedata\n",
    "\n",
    "import numpy as np\n",
    "import pandas as pd\n",
    "\n",
    "from bs4 import BeautifulSoup\n",
    "from selenium import webdriver\n",
    "from selenium.webdriver.chrome.service import Service\n",
    "from selenium.webdriver.common.by import By\n"
   ]
  },
  {
   "cell_type": "code",
   "execution_count": 2,
   "id": "9aaccba8",
   "metadata": {},
   "outputs": [],
   "source": [
    "service=Service('../chromedriver/chromedriver.exe')\n",
    "driver=webdriver.Chrome(service=service)"
   ]
  },
  {
   "cell_type": "code",
   "execution_count": 3,
   "id": "857c5a5b",
   "metadata": {},
   "outputs": [],
   "source": [
    "url='https://www.instagram.com/'\n",
    "driver.get(url)"
   ]
  },
  {
   "cell_type": "code",
   "execution_count": 4,
   "id": "6481bcc4",
   "metadata": {},
   "outputs": [],
   "source": [
    "def insta_searching(word):\n",
    "    url='https://www.instagram.com/explore/tags/{}/'.format(word)\n",
    "    return (url)\n",
    "word='제주도맛집'\n",
    "url=insta_searching(word)\n",
    "driver.get(url)\n",
    "time.sleep(3)"
   ]
  },
  {
   "cell_type": "code",
   "execution_count": 5,
   "id": "c245b4c6",
   "metadata": {},
   "outputs": [],
   "source": [
    "#first=driver.find_element_by_css_selector('div._9AhH0')\n",
    "\n",
    "first=driver.find_element(By.CSS_SELECTOR, 'div._9AhH0')\n",
    "first.click()\n",
    "\n",
    "def insta_searching(word):\n",
    "    url='https://www.instagram.com/explore/tags/{}/'.format(word)\n",
    "    return (url)\n",
    "\n",
    "def select_first(word):\n",
    "    first=driver.find_element(By.CSS_SELECTOR, 'div._9AhH0')\n",
    "    first.click()\n",
    "    time.sleep(5)"
   ]
  },
  {
   "cell_type": "code",
   "execution_count": 6,
   "id": "2624f6ed",
   "metadata": {},
   "outputs": [],
   "source": [
    "html=driver.page_source\n",
    "soup=BeautifulSoup(html,'html.parser')"
   ]
  },
  {
   "cell_type": "code",
   "execution_count": 7,
   "id": "7c23d205",
   "metadata": {},
   "outputs": [
    {
     "data": {
      "text/plain": [
       "'#그날의기억방법 아기자기 귀여운 ‘세모 제주’동쪽 구좌읍 행원리에 주먹밥 테이크아웃점제주 재료들로 만든 음식이라서더 신선하고 맛있더라구요ㅎㅎㅎ외관도 너무 귀엽고 주먹밥도 귀여워서또 다시 생각나는 곳입니다☺️제주 여행에 출출할때 잠깐 들려서간단히 먹기 좋습니다!주말 잘 마무리하세요😌<제주 제주시 구좌읍 행원로 121>'"
      ]
     },
     "execution_count": 7,
     "metadata": {},
     "output_type": "execute_result"
    }
   ],
   "source": [
    "# 게시글 가져오기\n",
    "content=soup.select('div.C4VMK>span')[0].text\n",
    "content=unicodedata.normalize('NFC',content)\n",
    "content"
   ]
  },
  {
   "cell_type": "code",
   "execution_count": 8,
   "id": "9d0d53d0",
   "metadata": {},
   "outputs": [
    {
     "data": {
      "text/plain": [
       "['#그날의기억방법']"
      ]
     },
     "execution_count": 8,
     "metadata": {},
     "output_type": "execute_result"
    }
   ],
   "source": [
    "# 해시태그 가져오기\n",
    "tags=re.findall(r'#[^\\s#,\\\\]\\w+',content)\n",
    "tags"
   ]
  },
  {
   "cell_type": "code",
   "execution_count": 9,
   "id": "ec9acb76",
   "metadata": {},
   "outputs": [
    {
     "data": {
      "text/plain": [
       "'2022년 1월 16일'"
      ]
     },
     "execution_count": 9,
     "metadata": {},
     "output_type": "execute_result"
    }
   ],
   "source": [
    "# 작성일자 가져오기\n",
    "date=soup.select('time')[0]['title']\n",
    "date"
   ]
  },
  {
   "cell_type": "code",
   "execution_count": 10,
   "id": "43e292bb",
   "metadata": {},
   "outputs": [
    {
     "data": {
      "text/plain": [
       "'4,138'"
      ]
     },
     "execution_count": 10,
     "metadata": {},
     "output_type": "execute_result"
    }
   ],
   "source": [
    "# 좋아요 수 가져오기\n",
    "like=soup.select('a.zV_Nj>span')[0].text\n",
    "like"
   ]
  },
  {
   "cell_type": "code",
   "execution_count": 11,
   "id": "357a64eb",
   "metadata": {},
   "outputs": [
    {
     "data": {
      "text/plain": [
       "'세모제주'"
      ]
     },
     "execution_count": 11,
     "metadata": {},
     "output_type": "execute_result"
    }
   ],
   "source": [
    "# 위치정보 가져오기\n",
    "try:\n",
    "    place=soup.select('div.JF9hh')[0].text\n",
    "    place=unicodedata.normalize('NFC',place)\n",
    "except:\n",
    "    place=''\n",
    "place"
   ]
  },
  {
   "cell_type": "code",
   "execution_count": 12,
   "id": "26ba35cb",
   "metadata": {},
   "outputs": [],
   "source": [
    "def get_content(driver):\n",
    "    html=driver.page_source\n",
    "    soup=BeautifulSoup(html,'html.parser')\n",
    "    #본문내용\n",
    "    try:\n",
    "        content=soup.select('div.C4VMK>span')[0].text\n",
    "        content=unicodedata.normalize('NFC',content)\n",
    "    except:\n",
    "        content=''\n",
    "    #해시태그\n",
    "    tags=re.findall(r'#[^\\s#,\\\\]\\w+',content)\n",
    "    #작성일자\n",
    "    date=soup.select('time')[0]['title']\n",
    "    #좋아요\n",
    "    like=soup.select('a.zV_Nj>span')[0].text\n",
    "    #위치정보\n",
    "    try:\n",
    "        place=soup.select('div.JF9hh')[0].text\n",
    "        place=unicodedata.normalize('NFC',place)\n",
    "    except:\n",
    "        place=''\n",
    "    #수집한 정보 저장\n",
    "    data=[content,date,like,place,tags]\n",
    "    return data"
   ]
  },
  {
   "cell_type": "code",
   "execution_count": 13,
   "id": "761ba0c4",
   "metadata": {},
   "outputs": [
    {
     "data": {
      "text/plain": [
       "['#그날의기억방법 아기자기 귀여운 ‘세모 제주’동쪽 구좌읍 행원리에 주먹밥 테이크아웃점제주 재료들로 만든 음식이라서더 신선하고 맛있더라구요ㅎㅎㅎ외관도 너무 귀엽고 주먹밥도 귀여워서또 다시 생각나는 곳입니다☺️제주 여행에 출출할때 잠깐 들려서간단히 먹기 좋습니다!주말 잘 마무리하세요😌<제주 제주시 구좌읍 행원로 121>',\n",
       " '2022년 1월 16일',\n",
       " '4,138',\n",
       " '세모제주',\n",
       " ['#그날의기억방법']]"
      ]
     },
     "execution_count": 13,
     "metadata": {},
     "output_type": "execute_result"
    }
   ],
   "source": [
    "get_content(driver)"
   ]
  },
  {
   "cell_type": "markdown",
   "id": "1bfa7769",
   "metadata": {},
   "source": [
    "---\n",
    "## 2. 여러 게시글 정보 수집하기"
   ]
  },
  {
   "cell_type": "code",
   "execution_count": 14,
   "id": "51280a57",
   "metadata": {},
   "outputs": [],
   "source": [
    "#필요한 함수\n",
    "def insta_searching(word):\n",
    "    url='https://www.instagram.com/explore/tags/{}/'.format(word)\n",
    "    return (url)\n",
    "\n",
    "def select_first(word):\n",
    "    first=driver.find_element(By.CSS_SELECTOR, 'div._9AhH0')\n",
    "    first.click()\n",
    "    time.sleep(5)\n",
    "    \n",
    "# 다음 컨텐츠로 넘어가기\n",
    "def move_next(driver):\n",
    "    next_c=driver.find_element(By.CSS_SELECTOR, 'div.l8mY4.feth3')\n",
    "    next_c.click()\n",
    "    time.sleep(3)\n",
    "    \n",
    "def get_content(driver):\n",
    "    html=driver.page_source\n",
    "    soup=BeautifulSoup(html,'html.parser')\n",
    "    \n",
    "    #본문내용\n",
    "    content=soup.select('div.C4VMK>span')[0].text\n",
    "    content=unicodedata.normalize('NFC',content)\n",
    "\n",
    "    #해시태그\n",
    "    tags=re.findall(r'#[^\\s#,\\\\]\\w+',content)\n",
    "    #작성일자\n",
    "    date=soup.select('time')[0]['title']\n",
    "    #좋아요\n",
    "    like=soup.select('a.zV_Nj>span')[0].text\n",
    "    #위치정보\n",
    "    try:\n",
    "        place=soup.select('div.JF9hh')[0].text\n",
    "        place=unicodedata.normalize('NFC',place)\n",
    "    except:\n",
    "        place=''\n",
    "    #수집한 정보 저장\n",
    "    data=[content,date,like,place,tags]\n",
    "    return data"
   ]
  },
  {
   "cell_type": "code",
   "execution_count": 15,
   "id": "77ccab04",
   "metadata": {},
   "outputs": [],
   "source": [
    "service=Service('../chromedriver/chromedriver.exe')\n",
    "driver=webdriver.Chrome(service=service)\n",
    "time.sleep(2)\n",
    "url='https://www.instagram.com/'\n",
    "driver.get(url)"
   ]
  },
  {
   "cell_type": "code",
   "execution_count": 16,
   "id": "c325d7e7",
   "metadata": {},
   "outputs": [],
   "source": [
    "def insta_crawling(word,n):\n",
    "    #url 띄우기\n",
    "    url=insta_searching(word)\n",
    "    driver.get(url)\n",
    "    time.sleep(5)\n",
    "    #클릭하기\n",
    "    select_first(driver)\n",
    "    \n",
    "    res=[]\n",
    "    \n",
    "    for i in range(n):\n",
    "        try:\n",
    "            data=get_content(driver)\n",
    "            res.append(data)\n",
    "            move_next(driver)\n",
    "        except:\n",
    "            time.sleep(2)\n",
    "            move_next(driver)\n",
    "    \n",
    "    return(res)"
   ]
  },
  {
   "cell_type": "code",
   "execution_count": 17,
   "id": "1e6fc811",
   "metadata": {
    "scrolled": true
   },
   "outputs": [],
   "source": [
    "res111=insta_crawling('제주도맛집',20)"
   ]
  },
  {
   "cell_type": "code",
   "execution_count": 18,
   "id": "928a2189",
   "metadata": {},
   "outputs": [
    {
     "data": {
      "text/plain": [
       "9"
      ]
     },
     "execution_count": 18,
     "metadata": {},
     "output_type": "execute_result"
    }
   ],
   "source": [
    "len(res111)"
   ]
  },
  {
   "cell_type": "markdown",
   "id": "2824890b",
   "metadata": {},
   "source": [
    "---\n",
    "# 3. 수집 데이터 저장"
   ]
  },
  {
   "cell_type": "code",
   "execution_count": 19,
   "id": "844a7023",
   "metadata": {},
   "outputs": [],
   "source": [
    "res_df=pd.DataFrame(res111)\n",
    "res_df.columns=['content','date','like','place','tags']\n",
    "res_df.to_excel('./files/crawling_jj.xlsx',index=False)"
   ]
  },
  {
   "cell_type": "code",
   "execution_count": 20,
   "id": "38dec6da",
   "metadata": {},
   "outputs": [
    {
     "data": {
      "text/html": [
       "<div>\n",
       "<style scoped>\n",
       "    .dataframe tbody tr th:only-of-type {\n",
       "        vertical-align: middle;\n",
       "    }\n",
       "\n",
       "    .dataframe tbody tr th {\n",
       "        vertical-align: top;\n",
       "    }\n",
       "\n",
       "    .dataframe thead th {\n",
       "        text-align: right;\n",
       "    }\n",
       "</style>\n",
       "<table border=\"1\" class=\"dataframe\">\n",
       "  <thead>\n",
       "    <tr style=\"text-align: right;\">\n",
       "      <th></th>\n",
       "      <th>content</th>\n",
       "      <th>date</th>\n",
       "      <th>like</th>\n",
       "      <th>place</th>\n",
       "      <th>tags</th>\n",
       "    </tr>\n",
       "  </thead>\n",
       "  <tbody>\n",
       "    <tr>\n",
       "      <th>0</th>\n",
       "      <td>#그날의기억방법 아기자기 귀여운 ‘세모 제주’동쪽 구좌읍 행원리에 주먹밥 테이크아웃...</td>\n",
       "      <td>2022년 1월 16일</td>\n",
       "      <td>4,140</td>\n",
       "      <td>세모제주</td>\n",
       "      <td>[#그날의기억방법]</td>\n",
       "    </tr>\n",
       "    <tr>\n",
       "      <th>1</th>\n",
       "      <td>(광고)인스타 광고 전문업체 플랜비컴퍼니입니다.현재 수백개의 업체 인스타 광고를 통...</td>\n",
       "      <td>2022년 1월 15일</td>\n",
       "      <td>295</td>\n",
       "      <td></td>\n",
       "      <td>[#연남동맛집, #제주도맛집, #중문맛집, #제주공항맛집, #제주공항근처맛집, #서...</td>\n",
       "    </tr>\n",
       "    <tr>\n",
       "      <th>2</th>\n",
       "      <td>#그날의기억방법효리네민박에서 신상 소품샵으로 ‘소길별하’애월에 생긴 요즘 핫하다는 ...</td>\n",
       "      <td>2022년 1월 17일</td>\n",
       "      <td>2,812</td>\n",
       "      <td>소길별하</td>\n",
       "      <td>[#그날의기억방법효리네민박에서]</td>\n",
       "    </tr>\n",
       "    <tr>\n",
       "      <th>3</th>\n",
       "      <td>제주 산방산 가기전 먹방투어출출할 때 유명한 #천지연숯화로구이 에서!!흑돼지오겹살 ...</td>\n",
       "      <td>2022년 1월 17일</td>\n",
       "      <td>1,597</td>\n",
       "      <td></td>\n",
       "      <td>[#천지연숯화로구이, #천지연숯화로구이, #산방산맛집, #송악산맛집, #산방산흑돼지...</td>\n",
       "    </tr>\n",
       "    <tr>\n",
       "      <th>4</th>\n",
       "      <td>📍제주도_표선✅ #메밀밭에가시리 / 메밀냉면하트점수 : ♥️♥️♥️♥️♥️🖤🖤⠀&lt;제...</td>\n",
       "      <td>2022년 1월 15일</td>\n",
       "      <td>1,554</td>\n",
       "      <td>메밀밭에가시리</td>\n",
       "      <td>[#메밀밭에가시리, #메밀밭에가시리, #메밀밭에가시리, #메밀밭에가시리, #함스타_...</td>\n",
       "    </tr>\n",
       "  </tbody>\n",
       "</table>\n",
       "</div>"
      ],
      "text/plain": [
       "                                             content          date   like  \\\n",
       "0  #그날의기억방법 아기자기 귀여운 ‘세모 제주’동쪽 구좌읍 행원리에 주먹밥 테이크아웃...  2022년 1월 16일  4,140   \n",
       "1  (광고)인스타 광고 전문업체 플랜비컴퍼니입니다.현재 수백개의 업체 인스타 광고를 통...  2022년 1월 15일    295   \n",
       "2  #그날의기억방법효리네민박에서 신상 소품샵으로 ‘소길별하’애월에 생긴 요즘 핫하다는 ...  2022년 1월 17일  2,812   \n",
       "3  제주 산방산 가기전 먹방투어출출할 때 유명한 #천지연숯화로구이 에서!!흑돼지오겹살 ...  2022년 1월 17일  1,597   \n",
       "4  📍제주도_표선✅ #메밀밭에가시리 / 메밀냉면하트점수 : ♥️♥️♥️♥️♥️🖤🖤⠀<제...  2022년 1월 15일  1,554   \n",
       "\n",
       "     place                                               tags  \n",
       "0     세모제주                                         [#그날의기억방법]  \n",
       "1           [#연남동맛집, #제주도맛집, #중문맛집, #제주공항맛집, #제주공항근처맛집, #서...  \n",
       "2     소길별하                                  [#그날의기억방법효리네민박에서]  \n",
       "3           [#천지연숯화로구이, #천지연숯화로구이, #산방산맛집, #송악산맛집, #산방산흑돼지...  \n",
       "4  메밀밭에가시리  [#메밀밭에가시리, #메밀밭에가시리, #메밀밭에가시리, #메밀밭에가시리, #함스타_...  "
      ]
     },
     "execution_count": 20,
     "metadata": {},
     "output_type": "execute_result"
    }
   ],
   "source": [
    "res_df.head()"
   ]
  },
  {
   "cell_type": "markdown",
   "id": "b247b995",
   "metadata": {},
   "source": [
    "---\n",
    "# 4. 여러 데이터의 중복을 제거하여 통합저장하기"
   ]
  },
  {
   "cell_type": "code",
   "execution_count": 21,
   "id": "61e82ff1",
   "metadata": {},
   "outputs": [],
   "source": [
    "jeju_insta_df=pd.DataFrame( [] )\n",
    "folder='./files/'\n",
    "f_list=['1_crawling_jejudoGwanGwang.xlsx',\n",
    "       '1_crawling_jejudoMatJip.xlsx',\n",
    "       '1_crawling_jejuMatJip.xlsx',\n",
    "       '1_crawling_jejuYeoHang.xlsx']\n",
    "\n",
    "for fname in f_list:\n",
    "    f_pth=folder+fname\n",
    "    tmp=pd.read_excel(f_pth)\n",
    "    jeju_insta_df=jeju_insta_df.append(tmp)\n",
    "    \n",
    "jeju_insta_df.columns=['content','date','like','place','tags']"
   ]
  },
  {
   "cell_type": "code",
   "execution_count": 22,
   "id": "1b211f9f",
   "metadata": {},
   "outputs": [
    {
     "data": {
      "text/html": [
       "<div>\n",
       "<style scoped>\n",
       "    .dataframe tbody tr th:only-of-type {\n",
       "        vertical-align: middle;\n",
       "    }\n",
       "\n",
       "    .dataframe tbody tr th {\n",
       "        vertical-align: top;\n",
       "    }\n",
       "\n",
       "    .dataframe thead th {\n",
       "        text-align: right;\n",
       "    }\n",
       "</style>\n",
       "<table border=\"1\" class=\"dataframe\">\n",
       "  <thead>\n",
       "    <tr style=\"text-align: right;\">\n",
       "      <th></th>\n",
       "      <th>content</th>\n",
       "      <th>date</th>\n",
       "      <th>like</th>\n",
       "      <th>place</th>\n",
       "      <th>tags</th>\n",
       "    </tr>\n",
       "  </thead>\n",
       "  <tbody>\n",
       "    <tr>\n",
       "      <th>0</th>\n",
       "      <td>더 늦기전에 제주도로 떠나쟈😍.#제주핫플레이스 간단히 1탄 모아봄!#제주여행 요 필...</td>\n",
       "      <td>2018-12-07</td>\n",
       "      <td>1,402</td>\n",
       "      <td>NaN</td>\n",
       "      <td>['#제주핫플레이스', '#제주여행', '#제주여행', '#제주도여행', '#제주가...</td>\n",
       "    </tr>\n",
       "    <tr>\n",
       "      <th>1</th>\n",
       "      <td>12월에 제주도를 가야하는이유🍊.#제주핫플 모음 끝판왕😍이거 하나면 겨울 #제주여행...</td>\n",
       "      <td>2018-12-03</td>\n",
       "      <td>368</td>\n",
       "      <td>NaN</td>\n",
       "      <td>['#제주핫플', '#제주여행', '#제주', '#제주도', '#제주도맛집', '#...</td>\n",
       "    </tr>\n",
       "    <tr>\n",
       "      <th>2</th>\n",
       "      <td>11월 놓치지 말아야 할 제주 관광.가을바람이 최고조에 이르는 11월추운 겨울을 앞...</td>\n",
       "      <td>2018-11-02</td>\n",
       "      <td>166</td>\n",
       "      <td>NaN</td>\n",
       "      <td>['#honestin', '#어니스틴', '#제주여행', '#제주', '#제주도',...</td>\n",
       "    </tr>\n",
       "    <tr>\n",
       "      <th>3</th>\n",
       "      <td>국민학교세대#제주관광#제주살이#제주이주민#아라동주민#삼남매집 #새해첫날#드라이브#명...</td>\n",
       "      <td>2019-01-01</td>\n",
       "      <td>28</td>\n",
       "      <td>명월국민학교</td>\n",
       "      <td>['#제주관광', '#제주살이', '#제주이주민', '#아라동주민', '#삼남매집'...</td>\n",
       "    </tr>\n",
       "    <tr>\n",
       "      <th>4</th>\n",
       "      <td>#제주관광 #제주 #돔나이트 #스트레스 #풀자 #춤추며 #땀날려 #가끔은괜찮아 #인...</td>\n",
       "      <td>2019-01-01</td>\n",
       "      <td>12</td>\n",
       "      <td>NaN</td>\n",
       "      <td>['#제주관광', '#제주', '#돔나이트', '#스트레스', '#풀자', '#춤추...</td>\n",
       "    </tr>\n",
       "  </tbody>\n",
       "</table>\n",
       "</div>"
      ],
      "text/plain": [
       "                                             content        date   like  \\\n",
       "0  더 늦기전에 제주도로 떠나쟈😍.#제주핫플레이스 간단히 1탄 모아봄!#제주여행 요 필...  2018-12-07  1,402   \n",
       "1  12월에 제주도를 가야하는이유🍊.#제주핫플 모음 끝판왕😍이거 하나면 겨울 #제주여행...  2018-12-03    368   \n",
       "2  11월 놓치지 말아야 할 제주 관광.가을바람이 최고조에 이르는 11월추운 겨울을 앞...  2018-11-02    166   \n",
       "3  국민학교세대#제주관광#제주살이#제주이주민#아라동주민#삼남매집 #새해첫날#드라이브#명...  2019-01-01     28   \n",
       "4  #제주관광 #제주 #돔나이트 #스트레스 #풀자 #춤추며 #땀날려 #가끔은괜찮아 #인...  2019-01-01     12   \n",
       "\n",
       "    place                                               tags  \n",
       "0     NaN  ['#제주핫플레이스', '#제주여행', '#제주여행', '#제주도여행', '#제주가...  \n",
       "1     NaN  ['#제주핫플', '#제주여행', '#제주', '#제주도', '#제주도맛집', '#...  \n",
       "2     NaN  ['#honestin', '#어니스틴', '#제주여행', '#제주', '#제주도',...  \n",
       "3  명월국민학교  ['#제주관광', '#제주살이', '#제주이주민', '#아라동주민', '#삼남매집'...  \n",
       "4     NaN  ['#제주관광', '#제주', '#돔나이트', '#스트레스', '#풀자', '#춤추...  "
      ]
     },
     "execution_count": 22,
     "metadata": {},
     "output_type": "execute_result"
    }
   ],
   "source": [
    "jeju_insta_df.head()"
   ]
  },
  {
   "cell_type": "code",
   "execution_count": 23,
   "id": "f2682591",
   "metadata": {},
   "outputs": [
    {
     "name": "stdout",
     "output_type": "stream",
     "text": [
      "12780\n",
      "8369\n"
     ]
    }
   ],
   "source": [
    "print(len(jeju_insta_df))\n",
    "jeju_insta_df.drop_duplicates(subset=['content'],inplace=True)\n",
    "print(len(jeju_insta_df))\n",
    "jeju_insta_df.to_excel('./files/1_crawling_raw.xlsx',index=False)"
   ]
  }
 ],
 "metadata": {
  "kernelspec": {
   "display_name": "Python 3 (ipykernel)",
   "language": "python",
   "name": "python3"
  },
  "language_info": {
   "codemirror_mode": {
    "name": "ipython",
    "version": 3
   },
   "file_extension": ".py",
   "mimetype": "text/x-python",
   "name": "python",
   "nbconvert_exporter": "python",
   "pygments_lexer": "ipython3",
   "version": "3.8.12"
  }
 },
 "nbformat": 4,
 "nbformat_minor": 5
}

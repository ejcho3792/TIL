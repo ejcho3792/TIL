{
 "cells": [
  {
   "cell_type": "markdown",
   "id": "20c7a865",
   "metadata": {},
   "source": [
    "# python 기초\n",
    "---"
   ]
  },
  {
   "cell_type": "markdown",
   "id": "32fb8715",
   "metadata": {},
   "source": [
    "## 1. 입력 및 출력"
   ]
  },
  {
   "cell_type": "code",
   "execution_count": 1,
   "id": "e14ab529",
   "metadata": {},
   "outputs": [
    {
     "name": "stdout",
     "output_type": "stream",
     "text": [
      "안녕하세요\n",
      "Hi\n"
     ]
    }
   ],
   "source": [
    "print(\"안녕하세요\")\n",
    "print(\"Hi\")"
   ]
  },
  {
   "cell_type": "code",
   "execution_count": 2,
   "id": "2db0ad20",
   "metadata": {},
   "outputs": [
    {
     "name": "stdout",
     "output_type": "stream",
     "text": [
      "14\n",
      "4\n",
      "45\n",
      "1.8\n",
      "1\n",
      "4\n"
     ]
    }
   ],
   "source": [
    "a = 9\n",
    "b = 5\n",
    "print( a + b )    # 더하기\n",
    "print( a - b )    # 빼기\n",
    "print( a * b )    # 곱하기\n",
    "print( a / b )    # 나누기\n",
    "print( a // b )   # 나눈 몫\n",
    "print( a % b )    # 나눈 나머지"
   ]
  },
  {
   "cell_type": "code",
   "execution_count": 3,
   "id": "556a6f2f",
   "metadata": {},
   "outputs": [
    {
     "name": "stdout",
     "output_type": "stream",
     "text": [
      "파이썬 데이터분석 기초 데이터수집\n",
      "파이썬 / 데이터분석 / 기초 / 데이터수집\n"
     ]
    }
   ],
   "source": [
    "print('파이썬', '데이터분석','기초','데이터수집')\n",
    "print('파이썬', '데이터분석','기초','데이터수집',sep=' / ')"
   ]
  },
  {
   "cell_type": "markdown",
   "id": "d07d0d34",
   "metadata": {},
   "source": [
    "## 2. 리스트"
   ]
  },
  {
   "cell_type": "code",
   "execution_count": 4,
   "id": "ccfa532f",
   "metadata": {},
   "outputs": [
    {
     "name": "stdout",
     "output_type": "stream",
     "text": [
      "1번 2번 3번 4번 5번 6번 7번 8번 9번 10번\n",
      "['1번', '2번', '3번', '4번', '5번', '6번', '7번', '8번', '9번', '10번']\n"
     ]
    }
   ],
   "source": [
    "print( '1번','2번','3번','4번','5번','6번','7번','8번','9번','10번')\n",
    "class_2_1= [ '1번','2번','3번','4번','5번','6번','7번','8번','9번','10번' ] \n",
    "print(class_2_1)"
   ]
  },
  {
   "cell_type": "code",
   "execution_count": 5,
   "id": "c997c720",
   "metadata": {},
   "outputs": [
    {
     "name": "stdout",
     "output_type": "stream",
     "text": [
      "b\n",
      "['b', 'c']\n",
      "['b', 'c']\n"
     ]
    }
   ],
   "source": [
    "k    =   ['a','b','c','d','e']\n",
    "print( k[1] )\n",
    "print( k[ 1 : 3 ] )         \n",
    "print( k[ -4 : -2 ] )      "
   ]
  },
  {
   "cell_type": "code",
   "execution_count": 6,
   "id": "4a000985",
   "metadata": {},
   "outputs": [
    {
     "name": "stdout",
     "output_type": "stream",
     "text": [
      "['a', 'b', 'c', 'e']\n",
      "['b', 'c', 'e', 'a']\n"
     ]
    }
   ],
   "source": [
    "l1 = ['a']\n",
    "l2 = ['b','c','e']\n",
    "print(l1 + l2)    \n",
    "print(l2 + l1)    "
   ]
  },
  {
   "cell_type": "code",
   "execution_count": 7,
   "id": "1461761f",
   "metadata": {},
   "outputs": [
    {
     "name": "stdout",
     "output_type": "stream",
     "text": [
      "['a', ['b', 'c', 'e']]\n"
     ]
    }
   ],
   "source": [
    "l1 = ['a']\n",
    "l2 = ['b','c','e']\n",
    "l1.append(l2)      \n",
    "print(l1)"
   ]
  },
  {
   "cell_type": "markdown",
   "id": "08b6b889",
   "metadata": {},
   "source": [
    "## 3. 반복문"
   ]
  },
  {
   "cell_type": "code",
   "execution_count": 8,
   "id": "b65cb9e0",
   "metadata": {},
   "outputs": [
    {
     "name": "stdout",
     "output_type": "stream",
     "text": [
      "바나나\n",
      "사과\n",
      "딸기\n",
      "배\n",
      "감\n"
     ]
    }
   ],
   "source": [
    "fruits = ['바나나','사과','딸기','배','감']\n",
    "for fruit in fruits:\n",
    "    print(fruit)     "
   ]
  },
  {
   "cell_type": "markdown",
   "id": "a0c5332d",
   "metadata": {},
   "source": [
    "## 4. 문자열"
   ]
  },
  {
   "cell_type": "code",
   "execution_count": 9,
   "id": "8e946002",
   "metadata": {},
   "outputs": [
    {
     "name": "stdout",
     "output_type": "stream",
     "text": [
      "문자\n"
     ]
    }
   ],
   "source": [
    "s = '문자'\n",
    "print(s)"
   ]
  },
  {
   "cell_type": "code",
   "execution_count": 10,
   "id": "1eca853a",
   "metadata": {},
   "outputs": [
    {
     "name": "stdout",
     "output_type": "stream",
     "text": [
      "사과망고, 파인애플\n"
     ]
    }
   ],
   "source": [
    "a = \"사과\"\n",
    "b = \"망고, 파인애플\"\n",
    "ab = a + b\n",
    "print(ab)    "
   ]
  },
  {
   "cell_type": "code",
   "execution_count": 11,
   "id": "7188d29f",
   "metadata": {},
   "outputs": [
    {
     "name": "stdout",
     "output_type": "stream",
     "text": [
      "**********\n"
     ]
    }
   ],
   "source": [
    "z = \"*\"\n",
    "print( z * 10)  "
   ]
  },
  {
   "cell_type": "code",
   "execution_count": 12,
   "id": "439db98f",
   "metadata": {},
   "outputs": [
    {
     "name": "stdout",
     "output_type": "stream",
     "text": [
      "today is 2022 01 14\n"
     ]
    }
   ],
   "source": [
    "m='01'\n",
    "d='14'\n",
    "y='2022'\n",
    "print('today is {} {} {}'.format(y,m,d))"
   ]
  },
  {
   "cell_type": "code",
   "execution_count": 13,
   "id": "31234634",
   "metadata": {},
   "outputs": [
    {
     "name": "stdout",
     "output_type": "stream",
     "text": [
      "다\n",
      "바\n",
      "다라마\n",
      "라마바\n"
     ]
    }
   ],
   "source": [
    "k=\"가나다라마바\"\n",
    "print(k[2])      \n",
    "print(k[-1])     \n",
    "print(k[2:5])    \n",
    "print(k[3:])     "
   ]
  },
  {
   "cell_type": "code",
   "execution_count": 14,
   "id": "7651ce6b",
   "metadata": {},
   "outputs": [
    {
     "name": "stdout",
     "output_type": "stream",
     "text": [
      "   hp010-0000-0000   \n",
      "hp010-0000-0000\n"
     ]
    }
   ],
   "source": [
    "t1 = \"   hp010-0000-0000   \"\n",
    "print(t1)\n",
    "t2 = t1.strip()   # 공백 제거 \n",
    "print(t2) "
   ]
  },
  {
   "cell_type": "code",
   "execution_count": 15,
   "id": "407d9d90",
   "metadata": {},
   "outputs": [
    {
     "name": "stdout",
     "output_type": "stream",
     "text": [
      " 010-0000-0000\n",
      "[' 010', '0000', '0000']\n"
     ]
    }
   ],
   "source": [
    "t3 = t2.replace('hp', ' ')  # 'hp' 공백으로 대체 \n",
    "print(t3)      \n",
    "t4 = t3.split('-')\n",
    "print(t4)      "
   ]
  },
  {
   "cell_type": "markdown",
   "id": "b0ed5634",
   "metadata": {},
   "source": [
    "## 5. 조건문"
   ]
  },
  {
   "cell_type": "code",
   "execution_count": 16,
   "id": "0a98273b",
   "metadata": {},
   "outputs": [
    {
     "name": "stdout",
     "output_type": "stream",
     "text": [
      "비싸다\n"
     ]
    }
   ],
   "source": [
    "price = 5000\n",
    "if price > 3000:\n",
    "    print('비싸다')\n",
    "else:\n",
    "    print('저렴하다')"
   ]
  },
  {
   "cell_type": "markdown",
   "id": "5e2cccb0",
   "metadata": {},
   "source": [
    "## 6. 함수"
   ]
  },
  {
   "cell_type": "code",
   "execution_count": 17,
   "id": "de50b7fc",
   "metadata": {},
   "outputs": [
    {
     "name": "stdout",
     "output_type": "stream",
     "text": [
      "안녕하세요\n",
      "제 이름은 EunjiCho입니다\n"
     ]
    }
   ],
   "source": [
    "def say_name(name):\n",
    "    print('안녕하세요')\n",
    "    print('제 이름은 ' + name + '입니다')\n",
    "\n",
    "say_name( 'EunjiCho' )"
   ]
  },
  {
   "cell_type": "code",
   "execution_count": 18,
   "id": "ca37aed7",
   "metadata": {},
   "outputs": [
    {
     "name": "stdout",
     "output_type": "stream",
     "text": [
      "1000\n"
     ]
    }
   ],
   "source": [
    "def calcul(a,b):\n",
    "    result = a**b\n",
    "    return result\n",
    "\n",
    "test = calcul(10,3)\n",
    "print(test)     "
   ]
  }
 ],
 "metadata": {
  "kernelspec": {
   "display_name": "Python 3 (ipykernel)",
   "language": "python",
   "name": "python3"
  },
  "language_info": {
   "codemirror_mode": {
    "name": "ipython",
    "version": 3
   },
   "file_extension": ".py",
   "mimetype": "text/x-python",
   "name": "python",
   "nbconvert_exporter": "python",
   "pygments_lexer": "ipython3",
   "version": "3.8.12"
  }
 },
 "nbformat": 4,
 "nbformat_minor": 5
}
